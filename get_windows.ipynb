{
  "nbformat": 4,
  "nbformat_minor": 0,
  "metadata": {
    "colab": {
      "name": "get_windows.ipynb",
      "provenance": [],
      "collapsed_sections": [],
      "toc_visible": true
    },
    "kernelspec": {
      "name": "python3",
      "display_name": "Python 3"
    },
    "language_info": {
      "name": "python"
    }
  },
  "cells": [
    {
      "cell_type": "markdown",
      "source": [
        "# 드라이브 연결"
      ],
      "metadata": {
        "id": "zmA19-GLmPR_"
      }
    },
    {
      "cell_type": "markdown",
      "source": [
        ""
      ],
      "metadata": {
        "id": "gWKWw8cYmJG3"
      }
    },
    {
      "cell_type": "code",
      "execution_count": null,
      "metadata": {
        "colab": {
          "base_uri": "https://localhost:8080/"
        },
        "id": "cG7Mts4HhMKs",
        "outputId": "d19ff56e-eb26-4445-b3b4-acaf0864fa55"
      },
      "outputs": [
        {
          "output_type": "stream",
          "name": "stdout",
          "text": [
            "Mounted at /content/drive\n"
          ]
        }
      ],
      "source": [
        "from google.colab import drive\n",
        "drive.mount('/content/drive')"
      ]
    },
    {
      "cell_type": "code",
      "source": [
        "!pwd"
      ],
      "metadata": {
        "colab": {
          "base_uri": "https://localhost:8080/"
        },
        "id": "Cj1NID1NhaDd",
        "outputId": "6675a89a-cc92-4151-aaed-b4665d38cbdf"
      },
      "execution_count": null,
      "outputs": [
        {
          "output_type": "stream",
          "name": "stdout",
          "text": [
            "/content\n"
          ]
        }
      ]
    },
    {
      "cell_type": "code",
      "source": [
        "cd /content/drive/MyDrive/Colab Notebooks"
      ],
      "metadata": {
        "colab": {
          "base_uri": "https://localhost:8080/"
        },
        "id": "wHOxQA0JhsuP",
        "outputId": "374b8170-2949-4721-bb91-54a7df3adb2e"
      },
      "execution_count": null,
      "outputs": [
        {
          "output_type": "stream",
          "name": "stdout",
          "text": [
            "/content/drive/MyDrive/Colab Notebooks\n"
          ]
        }
      ]
    },
    {
      "cell_type": "code",
      "source": [
        ""
      ],
      "metadata": {
        "id": "RAQS0vIbtOs4"
      },
      "execution_count": null,
      "outputs": []
    },
    {
      "cell_type": "code",
      "source": [
        "%load_ext autoreload\n",
        "%autoreload 2"
      ],
      "metadata": {
        "id": "2qI38GE4hau7"
      },
      "execution_count": null,
      "outputs": []
    },
    {
      "cell_type": "code",
      "source": [
        "MIN_COUNTS = 20  ## 최소 단어 빈도 수\n",
        "MAX_COUNTS = 1800 ## 최대 단어 빈도 수\n",
        "\n",
        "MIN_LENGTH = 15 ## 문서가 최소한 가져야 하는 단어 개수\n",
        "\n",
        "HALF_WINDOW_SIZE = 5 # 2*HALF_WINDOW_SIZE < MIN_LENGTH"
      ],
      "metadata": {
        "id": "OkgkBZpciWHR"
      },
      "execution_count": null,
      "outputs": []
    },
    {
      "cell_type": "code",
      "source": [
        "from sklearn.datasets import fetch_20newsgroups\n",
        "import numpy as np\n",
        "from tqdm import tqdm\n",
        "import spacy\n",
        "from gensim import corpora, models\n",
        "import random\n",
        "import sys\n",
        "sys.path.append('..')\n",
        "from utils import preprocess, get_windows"
      ],
      "metadata": {
        "id": "MH5N4a7pheUb"
      },
      "execution_count": null,
      "outputs": []
    },
    {
      "cell_type": "code",
      "source": [
        "nlp = spacy.load('en')"
      ],
      "metadata": {
        "id": "-4F8bm3aiPUO"
      },
      "execution_count": null,
      "outputs": []
    },
    {
      "cell_type": "code",
      "source": [
        "dataset = fetch_20newsgroups(subset='all', remove=('headers', 'footers', 'quotes'))\n",
        "docs = dataset['data']"
      ],
      "metadata": {
        "id": "rvADm4CEiROy"
      },
      "execution_count": null,
      "outputs": []
    },
    {
      "cell_type": "code",
      "source": [
        "docs = [(i, doc) for i, doc in enumerate(docs)]"
      ],
      "metadata": {
        "id": "QaAocDAhihrg"
      },
      "execution_count": null,
      "outputs": []
    },
    {
      "cell_type": "markdown",
      "source": [
        "# 샘플 1000개 추출"
      ],
      "metadata": {
        "id": "0pt5Z8Pymvv_"
      }
    },
    {
      "cell_type": "code",
      "source": [
        "docs= random.sample(docs,k=1000)"
      ],
      "metadata": {
        "id": "CSII8NgJijjx"
      },
      "execution_count": null,
      "outputs": []
    },
    {
      "cell_type": "code",
      "source": [
        "np.save('docs.npy', docs)"
      ],
      "metadata": {
        "id": "sIDTh9Eu4oZ3"
      },
      "execution_count": null,
      "outputs": []
    },
    {
      "cell_type": "code",
      "source": [
        "docs[]"
      ],
      "metadata": {
        "colab": {
          "base_uri": "https://localhost:8080/"
        },
        "id": "cPWeksNJ6EcK",
        "outputId": "891921ee-5030-4bc7-992d-bfa0b8a65f22"
      },
      "execution_count": null,
      "outputs": [
        {
          "output_type": "execute_result",
          "data": {
            "text/plain": [
              "list"
            ]
          },
          "metadata": {},
          "execution_count": 65
        }
      ]
    },
    {
      "cell_type": "code",
      "source": [
        "type(dataset)"
      ],
      "metadata": {
        "colab": {
          "base_uri": "https://localhost:8080/"
        },
        "id": "a-csPRky5xsS",
        "outputId": "e9aa9e2a-dead-4979-ac8e-2ddc78725686"
      },
      "execution_count": null,
      "outputs": [
        {
          "output_type": "execute_result",
          "data": {
            "text/plain": [
              "sklearn.utils.Bunch"
            ]
          },
          "metadata": {},
          "execution_count": 63
        }
      ]
    },
    {
      "cell_type": "code",
      "source": [
        "encoded_docs, decoder, word_counts = preprocess(\n",
        "    docs, nlp, MIN_LENGTH, MIN_COUNTS, MAX_COUNTS\n",
        ")"
      ],
      "metadata": {
        "colab": {
          "base_uri": "https://localhost:8080/"
        },
        "id": "qvLJaxvdiqgi",
        "outputId": "1cfac236-7ca9-4fd6-b477-b310879c9755"
      },
      "execution_count": null,
      "outputs": [
        {
          "output_type": "stream",
          "name": "stderr",
          "text": [
            "100%|██████████| 1000/1000 [00:42<00:00, 23.57it/s]"
          ]
        },
        {
          "output_type": "stream",
          "name": "stdout",
          "text": [
            "number of removed short documents: 214\n",
            "total number of tokens: 72916\n",
            "number of tokens to be removed: 37125\n",
            "number of additionally removed short documents: 227\n",
            "total number of tokens: 33521\n",
            "\n",
            "minimum word count number: 14\n",
            "this number can be less than MIN_COUNTS because of document removal\n"
          ]
        },
        {
          "output_type": "stream",
          "name": "stderr",
          "text": [
            "\n"
          ]
        }
      ]
    },
    {
      "cell_type": "code",
      "source": [
        "# new ids will be created for the documents.\n",
        "# create a way of restoring initial ids:\n",
        "doc_decoder = {i: doc_id for i, (doc_id, doc) in enumerate(encoded_docs)}"
      ],
      "metadata": {
        "id": "fth84u2miyVU"
      },
      "execution_count": null,
      "outputs": []
    },
    {
      "cell_type": "code",
      "source": [
        "data = []\n",
        "# new ids are created here\n",
        "for index, (_, doc) in tqdm(enumerate(encoded_docs)):\n",
        "    windows = get_windows(doc, HALF_WINDOW_SIZE)\n",
        "    # index represents id of a document, \n",
        "    # windows is a list of (word, window around this word),\n",
        "    # where word is in the document\n",
        "    data += [[index, w[0]] + w[1] for w in windows]\n",
        "\n",
        "data = np.array(data, dtype='int64')"
      ],
      "metadata": {
        "colab": {
          "base_uri": "https://localhost:8080/"
        },
        "id": "f-FurbXvi-58",
        "outputId": "ca7d2437-c884-42f7-8141-72ba98ebc66e"
      },
      "execution_count": null,
      "outputs": [
        {
          "output_type": "stream",
          "name": "stderr",
          "text": [
            "559it [00:00, 12470.23it/s]\n"
          ]
        }
      ]
    },
    {
      "cell_type": "code",
      "source": [
        "# a row in 'data' contains:\n",
        "# id of a document, id of a word in this document, a window around this word\n",
        "# 1 + 1 + 10\n",
        "data.shape[1]"
      ],
      "metadata": {
        "colab": {
          "base_uri": "https://localhost:8080/"
        },
        "id": "t-TZ70_djAGw",
        "outputId": "8c217090-af99-47d2-e072-eefdb8fb1fc8"
      },
      "execution_count": null,
      "outputs": [
        {
          "output_type": "execute_result",
          "data": {
            "text/plain": [
              "12"
            ]
          },
          "metadata": {},
          "execution_count": 24
        }
      ]
    },
    {
      "cell_type": "code",
      "source": [
        "# number of windows (equals to the total number of tokens)\n",
        "data.shape[0]"
      ],
      "metadata": {
        "id": "dloiv5lmjBR4",
        "colab": {
          "base_uri": "https://localhost:8080/"
        },
        "outputId": "e71441d6-4174-4555-d3f3-ab5e047600dd"
      },
      "execution_count": null,
      "outputs": [
        {
          "output_type": "execute_result",
          "data": {
            "text/plain": [
              "33521"
            ]
          },
          "metadata": {},
          "execution_count": 25
        }
      ]
    },
    {
      "cell_type": "code",
      "source": [
        "word_counts = np.array(word_counts)\n",
        "unigram_distribution = word_counts/sum(word_counts)"
      ],
      "metadata": {
        "id": "n6zzsdo1jDDl"
      },
      "execution_count": null,
      "outputs": []
    },
    {
      "cell_type": "code",
      "source": [
        "%%time\n",
        "vocab_size = len(decoder)\n",
        "embedding_dim = 10\n",
        "\n",
        "# train a skip-gram word2vec model\n",
        "texts = [[str(j) for j in doc] for i, doc in encoded_docs]\n",
        "model = models.Word2Vec(texts, size=embedding_dim, window=5, workers=4, sg=1, negative=15, iter=70)\n",
        "model.init_sims(replace=True)\n",
        "\n",
        "word_vectors = np.zeros((vocab_size, embedding_dim)).astype('float32')\n",
        "for i in decoder:\n",
        "    word_vectors[i] = model.wv[str(i)]"
      ],
      "metadata": {
        "colab": {
          "base_uri": "https://localhost:8080/"
        },
        "id": "aa9SGvdsjEj5",
        "outputId": "eb203de7-85f2-4fca-a538-758bac53472e"
      },
      "execution_count": null,
      "outputs": [
        {
          "output_type": "stream",
          "name": "stdout",
          "text": [
            "CPU times: user 40.5 s, sys: 124 ms, total: 40.7 s\n",
            "Wall time: 21.7 s\n"
          ]
        }
      ]
    },
    {
      "cell_type": "code",
      "source": [
        "vocab_size"
      ],
      "metadata": {
        "colab": {
          "base_uri": "https://localhost:8080/"
        },
        "id": "PREg5xsGjO4X",
        "outputId": "0c1f37b0-da35-43a3-acc9-07a930d8abc5"
      },
      "execution_count": null,
      "outputs": [
        {
          "output_type": "execute_result",
          "data": {
            "text/plain": [
              "736"
            ]
          },
          "metadata": {},
          "execution_count": 33
        }
      ]
    },
    {
      "cell_type": "code",
      "source": [
        "word_vectors.shape"
      ],
      "metadata": {
        "id": "s9EcVJBsj-OI",
        "outputId": "ea2957a4-d531-47ef-a30d-c71ce6696cd7",
        "colab": {
          "base_uri": "https://localhost:8080/"
        }
      },
      "execution_count": null,
      "outputs": [
        {
          "output_type": "execute_result",
          "data": {
            "text/plain": [
              "(736, 10)"
            ]
          },
          "metadata": {},
          "execution_count": 34
        }
      ]
    },
    {
      "cell_type": "code",
      "source": [
        "texts = [[decoder[j] for j in doc] for i, doc in encoded_docs]\n",
        "dictionary = corpora.Dictionary(texts)\n",
        "corpus = [dictionary.doc2bow(text) for text in texts]"
      ],
      "metadata": {
        "id": "sf7FAst-jQAB"
      },
      "execution_count": null,
      "outputs": []
    },
    {
      "cell_type": "code",
      "source": [
        "%%time\n",
        "n_topics = 5\n",
        "lda = models.LdaModel(corpus, alpha=0.9, id2word=dictionary, num_topics=n_topics)\n",
        "corpus_lda = lda[corpus]"
      ],
      "metadata": {
        "colab": {
          "base_uri": "https://localhost:8080/"
        },
        "id": "Bse4PdrujRwI",
        "outputId": "80819d89-a4ad-4dd3-a746-6c5ffdfa0378"
      },
      "execution_count": null,
      "outputs": [
        {
          "output_type": "stream",
          "name": "stdout",
          "text": [
            "CPU times: user 975 ms, sys: 29.5 ms, total: 1 s\n",
            "Wall time: 985 ms\n"
          ]
        }
      ]
    },
    {
      "cell_type": "code",
      "source": [
        "for i, topics in lda.show_topics(n_topics, formatted=False):\n",
        "    print('topic', i, ':', ' '.join([t for t, _ in topics]))"
      ],
      "metadata": {
        "colab": {
          "base_uri": "https://localhost:8080/"
        },
        "id": "eQrIx_orjUFf",
        "outputId": "0cbec5f6-daf3-4626-e853-686ce8517993"
      },
      "execution_count": null,
      "outputs": [
        {
          "output_type": "stream",
          "name": "stdout",
          "text": [
            "topic 0 : use file like include need know good people mail year\n",
            "topic 1 : know people think use drive like year find time system\n",
            "topic 2 : system like time problem use work think know good run\n",
            "topic 3 : know time people use right think like way good need\n",
            "topic 4 : like know use problem file system good think find thing\n"
          ]
        }
      ]
    },
    {
      "cell_type": "code",
      "source": [
        "doc_weights_init = np.zeros((len(corpus_lda), n_topics))\n",
        "for i in tqdm(range(len(corpus_lda))):\n",
        "    topics = corpus_lda[i]\n",
        "    for j, prob in topics:\n",
        "        doc_weights_init[i, j] = prob"
      ],
      "metadata": {
        "colab": {
          "base_uri": "https://localhost:8080/"
        },
        "id": "hrZjnC5DjUpP",
        "outputId": "707abb2e-9f0c-4c0a-d3d3-174e97bfdb09"
      },
      "execution_count": null,
      "outputs": [
        {
          "output_type": "stream",
          "name": "stderr",
          "text": [
            "100%|██████████| 559/559 [00:00<00:00, 1118.44it/s]\n"
          ]
        }
      ]
    },
    {
      "cell_type": "code",
      "source": [
        "np.save('data.npy', data)\n",
        "np.save('word_vectors.npy', word_vectors)\n",
        "np.save('unigram_distribution.npy', unigram_distribution)\n",
        "np.save('decoder.npy', decoder)\n",
        "np.save('doc_decoder.npy', doc_decoder)\n",
        "np.save('doc_weights_init.npy', doc_weights_init)"
      ],
      "metadata": {
        "id": "VntZy0F1jXQG"
      },
      "execution_count": null,
      "outputs": []
    },
    {
      "cell_type": "code",
      "source": [
        "len(decoder)"
      ],
      "metadata": {
        "colab": {
          "base_uri": "https://localhost:8080/"
        },
        "id": "Wwj8MZn3tW43",
        "outputId": "16c68b5b-b864-4822-e7f9-703b2d4b869f"
      },
      "execution_count": null,
      "outputs": [
        {
          "output_type": "execute_result",
          "data": {
            "text/plain": [
              "736"
            ]
          },
          "metadata": {},
          "execution_count": 44
        }
      ]
    }
  ]
}