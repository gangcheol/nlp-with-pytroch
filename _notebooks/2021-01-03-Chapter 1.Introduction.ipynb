{
 "cells": [
  {
   "cell_type": "markdown",
   "metadata": {},
   "source": [
    "# Chapter 1. Introduction\n",
    "> \"NLP\"\n",
    "\n",
    "- toc:true\n",
    "- branch: master\n",
    "- badges: true\n",
    "- comments: true\n",
    "- author: 이강철\n",
    "- hide : true\n",
    "- categories: [python]"
    
   ]
  },
  {
   "cell_type": "markdown",
   "metadata": {},
   "source": [
    "# NLP"
   ]
  },
  {
   "cell_type": "markdown",
   "metadata": {},
   "source": [
    "* Natrual Language Processing"
   ]
  },
  {
   "cell_type": "markdown",
   "metadata": {},
   "source": [
    "* 언어학 지식에 상관없이 텍스트를 **\"이해\"** 하는 통계적인 방법을 사용해 실전 문제를 해결하는 일련의 기술"
   ]
  },
  {
   "cell_type": "markdown",
   "metadata": {},
   "source": [
    "* 텍스트 마이닝과의 차이 비교가 현재는 거의 무의미 하지만 아래와 같은 관심 중점에 차이가있다\n",
    "\n",
    "`1` 텍스트 마이닝 : 텍스트 데이터로 부터 유의미한 정보를 추출\n",
    "\n",
    "`2` NLP : 기계가 자연어를 이해할 수 있고 처리할 수 있도록 하는일을 의미한다."
   ]
  },
  {
   "cell_type": "markdown",
   "metadata": {},
   "source": [
    "*  여기서 이해라는 것은 주로 텍스트를 계산 가능한 **\"표현(representation)\"** 으로 변환함으로써 이루어짐"
   ]
  },
  {
   "cell_type": "markdown",
   "metadata": {},
   "source": [
    "* 표현 : 벡터, 텐서, 그래프, 트리 같이 이산적이거나 연속적으로 조합한 구조이다."
   ]
  },
  {
   "cell_type": "markdown",
   "metadata": {},
   "source": [
    "* 이 책에서는 딥러닝과 NLP을 배운다."
   ]
  },
  {
   "cell_type": "markdown",
   "metadata": {},
   "source": [
    "# Deep learning"
   ]
  },
  {
   "cell_type": "markdown",
   "metadata": {},
   "source": [
    "* 개념 : 계산 그래프와 수치 최적화 기술을 사용해 데이터에서 표현을 효과적으로 학습하는 기술"
   ]
  },
  {
   "cell_type": "markdown",
   "metadata": {},
   "source": [
    "# Supervised Learning"
   ]
  },
  {
   "cell_type": "markdown",
   "metadata": {},
   "source": [
    "* 목적 : 주어진 데이터 셋에서 손실 함수를 최소화하는 파라미터 값을 고르는 것"
   ]
  },
  {
   "cell_type": "markdown",
   "metadata": {},
   "source": [
    "* 손실함수 : $L(\\hat y,\\,y)$"
   ]
  },
  {
   "cell_type": "markdown",
   "metadata": {},
   "source": [
    "## 경사하강법"
   ]
  },
  {
   "cell_type": "markdown",
   "metadata": {},
   "source": [
    "* Gradient descent : 식의 근을 찾는 일반적인 방법"
   ]
  },
  {
   "cell_type": "markdown",
   "metadata": {},
   "source": [
    "### 전통적인 경사 하강법"
   ]
  },
  {
   "cell_type": "markdown",
   "metadata": {},
   "source": [
    "* = batct gradient descent"
   ]
  },
  {
   "cell_type": "markdown",
   "metadata": {},
   "source": [
    "* 오차를 구할 때 전체 데이터 셋을 고려 $\\to$ 한 번에 에포크에서 모든 매개변수에 업데이트를 단 한번 수행"
   ]
  },
  {
   "cell_type": "markdown",
   "metadata": {},
   "source": [
    "* 파라미터의 초깃값을 추측한 다음 목적 함수(= 손실 함수)의 값이 수용할만한 임계점(수렴 조건) 아래로 내려갈 때 까지 파라미터를 반복해서 업데이트를 한다."
   ]
  },
  {
   "cell_type": "markdown",
   "metadata": {},
   "source": [
    "* 데이터 셋이 클 경우 메모리 제약 $\\to$ 계산 비용이 높아 매우 느림"
   ]
  },
  {
   "cell_type": "markdown",
   "metadata": {},
   "source": [
    "### 확률적 경사하강법"
   ]
  },
  {
   "cell_type": "markdown",
   "metadata": {},
   "source": [
    "* Stochastic gradient descent(SGD)"
   ]
  },
  {
   "cell_type": "markdown",
   "metadata": {},
   "source": [
    "* 데이터 포인트를 하나 또는 일부 랜덤하게 선택하여 그래디언트를 계산한다."
   ]
  },
  {
   "cell_type": "markdown",
   "metadata": {},
   "source": [
    "* 데이터 포인트를 하나 사용하는 방법은 순수 SGD,  두 개 이상 사용하는 방법은 미니배치 SGD 라고 부른다."
   ]
  },
  {
   "cell_type": "markdown",
   "metadata": {},
   "source": [
    "* 순수 SGD : 업데이트에 잡음이 많아 수렴이 매우 느려 실전에서는 거의 사용하지 않음"
   ]
  },
  {
   "cell_type": "markdown",
   "metadata": {},
   "source": [
    "## 역전파"
   ]
  },
  {
   "cell_type": "markdown",
   "metadata": {},
   "source": [
    "* Backpropagation"
   ]
  },
  {
   "cell_type": "markdown",
   "metadata": {},
   "source": [
    "* 파라미터를 반복적으로 업데이트 하는 과정"
   ]
  },
  {
   "cell_type": "markdown",
   "metadata": {},
   "source": [
    "* 단계   = 정방향 계산 (forward pass) + 역방향 계산 (backward pass)"
   ]
  },
  {
   "cell_type": "markdown",
   "metadata": {},
   "source": [
    "* 정방향 계산 : 현재 파라미터값으로 입력을 받아 평가하여 손실함수를 계산"
   ]
  },
  {
   "cell_type": "markdown",
   "metadata": {},
   "source": [
    "* 역방향 계산 : 손실의 그래이디언트를 사용하여 파라미터를 업데이트 함."
   ]
  },
  {
   "cell_type": "markdown",
   "metadata": {},
   "source": [
    "# 원-핫 표현"
   ]
  },
  {
   "cell_type": "markdown",
   "metadata": {},
   "source": [
    "## 사이킷런을 사용하여 원-핫 벡터 또는 이진 표현 만들기"
   ]
  },
  {
   "cell_type": "code",
   "execution_count": 27,
   "metadata": {},
   "outputs": [],
   "source": [
    "from sklearn.feature_extraction.text import CountVectorizer\n",
    "import seaborn as sns\n",
    "import matplotlib.pyplot as plt"
   ]
  },
  {
   "cell_type": "code",
   "execution_count": 28,
   "metadata": {},
   "outputs": [],
   "source": [
    "corpus = [\"Time flies like an arrow.\",\"Fruit flies like a banana\"]"
   ]
  },
  {
   "cell_type": "code",
   "execution_count": 30,
   "metadata": {},
   "outputs": [],
   "source": [
    "one_hot_vectorizer = CountVectorizer(binary=True)\n",
    "one_hot = one_hot_vectorizer.fit_transform(corpus).toarray()"
   ]
  },
  {
   "cell_type": "code",
   "execution_count": 33,
   "metadata": {},
   "outputs": [
    {
     "data": {
      "text/plain": [
       "['an', 'arrow', 'banana', 'flies', 'fruit', 'like', 'time']"
      ]
     },
     "execution_count": 33,
     "metadata": {},
     "output_type": "execute_result"
    }
   ],
   "source": [
    "vocab = one_hot_vectorizer.get_feature_names()\n",
    "vocab"
   ]
  },
  {
   "cell_type": "code",
   "execution_count": 36,
   "metadata": {},
   "outputs": [
    {
     "data": {
      "text/plain": [
       "<AxesSubplot:>"
      ]
     },
     "execution_count": 36,
     "metadata": {},
     "output_type": "execute_result"
    },
    {
     "data": {
      "image/png": "[encoded data removed]",
      "text/plain": [
       "<Figure size 432x288 with 1 Axes>"
      ]
     },
     "metadata": {
      "needs_background": "light"
     },
     "output_type": "display_data"
    }
   ],
   "source": [
    "sns.heatmap(one_hot, annot = True,\n",
    "           cbar = False, xticklabels = vocab,\n",
    "           yticklabels = [\"Sentence1\", \"Setence2\"])"
   ]
  },
  {
   "cell_type": "markdown",
   "metadata": {},
   "source": [
    "# TF-IDF 표현"
   ]
  },
  {
   "cell_type": "markdown",
   "metadata": {},
   "source": [
    "$$TF(w) = Frequency\\,\\, of \\,\\,word$$"
   ]
  },
  {
   "cell_type": "markdown",
   "metadata": {},
   "source": [
    "$$IDF(w) = \\log\\frac  {N}{n_w}$$"
   ]
  },
  {
   "cell_type": "markdown",
   "metadata": {},
   "source": [
    "$$N : total\\, document\\quad n_w : number\\,of\\, documnet\\, that\\, include\\,word $$"
   ]
  },
  {
   "cell_type": "markdown",
   "metadata": {},
   "source": [
    "* $TF$ : $i$번째 문서에서 $j$ 번째 단어의 출현 횟수"
   ]
  },
  {
   "cell_type": "markdown",
   "metadata": {},
   "source": [
    "* $IDF$ : 역문서 빈도, 단어 $w$가 출현한 역문서 빈도"
   ]
  },
  {
   "cell_type": "markdown",
   "metadata": {},
   "source": [
    "* 사이킷런의 `TfidfVectorizer` 클래스에서는 단어를 모두 가상의 문서가 있는 것처럼 로그 안의 분모와 분자에 1을 더해서 분모가 0이 되는 상활을 방지함\n",
    "    * 또한 마지막에 1을 더해 모든 문서에 포함된 단어가 있을 때 IDF 가 0이 되지 않도록함"
   ]
  },
  {
   "cell_type": "markdown",
   "metadata": {},
   "source": [
    "$$IDF(w) = \\log \\left( \\frac  {N+1}{n_w+1}\\right ) + 1$$"
   ]
  },
  {
   "cell_type": "markdown",
   "metadata": {},
   "source": [
    " * 만약 특허와 관련된 문서 묶음이 있다고 가정해보자. 그러면 문서 대부분에 [\"Claim\", \"System\", \"method\"]  와 같은 단어가 여러번 반복해서 나온다."
   ]
  },
  {
   "cell_type": "markdown",
   "metadata": {},
   "source": [
    "* 이런 흔한 단어는 사실 특정 특허와 관련한 어떤 정보도 담겨있지 않는다."
   ]
  },
  {
   "cell_type": "markdown",
   "metadata": {},
   "source": [
    "* 반대로 \"tetrafluoroethylene\"(테트라플루오로에틸랜) 과 같이 희귀한 단어는 자주 나오지 않지만 특허 문서의 특징을 잘나타냄"
   ]
  },
  {
   "cell_type": "markdown",
   "metadata": {},
   "source": [
    "* $TF(w) \\times IDF(w)$이다. 즉 모든 문서에 등장하는 매우 흔한 단어는 TF-IDF 점수가 0이된다."
   ]
  },
  {
   "cell_type": "markdown",
   "metadata": {},
   "source": [
    "* 이처럼 아무런 정보없이 무분별하게 여러번 등장하는 단어들에 패널티를 주기위한 기법이다."
   ]
  },
  {
   "cell_type": "markdown",
   "metadata": {},
   "source": [
    "### 사이킷런을 사용해 TF-IDF 표현 만들기"
   ]
  },
  {
   "cell_type": "code",
   "execution_count": 37,
   "metadata": {},
   "outputs": [],
   "source": [
    "from sklearn.feature_extraction.text import TfidfVectorizer\n",
    "import seaborn as sns"
   ]
  },
  {
   "cell_type": "code",
   "execution_count": 40,
   "metadata": {},
   "outputs": [
    {
     "data": {
      "text/plain": [
       "array([[0.49922133, 0.49922133, 0.        , 0.35520009, 0.        ,\n",
       "        0.35520009, 0.49922133],\n",
       "       [0.        , 0.        , 0.57615236, 0.40993715, 0.57615236,\n",
       "        0.40993715, 0.        ]])"
      ]
     },
     "execution_count": 40,
     "metadata": {},
     "output_type": "execute_result"
    }
   ],
   "source": [
    "tfidf_vectorizer = TfidfVectorizer()\n",
    "tfidf =tfidf_vectorizer.fit_transform(corpus).toarray()\n",
    "tfidf"
   ]
  },
  {
   "cell_type": "code",
   "execution_count": 41,
   "metadata": {},
   "outputs": [
    {
     "data": {
      "text/plain": [
       "<AxesSubplot:>"
      ]
     },
     "execution_count": 41,
     "metadata": {},
     "output_type": "execute_result"
    },
    {
     "data": {
      "image/png": "[encoded data removed]",
      "text/plain": [
       "<Figure size 432x288 with 1 Axes>"
      ]
     },
     "metadata": {
      "needs_background": "light"
     },
     "output_type": "display_data"
    }
   ],
   "source": [
    "sns.heatmap(tfidf,annot=True,xticklabels=vocab,cbar=False, yticklabels=[\"Sentence 1\", \"Sentence 2\"])"
   ]
  },
  {
   "cell_type": "markdown",
   "metadata": {},
   "source": [
    "# 파이토치 기초"
   ]
  },
  {
   "cell_type": "markdown",
   "metadata": {},
   "source": [
    "* 오픈 소스로 씨아노, 카페, 텐서플로와 달리 파이토치는 테이프 기반 자동 미분 방식을 구현한다."
   ]
  },
  {
   "cell_type": "markdown",
   "metadata": {},
   "source": [
    "* 위 방식은 계산 그래프를 동적으로 정의하고 실행할 수 있다. 또한 디버깅이 아주 편리하며 복잡한 모델을 손쉽게 만들게 해줌"
   ]
  },
  {
   "cell_type": "markdown",
   "metadata": {},
   "source": [
    "* 텐서 : 다차원 데이터를 담은 수학객체"
   ]
  },
  {
   "cell_type": "markdown",
   "metadata": {},
   "source": [
    "## 텐서 만들기"
   ]
  },
  {
   "cell_type": "markdown",
   "metadata": {},
   "source": [
    "* 먼저 헬퍼 함수 `describe(x)`를 정의하여 텐서 타입, 차원, 값 같은 텐서의 속성을 출력"
   ]
  },
  {
   "cell_type": "code",
   "execution_count": 53,
   "metadata": {},
   "outputs": [],
   "source": [
    "def describe(x) :\n",
    "    print(\"타입 : {}\".format(x.type()))\n",
    "    print(\"크기 : {}\".format(x.shape))\n",
    "    print(\"값 : \\n{}\\n \\n\\n================================================\\n\\n\".format(x))    "
   ]
  },
  {
   "cell_type": "code",
   "execution_count": 54,
   "metadata": {},
   "outputs": [],
   "source": [
    "import torch"
   ]
  },
  {
   "cell_type": "markdown",
   "metadata": {},
   "source": [
    "* 차원을 지정 후 텐서를 랜덤하게 초기화하는 방법"
   ]
  },
  {
   "cell_type": "code",
   "execution_count": 55,
   "metadata": {},
   "outputs": [
    {
     "name": "stdout",
     "output_type": "stream",
     "text": [
      "타입 : torch.FloatTensor\n",
      "크기 : torch.Size([2, 3])\n",
      "값 : \n",
      "tensor([[0.2582, 0.4032, 0.1510],\n",
      "        [0.8588, 0.2966, 0.9982]])\n",
      " \n",
      "\n",
      "================================================\n",
      "\n",
      "\n"
     ]
    }
   ],
   "source": [
    "describe(torch.Tensor(2,3))"
   ]
  },
  {
   "cell_type": "markdown",
   "metadata": {},
   "source": [
    "## 균등분포와 표준정규분포"
   ]
  },
  {
   "cell_type": "code",
   "execution_count": 56,
   "metadata": {},
   "outputs": [
    {
     "name": "stdout",
     "output_type": "stream",
     "text": [
      "타입 : torch.FloatTensor\n",
      "크기 : torch.Size([2, 3])\n",
      "값 : \n",
      "tensor([[0.6322, 0.4141, 0.1253],\n",
      "        [0.5149, 0.2065, 0.5259]])\n",
      " \n",
      "\n",
      "================================================\n",
      "\n",
      "\n",
      "타입 : torch.FloatTensor\n",
      "크기 : torch.Size([2, 3])\n",
      "값 : \n",
      "tensor([[-0.5282, -0.1808,  1.0561],\n",
      "        [ 0.6534, -0.0688,  1.0356]])\n",
      " \n",
      "\n",
      "================================================\n",
      "\n",
      "\n"
     ]
    }
   ],
   "source": [
    "describe(torch.rand(2,3))  ## 균등 분포\n",
    "describe(torch.randn(2,3)) ## 표준 정규 분포"
   ]
  },
  {
   "cell_type": "markdown",
   "metadata": {},
   "source": [
    "## 동일한 스칼라값으로 채운 텐서를 만들기"
   ]
  },
  {
   "cell_type": "markdown",
   "metadata": {},
   "source": [
    "* 내장함수로 0또는 1로 채운 텐서 생성"
   ]
  },
  {
   "cell_type": "code",
   "execution_count": 57,
   "metadata": {},
   "outputs": [
    {
     "name": "stdout",
     "output_type": "stream",
     "text": [
      "타입 : torch.FloatTensor\n",
      "크기 : torch.Size([2, 3])\n",
      "값 : \n",
      "tensor([[0., 0., 0.],\n",
      "        [0., 0., 0.]])\n",
      " \n",
      "\n",
      "================================================\n",
      "\n",
      "\n"
     ]
    }
   ],
   "source": [
    "describe(torch.zeros(2,3))"
   ]
  },
  {
   "cell_type": "code",
   "execution_count": 58,
   "metadata": {},
   "outputs": [
    {
     "name": "stdout",
     "output_type": "stream",
     "text": [
      "타입 : torch.FloatTensor\n",
      "크기 : torch.Size([2, 3])\n",
      "값 : \n",
      "tensor([[1., 1., 1.],\n",
      "        [1., 1., 1.]])\n",
      " \n",
      "\n",
      "================================================\n",
      "\n",
      "\n"
     ]
    }
   ],
   "source": [
    "x = torch.ones(2,3)\n",
    "describe(x)"
   ]
  },
  {
   "cell_type": "markdown",
   "metadata": {},
   "source": [
    "# 인-플레이스 메서드"
   ]
  },
  {
   "cell_type": "markdown",
   "metadata": {},
   "source": [
    "* 인-플레이스  메서드 : 데이터를 직접 변경하는 것"
   ]
  },
  {
   "cell_type": "markdown",
   "metadata": {},
   "source": [
    "* 아래와 같이 `fill_()` 메서드와 비슷하게 랜덤 샘플링에 유용한 인-플레이스 메서드가 잇다."
   ]
  },
  {
   "cell_type": "code",
   "execution_count": 61,
   "metadata": {},
   "outputs": [
    {
     "data": {
      "text/plain": [
       "tensor([[5., 5., 5.],\n",
       "        [5., 5., 5.]])"
      ]
     },
     "execution_count": 61,
     "metadata": {},
     "output_type": "execute_result"
    }
   ],
   "source": [
    "x.fill_(5)"
   ]
  },
  {
   "cell_type": "code",
   "execution_count": 62,
   "metadata": {},
   "outputs": [
    {
     "name": "stdout",
     "output_type": "stream",
     "text": [
      "타입 : torch.FloatTensor\n",
      "크기 : torch.Size([2, 3])\n",
      "값 : \n",
      "tensor([[5., 5., 5.],\n",
      "        [5., 5., 5.]])\n",
      " \n",
      "\n",
      "================================================\n",
      "\n",
      "\n"
     ]
    }
   ],
   "source": [
    "describe(x)"
   ]
  },
  {
   "cell_type": "markdown",
   "metadata": {},
   "source": [
    "*  새로운 객체를 생성하지 않고 바로 값을 변환하는데 객체 지향적인 관점에서 별로 좋지는 않은 것 같다."
   ]
  },
  {
   "cell_type": "code",
   "execution_count": 69,
   "metadata": {},
   "outputs": [],
   "source": [
    "y = torch.Tensor(3,2)"
   ]
  },
  {
   "cell_type": "code",
   "execution_count": 70,
   "metadata": {},
   "outputs": [
    {
     "data": {
      "text/plain": [
       "tensor([[4.4155e-05, 2.1259e+20],\n",
       "        [8.1714e+20, 6.7875e-07],\n",
       "        [2.5668e-09, 4.1537e-08]])"
      ]
     },
     "execution_count": 70,
     "metadata": {},
     "output_type": "execute_result"
    }
   ],
   "source": [
    "y"
   ]
  },
  {
   "cell_type": "code",
   "execution_count": 71,
   "metadata": {},
   "outputs": [
    {
     "data": {
      "text/plain": [
       "tensor([[0.7345, 0.1133],\n",
       "        [0.0873, 0.7492],\n",
       "        [0.3604, 0.2273]])"
      ]
     },
     "execution_count": 71,
     "metadata": {},
     "output_type": "execute_result"
    }
   ],
   "source": [
    "y.uniform_()"
   ]
  },
  {
   "cell_type": "code",
   "execution_count": 72,
   "metadata": {},
   "outputs": [
    {
     "data": {
      "text/plain": [
       "tensor([[0.7345, 0.1133],\n",
       "        [0.0873, 0.7492],\n",
       "        [0.3604, 0.2273]])"
      ]
     },
     "execution_count": 72,
     "metadata": {},
     "output_type": "execute_result"
    }
   ],
   "source": [
    "y"
   ]
  },
  {
   "cell_type": "code",
   "execution_count": 73,
   "metadata": {},
   "outputs": [
    {
     "data": {
      "text/plain": [
       "tensor([[ 0.3838, -0.6120],\n",
       "        [-1.3810,  0.8169],\n",
       "        [-0.6775, -1.2050]])"
      ]
     },
     "execution_count": 73,
     "metadata": {},
     "output_type": "execute_result"
    }
   ],
   "source": [
    "y.normal_()"
   ]
  },
  {
   "cell_type": "code",
   "execution_count": 74,
   "metadata": {},
   "outputs": [
    {
     "data": {
      "text/plain": [
       "tensor([[ 0.3838, -0.6120],\n",
       "        [-1.3810,  0.8169],\n",
       "        [-0.6775, -1.2050]])"
      ]
     },
     "execution_count": 74,
     "metadata": {},
     "output_type": "execute_result"
    }
   ],
   "source": [
    "y"
   ]
  },
  {
   "cell_type": "markdown",
   "metadata": {},
   "source": [
    "## 리스트로 텐서를 만들고 초기화"
   ]
  },
  {
   "cell_type": "code",
   "execution_count": 75,
   "metadata": {},
   "outputs": [],
   "source": [
    "x = torch.Tensor([[1,2,3],\n",
    "                 [4,5,6]])"
   ]
  },
  {
   "cell_type": "code",
   "execution_count": 76,
   "metadata": {},
   "outputs": [
    {
     "name": "stdout",
     "output_type": "stream",
     "text": [
      "타입 : torch.FloatTensor\n",
      "크기 : torch.Size([2, 3])\n",
      "값 : \n",
      "tensor([[1., 2., 3.],\n",
      "        [4., 5., 6.]])\n",
      " \n",
      "\n",
      "================================================\n",
      "\n",
      "\n"
     ]
    }
   ],
   "source": [
    "describe(x)"
   ]
  },
  {
   "cell_type": "markdown",
   "metadata": {},
   "source": [
    "* 위 처럼 값을 리스트나. 넘파이 배열로 전달하여 텐서를 생성하고 초기화가 가능하다."
   ]
  },
  {
   "cell_type": "markdown",
   "metadata": {},
   "source": [
    "* 또한 언제든지 파이토치 텐서를 넘파이 배열로 바꿀 수 있음"
   ]
  },
  {
   "cell_type": "markdown",
   "metadata": {},
   "source": [
    "* 단 넘파이 배열을 사용하면 텐서 타입이, `FloatTensor`가 아니라 `DoubleTensor`가 된다."
   ]
  },
  {
   "cell_type": "code",
   "execution_count": 77,
   "metadata": {},
   "outputs": [],
   "source": [
    "import numpy as np"
   ]
  },
  {
   "cell_type": "code",
   "execution_count": 78,
   "metadata": {},
   "outputs": [],
   "source": [
    "npy = np.random.rand(2,3)"
   ]
  },
  {
   "cell_type": "code",
   "execution_count": 79,
   "metadata": {},
   "outputs": [
    {
     "name": "stdout",
     "output_type": "stream",
     "text": [
      "타입 : torch.DoubleTensor\n",
      "크기 : torch.Size([2, 3])\n",
      "값 : \n",
      "tensor([[0.9967, 0.8784, 0.1933],\n",
      "        [0.6447, 0.7438, 0.1425]], dtype=torch.float64)\n",
      " \n",
      "\n",
      "================================================\n",
      "\n",
      "\n"
     ]
    }
   ],
   "source": [
    "describe(torch.from_numpy(npy))"
   ]
  },
  {
   "cell_type": "markdown",
   "metadata": {},
   "source": [
    "* 넘파이 배열과 파이토치텐서 사이를 변환하는 기능은 넘파이 포맷의 수치데이터를사용하는 `래거시`(legacy) 라이브러리를 사용할 때 중요하다."
   ]
  },
  {
   "cell_type": "markdown",
   "metadata": {},
   "source": [
    "## 타입을 초기화 하여 텐서 생성"
   ]
  },
  {
   "cell_type": "code",
   "execution_count": 80,
   "metadata": {},
   "outputs": [
    {
     "name": "stdout",
     "output_type": "stream",
     "text": [
      "타입 : torch.FloatTensor\n",
      "크기 : torch.Size([2, 3])\n",
      "값 : \n",
      "tensor([[1., 2., 3.],\n",
      "        [4., 5., 6.]])\n",
      " \n",
      "\n",
      "================================================\n",
      "\n",
      "\n"
     ]
    }
   ],
   "source": [
    "x = torch.FloatTensor([[1,2,3], [4,5,6]])\n",
    "describe(x)"
   ]
  },
  {
   "cell_type": "code",
   "execution_count": 81,
   "metadata": {},
   "outputs": [
    {
     "name": "stdout",
     "output_type": "stream",
     "text": [
      "타입 : torch.LongTensor\n",
      "크기 : torch.Size([2, 3])\n",
      "값 : \n",
      "tensor([[1, 2, 3],\n",
      "        [4, 5, 6]])\n",
      " \n",
      "\n",
      "================================================\n",
      "\n",
      "\n"
     ]
    }
   ],
   "source": [
    "x = x.long()\n",
    "describe(x)"
   ]
  },
  {
   "cell_type": "code",
   "execution_count": 82,
   "metadata": {},
   "outputs": [
    {
     "name": "stdout",
     "output_type": "stream",
     "text": [
      "타입 : torch.LongTensor\n",
      "크기 : torch.Size([2, 3])\n",
      "값 : \n",
      "tensor([[1, 2, 3],\n",
      "        [4, 5, 6]])\n",
      " \n",
      "\n",
      "================================================\n",
      "\n",
      "\n"
     ]
    }
   ],
   "source": [
    "x = torch.tensor([[1,2,3], [4,5,6]], dtype=torch.int64)\n",
    "describe(x)"
   ]
  },
  {
   "cell_type": "code",
   "execution_count": 83,
   "metadata": {},
   "outputs": [
    {
     "name": "stdout",
     "output_type": "stream",
     "text": [
      "타입 : torch.FloatTensor\n",
      "크기 : torch.Size([2, 3])\n",
      "값 : \n",
      "tensor([[1., 2., 3.],\n",
      "        [4., 5., 6.]])\n",
      " \n",
      "\n",
      "================================================\n",
      "\n",
      "\n"
     ]
    }
   ],
   "source": [
    "x = x.float()\n",
    "describe(x)"
   ]
  },
  {
   "cell_type": "markdown",
   "metadata": {},
   "source": [
    "## 텐서 연산"
   ]
  },
  {
   "cell_type": "markdown",
   "metadata": {},
   "source": [
    "### 덧셈"
   ]
  },
  {
   "cell_type": "code",
   "execution_count": 84,
   "metadata": {},
   "outputs": [],
   "source": [
    "import torch"
   ]
  },
  {
   "cell_type": "code",
   "execution_count": 85,
   "metadata": {},
   "outputs": [
    {
     "name": "stdout",
     "output_type": "stream",
     "text": [
      "타입 : torch.FloatTensor\n",
      "크기 : torch.Size([2, 3])\n",
      "값 : \n",
      "tensor([[ 0.0715, -0.2960, -0.5417],\n",
      "        [ 0.3304,  1.5357, -1.1040]])\n",
      " \n",
      "\n",
      "================================================\n",
      "\n",
      "\n"
     ]
    }
   ],
   "source": [
    "x = torch.randn(2,3)\n",
    "describe(x)"
   ]
  },
  {
   "cell_type": "code",
   "execution_count": 86,
   "metadata": {},
   "outputs": [
    {
     "name": "stdout",
     "output_type": "stream",
     "text": [
      "타입 : torch.FloatTensor\n",
      "크기 : torch.Size([2, 3])\n",
      "값 : \n",
      "tensor([[ 0.1431, -0.5919, -1.0834],\n",
      "        [ 0.6609,  3.0715, -2.2080]])\n",
      " \n",
      "\n",
      "================================================\n",
      "\n",
      "\n"
     ]
    }
   ],
   "source": [
    "describe(torch.add(x,x))"
   ]
  },
  {
   "cell_type": "code",
   "execution_count": 87,
   "metadata": {},
   "outputs": [
    {
     "name": "stdout",
     "output_type": "stream",
     "text": [
      "타입 : torch.LongTensor\n",
      "크기 : torch.Size([6])\n",
      "값 : \n",
      "tensor([0, 1, 2, 3, 4, 5])\n",
      " \n",
      "\n",
      "================================================\n",
      "\n",
      "\n"
     ]
    }
   ],
   "source": [
    "x = torch.arange(6)\n",
    "describe(x)"
   ]
  },
  {
   "cell_type": "markdown",
   "metadata": {},
   "source": [
    "* `view()` 메서드는 동일한 데이터를 공유하는 새로운 텐서를 만든다. `data_ptr()` 매서드를 사용하면 원본 텐서와 뷰 텐서가 같은 저장 위치를 가리키고 있다는 것을 확인할 수 있다."
   ]
  },
  {
   "cell_type": "code",
   "execution_count": 89,
   "metadata": {},
   "outputs": [
    {
     "name": "stdout",
     "output_type": "stream",
     "text": [
      "타입 : torch.LongTensor\n",
      "크기 : torch.Size([2, 3])\n",
      "값 : \n",
      "tensor([[0, 1, 2],\n",
      "        [3, 4, 5]])\n",
      " \n",
      "\n",
      "================================================\n",
      "\n",
      "\n"
     ]
    }
   ],
   "source": [
    "x1 = x.view(2,3)\n",
    "describe(x)"
   ]
  },
  {
   "cell_type": "code",
   "execution_count": 93,
   "metadata": {},
   "outputs": [
    {
     "data": {
      "text/plain": [
       "2251512245888"
      ]
     },
     "execution_count": 93,
     "metadata": {},
     "output_type": "execute_result"
    }
   ],
   "source": [
    "x.data_ptr()"
   ]
  },
  {
   "cell_type": "code",
   "execution_count": 92,
   "metadata": {},
   "outputs": [
    {
     "data": {
      "text/plain": [
       "2251512245888"
      ]
     },
     "execution_count": 92,
     "metadata": {},
     "output_type": "execute_result"
    }
   ],
   "source": [
    "x1.data_ptr()"
   ]
  },
  {
   "cell_type": "markdown",
   "metadata": {},
   "source": [
    "* `0` 으로 지정시 colsum 반환, `1`로 지정시 rowsum을 반환"
   ]
  },
  {
   "cell_type": "code",
   "execution_count": 95,
   "metadata": {},
   "outputs": [
    {
     "name": "stdout",
     "output_type": "stream",
     "text": [
      "타입 : torch.LongTensor\n",
      "크기 : torch.Size([3])\n",
      "값 : \n",
      "tensor([3, 5, 7])\n",
      " \n",
      "\n",
      "================================================\n",
      "\n",
      "\n"
     ]
    }
   ],
   "source": [
    "describe(torch.sum(x,dim=0))"
   ]
  },
  {
   "cell_type": "code",
   "execution_count": 97,
   "metadata": {},
   "outputs": [
    {
     "name": "stdout",
     "output_type": "stream",
     "text": [
      "타입 : torch.LongTensor\n",
      "크기 : torch.Size([2])\n",
      "값 : \n",
      "tensor([ 3, 12])\n",
      " \n",
      "\n",
      "================================================\n",
      "\n",
      "\n"
     ]
    }
   ],
   "source": [
    "describe(torch.sum(x,dim=1))"
   ]
  },
  {
   "cell_type": "markdown",
   "metadata": {},
   "source": [
    "* `transpose`함수는 두 번째와 세 번째 매개변수로 전달된 차원을 전치한 텐서를 만든다."
   ]
  },
  {
   "cell_type": "code",
   "execution_count": 99,
   "metadata": {},
   "outputs": [
    {
     "data": {
      "text/plain": [
       "tensor([[0, 1, 2],\n",
       "        [3, 4, 5]])"
      ]
     },
     "execution_count": 99,
     "metadata": {},
     "output_type": "execute_result"
    }
   ],
   "source": [
    "x"
   ]
  },
  {
   "cell_type": "code",
   "execution_count": 101,
   "metadata": {},
   "outputs": [
    {
     "name": "stdout",
     "output_type": "stream",
     "text": [
      "타입 : torch.LongTensor\n",
      "크기 : torch.Size([3, 2])\n",
      "값 : \n",
      "tensor([[0, 3],\n",
      "        [1, 4],\n",
      "        [2, 5]])\n",
      " \n",
      "\n",
      "================================================\n",
      "\n",
      "\n"
     ]
    }
   ],
   "source": [
    "describe(torch.transpose(x,0,1))"
   ]
  },
  {
   "cell_type": "markdown",
   "metadata": {},
   "source": [
    "## 인덱싱, 슬라이싱, 연결"
   ]
  },
  {
   "cell_type": "markdown",
   "metadata": {},
   "source": [
    "### 텐서 슬라이싱과 인덱싱"
   ]
  },
  {
   "cell_type": "code",
   "execution_count": 102,
   "metadata": {},
   "outputs": [
    {
     "name": "stdout",
     "output_type": "stream",
     "text": [
      "타입 : torch.LongTensor\n",
      "크기 : torch.Size([2, 3])\n",
      "값 : \n",
      "tensor([[0, 1, 2],\n",
      "        [3, 4, 5]])\n",
      " \n",
      "\n",
      "================================================\n",
      "\n",
      "\n"
     ]
    }
   ],
   "source": [
    "import torch\n",
    "\n",
    "x = torch.arange(6).view(2,3)\n",
    "describe(x)"
   ]
  },
  {
   "cell_type": "code",
   "execution_count": 104,
   "metadata": {},
   "outputs": [
    {
     "name": "stdout",
     "output_type": "stream",
     "text": [
      "타입 : torch.LongTensor\n",
      "크기 : torch.Size([1, 2])\n",
      "값 : \n",
      "tensor([[0, 1]])\n",
      " \n",
      "\n",
      "================================================\n",
      "\n",
      "\n"
     ]
    }
   ],
   "source": [
    "describe(x[:1,:2])"
   ]
  },
  {
   "cell_type": "code",
   "execution_count": 105,
   "metadata": {},
   "outputs": [
    {
     "name": "stdout",
     "output_type": "stream",
     "text": [
      "타입 : torch.LongTensor\n",
      "크기 : torch.Size([])\n",
      "값 : \n",
      "1\n",
      " \n",
      "\n",
      "================================================\n",
      "\n",
      "\n"
     ]
    }
   ],
   "source": [
    "describe(x[0,1])"
   ]
  },
  {
   "cell_type": "markdown",
   "metadata": {},
   "source": [
    "### 복잡한 인덱싱, 연속적이지 않은 텐서 인덱스 참조하기"
   ]
  },
  {
   "cell_type": "code",
   "execution_count": 106,
   "metadata": {},
   "outputs": [
    {
     "data": {
      "text/plain": [
       "tensor([[0, 1, 2],\n",
       "        [3, 4, 5]])"
      ]
     },
     "execution_count": 106,
     "metadata": {},
     "output_type": "execute_result"
    }
   ],
   "source": [
    "x"
   ]
  },
  {
   "cell_type": "markdown",
   "metadata": {},
   "source": [
    "* 아래 코드를 해석하면 컬럼차원에서 0,2 번째 컬럼을 반환한다는 뜻이다."
   ]
  },
  {
   "cell_type": "code",
   "execution_count": 109,
   "metadata": {},
   "outputs": [
    {
     "name": "stdout",
     "output_type": "stream",
     "text": [
      "타입 : torch.LongTensor\n",
      "크기 : torch.Size([2, 2])\n",
      "값 : \n",
      "tensor([[0, 2],\n",
      "        [3, 5]])\n",
      " \n",
      "\n",
      "================================================\n",
      "\n",
      "\n"
     ]
    }
   ],
   "source": [
    "indices = torch.LongTensor([0,2])\n",
    "\n",
    "describe(torch.index_select(x,dim=1,index = indices))"
   ]
  },
  {
   "cell_type": "code",
   "execution_count": 117,
   "metadata": {},
   "outputs": [
    {
     "name": "stdout",
     "output_type": "stream",
     "text": [
      "타입 : torch.LongTensor\n",
      "크기 : torch.Size([2, 3])\n",
      "값 : \n",
      "tensor([[0, 1, 2],\n",
      "        [0, 1, 2]])\n",
      " \n",
      "\n",
      "================================================\n",
      "\n",
      "\n"
     ]
    }
   ],
   "source": [
    "indices = torch.LongTensor([0,0])\n",
    "\n",
    "describe(torch.index_select(x,dim=0,index = indices))"
   ]
  },
  {
   "cell_type": "markdown",
   "metadata": {},
   "source": [
    "* 인덱스가 `LongTensor` 라는 점에 주목하자. 파이토치 함수를 사용할 때 필수 조건이다."
   ]
  },
  {
   "cell_type": "code",
   "execution_count": 118,
   "metadata": {},
   "outputs": [
    {
     "data": {
      "text/plain": [
       "tensor([[0, 1, 2],\n",
       "        [3, 4, 5]])"
      ]
     },
     "execution_count": 118,
     "metadata": {},
     "output_type": "execute_result"
    }
   ],
   "source": [
    "x"
   ]
  },
  {
   "cell_type": "code",
   "execution_count": 119,
   "metadata": {},
   "outputs": [
    {
     "name": "stdout",
     "output_type": "stream",
     "text": [
      "타입 : torch.LongTensor\n",
      "크기 : torch.Size([2])\n",
      "값 : \n",
      "tensor([0, 4])\n",
      " \n",
      "\n",
      "================================================\n",
      "\n",
      "\n"
     ]
    }
   ],
   "source": [
    "row_indices = torch.arange(2).long() ## 로우나 컬럼이나 같은 표현이다.\n",
    "col_indices = torch.LongTensor([0,1])\n",
    "\n",
    "describe(x[row_indices,col_indices])"
   ]
  },
  {
   "cell_type": "markdown",
   "metadata": {},
   "source": [
    "### 텐서 연결"
   ]
  },
  {
   "cell_type": "code",
   "execution_count": 120,
   "metadata": {},
   "outputs": [],
   "source": [
    "import torch"
   ]
  },
  {
   "cell_type": "code",
   "execution_count": 122,
   "metadata": {},
   "outputs": [],
   "source": [
    "x = torch.arange(6).view(2,3)"
   ]
  },
  {
   "cell_type": "code",
   "execution_count": 123,
   "metadata": {},
   "outputs": [
    {
     "name": "stdout",
     "output_type": "stream",
     "text": [
      "타입 : torch.LongTensor\n",
      "크기 : torch.Size([2, 3])\n",
      "값 : \n",
      "tensor([[0, 1, 2],\n",
      "        [3, 4, 5]])\n",
      " \n",
      "\n",
      "================================================\n",
      "\n",
      "\n"
     ]
    }
   ],
   "source": [
    "describe(x)"
   ]
  },
  {
   "cell_type": "markdown",
   "metadata": {},
   "source": [
    "* cat, dim=0 $\\to$ r의 cbind"
   ]
  },
  {
   "cell_type": "code",
   "execution_count": 124,
   "metadata": {},
   "outputs": [
    {
     "name": "stdout",
     "output_type": "stream",
     "text": [
      "타입 : torch.LongTensor\n",
      "크기 : torch.Size([4, 3])\n",
      "값 : \n",
      "tensor([[0, 1, 2],\n",
      "        [3, 4, 5],\n",
      "        [0, 1, 2],\n",
      "        [3, 4, 5]])\n",
      " \n",
      "\n",
      "================================================\n",
      "\n",
      "\n"
     ]
    }
   ],
   "source": [
    "describe(torch.cat([x,x],dim=0)) ## "
   ]
  },
  {
   "cell_type": "code",
   "execution_count": 125,
   "metadata": {},
   "outputs": [
    {
     "name": "stdout",
     "output_type": "stream",
     "text": [
      "타입 : torch.LongTensor\n",
      "크기 : torch.Size([2, 6])\n",
      "값 : \n",
      "tensor([[0, 1, 2, 0, 1, 2],\n",
      "        [3, 4, 5, 3, 4, 5]])\n",
      " \n",
      "\n",
      "================================================\n",
      "\n",
      "\n"
     ]
    }
   ],
   "source": [
    "describe(torch.cat([x,x],dim=1)) ## "
   ]
  },
  {
   "cell_type": "code",
   "execution_count": 126,
   "metadata": {},
   "outputs": [
    {
     "name": "stdout",
     "output_type": "stream",
     "text": [
      "타입 : torch.LongTensor\n",
      "크기 : torch.Size([2, 2, 3])\n",
      "값 : \n",
      "tensor([[[0, 1, 2],\n",
      "         [3, 4, 5]],\n",
      "\n",
      "        [[0, 1, 2],\n",
      "         [3, 4, 5]]])\n",
      " \n",
      "\n",
      "================================================\n",
      "\n",
      "\n"
     ]
    }
   ],
   "source": [
    "describe(torch.stack([x,x])) ## "
   ]
  },
  {
   "cell_type": "markdown",
   "metadata": {},
   "source": [
    "## 텐서의 선형 대수 계산 : 행렬 곱셈"
   ]
  },
  {
   "cell_type": "code",
   "execution_count": 127,
   "metadata": {},
   "outputs": [],
   "source": [
    "import torch"
   ]
  },
  {
   "cell_type": "code",
   "execution_count": 128,
   "metadata": {},
   "outputs": [
    {
     "name": "stdout",
     "output_type": "stream",
     "text": [
      "타입 : torch.FloatTensor\n",
      "크기 : torch.Size([2, 3])\n",
      "값 : \n",
      "tensor([[0., 1., 2.],\n",
      "        [3., 4., 5.]])\n",
      " \n",
      "\n",
      "================================================\n",
      "\n",
      "\n"
     ]
    }
   ],
   "source": [
    "x1 = torch.arange(6.).view(2,3)\n",
    "describe(x1)"
   ]
  },
  {
   "cell_type": "code",
   "execution_count": 129,
   "metadata": {},
   "outputs": [
    {
     "data": {
      "text/plain": [
       "tensor([[1., 1.],\n",
       "        [1., 1.],\n",
       "        [1., 1.]])"
      ]
     },
     "execution_count": 129,
     "metadata": {},
     "output_type": "execute_result"
    }
   ],
   "source": [
    "x2 = torch.ones(3,2)\n",
    "x2"
   ]
  },
  {
   "cell_type": "code",
   "execution_count": 130,
   "metadata": {},
   "outputs": [],
   "source": [
    "x2 [:,1] +=1"
   ]
  },
  {
   "cell_type": "code",
   "execution_count": 131,
   "metadata": {},
   "outputs": [
    {
     "name": "stdout",
     "output_type": "stream",
     "text": [
      "타입 : torch.FloatTensor\n",
      "크기 : torch.Size([3, 2])\n",
      "값 : \n",
      "tensor([[1., 2.],\n",
      "        [1., 2.],\n",
      "        [1., 2.]])\n",
      " \n",
      "\n",
      "================================================\n",
      "\n",
      "\n"
     ]
    }
   ],
   "source": [
    "describe(x2)"
   ]
  },
  {
   "cell_type": "markdown",
   "metadata": {},
   "source": [
    "* 행렬 곱셈"
   ]
  },
  {
   "cell_type": "code",
   "execution_count": 132,
   "metadata": {},
   "outputs": [
    {
     "data": {
      "text/plain": [
       "tensor([[ 3.,  6.],\n",
       "        [12., 24.]])"
      ]
     },
     "execution_count": 132,
     "metadata": {},
     "output_type": "execute_result"
    }
   ],
   "source": [
    "torch.mm(x1,x2)"
   ]
  },
  {
   "cell_type": "markdown",
   "metadata": {},
   "source": [
    "* 역행렬"
   ]
  },
  {
   "cell_type": "code",
   "execution_count": 133,
   "metadata": {},
   "outputs": [
    {
     "data": {
      "text/plain": [
       "tensor([[ 1.1645, -2.5808],\n",
       "        [-0.0280,  3.1795]])"
      ]
     },
     "execution_count": 133,
     "metadata": {},
     "output_type": "execute_result"
    }
   ],
   "source": [
    "torch.inverse(torch.rand(2,2))"
   ]
  },
  {
   "cell_type": "markdown",
   "metadata": {},
   "source": [
    "* 대각합"
   ]
  },
  {
   "cell_type": "code",
   "execution_count": 134,
   "metadata": {},
   "outputs": [
    {
     "data": {
      "text/plain": [
       "tensor(0.8843)"
      ]
     },
     "execution_count": 134,
     "metadata": {},
     "output_type": "execute_result"
    }
   ],
   "source": [
    "torch.trace(torch.rand(2,2))"
   ]
  },
  {
   "cell_type": "markdown",
   "metadata": {},
   "source": [
    "## 텐서와 계산그래프"
   ]
  },
  {
   "cell_type": "markdown",
   "metadata": {},
   "source": [
    "* 그래이디언트 연산을 할 수 있는 텐서 만들기"
   ]
  },
  {
   "cell_type": "markdown",
   "metadata": {},
   "source": [
    "`requires_grad = True`는 그레이디언트 기반 학습에 필요한 손실함수와 텐서의 그레이디언트를 기록하는 부가 연산을 활성화 시킨다."
   ]
  },
  {
   "cell_type": "code",
   "execution_count": 135,
   "metadata": {},
   "outputs": [],
   "source": [
    "import torch"
   ]
  },
  {
   "cell_type": "code",
   "execution_count": 136,
   "metadata": {},
   "outputs": [],
   "source": [
    "x = torch.ones(2,2, requires_grad=True)"
   ]
  },
  {
   "cell_type": "code",
   "execution_count": 137,
   "metadata": {},
   "outputs": [
    {
     "name": "stdout",
     "output_type": "stream",
     "text": [
      "타입 : torch.FloatTensor\n",
      "크기 : torch.Size([2, 2])\n",
      "값 : \n",
      "tensor([[1., 1.],\n",
      "        [1., 1.]], requires_grad=True)\n",
      " \n",
      "\n",
      "================================================\n",
      "\n",
      "\n"
     ]
    }
   ],
   "source": [
    "describe(x)"
   ]
  },
  {
   "cell_type": "code",
   "execution_count": 138,
   "metadata": {},
   "outputs": [
    {
     "name": "stdout",
     "output_type": "stream",
     "text": [
      "True\n"
     ]
    }
   ],
   "source": [
    "print(x.grad is None)"
   ]
  },
  {
   "cell_type": "markdown",
   "metadata": {},
   "source": [
    "$$ y = (x+2)(x+5) +3$$"
   ]
  },
  {
   "cell_type": "code",
   "execution_count": 139,
   "metadata": {},
   "outputs": [
    {
     "name": "stdout",
     "output_type": "stream",
     "text": [
      "타입 : torch.FloatTensor\n",
      "크기 : torch.Size([2, 2])\n",
      "값 : \n",
      "tensor([[21., 21.],\n",
      "        [21., 21.]], grad_fn=<AddBackward0>)\n",
      " \n",
      "\n",
      "================================================\n",
      "\n",
      "\n",
      "True\n"
     ]
    }
   ],
   "source": [
    "y = (x+2)*(x+5) + 3\n",
    "describe(y)\n",
    "print(x.grad is None)    "
   ]
  },
  {
   "cell_type": "code",
   "execution_count": 140,
   "metadata": {},
   "outputs": [
    {
     "name": "stdout",
     "output_type": "stream",
     "text": [
      "타입 : torch.FloatTensor\n",
      "크기 : torch.Size([])\n",
      "값 : \n",
      "21.0\n",
      " \n",
      "\n",
      "================================================\n",
      "\n",
      "\n",
      "False\n"
     ]
    }
   ],
   "source": [
    "z = y.mean()\n",
    "describe(z)\n",
    "z.backward()\n",
    "print(x.grad is None)"
   ]
  },
  {
   "cell_type": "markdown",
   "metadata": {},
   "source": [
    "* 파이토치에서 계산 그래프에 있는 노드에 대한 그레이디언트를 `.grad` 속성으로 참조할 수 있다. 옵티마이저는 `.grad` 속성을 사용해서 파라미터 값을 업데이트한다."
   ]
  },
  {
   "cell_type": "markdown",
   "metadata": {},
   "source": [
    "# 연습문제"
   ]
  },
  {
   "cell_type": "markdown",
   "metadata": {},
   "source": [
    "## 1번"
   ]
  },
  {
   "cell_type": "markdown",
   "metadata": {},
   "source": [
    "2D 텐서를 만들고 차원 0 위치에 크기가 1인 차원을 추가하시오."
   ]
  },
  {
   "cell_type": "markdown",
   "metadata": {},
   "source": [
    "### Solution"
   ]
  },
  {
   "cell_type": "code",
   "execution_count": 141,
   "metadata": {},
   "outputs": [
    {
     "data": {
      "text/plain": [
       "tensor([[0.2966, 0.4459, 0.0016],\n",
       "        [0.2637, 0.7056, 0.2209],\n",
       "        [0.2585, 0.7810, 0.2748]])"
      ]
     },
     "execution_count": 141,
     "metadata": {},
     "output_type": "execute_result"
    }
   ],
   "source": [
    "a = torch.rand(3,3)\n",
    "a"
   ]
  },
  {
   "cell_type": "code",
   "execution_count": 142,
   "metadata": {},
   "outputs": [
    {
     "data": {
      "text/plain": [
       "tensor([[[0.2966, 0.4459, 0.0016],\n",
       "         [0.2637, 0.7056, 0.2209],\n",
       "         [0.2585, 0.7810, 0.2748]]])"
      ]
     },
     "execution_count": 142,
     "metadata": {},
     "output_type": "execute_result"
    }
   ],
   "source": [
    "a.unsqueeze(0)"
   ]
  },
  {
   "cell_type": "markdown",
   "metadata": {},
   "source": [
    "## 2번"
   ]
  },
  {
   "cell_type": "markdown",
   "metadata": {},
   "source": [
    "이전 텐서에 추가한 차원을 삭제하기"
   ]
  },
  {
   "cell_type": "markdown",
   "metadata": {},
   "source": [
    "### Solution"
   ]
  },
  {
   "cell_type": "code",
   "execution_count": 143,
   "metadata": {},
   "outputs": [
    {
     "data": {
      "text/plain": [
       "tensor([[0.2966, 0.4459, 0.0016],\n",
       "        [0.2637, 0.7056, 0.2209],\n",
       "        [0.2585, 0.7810, 0.2748]])"
      ]
     },
     "execution_count": 143,
     "metadata": {},
     "output_type": "execute_result"
    }
   ],
   "source": [
    "a.squeeze(0)"
   ]
  },
  {
   "cell_type": "markdown",
   "metadata": {},
   "source": [
    "## 3번"
   ]
  },
  {
   "cell_type": "markdown",
   "metadata": {},
   "source": [
    "* 범위가 [3,7) 이고 크기가 $5\\times 3$인 램덤판 텐서를 만들기"
   ]
  },
  {
   "cell_type": "markdown",
   "metadata": {},
   "source": [
    "### Solution"
   ]
  },
  {
   "cell_type": "code",
   "execution_count": 144,
   "metadata": {},
   "outputs": [
    {
     "data": {
      "text/plain": [
       "tensor([[4.8969, 5.3626, 4.2073],\n",
       "        [5.1916, 6.7691, 3.1864],\n",
       "        [6.1773, 6.1206, 5.6650],\n",
       "        [4.0778, 6.3007, 6.8788],\n",
       "        [5.8507, 4.0870, 5.9019]])"
      ]
     },
     "execution_count": 144,
     "metadata": {},
     "output_type": "execute_result"
    }
   ],
   "source": [
    "3+torch.rand(5,3)*(7-3)"
   ]
  },
  {
   "cell_type": "markdown",
   "metadata": {},
   "source": [
    "## 4번"
   ]
  },
  {
   "cell_type": "markdown",
   "metadata": {},
   "source": [
    "### Solution"
   ]
  },
  {
   "cell_type": "markdown",
   "metadata": {},
   "source": [
    "정규분포를 사용해서 텐서를 만들기"
   ]
  },
  {
   "cell_type": "code",
   "execution_count": 365,
   "metadata": {},
   "outputs": [
    {
     "data": {
      "text/plain": [
       "tensor([[ 0.3830, -0.2555, -0.2903],\n",
       "        [ 1.0973,  0.3475, -0.5337],\n",
       "        [-0.2465,  0.9446, -0.4641]])"
      ]
     },
     "execution_count": 365,
     "metadata": {},
     "output_type": "execute_result"
    }
   ],
   "source": [
    "a= torch.rand(3,3)\n",
    "a.normal_()"
   ]
  },
  {
   "cell_type": "markdown",
   "metadata": {},
   "source": [
    "## 5번"
   ]
  },
  {
   "cell_type": "markdown",
   "metadata": {},
   "source": [
    "텐서 torch.Tensor([1,1,1,0,1]) 에서 0이 아닌 원소의 인덱스를 추출하세요."
   ]
  },
  {
   "cell_type": "markdown",
   "metadata": {},
   "source": [
    "### Solution"
   ]
  },
  {
   "cell_type": "code",
   "execution_count": 145,
   "metadata": {},
   "outputs": [
    {
     "data": {
      "text/plain": [
       "(tensor([0, 1, 2, 4]),)"
      ]
     },
     "execution_count": 145,
     "metadata": {},
     "output_type": "execute_result"
    }
   ],
   "source": [
    "a = torch.Tensor([1,1,1,0,1])\n",
    "torch.nonzero(a,as_tuple=True) "
   ]
  },
  {
   "cell_type": "markdown",
   "metadata": {},
   "source": [
    "*  `as_tuple` : `True` 로 지정하지 않으면 2차원 텐서를 변환한다."
   ]
  },
  {
   "cell_type": "markdown",
   "metadata": {},
   "source": [
    "## 6번"
   ]
  },
  {
   "cell_type": "markdown",
   "metadata": {},
   "source": [
    "크기가 (3,1)인 랜덤한 텐서를 만들고 네 벌을 복사해 쌓으세요"
   ]
  },
  {
   "cell_type": "markdown",
   "metadata": {},
   "source": [
    "### Solution"
   ]
  },
  {
   "cell_type": "code",
   "execution_count": 146,
   "metadata": {},
   "outputs": [
    {
     "data": {
      "text/plain": [
       "tensor([[0.1492],\n",
       "        [0.1221],\n",
       "        [0.5768]])"
      ]
     },
     "execution_count": 146,
     "metadata": {},
     "output_type": "execute_result"
    }
   ],
   "source": [
    "a = torch.rand(3,1)\n",
    "a"
   ]
  },
  {
   "cell_type": "code",
   "execution_count": 147,
   "metadata": {},
   "outputs": [
    {
     "data": {
      "text/plain": [
       "tensor([[0.1492, 0.1492, 0.1492, 0.1492],\n",
       "        [0.1221, 0.1221, 0.1221, 0.1221],\n",
       "        [0.5768, 0.5768, 0.5768, 0.5768]])"
      ]
     },
     "execution_count": 147,
     "metadata": {},
     "output_type": "execute_result"
    }
   ],
   "source": [
    "a.expand(3,4)"
   ]
  },
  {
   "cell_type": "markdown",
   "metadata": {},
   "source": [
    "## 7번"
   ]
  },
  {
   "cell_type": "markdown",
   "metadata": {},
   "source": [
    "2차원 행렬 개 **( a = torch.rand(3,4,5), b = torch.rand(3,5,4) )** 의 배치 행렬 곱셈을 계산하세요. "
   ]
  },
  {
   "cell_type": "markdown",
   "metadata": {},
   "source": [
    "### Solution"
   ]
  },
  {
   "cell_type": "code",
   "execution_count": 148,
   "metadata": {},
   "outputs": [],
   "source": [
    "a = torch.rand(3,4,5)\n",
    "b = torch.rand(3,5,4) "
   ]
  },
  {
   "cell_type": "code",
   "execution_count": 149,
   "metadata": {},
   "outputs": [
    {
     "data": {
      "text/plain": [
       "tensor([[[0.8432, 0.3043, 0.3210, 0.9431, 0.2673],\n",
       "         [0.7349, 0.5522, 0.5258, 0.0104, 0.3234],\n",
       "         [0.4519, 0.3940, 0.0187, 0.3106, 0.2780],\n",
       "         [0.4799, 0.3480, 0.6322, 0.1634, 0.7024]],\n",
       "\n",
       "        [[0.7353, 0.2029, 0.0166, 0.0391, 0.7469],\n",
       "         [0.0473, 0.0727, 0.1912, 0.2763, 0.8238],\n",
       "         [0.8702, 0.6047, 0.2439, 0.3102, 0.2967],\n",
       "         [0.5944, 0.9755, 0.8162, 0.3612, 0.4574]],\n",
       "\n",
       "        [[0.7215, 0.0704, 0.7937, 0.7839, 0.7022],\n",
       "         [0.3435, 0.1463, 0.8671, 0.2648, 0.7312],\n",
       "         [0.7399, 0.3415, 0.9808, 0.7982, 0.8345],\n",
       "         [0.1444, 0.1740, 0.1711, 0.0673, 0.3027]]])"
      ]
     },
     "execution_count": 149,
     "metadata": {},
     "output_type": "execute_result"
    }
   ],
   "source": [
    "a"
   ]
  },
  {
   "cell_type": "code",
   "execution_count": 150,
   "metadata": {},
   "outputs": [
    {
     "data": {
      "text/plain": [
       "tensor([[[0.2951, 0.1355, 0.5337, 0.1931],\n",
       "         [0.1613, 0.7947, 0.6819, 0.7209],\n",
       "         [0.1560, 0.1124, 0.6236, 0.7558],\n",
       "         [0.6739, 0.1252, 0.2276, 0.1586],\n",
       "         [0.2627, 0.1673, 0.3396, 0.2907]],\n",
       "\n",
       "        [[0.6307, 0.3764, 0.1830, 0.0020],\n",
       "         [0.3913, 0.3344, 0.9843, 0.3801],\n",
       "         [0.7788, 0.5737, 0.5411, 0.5289],\n",
       "         [0.7318, 0.4864, 0.8927, 0.6358],\n",
       "         [0.8435, 0.0820, 0.3751, 0.3977]],\n",
       "\n",
       "        [[0.5797, 0.1567, 0.3288, 0.7492],\n",
       "         [0.0626, 0.7531, 0.8028, 0.4698],\n",
       "         [0.3778, 0.8844, 0.9128, 0.1916],\n",
       "         [0.9723, 0.2381, 0.1718, 0.3828],\n",
       "         [0.0870, 0.5339, 0.6326, 0.3959]]])"
      ]
     },
     "execution_count": 150,
     "metadata": {},
     "output_type": "execute_result"
    }
   ],
   "source": [
    "b"
   ]
  },
  {
   "cell_type": "code",
   "execution_count": 151,
   "metadata": {},
   "outputs": [
    {
     "data": {
      "text/plain": [
       "tensor([[[1.0538, 0.5550, 1.1631, 0.8521],\n",
       "         [0.4799, 0.6529, 1.2088, 1.0330],\n",
       "         [0.4821, 0.4619, 0.6866, 0.5155],\n",
       "         [0.5910, 0.5506, 1.1633, 1.0515]],\n",
       "\n",
       "        [[1.2148, 0.4345, 0.6584, 0.4093],\n",
       "         [1.1042, 0.3537, 0.7393, 0.6321],\n",
       "         [1.4528, 0.8450, 1.2747, 0.6757],\n",
       "         [2.0424, 1.2314, 2.0047, 1.2151]],\n",
       "\n",
       "        [[1.5457, 1.4296, 1.5972, 1.3038],\n",
       "         [0.8569, 1.3843, 1.5300, 0.8831],\n",
       "         [1.6695, 1.8762, 2.0778, 1.5386],\n",
       "         [0.2510, 0.4826, 0.5464, 0.3683]]])"
      ]
     },
     "execution_count": 151,
     "metadata": {},
     "output_type": "execute_result"
    }
   ],
   "source": [
    "torch.bmm(a,b)"
   ]
  }
 ],
 "metadata": {
  "kernelspec": {
   "display_name": "Python 3",
   "language": "python",
   "name": "python3"
  },
  "language_info": {
   "codemirror_mode": {
    "name": "ipython",
    "version": 3
   },
   "file_extension": ".py",
   "mimetype": "text/x-python",
   "name": "python",
   "nbconvert_exporter": "python",
   "pygments_lexer": "ipython3",
   "version": "3.7.11"
  },
  "toc": {
   "base_numbering": 1,
   "nav_menu": {},
   "number_sections": false,
   "sideBar": true,
   "skip_h1_title": false,
   "title_cell": "Table of Contents",
   "title_sidebar": "Contents",
   "toc_cell": false,
   "toc_position": {
    "height": "calc(100% - 180px)",
    "left": "10px",
    "top": "150px",
    "width": "379.825px"
   },
   "toc_section_display": true,
   "toc_window_display": true
  }
 },
 "nbformat": 4,
 "nbformat_minor": 5
}
