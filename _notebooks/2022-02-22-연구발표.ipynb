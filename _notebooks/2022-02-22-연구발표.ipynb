{
 "cells": [
  {
   "cell_type": "markdown",
   "metadata": {
    "id": "C0BgQ6hj5FGj"
   },
   "source": [
    "# Word Embedding\n",
    "> \"NLP\"\n",
    "\n",
    "- toc:true\n",
    "- branch: master\n",
    "- badges: true\n",
    "- comments: true\n",
    "- author: 이강철\n",
    "- categories: [python]\n",
    "- hide :false\n",
    "- published: true"
   ]
  },
  {
   "cell_type": "markdown",
   "metadata": {
    "id": "c1DrUKCr5FGp"
   },
   "source": [
    "# WordEmbedding"
   ]
  },
  {
   "cell_type": "markdown",
   "metadata": {
    "id": "S3D5z3Z45FGq"
   },
   "source": [
    "`1`. 차원의 저주(Curse of Dimensionality) : 수학적 공간 차원(=변수 개수)이 늘어나면서, 문제 계산법이 지수적으로 커지는 상황"
   ]
  },
  {
   "cell_type": "markdown",
   "metadata": {
    "id": "1vfHsY3A5FGr"
   },
   "source": [
    "만약 $x=[1,2,3,4,5],\\, y= [0,0,0,0,0]\\to (X,Y)$ 을 표현한다고 하자"
   ]
  },
  {
   "cell_type": "markdown",
   "metadata": {
    "id": "q6FWTs5l5FGr"
   },
   "source": [
    "아래와 같이 1차원 상에서 표현되는 정보를 2차원 상에서 표현하게되어 설명 공간이 $5^2 =25$가 된 것이다."
   ]
  },
  {
   "cell_type": "markdown",
   "metadata": {
    "id": "qZHjG0tl5FGs"
   },
   "source": [
    "이러한 경우를 차원의 저주라고 하며 이는 모델링 과정에서 저장 공간과 처리 시간이 불필요하게 증가됨을 의미한다."
   ]
  },
  {
   "cell_type": "code",
   "execution_count": null,
   "metadata": {
    "id": "VyjsZF-o5FGt"
   },
   "outputs": [],
   "source": [
    "#collapse-hide\n",
    "import numpy as np\n",
    "import pandas as pd\n",
    "import matplotlib.pyplot as plt\n",
    "%matplotlib inline "
   ]
  },
  {
   "cell_type": "code",
   "execution_count": null,
   "metadata": {
    "id": "2VavOAh85FGu",
    "outputId": "406dcfb4-0f6e-4d1a-8b03-82033b0e82d6"
   },
   "outputs": [
    {
     "data": {
      "image/png": "[encoded data removed]",
      "text/plain": [
       "<Figure size 720x360 with 2 Axes>"
      ]
     },
     "metadata": {
      "needs_background": "light"
     },
     "output_type": "display_data"
    }
   ],
   "source": [
    "#collapse-hide\n",
    "fig, axes = plt.subplots(1,2, figsize=(10,5))\n",
    "\n",
    "ax1, ax2 =axes\n",
    "\n",
    "x = [1,2,3,4,5]\n",
    "y = [0,0,0,0,0]\n",
    "ax1.plot(x,y)\n",
    "ax1.set_title(\"1-dimensional\")\n",
    "ax1.axis(\"off\")\n",
    "ax2.plot(x,y)\n",
    "ax2.set_title(\"2-dimensional\")\n",
    "fig.tight_layout()"
   ]
  },
  {
   "cell_type": "markdown",
   "metadata": {
    "id": "jqgbx-GH5FGv"
   },
   "source": [
    "이러한 문제점을 해결하기 위해 NLP 분야에서는 단어를 저차원에 표현하기 위한 **\"워드 임베딩(Word Embedding)\"**을 제안하였다."
   ]
  },
  {
   "cell_type": "markdown",
   "metadata": {
    "id": "FiEaNSJC5FGw"
   },
   "source": [
    "기존의 통계적인 방법이 단어의 출현 빈도에 집중 한다면 워드 임베딩은 서로 유사한 단어들 간 유사성을 포착하는데 집중한다."
   ]
  },
  {
   "cell_type": "markdown",
   "metadata": {
    "id": "JHYX43j75FGw"
   },
   "source": [
    "`-` 가정 : 유사한 의미를 가진 단어는 유사한 문맥안에서 발견된다."
   ]
  },
  {
   "cell_type": "markdown",
   "metadata": {
    "id": "4iRzrSVP5FGw"
   },
   "source": [
    "`-` 가정의 해석 : 유사한 의미를 가진 단어들은 유사한 단어 벡터를 가진다. "
   ]
  },
  {
   "cell_type": "markdown",
   "metadata": {
    "id": "pyoid0S45FGx"
   },
   "source": [
    "`-` 이점 : 이웃된 단어들의 단어 벡터들을 학습하여 단어간 유사성을 도출해낼 수 있다. "
   ]
  },
  {
   "cell_type": "markdown",
   "metadata": {
    "id": "dpR7NiYE5FGx"
   },
   "source": [
    "> example 1 : 'man' + 'royal' = 'king'"
   ]
  },
  {
   "cell_type": "markdown",
   "metadata": {
    "id": "LvbtMayr5FGx"
   },
   "source": [
    "## Word2Vec"
   ]
  },
  {
   "cell_type": "markdown",
   "metadata": {
    "id": "tiOJcxlA5FGy"
   },
   "source": [
    "* 워드 \"**Word2Vec**\" 중 가장 대표적인 방법으로 **\"CBOW\"**, **\"skip-gram\"** 이 존재한다."
   ]
  },
  {
   "cell_type": "markdown",
   "metadata": {
    "id": "3c7WEF6I5FGy"
   },
   "source": [
    "### CBOW (Continuous Bag of Words)"
   ]
  },
  {
   "cell_type": "markdown",
   "metadata": {
    "id": "7F11TS-K5FGy"
   },
   "source": [
    "* 주변 단어를 이용하여 중심단어를 예측한다."
   ]
  },
  {
   "cell_type": "markdown",
   "metadata": {
    "id": "UQ0ZFay75FGy"
   },
   "source": [
    "* 주어진 단어집합에서 window size $k$ 를 지정해 target word  주변 $k$개의 단어들을 이용하여 조건부 확률을 계산한다."
   ]
  },
  {
   "cell_type": "markdown",
   "metadata": {
    "id": "L7WosqHJ5FGz"
   },
   "source": [
    "* `프라닭` 이라는 단어를 예측한다고 가정한다."
   ]
  },
  {
   "cell_type": "markdown",
   "metadata": {
    "id": "-dX_IL2v5FGz"
   },
   "source": [
    "`문장1`: 금요일 밤에 `프라닭`은 못참지\n",
    "\n",
    "`문장2`: 불금인데 교촌치킨 에 맥주?\n",
    "\n",
    "`단어` : [ \"금요일\", \"밤\", \"프라닭\",\"불금\", \"교촌치킨\", \"맥주\" ] $\\to Word \\in R^{6 \\times 6}$"
   ]
  },
  {
   "cell_type": "markdown",
   "metadata": {
    "id": "KJTQmQ9r5FGz"
   },
   "source": [
    "* 문장의 개수는 $j=2$, 단어의 개수는 총 $i=6$, 축소할 임베딩 차원의 개수는 $n=3$ 으로 설정하자."
   ]
  },
  {
   "cell_type": "markdown",
   "metadata": {
    "id": "8KUZIHNO5FGz"
   },
   "source": [
    "* 차원축소를 위해 생성되는 임베딩(=가중치) 행렬 $W \\in R^{6\\times 3}$ 으로 파이토치 기준 $N(0,1)$에서 생성된다."
   ]
  },
  {
   "cell_type": "markdown",
   "metadata": {
    "id": "eUX5FcQz5FGz"
   },
   "source": [
    "* 목적 1 : $Word \\in R^{6 \\times 6} \\to W \\in R^{6\\times 3}$"
   ]
  },
  {
   "cell_type": "markdown",
   "metadata": {
    "id": "gqUPiEP35FG0"
   },
   "source": [
    "*  목적 2 : 단어간 의미적 유사성을 포착하기 위한 임베딩 행렬 갱신 $W^{t} \\to W^{t+1} $"
   ]
  },
  {
   "cell_type": "markdown",
   "metadata": {
    "id": "YoE_qBDA5FG0"
   },
   "source": [
    "`1`. one-hot vector $Word \\in R^{6 \\times 6}$ 생성"
   ]
  },
  {
   "cell_type": "code",
   "execution_count": null,
   "metadata": {
    "id": "R4fvXYQf5FG0",
    "outputId": "2ced6542-c5e8-4b97-e891-f5283962a3bf"
   },
   "outputs": [
    {
     "data": {
      "text/html": [
       "<div>\n",
       "<style scoped>\n",
       "    .dataframe tbody tr th:only-of-type {\n",
       "        vertical-align: middle;\n",
       "    }\n",
       "\n",
       "    .dataframe tbody tr th {\n",
       "        vertical-align: top;\n",
       "    }\n",
       "\n",
       "    .dataframe thead th {\n",
       "        text-align: right;\n",
       "    }\n",
       "</style>\n",
       "<table border=\"1\" class=\"dataframe\">\n",
       "  <thead>\n",
       "    <tr style=\"text-align: right;\">\n",
       "      <th></th>\n",
       "      <th>0</th>\n",
       "      <th>1</th>\n",
       "      <th>2</th>\n",
       "      <th>3</th>\n",
       "      <th>4</th>\n",
       "      <th>5</th>\n",
       "    </tr>\n",
       "  </thead>\n",
       "  <tbody>\n",
       "    <tr>\n",
       "      <th>금요일</th>\n",
       "      <td>1</td>\n",
       "      <td>0</td>\n",
       "      <td>0</td>\n",
       "      <td>0</td>\n",
       "      <td>0</td>\n",
       "      <td>0</td>\n",
       "    </tr>\n",
       "    <tr>\n",
       "      <th>밤</th>\n",
       "      <td>0</td>\n",
       "      <td>1</td>\n",
       "      <td>0</td>\n",
       "      <td>0</td>\n",
       "      <td>0</td>\n",
       "      <td>0</td>\n",
       "    </tr>\n",
       "    <tr>\n",
       "      <th>프라닭</th>\n",
       "      <td>0</td>\n",
       "      <td>0</td>\n",
       "      <td>1</td>\n",
       "      <td>0</td>\n",
       "      <td>0</td>\n",
       "      <td>0</td>\n",
       "    </tr>\n",
       "    <tr>\n",
       "      <th>불금</th>\n",
       "      <td>0</td>\n",
       "      <td>0</td>\n",
       "      <td>0</td>\n",
       "      <td>1</td>\n",
       "      <td>0</td>\n",
       "      <td>0</td>\n",
       "    </tr>\n",
       "    <tr>\n",
       "      <th>교촌치킨</th>\n",
       "      <td>0</td>\n",
       "      <td>0</td>\n",
       "      <td>0</td>\n",
       "      <td>0</td>\n",
       "      <td>1</td>\n",
       "      <td>0</td>\n",
       "    </tr>\n",
       "    <tr>\n",
       "      <th>맥주</th>\n",
       "      <td>0</td>\n",
       "      <td>0</td>\n",
       "      <td>0</td>\n",
       "      <td>0</td>\n",
       "      <td>0</td>\n",
       "      <td>1</td>\n",
       "    </tr>\n",
       "  </tbody>\n",
       "</table>\n",
       "</div>"
      ],
      "text/plain": [
       "      0  1  2  3  4  5\n",
       "금요일   1  0  0  0  0  0\n",
       "밤     0  1  0  0  0  0\n",
       "프라닭   0  0  1  0  0  0\n",
       "불금    0  0  0  1  0  0\n",
       "교촌치킨  0  0  0  0  1  0\n",
       "맥주    0  0  0  0  0  1"
      ]
     },
     "execution_count": 12,
     "metadata": {},
     "output_type": "execute_result"
    }
   ],
   "source": [
    "#collapse-hide\n",
    "import numpy as np\n",
    "import pandas as pd\n",
    "\n",
    "index = [ \"금요일\", \"밤\", \"프라닭\",\"불금\", \"교촌치킨\", \"맥주\" ]\n",
    "\n",
    "word1 = [1,0,0,0,0,0]\n",
    "word2 = [0,1,0,0,0,0]\n",
    "word3 = [0,0,1,0,0,0]\n",
    "word4 = [0,0,0,1,0,0]\n",
    "word5 = [0,0,0,0,1,0]\n",
    "word6 = [0,0,0,0,0,1]\n",
    "\n",
    "one_hot = pd.DataFrame([word1,word2,word3,word4,word5,word6],index=index)\n",
    "one_hot"
   ]
  },
  {
   "cell_type": "markdown",
   "metadata": {
    "id": "CYJWAHeD5FG0"
   },
   "source": [
    "`2`. 임베딩(가중치) 행렬 생성 $W \\in R^{6\\times 3}$"
   ]
  },
  {
   "cell_type": "code",
   "execution_count": null,
   "metadata": {
    "id": "L_AvkeH25FG0",
    "outputId": "2a68d06d-5a1d-4734-f748-928b1e290555"
   },
   "outputs": [
    {
     "data": {
      "text/html": [
       "<div>\n",
       "<style scoped>\n",
       "    .dataframe tbody tr th:only-of-type {\n",
       "        vertical-align: middle;\n",
       "    }\n",
       "\n",
       "    .dataframe tbody tr th {\n",
       "        vertical-align: top;\n",
       "    }\n",
       "\n",
       "    .dataframe thead th {\n",
       "        text-align: right;\n",
       "    }\n",
       "</style>\n",
       "<table border=\"1\" class=\"dataframe\">\n",
       "  <thead>\n",
       "    <tr style=\"text-align: right;\">\n",
       "      <th></th>\n",
       "      <th>W1</th>\n",
       "      <th>W2</th>\n",
       "      <th>W3</th>\n",
       "    </tr>\n",
       "  </thead>\n",
       "  <tbody>\n",
       "    <tr>\n",
       "      <th>금요일</th>\n",
       "      <td>-0.946677</td>\n",
       "      <td>-0.964799</td>\n",
       "      <td>-2.236172</td>\n",
       "    </tr>\n",
       "    <tr>\n",
       "      <th>밤</th>\n",
       "      <td>1.481341</td>\n",
       "      <td>0.678401</td>\n",
       "      <td>-1.239748</td>\n",
       "    </tr>\n",
       "    <tr>\n",
       "      <th>프라닭</th>\n",
       "      <td>-0.855941</td>\n",
       "      <td>0.556102</td>\n",
       "      <td>0.330505</td>\n",
       "    </tr>\n",
       "    <tr>\n",
       "      <th>불금</th>\n",
       "      <td>0.316146</td>\n",
       "      <td>-1.791996</td>\n",
       "      <td>-0.307091</td>\n",
       "    </tr>\n",
       "    <tr>\n",
       "      <th>교촌치킨</th>\n",
       "      <td>1.289018</td>\n",
       "      <td>-1.415381</td>\n",
       "      <td>0.418707</td>\n",
       "    </tr>\n",
       "    <tr>\n",
       "      <th>맥주</th>\n",
       "      <td>1.106920</td>\n",
       "      <td>0.051748</td>\n",
       "      <td>0.478479</td>\n",
       "    </tr>\n",
       "  </tbody>\n",
       "</table>\n",
       "</div>"
      ],
      "text/plain": [
       "            W1        W2        W3\n",
       "금요일  -0.946677 -0.964799 -2.236172\n",
       "밤     1.481341  0.678401 -1.239748\n",
       "프라닭  -0.855941  0.556102  0.330505\n",
       "불금    0.316146 -1.791996 -0.307091\n",
       "교촌치킨  1.289018 -1.415381  0.418707\n",
       "맥주    1.106920  0.051748  0.478479"
      ]
     },
     "execution_count": 13,
     "metadata": {},
     "output_type": "execute_result"
    }
   ],
   "source": [
    "#collapse-hide\n",
    "W = np.random.normal(loc = 0, scale=1,size=18).reshape(6,3)\n",
    "W = pd.DataFrame(W,index=index, columns = [\"W1\",\"W2\",\"W3\"])\n",
    "W"
   ]
  },
  {
   "cell_type": "markdown",
   "metadata": {
    "id": "vLvuTocF5FG1"
   },
   "source": [
    "`3`. $\\widehat W_{프라닭} = \\frac {W_{밤} + W_{불금}} {2}   = [0.89,-0.55,0.77]$"
   ]
  },
  {
   "cell_type": "code",
   "execution_count": null,
   "metadata": {
    "id": "DvU1TpK35FG1",
    "outputId": "f6607ce3-0d5e-47f5-f228-123546f92638"
   },
   "outputs": [
    {
     "data": {
      "text/plain": [
       "[0.8987433793584608, -0.5567973759616802, -0.7734197905021276]"
      ]
     },
     "execution_count": 17,
     "metadata": {},
     "output_type": "execute_result"
    }
   ],
   "source": [
    "#collapse-hide\n",
    "W_1 = list((W.loc[\"밤\"] + W.loc[\"불금\"])/2)\n",
    "W_1"
   ]
  },
  {
   "cell_type": "markdown",
   "metadata": {
    "id": "n9bMT4Qb5FG1"
   },
   "source": [
    "`4`.  $ Z = \\widehat W_{프라닭} \\times  W^T = $ [ 1.42,  1.91, -1.33,  1.52,  1.62,  0.6 ]"
   ]
  },
  {
   "cell_type": "code",
   "execution_count": null,
   "metadata": {
    "id": "u12IIbih5FG1",
    "outputId": "4453e6d7-4e37-4563-8e73-7d80dc60bf76"
   },
   "outputs": [
    {
     "data": {
      "text/plain": [
       "array([ 1.42,  1.91, -1.33,  1.52,  1.62,  0.6 ])"
      ]
     },
     "execution_count": 21,
     "metadata": {},
     "output_type": "execute_result"
    }
   ],
   "source": [
    "#collapse-hide\n",
    "z = np.dot(np.array(W_1),W.T.to_numpy())\n",
    "z.round(2)"
   ]
  },
  {
   "cell_type": "markdown",
   "metadata": {
    "id": "oabE7yrg5FG2"
   },
   "source": [
    "`5`. $\\hat y$ 계산"
   ]
  },
  {
   "cell_type": "markdown",
   "metadata": {
    "id": "H9fz1Bx05FG2"
   },
   "source": [
    "$\\hat y=softmax(Z) = [0.18,\\,\\,0.30,\\,\\,0.01,\\,\\,0.20,\\,\\,0.22,\\,\\,0.08]$"
   ]
  },
  {
   "cell_type": "code",
   "execution_count": null,
   "metadata": {
    "id": "fzk4aZ4m5FG3",
    "outputId": "a00c3e4a-7ad9-4ace-f112-12ffecdcd4d5"
   },
   "outputs": [
    {
     "data": {
      "text/html": [
       "<div>\n",
       "<style scoped>\n",
       "    .dataframe tbody tr th:only-of-type {\n",
       "        vertical-align: middle;\n",
       "    }\n",
       "\n",
       "    .dataframe tbody tr th {\n",
       "        vertical-align: top;\n",
       "    }\n",
       "\n",
       "    .dataframe thead th {\n",
       "        text-align: right;\n",
       "    }\n",
       "</style>\n",
       "<table border=\"1\" class=\"dataframe\">\n",
       "  <thead>\n",
       "    <tr style=\"text-align: right;\">\n",
       "      <th></th>\n",
       "      <th>y_hat</th>\n",
       "      <th>y</th>\n",
       "    </tr>\n",
       "  </thead>\n",
       "  <tbody>\n",
       "    <tr>\n",
       "      <th>금요일</th>\n",
       "      <td>0.182270</td>\n",
       "      <td>0</td>\n",
       "    </tr>\n",
       "    <tr>\n",
       "      <th>밤</th>\n",
       "      <td>0.299486</td>\n",
       "      <td>0</td>\n",
       "    </tr>\n",
       "    <tr>\n",
       "      <th>프라닭</th>\n",
       "      <td>0.011647</td>\n",
       "      <td>1</td>\n",
       "    </tr>\n",
       "    <tr>\n",
       "      <th>불금</th>\n",
       "      <td>0.202155</td>\n",
       "      <td>0</td>\n",
       "    </tr>\n",
       "    <tr>\n",
       "      <th>교촌치킨</th>\n",
       "      <td>0.224158</td>\n",
       "      <td>0</td>\n",
       "    </tr>\n",
       "    <tr>\n",
       "      <th>맥주</th>\n",
       "      <td>0.080284</td>\n",
       "      <td>0</td>\n",
       "    </tr>\n",
       "  </tbody>\n",
       "</table>\n",
       "</div>"
      ],
      "text/plain": [
       "         y_hat  y\n",
       "금요일   0.182270  0\n",
       "밤     0.299486  0\n",
       "프라닭   0.011647  1\n",
       "불금    0.202155  0\n",
       "교촌치킨  0.224158  0\n",
       "맥주    0.080284  0"
      ]
     },
     "execution_count": 34,
     "metadata": {},
     "output_type": "execute_result"
    }
   ],
   "source": [
    "#collapse-hide\n",
    "from scipy.special import softmax\n",
    "y=[0,0,1,0,0,0]\n",
    "so = pd.DataFrame({\"y_hat\": softmax(z), \"y\" : y},index=index)\n",
    "so"
   ]
  },
  {
   "cell_type": "markdown",
   "metadata": {
    "id": "D09cIviX5FG3"
   },
   "source": [
    "####  가중치  행렬 갱신"
   ]
  },
  {
   "cell_type": "markdown",
   "metadata": {
    "id": "05ozf0sT5FG3"
   },
   "source": [
    "위와 같은 과정을 모든 단어에 대해 수행하여 크로스 엔트로피 함수를 적용한 $loss$를 계산한다."
   ]
  },
  {
   "cell_type": "markdown",
   "metadata": {
    "id": "G9YK_kzJ5FG3"
   },
   "source": [
    "`1`.   $loss=-\\sum_{i=1}^6 y_i\\log  p_i$"
   ]
  },
  {
   "cell_type": "markdown",
   "metadata": {
    "id": "TRwDqeOy5FG3"
   },
   "source": [
    "`2`.$loss$를 최소화 하는 최적의 파라미터 $\\theta$를 구함 $\\to \\theta=\\frac {\\partial loss}{\\partial p} $"
   ]
  },
  {
   "cell_type": "markdown",
   "metadata": {
    "id": "J7C2Nre35FG3"
   },
   "source": [
    "`3`. example $W_{밤},W_{불금}$ 업데이트($\\alpha $ :  learning rate)"
   ]
  },
  {
   "cell_type": "markdown",
   "metadata": {
    "id": "QMLaTS7k5FG3"
   },
   "source": [
    "$W_{밤}^{t+1} = W_{밤}^t + \\left(\\,\\alpha\\,\\times \\theta\\,\\right)$"
   ]
  },
  {
   "cell_type": "markdown",
   "metadata": {
    "id": "KoU3APJ25FG4"
   },
   "source": [
    "$W_{불금}^{t+1} = W_{불금}^t + \\left(\\,\\alpha\\,\\times \\theta\\,\\right)$"
   ]
  },
  {
   "cell_type": "markdown",
   "metadata": {
    "id": "wbQNZPju5FG4"
   },
   "source": [
    "#### Summary"
   ]
  },
  {
   "cell_type": "markdown",
   "metadata": {
    "id": "0FpYP2895FG4"
   },
   "source": [
    "* 중심단어 벡터 $W_c$가 있고, 주변 단어 벡터 $W_o$가 있다고 하자."
   ]
  },
  {
   "cell_type": "markdown",
   "metadata": {
    "id": "EEhNw5Df5FG4"
   },
   "source": [
    "* $t+1$ 시점에서 $t$ 시점의 결과를 반영하여 단어벡터 $W_{o}$를 갱신한다."
   ]
  },
  {
   "cell_type": "markdown",
   "metadata": {
    "id": "dw4t13QZ5FG4"
   },
   "source": [
    "* $W^{t+1}_{o}  =W^{t}_{o} + \\alpha \\times [l(\\theta_{c})]$"
   ]
  },
  {
   "cell_type": "markdown",
   "metadata": {
    "id": "FC8FMjLX5FG4"
   },
   "source": [
    "* 타겟단어 예측시 사용되는 수식 [4]"
   ]
  },
  {
   "cell_type": "markdown",
   "metadata": {
    "id": "C6aHa73h5FG4"
   },
   "source": [
    "$$P(w_O|w_I) = \\frac{\\exp\\,({v^{\\prime}_{w_O}}^Tv_{w_{I}})} {\\sum_{w=1}^W \\exp\\,({v^{\\prime}_w}^Tv_{w_{I}}) } $$"
   ]
  },
  {
   "cell_type": "markdown",
   "metadata": {
    "id": "oz42Ucu15FG4"
   },
   "source": [
    "$$I \\,\\,:\\,\\,Input,\\,\\,O\\,\\,:\\,\\, Output$$"
   ]
  },
  {
   "cell_type": "markdown",
   "metadata": {
    "id": "az8VoRTB5FG5"
   },
   "source": [
    "$$W : number\\,\\,\\, of\\,\\,\\, Word$$"
   ]
  },
  {
   "cell_type": "markdown",
   "metadata": {
    "id": "V6_ADJk-5FG5"
   },
   "source": [
    "### Skip-gram"
   ]
  },
  {
   "cell_type": "markdown",
   "metadata": {
    "id": "CLc7yXPI5FG5"
   },
   "source": [
    "* Skip-gram의 경우 CBOW와 달리 중심단어를 가지고 주변단어를 예측하는 과정이다."
   ]
  },
  {
   "cell_type": "markdown",
   "metadata": {
    "id": "8gWN1FbT5FG5"
   },
   "source": [
    "* 따라서 CBOW의 `3`번째 단계 window-size내의 주변 단어들의 합을 평균 내는 과정이 생략된다."
   ]
  }
 ],
 "metadata": {
  "colab": {
   "name": "2022-01-21-Word2Vec.ipynb",
   "provenance": []
  },
  "kernelspec": {
   "display_name": "Python 3 (ipykernel)",
   "language": "python",
   "name": "python3"
  },
  "language_info": {
   "codemirror_mode": {
    "name": "ipython",
    "version": 3
   },
   "file_extension": ".py",
   "mimetype": "text/x-python",
   "name": "python",
   "nbconvert_exporter": "python",
   "pygments_lexer": "ipython3",
   "version": "3.9.7"
  },
  "toc": {
   "base_numbering": 1,
   "nav_menu": {},
   "number_sections": false,
   "sideBar": false,
   "skip_h1_title": false,
   "title_cell": "Table of Contents",
   "title_sidebar": "Contents",
   "toc_cell": false,
   "toc_position": {
    "height": "807px",
    "left": "28px",
    "top": "111.125px",
    "width": "344.047px"
   },
   "toc_section_display": true,
   "toc_window_display": true
  }
 },
 "nbformat": 4,
 "nbformat_minor": 1
}
