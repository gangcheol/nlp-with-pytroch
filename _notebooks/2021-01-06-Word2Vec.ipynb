{
 "cells": [
  {
   "cell_type": "markdown",
   "metadata": {},
   "source": [
    "# Word Embedding\n",
    "> \"NLP\"\n",
    "\n",
    "- toc:true\n",
    "- branch: master\n",
    "- badges: true\n",
    "- comments: true\n",
    "- author: 이강철\n",
    "- categories: [python]\n",
    "- hide :false"
   ]
  },
  {
   "cell_type": "markdown",
   "metadata": {},
   "source": [
    "# WordEmbedding"
   ]
  },
  {
   "cell_type": "markdown",
   "metadata": {},
   "source": [
    "`1`. 차원의 저주(Curse of Dimensionality) : 수학적 공간 차원(=변수 개수)이 늘어나면서, 문제 계산법이 지수적으로 커지는 상황"
   ]
  },
  {
   "cell_type": "markdown",
   "metadata": {},
   "source": [
    "만약 $x=[1,2,3,4,5],\\, y= [0,0,0,0,0]\\to (X,Y)$ 을 표현한다고 하자"
   ]
  },
  {
   "cell_type": "markdown",
   "metadata": {},
   "source": [
    "아래와 같이 1차원 상에서 표현되는 정보를 2차원 상에서 표현하게되어 설명 공간이 $5^2 =25$가 된 것이다."
   ]
  },
  {
   "cell_type": "markdown",
   "metadata": {},
   "source": [
    "이러한 경우를 차원의 저주라고 하며 이는 모델링 과정에서 저장 공간과 처리 시간이 불필요하게 증가됨을 의미한다."
   ]
  },
  {
   "cell_type": "code",
   "execution_count": 54,
   "metadata": {},
   "outputs": [],
   "source": [
    "#collapse-hide\n",
    "import numpy as np\n",
    "import pandas as pd\n",
    "import matplotlib.pyplot as plt\n",
    "%matplotlib inline "
   ]
  },
  {
   "cell_type": "code",
   "execution_count": 55,
   "metadata": {},
   "outputs": [
    {
     "data": {
      "image/png": "[encoded data removed]",
      "text/plain": [
       "<Figure size 720x360 with 2 Axes>"
      ]
     },
     "metadata": {
      "needs_background": "light"
     },
     "output_type": "display_data"
    }
   ],
   "source": [
    "#collapse-hide\n",
    "fig, axes = plt.subplots(1,2, figsize=(10,5))\n",
    "\n",
    "ax1, ax2 =axes\n",
    "\n",
    "ax1.plot(x,y)\n",
    "ax1.set_title(\"1-dimensional\")\n",
    "ax1.axis(\"off\")\n",
    "ax2.plot(x,y)\n",
    "ax2.set_title(\"2-dimensional\")\n",
    "fig.tight_layout()"
   ]
  },
  {
   "cell_type": "markdown",
   "metadata": {},
   "source": [
    "이러한 문제점을 해결하기 위해 NLP 분야에서는 단어를 저차원에 표현하기 위한 **\"워드 임베딩(Word Embedding)\"**을 제안하였다."
   ]
  },
  {
   "cell_type": "markdown",
   "metadata": {},
   "source": [
    "`-` 가정1 : 유사한 의미를 가진 단어는 유사한 문맥안에서 발견된다."
   ]
  },
  {
   "cell_type": "markdown",
   "metadata": {},
   "source": [
    "`-` 이점 :이웃된 단어들의 단어 벡터들을 학습하여 단어간 유사성을 도출해낼 수 있다."
   ]
  },
  {
   "cell_type": "markdown",
   "metadata": {},
   "source": [
    "`-` example : 다음과 같은 `프라닭`, `교촌치킨`이라는 단어와 문장이 있다고 하자. 문장의 개수는 $j=2$, 단어의 개수는 총 $i=6$ 이다.\n",
    "    \n",
    "`문장1`: 금요일 밤에 `프라닭`은 못참지\n",
    "\n",
    "`문장2`: 불금인데 `교촌치킨`에 맥주?\n",
    "\n",
    "`단어` : [ \"금요일\", \"밤\", \"프라닭\",\"불금\", \"교촌치킨\", \"맥주\" ]"
   ]
  },
  {
   "cell_type": "markdown",
   "metadata": {},
   "source": [
    "$\\divideontimes$ 우리는 위와 같이 유사한 문장내에서 유사한 의미를 가진 단어가 존재한다는 가정하에 단어간 유사성을 도출낼 수있는 것이다."
   ]
  },
  {
   "cell_type": "markdown",
   "metadata": {},
   "source": [
    "이제 이러한 임베딩 기법 중 하나인 **\"Word2Vec\"** 기법을 소개한다."
   ]
  },
  {
   "cell_type": "markdown",
   "metadata": {},
   "source": [
    "## Word2Vec"
   ]
  },
  {
   "cell_type": "markdown",
   "metadata": {},
   "source": [
    "* 워드 임베딩 기법 중 가장 대표적인 방법으로 **\"CBOW\"**, **\"skip-gram\"** 이 존재한다."
   ]
  },
  {
   "cell_type": "markdown",
   "metadata": {},
   "source": [
    "### CBOW "
   ]
  },
  {
   "cell_type": "markdown",
   "metadata": {},
   "source": [
    "* 주변 단어를 이용하여 중심단어를 예측한다."
   ]
  },
  {
   "cell_type": "markdown",
   "metadata": {},
   "source": [
    "* 주어진 문맥에서 window size $k$ 를 적용해 target word 양옆에 $k$개의 단어들을 이용하여 조건부 확률을 계산한다. 편의상 k=1 이라고 설정 "
   ]
  },
  {
   "cell_type": "markdown",
   "metadata": {},
   "source": [
    "* 문장의 개수는 $j=2$, 단어의 개수는 총 $i=6$, 축소할 차원의 개수는 $n=3$ 으로 설정하자."
   ]
  },
  {
   "cell_type": "markdown",
   "metadata": {},
   "source": [
    "* 생성되는 가중치 행렬은 $(i \\times n) = (6 \\times 3)$ 으로 파이토치 기준 $N(0,1)$에서 생성된다."
   ]
  },
  {
   "cell_type": "markdown",
   "metadata": {},
   "source": [
    "* 우리는 `프라닭` 이라는 단어를 예측한다고 가정한다."
   ]
  },
  {
   "cell_type": "markdown",
   "metadata": {},
   "source": [
    "`문장1`: 금요일 밤에 `프라닭`은 못참지\n",
    "\n",
    "`문장2`: 불금인데 교촌치킨 에 맥주?\n",
    "\n",
    "`단어` : [ \"금요일\", \"밤\", \"프라닭\",\"불금\", \"교촌치킨\", \"맥주\" ]"
   ]
  },
  {
   "cell_type": "markdown",
   "metadata": {},
   "source": [
    "`1`. one-hot vector 생성"
   ]
  },
  {
   "cell_type": "code",
   "execution_count": 96,
   "metadata": {},
   "outputs": [
    {
     "data": {
      "text/html": [
       "<div>\n",
       "<style scoped>\n",
       "    .dataframe tbody tr th:only-of-type {\n",
       "        vertical-align: middle;\n",
       "    }\n",
       "\n",
       "    .dataframe tbody tr th {\n",
       "        vertical-align: top;\n",
       "    }\n",
       "\n",
       "    .dataframe thead th {\n",
       "        text-align: right;\n",
       "    }\n",
       "</style>\n",
       "<table border=\"1\" class=\"dataframe\">\n",
       "  <thead>\n",
       "    <tr style=\"text-align: right;\">\n",
       "      <th></th>\n",
       "      <th>0</th>\n",
       "      <th>1</th>\n",
       "      <th>2</th>\n",
       "      <th>3</th>\n",
       "      <th>4</th>\n",
       "      <th>5</th>\n",
       "    </tr>\n",
       "  </thead>\n",
       "  <tbody>\n",
       "    <tr>\n",
       "      <th>금요일</th>\n",
       "      <td>1</td>\n",
       "      <td>0</td>\n",
       "      <td>0</td>\n",
       "      <td>0</td>\n",
       "      <td>0</td>\n",
       "      <td>0</td>\n",
       "    </tr>\n",
       "    <tr>\n",
       "      <th>밤</th>\n",
       "      <td>0</td>\n",
       "      <td>1</td>\n",
       "      <td>0</td>\n",
       "      <td>0</td>\n",
       "      <td>0</td>\n",
       "      <td>0</td>\n",
       "    </tr>\n",
       "    <tr>\n",
       "      <th>프라닭</th>\n",
       "      <td>0</td>\n",
       "      <td>0</td>\n",
       "      <td>1</td>\n",
       "      <td>0</td>\n",
       "      <td>0</td>\n",
       "      <td>0</td>\n",
       "    </tr>\n",
       "    <tr>\n",
       "      <th>불금</th>\n",
       "      <td>0</td>\n",
       "      <td>0</td>\n",
       "      <td>0</td>\n",
       "      <td>1</td>\n",
       "      <td>0</td>\n",
       "      <td>0</td>\n",
       "    </tr>\n",
       "    <tr>\n",
       "      <th>교촌치킨</th>\n",
       "      <td>0</td>\n",
       "      <td>0</td>\n",
       "      <td>0</td>\n",
       "      <td>0</td>\n",
       "      <td>1</td>\n",
       "      <td>0</td>\n",
       "    </tr>\n",
       "    <tr>\n",
       "      <th>맥주</th>\n",
       "      <td>0</td>\n",
       "      <td>0</td>\n",
       "      <td>0</td>\n",
       "      <td>0</td>\n",
       "      <td>0</td>\n",
       "      <td>1</td>\n",
       "    </tr>\n",
       "  </tbody>\n",
       "</table>\n",
       "</div>"
      ],
      "text/plain": [
       "      0  1  2  3  4  5\n",
       "금요일   1  0  0  0  0  0\n",
       "밤     0  1  0  0  0  0\n",
       "프라닭   0  0  1  0  0  0\n",
       "불금    0  0  0  1  0  0\n",
       "교촌치킨  0  0  0  0  1  0\n",
       "맥주    0  0  0  0  0  1"
      ]
     },
     "execution_count": 96,
     "metadata": {},
     "output_type": "execute_result"
    }
   ],
   "source": [
    "#collapse-hide\n",
    "import numpy as np\n",
    "import pandas as pd\n",
    "\n",
    "index = [ \"금요일\", \"밤\", \"프라닭\",\"불금\", \"교촌치킨\", \"맥주\" ]\n",
    "\n",
    "word1 = [1,0,0,0,0,0]\n",
    "word2 = [0,1,0,0,0,0]\n",
    "word3 = [0,0,1,0,0,0]\n",
    "word4 = [0,0,0,1,0,0]\n",
    "word5 = [0,0,0,0,1,0]\n",
    "word6 = [0,0,0,0,0,1]\n",
    "\n",
    "one_hot = pd.DataFrame([word1,word2,word3,word4,word5,word6],index=index)\n",
    "one_hot"
   ]
  },
  {
   "cell_type": "markdown",
   "metadata": {},
   "source": [
    "`2`. 가중치 행렬 생성"
   ]
  },
  {
   "cell_type": "code",
   "execution_count": 92,
   "metadata": {},
   "outputs": [
    {
     "data": {
      "text/html": [
       "<div>\n",
       "<style scoped>\n",
       "    .dataframe tbody tr th:only-of-type {\n",
       "        vertical-align: middle;\n",
       "    }\n",
       "\n",
       "    .dataframe tbody tr th {\n",
       "        vertical-align: top;\n",
       "    }\n",
       "\n",
       "    .dataframe thead th {\n",
       "        text-align: right;\n",
       "    }\n",
       "</style>\n",
       "<table border=\"1\" class=\"dataframe\">\n",
       "  <thead>\n",
       "    <tr style=\"text-align: right;\">\n",
       "      <th></th>\n",
       "      <th>W1</th>\n",
       "      <th>W2</th>\n",
       "      <th>W3</th>\n",
       "    </tr>\n",
       "  </thead>\n",
       "  <tbody>\n",
       "    <tr>\n",
       "      <th>금요일</th>\n",
       "      <td>0.814848</td>\n",
       "      <td>0.713584</td>\n",
       "      <td>-0.797810</td>\n",
       "    </tr>\n",
       "    <tr>\n",
       "      <th>밤</th>\n",
       "      <td>1.293895</td>\n",
       "      <td>0.333261</td>\n",
       "      <td>1.123483</td>\n",
       "    </tr>\n",
       "    <tr>\n",
       "      <th>프라닭</th>\n",
       "      <td>-0.665611</td>\n",
       "      <td>-0.889481</td>\n",
       "      <td>-0.911588</td>\n",
       "    </tr>\n",
       "    <tr>\n",
       "      <th>불금</th>\n",
       "      <td>0.110452</td>\n",
       "      <td>0.867829</td>\n",
       "      <td>0.370800</td>\n",
       "    </tr>\n",
       "    <tr>\n",
       "      <th>교촌치킨</th>\n",
       "      <td>0.846193</td>\n",
       "      <td>-0.379763</td>\n",
       "      <td>0.856476</td>\n",
       "    </tr>\n",
       "    <tr>\n",
       "      <th>맥주</th>\n",
       "      <td>0.767151</td>\n",
       "      <td>-0.571915</td>\n",
       "      <td>-0.680467</td>\n",
       "    </tr>\n",
       "  </tbody>\n",
       "</table>\n",
       "</div>"
      ],
      "text/plain": [
       "            W1        W2        W3\n",
       "금요일   0.814848  0.713584 -0.797810\n",
       "밤     1.293895  0.333261  1.123483\n",
       "프라닭  -0.665611 -0.889481 -0.911588\n",
       "불금    0.110452  0.867829  0.370800\n",
       "교촌치킨  0.846193 -0.379763  0.856476\n",
       "맥주    0.767151 -0.571915 -0.680467"
      ]
     },
     "execution_count": 92,
     "metadata": {},
     "output_type": "execute_result"
    }
   ],
   "source": [
    "#collapse-hide\n",
    "W = np.random.normal(loc = 0, scale=1,size=18).reshape(6,3)\n",
    "W = pd.DataFrame(W,index=index, columns = [\"W1\",\"W2\",\"W3\"])\n",
    "W"
   ]
  },
  {
   "cell_type": "markdown",
   "metadata": {},
   "source": [
    "`3`. $\\begin {align}\\widehat W_{프라닭} = \\frac {W_{밤} + W_{불금}} {2}  \\end{align} = [0.7,0.6,0.5]$"
   ]
  },
  {
   "cell_type": "code",
   "execution_count": 174,
   "metadata": {},
   "outputs": [],
   "source": [
    "#collapse-hide\n",
    "W_1 = list((W.loc[\"밤\"] + W.loc[\"불금\"])/2)"
   ]
  },
  {
   "cell_type": "markdown",
   "metadata": {},
   "source": [
    "`4`.  $ Z = \\widehat W_{프라닭} \\times  W^T = [ 0.4 ,  \\,1.95,\\, -1.68, \\, 0.88,\\,  1.01, \\,-0.31]$"
   ]
  },
  {
   "cell_type": "code",
   "execution_count": 172,
   "metadata": {},
   "outputs": [],
   "source": [
    "#collapse-hide\n",
    "z = np.dot(np.array(W_1),W.T.to_numpy())"
   ]
  },
  {
   "cell_type": "markdown",
   "metadata": {},
   "source": [
    "`5`.  $\\hat y=softmax(Z)$"
   ]
  },
  {
   "cell_type": "code",
   "execution_count": 173,
   "metadata": {},
   "outputs": [
    {
     "data": {
      "text/html": [
       "<div>\n",
       "<style scoped>\n",
       "    .dataframe tbody tr th:only-of-type {\n",
       "        vertical-align: middle;\n",
       "    }\n",
       "\n",
       "    .dataframe tbody tr th {\n",
       "        vertical-align: top;\n",
       "    }\n",
       "\n",
       "    .dataframe thead th {\n",
       "        text-align: right;\n",
       "    }\n",
       "</style>\n",
       "<table border=\"1\" class=\"dataframe\">\n",
       "  <thead>\n",
       "    <tr style=\"text-align: right;\">\n",
       "      <th></th>\n",
       "      <th>y_hat</th>\n",
       "      <th>y</th>\n",
       "    </tr>\n",
       "  </thead>\n",
       "  <tbody>\n",
       "    <tr>\n",
       "      <th>금요일</th>\n",
       "      <td>0.102891</td>\n",
       "      <td>0</td>\n",
       "    </tr>\n",
       "    <tr>\n",
       "      <th>밤</th>\n",
       "      <td>0.481603</td>\n",
       "      <td>0</td>\n",
       "    </tr>\n",
       "    <tr>\n",
       "      <th>프라닭</th>\n",
       "      <td>0.012761</td>\n",
       "      <td>1</td>\n",
       "    </tr>\n",
       "    <tr>\n",
       "      <th>불금</th>\n",
       "      <td>0.164813</td>\n",
       "      <td>0</td>\n",
       "    </tr>\n",
       "    <tr>\n",
       "      <th>교촌치킨</th>\n",
       "      <td>0.187740</td>\n",
       "      <td>0</td>\n",
       "    </tr>\n",
       "    <tr>\n",
       "      <th>맥주</th>\n",
       "      <td>0.050192</td>\n",
       "      <td>0</td>\n",
       "    </tr>\n",
       "  </tbody>\n",
       "</table>\n",
       "</div>"
      ],
      "text/plain": [
       "         y_hat  y\n",
       "금요일   0.102891  0\n",
       "밤     0.481603  0\n",
       "프라닭   0.012761  1\n",
       "불금    0.164813  0\n",
       "교촌치킨  0.187740  0\n",
       "맥주    0.050192  0"
      ]
     },
     "execution_count": 173,
     "metadata": {},
     "output_type": "execute_result"
    }
   ],
   "source": [
    "#collapse-hide\n",
    "from scipy.special import softmax\n",
    "y=[0,0,1,0,0,0]\n",
    "pd.DataFrame({\"y_hat\": softmax(z), \"y\" : y},index=index)"
   ]
  },
  {
   "cell_type": "markdown",
   "metadata": {},
   "source": [
    "`6`. 손실함수 계산 $cross- entorpy\\left(\\,\\hat Y,Y\\,\\right)$"
   ]
  },
  {
   "cell_type": "markdown",
   "metadata": {},
   "source": [
    "`7`. 역전파를 통해 $W_{밤},\\, W_{불금}$ 업데이트"
   ]
  },
  {
   "cell_type": "markdown",
   "metadata": {},
   "source": [
    "### Skip-gram"
   ]
  },
  {
   "cell_type": "markdown",
   "metadata": {},
   "source": [
    "* Skip-gram의 경우 CBOW와 달리 중심단어를 가지고 주변단어를 예측하는 과정이다."
   ]
  },
  {
   "cell_type": "markdown",
   "metadata": {},
   "source": [
    "* 따라서 CBOW의 `3`번째 단계 window-size내의 주변 단어들의 합을 평균 내는 과정이 생략된다."
   ]
  },
  {
   "cell_type": "markdown",
   "metadata": {},
   "source": [
    "* 이러한 부분을 빼면 나머지와 동일하다."
   ]
  },
  {
   "cell_type": "markdown",
   "metadata": {},
   "source": [
    "참고문헌\n",
    "\n",
    "skip-gram : https://ratsgo.github.io/from%20frequency%20to%20semantics/2017/03/30/word2vec/\n",
    "\n",
    "[Bengio, Yoshua, et al. \"A neural probabilistic language model.\" Journal of machine learning research 3.Feb (2003): 1137-1155.](chrome-extension://efaidnbmnnnibpcajpcglclefindmkaj/viewer.html?pdfurl=https%3A%2F%2Fwww.jmlr.org%2Fpapers%2Fvolume3%2Ftmp%2Fbengio03a.pdf&clen=140095&chunk=true)\n",
    "\n",
    "\n",
    "[Young, Tom, et al. \"Recent trends in deep learning based natural language processing.\" ieee Computational intelligenCe magazine 13.3 (2018): 55-75.](https://ieeexplore.ieee.org/abstract/document/8416973)"
   ]
  }
 ],
 "metadata": {
  "kernelspec": {
   "display_name": "Python 3",
   "language": "python",
   "name": "python3"
  },
  "language_info": {
   "codemirror_mode": {
    "name": "ipython",
    "version": 3
   },
   "file_extension": ".py",
   "mimetype": "text/x-python",
   "name": "python",
   "nbconvert_exporter": "python",
   "pygments_lexer": "ipython3",
   "version": "3.7.11"
  },
  "toc": {
   "base_numbering": 1,
   "nav_menu": {},
   "number_sections": false,
   "sideBar": true,
   "skip_h1_title": false,
   "title_cell": "Table of Contents",
   "title_sidebar": "Contents",
   "toc_cell": false,
   "toc_position": {
    "height": "calc(100% - 180px)",
    "left": "10px",
    "top": "150px",
    "width": "349.091px"
   },
   "toc_section_display": true,
   "toc_window_display": true
  }
 },
 "nbformat": 4,
 "nbformat_minor": 4
}
