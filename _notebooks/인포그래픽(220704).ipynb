{
 "cells": [
  {
   "cell_type": "markdown",
   "id": "0c2e8f75",
   "metadata": {},
   "source": [
    "# 인포그래픽"
   ]
  },
  {
   "cell_type": "markdown",
   "id": "7f1eb895",
   "metadata": {},
   "source": [
    "* toc : true\n",
    "* branch: master\n",
    "* badges: true\n",
    "* comments: true\n",
    "* author: 이강철\n",
    "* categories: [R]\n",
    "* published : true\n",
    "* hide : false"
   ]
  },
  {
   "cell_type": "markdown",
   "id": "e001d40a",
   "metadata": {},
   "source": [
    "## 매채별 버즈 점유율 "
   ]
  },
  {
   "cell_type": "markdown",
   "id": "abc66953",
   "metadata": {},
   "source": [
    "* 데이터 : 소셜미디어 트랜드 분석 $\\to$ 버즈 분석 $\\to$ 매체별 버즈 점유율"
   ]
  },
  {
   "cell_type": "code",
   "execution_count": 156,
   "id": "4ddec2e1",
   "metadata": {},
   "outputs": [
    {
     "name": "stderr",
     "output_type": "stream",
     "text": [
      "\u001b[1mRows: \u001b[22m\u001b[34m9\u001b[39m \u001b[1mColumns: \u001b[22m\u001b[34m4\u001b[39m\n",
      "\u001b[36m--\u001b[39m \u001b[1mColumn specification\u001b[22m \u001b[36m------------------------------------------------------------------------------------------------\u001b[39m\n",
      "\u001b[1mDelimiter:\u001b[22m \",\"\n",
      "\u001b[31mchr\u001b[39m (2): Main Channel, buzz_count에 대한 총계 %\n",
      "\u001b[32mdbl\u001b[39m (2): 최소값 레코드 수, buzz_count\n",
      "\n",
      "\u001b[36mi\u001b[39m Use `spec()` to retrieve the full column specification for this data.\n",
      "\u001b[36mi\u001b[39m Specify the column types or set `show_col_types = FALSE` to quiet this message.\n"
     ]
    }
   ],
   "source": [
    "#collapse-hide\n",
    "library(tidyverse)\n",
    "setwd(\"D:/업무/전주시 관광데이터 포털(2022)/인포그래픽(2022)/input\")\n",
    "\n",
    "data <- na.omit(read_csv(\"언어별 매체별 버즈점유율.csv\"))\n",
    "data <- data  %>% select(1,4)\n",
    "names(data) <- c(\"매체\",\"빈도\")\n",
    "total <- sum(data$빈도)\n",
    "data$비율 <- round(data$빈도/total*100,1)\n",
    "data <- data %>% arrange(desc(비율)) %>% filter(row_number()<=5)\n",
    "write_excel_csv(data,\"D:/업무/전주시 관광데이터 포털(2022)/인포그래픽(2022)/output/매채별 버즈점유율.csv\")"
   ]
  },
  {
   "cell_type": "markdown",
   "id": "2f09e32c",
   "metadata": {},
   "source": [
    "![](버즈점유율참고.png)"
   ]
  },
  {
   "cell_type": "markdown",
   "id": "53060bbc",
   "metadata": {},
   "source": [
    "## 주요관광지(상위 5개)"
   ]
  },
  {
   "cell_type": "markdown",
   "id": "d1280cbe",
   "metadata": {},
   "source": [
    "* 분석기간 : 2021.01 ~ 2021. 12"
   ]
  },
  {
   "cell_type": "markdown",
   "id": "7aa370fd",
   "metadata": {},
   "source": [
    "* 데이터 : 이동경로에 따른 소비 분석 $\\to$ 내국인 핫스팟 지도"
   ]
  },
  {
   "cell_type": "code",
   "execution_count": 133,
   "id": "93f57930",
   "metadata": {},
   "outputs": [
    {
     "name": "stderr",
     "output_type": "stream",
     "text": [
      "\u001b[1mRows: \u001b[22m\u001b[34m11\u001b[39m \u001b[1mColumns: \u001b[22m\u001b[34m5\u001b[39m\n",
      "\u001b[36m--\u001b[39m \u001b[1mColumn specification\u001b[22m \u001b[36m------------------------------------------------------------------------------------------------\u001b[39m\n",
      "\u001b[1mDelimiter:\u001b[22m \",\"\n",
      "\u001b[31mchr\u001b[39m (2): 핫스팟, 유니크인구에 대한 총계 %\n",
      "\u001b[32mdbl\u001b[39m (3): Lat, Long, 유니크인구\n",
      "\n",
      "\u001b[36mi\u001b[39m Use `spec()` to retrieve the full column specification for this data.\n",
      "\u001b[36mi\u001b[39m Specify the column types or set `show_col_types = FALSE` to quiet this message.\n"
     ]
    }
   ],
   "source": [
    "#collapse-hide\n",
    "data <- read_csv(\"내국인 핫스팟 지도.csv\") %>% \n",
    "                            select(1,4,5) %>% arrange(desc(유니크인구)) %>% filter(row_number()<=5)\n",
    "\n",
    "data$`유니크인구에 대한 총계 %` <- round(as.double(gsub(\"%\",\"\",data$`유니크인구에 대한 총계 %`)),1)\n",
    "names(data) <- c(\"관광지\",\"비율\",\"빈도\")"
   ]
  },
  {
   "cell_type": "code",
   "execution_count": 75,
   "id": "06c02deb",
   "metadata": {},
   "outputs": [
    {
     "name": "stderr",
     "output_type": "stream",
     "text": [
      "Warning message:\n",
      "\"Ignoring unknown parameters: stat\"\n"
     ]
    },
    {
     "data": {
      "image/png": "[encoded data removed]",
      "text/plain": [
       "plot without title"
      ]
     },
     "metadata": {
      "image/png": {
       "height": 525,
       "width": 525
      }
     },
     "output_type": "display_data"
    }
   ],
   "source": [
    "#collapse-hide\n",
    "options(repr.plot.res=150)\n",
    "data %>% ggplot(aes(x=reorder(관광지,desc(비율)), y= 비율,fill=관광지)) +\n",
    "                geom_col(stat=\"identity\") +\n",
    "                labs(x=NULL,y=NULL) +\n",
    "                ggtitle(\"2021년 전주시 주요관광지\") +\n",
    "                theme(plot.title = element_text(family = \"serif\", face = \"bold\", \n",
    "                                    hjust = 0.5, size = 20, color = \"darkblue\"),\n",
    "               axis.text.x=element_text(size=15),\n",
    "               axis.text.y=element_text(size=15),\n",
    "               axis.title.x = element_text(size=18, hjust=0.5,color=\"darkblue\",\n",
    "                                      family = \"serif\",face = \"bold\")) \n",
    "\n",
    "write_excel_csv(data,\"D:/업무/전주시 관광데이터 포털(2022)/인포그래픽(2022)/output/주요관광지(상위5개).csv\")"
   ]
  },
  {
   "cell_type": "markdown",
   "id": "bd5d5838",
   "metadata": {},
   "source": [
    "## 관광 주요활동"
   ]
  },
  {
   "cell_type": "markdown",
   "id": "73d9a74a",
   "metadata": {},
   "source": [
    "* 데이터 : 소셜 미디어 트렌드 분석$\\to$ 버즈분석 $\\to$ 관광지별 관광활동"
   ]
  },
  {
   "cell_type": "code",
   "execution_count": 123,
   "id": "332b5e27",
   "metadata": {},
   "outputs": [
    {
     "name": "stderr",
     "output_type": "stream",
     "text": [
      "\u001b[1mRows: \u001b[22m\u001b[34m120\u001b[39m \u001b[1mColumns: \u001b[22m\u001b[34m4\u001b[39m\n",
      "\u001b[36m--\u001b[39m \u001b[1mColumn specification\u001b[22m \u001b[36m------------------------------------------------------------------------------------------------\u001b[39m\n",
      "\u001b[1mDelimiter:\u001b[22m \",\"\n",
      "\u001b[31mchr\u001b[39m (3): Activity (group), Place Jj (group), count에 대한 총계 %\n",
      "\u001b[32mdbl\u001b[39m (1): count\n",
      "\n",
      "\u001b[36mi\u001b[39m Use `spec()` to retrieve the full column specification for this data.\n",
      "\u001b[36mi\u001b[39m Specify the column types or set `show_col_types = FALSE` to quiet this message.\n"
     ]
    }
   ],
   "source": [
    "# collapse-hide\n",
    "data2 <- read_csv(\"관광지별 관광활동.csv\")\n",
    "names(data2) <- c(\"활동\",\"관광지\",\"비율\",\"빈도\")\n",
    "data2$`활동` <- gsub(\"인문(문화/예술/역사)\",\"인문\",data2$`활동`)\n",
    "g_data2 <- data2 %>% group_by(활동) %>% summarise(빈도 = sum(빈도)) %>% arrange(desc(빈도))\n",
    "total <- sum(g_data2$`빈도`)\n",
    "g_data2$비율 <- round(g_data2$`빈도`/total*100,1)\n",
    "g_data2 <- g_data2 %>% select(1,3)"
   ]
  },
  {
   "cell_type": "code",
   "execution_count": 124,
   "id": "6411858c",
   "metadata": {},
   "outputs": [
    {
     "name": "stderr",
     "output_type": "stream",
     "text": [
      "Warning message:\n",
      "\"Ignoring unknown parameters: stat\"\n"
     ]
    },
    {
     "data": {
      "image/png": "[encoded data removed]",
      "text/plain": [
       "plot without title"
      ]
     },
     "metadata": {
      "image/png": {
       "height": 525,
       "width": 525
      }
     },
     "output_type": "display_data"
    }
   ],
   "source": [
    "#collapse-hide\n",
    "g_data2 %>% ggplot(aes(x=reorder(활동,desc(비율)), y= 비율,fill=활동)) +\n",
    "                geom_col(stat=\"identity\") +\n",
    "                labs(x=NULL,y=NULL) +\n",
    "                ggtitle(\"2021년 전주시 주요관광활동\") +\n",
    "                theme(plot.title = element_text(family = \"serif\", face = \"bold\", \n",
    "                                    hjust = 0.5, size = 20, color = \"darkblue\"),\n",
    "               axis.text.x=element_text(size=15),\n",
    "               axis.text.y=element_text(size=15),\n",
    "               axis.title.x = element_text(size=18, hjust=0.5,color=\"darkblue\",\n",
    "                                      family = \"serif\",face = \"bold\")) \n",
    "\n",
    "write_excel_csv(g_data2,\"D:/업무/전주시 관광데이터 포털(2022)/인포그래픽(2022)/output/주요관광활동(상위5개).csv\")"
   ]
  },
  {
   "cell_type": "markdown",
   "id": "70331f7f",
   "metadata": {},
   "source": [
    "## 해시태그"
   ]
  },
  {
   "cell_type": "markdown",
   "id": "28a30abd",
   "metadata": {},
   "source": [
    "* 데이터 : 소셜 미디어 트렌드 분석$\\to$ 버즈분석 $\\to$ 해시분석"
   ]
  },
  {
   "cell_type": "code",
   "execution_count": 126,
   "id": "45ec0e1f",
   "metadata": {},
   "outputs": [
    {
     "name": "stderr",
     "output_type": "stream",
     "text": [
      "\u001b[1mRows: \u001b[22m\u001b[34m30\u001b[39m \u001b[1mColumns: \u001b[22m\u001b[34m2\u001b[39m\n",
      "\u001b[36m--\u001b[39m \u001b[1mColumn specification\u001b[22m \u001b[36m------------------------------------------------------------------------------------------------\u001b[39m\n",
      "\u001b[1mDelimiter:\u001b[22m \",\"\n",
      "\u001b[31mchr\u001b[39m (1): Hash Data\n",
      "\u001b[32mdbl\u001b[39m (1): Count\n",
      "\n",
      "\u001b[36mi\u001b[39m Use `spec()` to retrieve the full column specification for this data.\n",
      "\u001b[36mi\u001b[39m Specify the column types or set `show_col_types = FALSE` to quiet this message.\n"
     ]
    }
   ],
   "source": [
    "# collapse-hide\n",
    "data3 <- read_csv(\"해시 분석.csv\")\n",
    "data3 <- data3 %>% arrange(desc(Count))\n",
    "t <- sum(data3$Count)\n",
    "data3$비율 <- round(data3$Count/t*100,1)\n",
    "data3 <- data3 %>% filter(row_number()<=10)\n",
    "write_excel_csv(data3,\"D:/업무/전주시 관광데이터 포털(2022)/인포그래픽(2022)/output/해시태그 상위10개.csv\")"
   ]
  },
  {
   "cell_type": "markdown",
   "id": "5890a324",
   "metadata": {},
   "source": [
    "![](\"해시태그참고.png\")"
   ]
  },
  {
   "cell_type": "markdown",
   "id": "4dc219d6",
   "metadata": {},
   "source": [
    "## 전주 여행목적"
   ]
  },
  {
   "cell_type": "markdown",
   "id": "26ef9de1",
   "metadata": {},
   "source": [
    "* 데이터 : 소셜 미디어 트렌드 분석$\\to$ 텍스트 분석 $\\to$ 관광지별 관광활동"
   ]
  },
  {
   "cell_type": "code",
   "execution_count": 131,
   "id": "df6d7e24",
   "metadata": {},
   "outputs": [
    {
     "name": "stderr",
     "output_type": "stream",
     "text": [
      "\u001b[1mRows: \u001b[22m\u001b[34m74\u001b[39m \u001b[1mColumns: \u001b[22m\u001b[34m4\u001b[39m\n",
      "\u001b[36m--\u001b[39m \u001b[1mColumn specification\u001b[22m \u001b[36m------------------------------------------------------------------------------------------------\u001b[39m\n",
      "\u001b[1mDelimiter:\u001b[22m \",\"\n",
      "\u001b[31mchr\u001b[39m (3): Sep1, Sep2, Count에 대한 총계 %\n",
      "\u001b[32mdbl\u001b[39m (1): Count\n",
      "\n",
      "\u001b[36mi\u001b[39m Use `spec()` to retrieve the full column specification for this data.\n",
      "\u001b[36mi\u001b[39m Specify the column types or set `show_col_types = FALSE` to quiet this message.\n"
     ]
    }
   ],
   "source": [
    "#collapse-hide\n",
    "data4 <- read_csv(\"한국어_방문지선택이유.csv\")\n",
    "data4 <- data4 %>% filter(Sep1 ==\"여행목적\") %>% arrange(desc(Count))\n",
    "total <- sum(data4$Count)\n",
    "\n",
    "\n",
    "data4$비율 <- data4$Count/total*100 \n",
    "write_excel_csv(data4 %>% select(2,4,5) %>% filter(row_number()<=10),\"D:/업무/전주시 관광데이터 포털(2022)/인포그래픽(2022)/output/여행목적.csv\")"
   ]
  },
  {
   "cell_type": "markdown",
   "id": "33166d23",
   "metadata": {},
   "source": [
    "![](해시태그참고.png)\n"
   ]
  },
  {
   "cell_type": "markdown",
   "id": "1e117add",
   "metadata": {},
   "source": [
    "## 디자인 참고"
   ]
  },
  {
   "cell_type": "markdown",
   "id": "b045b396",
   "metadata": {},
   "source": [
    "[참고링크](https://nih.go.kr/gallery.es?mid=a20503020000&bid=0003&b_list=9&act=view&list_no=127111&nPage=93&vlist_no_npage=166&keyField=&keyWord=&orderby=)"
   ]
  },
  {
   "cell_type": "code",
   "execution_count": 2,
   "id": "dab2617d",
   "metadata": {},
   "outputs": [
    {
     "ename": "ERROR",
     "evalue": "Error in parse(text = x, srcfile = src): <text>:1:10: 예상하지 못한 기호(symbol)입니다.\n1: !jupyter nbconvert\n             ^\n",
     "output_type": "error",
     "traceback": [
      "Error in parse(text = x, srcfile = src): <text>:1:10: 예상하지 못한 기호(symbol)입니다.\n1: !jupyter nbconvert\n             ^\nTraceback:\n"
     ]
    }
   ],
   "source": [
    "!jupyter nbconvert --to html --template hidecode 인포그래픽(220704).ipynb"
   ]
  }
 ],
 "metadata": {
  "kernelspec": {
   "display_name": "R",
   "language": "R",
   "name": "ir"
  },
  "language_info": {
   "codemirror_mode": "r",
   "file_extension": ".r",
   "mimetype": "text/x-r-source",
   "name": "R",
   "pygments_lexer": "r",
   "version": "4.1.3"
  },
  "toc": {
   "base_numbering": 1,
   "nav_menu": {},
   "number_sections": false,
   "sideBar": true,
   "skip_h1_title": false,
   "title_cell": "Table of Contents",
   "title_sidebar": "Contents",
   "toc_cell": false,
   "toc_position": {
    "height": "calc(100% - 180px)",
    "left": "10px",
    "top": "150px",
    "width": "341.333px"
   },
   "toc_section_display": true,
   "toc_window_display": true
  }
 },
 "nbformat": 4,
 "nbformat_minor": 5
}
