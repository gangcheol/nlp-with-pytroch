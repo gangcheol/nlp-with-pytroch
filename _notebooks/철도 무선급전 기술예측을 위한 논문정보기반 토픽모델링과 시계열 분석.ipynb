{
 "cells": [
  {
   "cell_type": "markdown",
   "id": "4726a00b",
   "metadata": {},
   "source": [
    "# Introduction"
   ]
  },
  {
   "cell_type": "markdown",
   "id": "4231fb8c",
   "metadata": {},
   "source": [
    "* Title : 철도 무선급전 기술예측을 위한 논문정보기반 토픽모델링과 시계열 분석"
   ]
  },
  {
   "cell_type": "markdown",
   "id": "81570058",
   "metadata": {},
   "source": [
    "* Authors : 음수민 (고려대학교 산업경영공학과, 2020. 8)"
   ]
  },
  {
   "cell_type": "markdown",
   "id": "31cba398",
   "metadata": {},
   "source": [
    " # Abstract"
   ]
  },
  {
   "cell_type": "markdown",
   "id": "4c7bf20a",
   "metadata": {},
   "source": [
    "* LDA 알고리즘을 기반으로 한 토픽모델링을 수행"
   ]
  },
  {
   "cell_type": "markdown",
   "id": "74d03f91",
   "metadata": {},
   "source": [
    "* 생성된 토픽들에 대하여 시계열 분석을 수행해 미래 부상 기술을 예측"
   ]
  }
 ],
 "metadata": {
  "kernelspec": {
   "display_name": "Python 3 (ipykernel)",
   "language": "python",
   "name": "python3"
  },
  "language_info": {
   "codemirror_mode": {
    "name": "ipython",
    "version": 3
   },
   "file_extension": ".py",
   "mimetype": "text/x-python",
   "name": "python",
   "nbconvert_exporter": "python",
   "pygments_lexer": "ipython3",
   "version": "3.9.7"
  },
  "toc": {
   "base_numbering": 1,
   "nav_menu": {},
   "number_sections": false,
   "sideBar": true,
   "skip_h1_title": false,
   "title_cell": "Table of Contents",
   "title_sidebar": "Contents",
   "toc_cell": false,
   "toc_position": {},
   "toc_section_display": true,
   "toc_window_display": true
  }
 },
 "nbformat": 4,
 "nbformat_minor": 5
}
