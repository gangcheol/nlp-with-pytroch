{
 "cells": [
  {
   "cell_type": "markdown",
   "id": "899e29ca",
   "metadata": {},
   "source": [
    "#  현재 날짜와 시간을 파악해보기"
   ]
  },
  {
   "cell_type": "markdown",
   "id": "1e560c6d",
   "metadata": {},
   "source": [
    "> \"ADP\"\n",
    "\n",
    "- toc:true\n",
    "- branch: master\n",
    "- badges: true\n",
    "- comments: true\n",
    "- author: 이강철\n",
    "- categories: [python]\n",
    "- hide :false\n",
    "- published: true"
   ]
  },
  {
   "cell_type": "code",
   "execution_count": 3,
   "id": "7c4dd09d",
   "metadata": {},
   "outputs": [
    {
     "data": {
      "text/html": [
       "<time datetime=\"2021-12-05\">2021-12-05</time>"
      ],
      "text/latex": [
       "2021-12-05"
      ],
      "text/markdown": [
       "2021-12-05"
      ],
      "text/plain": [
       "[1] \"2021-12-05\""
      ]
     },
     "metadata": {},
     "output_type": "display_data"
    }
   ],
   "source": [
    "today <- Sys.Date()\n",
    "today"
   ]
  },
  {
   "cell_type": "code",
   "execution_count": 6,
   "id": "7a4be7a4",
   "metadata": {},
   "outputs": [
    {
     "data": {
      "text/html": [
       "'Date'"
      ],
      "text/latex": [
       "'Date'"
      ],
      "text/markdown": [
       "'Date'"
      ],
      "text/plain": [
       "[1] \"Date\""
      ]
     },
     "metadata": {},
     "output_type": "display_data"
    }
   ],
   "source": [
    "class(today)"
   ]
  },
  {
   "cell_type": "code",
   "execution_count": 8,
   "id": "e4a6d6e3",
   "metadata": {},
   "outputs": [
    {
     "data": {
      "text/plain": [
       "[1] \"2021-12-05 14:46:38 KST\""
      ]
     },
     "metadata": {},
     "output_type": "display_data"
    }
   ],
   "source": [
    "time <- Sys.time()\n",
    "time"
   ]
  },
  {
   "cell_type": "code",
   "execution_count": 9,
   "id": "dd8ac34e",
   "metadata": {},
   "outputs": [
    {
     "data": {
      "text/html": [
       "<style>\n",
       ".list-inline {list-style: none; margin:0; padding: 0}\n",
       ".list-inline>li {display: inline-block}\n",
       ".list-inline>li:not(:last-child)::after {content: \"\\00b7\"; padding: 0 .5ex}\n",
       "</style>\n",
       "<ol class=list-inline><li>'POSIXct'</li><li>'POSIXt'</li></ol>\n"
      ],
      "text/latex": [
       "\\begin{enumerate*}\n",
       "\\item 'POSIXct'\n",
       "\\item 'POSIXt'\n",
       "\\end{enumerate*}\n"
      ],
      "text/markdown": [
       "1. 'POSIXct'\n",
       "2. 'POSIXt'\n",
       "\n",
       "\n"
      ],
      "text/plain": [
       "[1] \"POSIXct\" \"POSIXt\" "
      ]
     },
     "metadata": {},
     "output_type": "display_data"
    }
   ],
   "source": [
    "class(time)"
   ]
  },
  {
   "cell_type": "markdown",
   "id": "2541ef42",
   "metadata": {},
   "source": [
    "* 각각의 형식을 보면 생성된 객체들의 특성을 파악할 수 있다."
   ]
  },
  {
   "cell_type": "markdown",
   "id": "ad042175",
   "metadata": {},
   "source": [
    "# unclass()"
   ]
  },
  {
   "cell_type": "markdown",
   "id": "458b0b6c",
   "metadata": {},
   "source": [
    "* unclass()는 데이터의 클래스 속성을 제거해주는 기능을 함"
   ]
  },
  {
   "cell_type": "markdown",
   "id": "2c94e45b",
   "metadata": {},
   "source": [
    "* unclass 함수를 이용해 today, time 의 내부적으로 저장하고 있는 값을 확인해보자."
   ]
  },
  {
   "cell_type": "code",
   "execution_count": 12,
   "id": "ce55ab9d",
   "metadata": {},
   "outputs": [
    {
     "data": {
      "text/html": [
       "18966"
      ],
      "text/latex": [
       "18966"
      ],
      "text/markdown": [
       "18966"
      ],
      "text/plain": [
       "[1] 18966"
      ]
     },
     "metadata": {},
     "output_type": "display_data"
    }
   ],
   "source": [
    "unclass(today)"
   ]
  },
  {
   "cell_type": "markdown",
   "id": "cdaa5d54",
   "metadata": {},
   "source": [
    "* today : 1970년 1월 1일 이후로 경과한 일 수를 의미함."
   ]
  },
  {
   "cell_type": "code",
   "execution_count": 13,
   "id": "45b401bc",
   "metadata": {},
   "outputs": [
    {
     "data": {
      "text/html": [
       "1638683198.04487"
      ],
      "text/latex": [
       "1638683198.04487"
      ],
      "text/markdown": [
       "1638683198.04487"
      ],
      "text/plain": [
       "[1] 1638683198"
      ]
     },
     "metadata": {},
     "output_type": "display_data"
    }
   ],
   "source": [
    "unclass(time)"
   ]
  },
  {
   "cell_type": "markdown",
   "id": "eeb6c9d7",
   "metadata": {},
   "source": [
    "* 1970년 1월 1일 00:00:00 이후로 경과한 초 수를 의미함."
   ]
  },
  {
   "cell_type": "code",
   "execution_count": 14,
   "id": "ce277039",
   "metadata": {},
   "outputs": [
    {
     "data": {
      "text/plain": [
       "[1] \"2021-12-05 14:46:38 KST\""
      ]
     },
     "metadata": {},
     "output_type": "display_data"
    }
   ],
   "source": [
    "as.POSIXct(unclass(time),origin=\"1970-01-01\")"
   ]
  },
  {
   "cell_type": "markdown",
   "id": "02298a93",
   "metadata": {},
   "source": [
    "* unclass(time)은 1970년 1월 1일 이후로 경과한 초 수를 의미하므로, `origin` 인자 값으로 `1970-01-01`을 지정"
   ]
  },
  {
   "cell_type": "markdown",
   "id": "f1bb61a2",
   "metadata": {},
   "source": [
    "# Sys.time 함수를 이용하여 현재 시간을 구하고 이름 time 변수에 저장 후, time을 POSIXlt 형식으로 변환 뒤 시간정보 추출"
   ]
  },
  {
   "cell_type": "markdown",
   "id": "868989e2",
   "metadata": {},
   "source": [
    "* POSIXlt : 연도, 월, 일, 시, 분, 초를 포함하는 9개의 정보를 리스트에 저장"
   ]
  },
  {
   "cell_type": "code",
   "execution_count": 22,
   "id": "81556889",
   "metadata": {},
   "outputs": [],
   "source": [
    "time <- as.POSIXlt(Sys.time())"
   ]
  },
  {
   "cell_type": "markdown",
   "id": "11194696",
   "metadata": {},
   "source": [
    "* year에는 1900년 이후의 경과년도수가 저장되어있음"
   ]
  },
  {
   "cell_type": "code",
   "execution_count": 24,
   "id": "6dfe47b7",
   "metadata": {},
   "outputs": [
    {
     "data": {
      "text/html": [
       "2021"
      ],
      "text/latex": [
       "2021"
      ],
      "text/markdown": [
       "2021"
      ],
      "text/plain": [
       "[1] 2021"
      ]
     },
     "metadata": {},
     "output_type": "display_data"
    }
   ],
   "source": [
    "time$year+1900"
   ]
  },
  {
   "cell_type": "markdown",
   "id": "9264d890",
   "metadata": {},
   "source": [
    "* month : 월 정보는 0-11값으로 저장되어 있기 때문에 1을 더함"
   ]
  },
  {
   "cell_type": "code",
   "execution_count": 26,
   "id": "3c63f44f",
   "metadata": {},
   "outputs": [
    {
     "data": {
      "text/html": [
       "12"
      ],
      "text/latex": [
       "12"
      ],
      "text/markdown": [
       "12"
      ],
      "text/plain": [
       "[1] 12"
      ]
     },
     "metadata": {},
     "output_type": "display_data"
    }
   ],
   "source": [
    "time$mon+1"
   ]
  },
  {
   "cell_type": "markdown",
   "id": "4e77d96d",
   "metadata": {},
   "source": [
    "* mday : 1-31 일"
   ]
  },
  {
   "cell_type": "code",
   "execution_count": 27,
   "id": "5b21d6a4",
   "metadata": {},
   "outputs": [
    {
     "data": {
      "text/html": [
       "5"
      ],
      "text/latex": [
       "5"
      ],
      "text/markdown": [
       "5"
      ],
      "text/plain": [
       "[1] 5"
      ]
     },
     "metadata": {},
     "output_type": "display_data"
    }
   ],
   "source": [
    "time$mday"
   ]
  },
  {
   "cell_type": "markdown",
   "id": "47107934",
   "metadata": {},
   "source": [
    "* wday : 0-6 -> 요일을 나타내며, 0은 일요일"
   ]
  },
  {
   "cell_type": "code",
   "execution_count": 35,
   "id": "a2c1eead",
   "metadata": {},
   "outputs": [
    {
     "data": {
      "text/html": [
       "0"
      ],
      "text/latex": [
       "0"
      ],
      "text/markdown": [
       "0"
      ],
      "text/plain": [
       "[1] 0"
      ]
     },
     "metadata": {},
     "output_type": "display_data"
    }
   ],
   "source": [
    "time$wday"
   ]
  },
  {
   "cell_type": "markdown",
   "id": "063ce8a2",
   "metadata": {},
   "source": [
    "* 그 밖에 sec, min, hour 이 있음"
   ]
  },
  {
   "cell_type": "markdown",
   "id": "1f877368",
   "metadata": {},
   "source": [
    "# 날짜 표시형식 변경"
   ]
  },
  {
   "cell_type": "code",
   "execution_count": 57,
   "id": "a7eca2bb",
   "metadata": {},
   "outputs": [],
   "source": [
    "now <- Sys.time()"
   ]
  },
  {
   "cell_type": "code",
   "execution_count": 58,
   "id": "d8fa50ec",
   "metadata": {},
   "outputs": [
    {
     "data": {
      "text/html": [
       "<style>\n",
       ".list-inline {list-style: none; margin:0; padding: 0}\n",
       ".list-inline>li {display: inline-block}\n",
       ".list-inline>li:not(:last-child)::after {content: \"\\00b7\"; padding: 0 .5ex}\n",
       "</style>\n",
       "<ol class=list-inline><li>'POSIXct'</li><li>'POSIXt'</li></ol>\n"
      ],
      "text/latex": [
       "\\begin{enumerate*}\n",
       "\\item 'POSIXct'\n",
       "\\item 'POSIXt'\n",
       "\\end{enumerate*}\n"
      ],
      "text/markdown": [
       "1. 'POSIXct'\n",
       "2. 'POSIXt'\n",
       "\n",
       "\n"
      ],
      "text/plain": [
       "[1] \"POSIXct\" \"POSIXt\" "
      ]
     },
     "metadata": {},
     "output_type": "display_data"
    }
   ],
   "source": [
    "class(now)"
   ]
  },
  {
   "cell_type": "markdown",
   "id": "756cb951",
   "metadata": {},
   "source": [
    "* %u : 요일로 1-7을 나타냄 1은 월요일"
   ]
  },
  {
   "cell_type": "code",
   "execution_count": 62,
   "id": "c468f81d",
   "metadata": {},
   "outputs": [
    {
     "data": {
      "text/html": [
       "'21-12-05 15:04:22:7'"
      ],
      "text/latex": [
       "'21-12-05 15:04:22:7'"
      ],
      "text/markdown": [
       "'21-12-05 15:04:22:7'"
      ],
      "text/plain": [
       "[1] \"21-12-05 15:04:22:7\""
      ]
     },
     "metadata": {},
     "output_type": "display_data"
    }
   ],
   "source": [
    "format(now, \"%y-%m-%d %H:%M:%S:%u\") "
   ]
  },
  {
   "cell_type": "code",
   "execution_count": 63,
   "id": "766863af",
   "metadata": {},
   "outputs": [
    {
     "data": {
      "text/html": [
       "'character'"
      ],
      "text/latex": [
       "'character'"
      ],
      "text/markdown": [
       "'character'"
      ],
      "text/plain": [
       "[1] \"character\""
      ]
     },
     "metadata": {},
     "output_type": "display_data"
    }
   ],
   "source": [
    "class(format(now, \"%y-%m-%d %H:%M:%S:%u\") )"
   ]
  },
  {
   "cell_type": "markdown",
   "id": "f17ee99f",
   "metadata": {},
   "source": [
    "* \"20200101\" 이라는 문자열을 Date 형식으로 변경 후, date 변수에 저장하여 class를 확인해보자."
   ]
  },
  {
   "cell_type": "code",
   "execution_count": 65,
   "id": "448ba95f",
   "metadata": {},
   "outputs": [],
   "source": [
    "date <- as.Date(\"20200101\",format = \"%Y%m%d\")"
   ]
  },
  {
   "cell_type": "code",
   "execution_count": 66,
   "id": "c516b056",
   "metadata": {},
   "outputs": [
    {
     "data": {
      "text/html": [
       "'Date'"
      ],
      "text/latex": [
       "'Date'"
      ],
      "text/markdown": [
       "'Date'"
      ],
      "text/plain": [
       "[1] \"Date\""
      ]
     },
     "metadata": {},
     "output_type": "display_data"
    }
   ],
   "source": [
    "class(date)"
   ]
  },
  {
   "cell_type": "markdown",
   "id": "8a244a70",
   "metadata": {},
   "source": [
    "# 날짜 데이터의 연산"
   ]
  },
  {
   "cell_type": "markdown",
   "id": "74bf67f1",
   "metadata": {},
   "source": [
    "## 현재 날자로부터 100일 후의 날짜 구하기"
   ]
  },
  {
   "cell_type": "code",
   "execution_count": 67,
   "id": "0ddca4f5",
   "metadata": {},
   "outputs": [
    {
     "data": {
      "text/html": [
       "<time datetime=\"2022-03-15\">2022-03-15</time>"
      ],
      "text/latex": [
       "2022-03-15"
      ],
      "text/markdown": [
       "2022-03-15"
      ],
      "text/plain": [
       "[1] \"2022-03-15\""
      ]
     },
     "metadata": {},
     "output_type": "display_data"
    }
   ],
   "source": [
    "Sys.Date() + 100"
   ]
  },
  {
   "cell_type": "markdown",
   "id": "43361938",
   "metadata": {},
   "source": [
    "## \"2020-01-01\"로 표현된 데이터로부터 365일 후 의 날짜 구하기"
   ]
  },
  {
   "cell_type": "code",
   "execution_count": 68,
   "id": "6a05d289",
   "metadata": {},
   "outputs": [
    {
     "data": {
      "text/html": [
       "<time datetime=\"2020-12-31\">2020-12-31</time>"
      ],
      "text/latex": [
       "2020-12-31"
      ],
      "text/markdown": [
       "2020-12-31"
      ],
      "text/plain": [
       "[1] \"2020-12-31\""
      ]
     },
     "metadata": {},
     "output_type": "display_data"
    }
   ],
   "source": [
    "as.Date(\"2020-01-01\",format=\"%Y-%m-%d\") + 365"
   ]
  },
  {
   "cell_type": "markdown",
   "id": "adcdbadd",
   "metadata": {},
   "source": [
    "## \"1990-01-01\"과 \"2025-01-01\" 사이의 일 수 구하기"
   ]
  },
  {
   "cell_type": "code",
   "execution_count": 69,
   "id": "95fe8439",
   "metadata": {},
   "outputs": [
    {
     "data": {
      "text/plain": [
       "Time difference of 12784 days"
      ]
     },
     "metadata": {},
     "output_type": "display_data"
    }
   ],
   "source": [
    "as.Date(\"2025-01-01\")-as.Date(\"1990-01-01\")"
   ]
  },
  {
   "cell_type": "markdown",
   "id": "8f5e3bd8",
   "metadata": {},
   "source": [
    "## 구한 일수만 알고싶다면?"
   ]
  },
  {
   "cell_type": "code",
   "execution_count": 70,
   "id": "839b82ae",
   "metadata": {},
   "outputs": [
    {
     "data": {
      "text/html": [
       "12784"
      ],
      "text/latex": [
       "12784"
      ],
      "text/markdown": [
       "12784"
      ],
      "text/plain": [
       "[1] 12784"
      ]
     },
     "metadata": {},
     "output_type": "display_data"
    }
   ],
   "source": [
    "as.numeric(as.Date(\"2025-01-01\")-as.Date(\"1990-01-01\"))"
   ]
  },
  {
   "cell_type": "code",
   "execution_count": 72,
   "id": "d610df4c",
   "metadata": {},
   "outputs": [
    {
     "data": {
      "text/plain": [
       "Time difference of 12784 days"
      ]
     },
     "metadata": {},
     "output_type": "display_data"
    }
   ],
   "source": [
    "difftime(\"2025-01-01\",\"1990-01-01\")"
   ]
  },
  {
   "cell_type": "markdown",
   "id": "0e647655",
   "metadata": {},
   "source": [
    "## 시간 차이를 구할 경우?"
   ]
  },
  {
   "cell_type": "code",
   "execution_count": 75,
   "id": "a50c9dd2",
   "metadata": {},
   "outputs": [
    {
     "data": {
      "text/plain": [
       "Time difference of -8.833333 hours"
      ]
     },
     "metadata": {},
     "output_type": "display_data"
    }
   ],
   "source": [
    "as.difftime(\"09:40:00\")-as.difftime(\"18:30:00\")"
   ]
  }
 ],
 "metadata": {
  "kernelspec": {
   "display_name": "R",
   "language": "R",
   "name": "ir"
  },
  "language_info": {
   "codemirror_mode": "r",
   "file_extension": ".r",
   "mimetype": "text/x-r-source",
   "name": "R",
   "pygments_lexer": "r",
   "version": "4.1.2"
  },
  "toc": {
   "base_numbering": 1,
   "nav_menu": {},
   "number_sections": false,
   "sideBar": true,
   "skip_h1_title": false,
   "title_cell": "Table of Contents",
   "title_sidebar": "Contents",
   "toc_cell": false,
   "toc_position": {},
   "toc_section_display": true,
   "toc_window_display": true
  }
 },
 "nbformat": 4,
 "nbformat_minor": 5
}
