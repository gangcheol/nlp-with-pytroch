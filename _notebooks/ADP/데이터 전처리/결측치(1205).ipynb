{
 "cells": [
  {
   "cell_type": "markdown",
   "id": "6bb3869e",
   "metadata": {},
   "source": [
    "# 결측치"
   ]
  },
  {
   "cell_type": "markdown",
   "id": "7733f06a",
   "metadata": {},
   "source": [
    "> \"ADP\"\n",
    "\n",
    "- toc:true\n",
    "- branch: master\n",
    "- badges: true\n",
    "- comments: true\n",
    "- author: 이강철\n",
    "- categories: [python]\n",
    "- hide :false\n",
    "- published: true"
   ]
  },
  {
   "cell_type": "markdown",
   "id": "5ae1b88c",
   "metadata": {},
   "source": [
    "* is.na(x) : 벡터에서 결측가 있는 경우 True를 반환"
   ]
  },
  {
   "cell_type": "markdown",
   "id": "abb03631",
   "metadata": {},
   "source": [
    "* complete.cases(x) : 해당 데이터프레임에서 어떤 객체가 가지는 변수 중에 한 개라도 NA가 있을 경우 False 를 뱉음"
   ]
  },
  {
   "cell_type": "markdown",
   "id": "8fdee6e2",
   "metadata": {},
   "source": [
    "## R실습"
   ]
  },
  {
   "cell_type": "markdown",
   "id": "1c772375",
   "metadata": {},
   "source": [
    "* Ozone 변수에 존재하는 na의 개수 산출"
   ]
  },
  {
   "cell_type": "code",
   "execution_count": 4,
   "id": "aae94f3b",
   "metadata": {},
   "outputs": [
    {
     "data": {
      "text/html": [
       "37"
      ],
      "text/latex": [
       "37"
      ],
      "text/markdown": [
       "37"
      ],
      "text/plain": [
       "[1] 37"
      ]
     },
     "metadata": {},
     "output_type": "display_data"
    }
   ],
   "source": [
    "sum(is.na(airquality$Ozone))"
   ]
  },
  {
   "cell_type": "code",
   "execution_count": 5,
   "id": "d4707be6",
   "metadata": {},
   "outputs": [
    {
     "data": {
      "text/plain": [
       "\n",
       "FALSE  TRUE \n",
       "  116    37 "
      ]
     },
     "metadata": {},
     "output_type": "display_data"
    }
   ],
   "source": [
    "table(is.na(airquality$Ozone))"
   ]
  },
  {
   "cell_type": "markdown",
   "id": "455c7968",
   "metadata": {},
   "source": [
    "* apply함수를 이용하여 각 변수의 na값이 몇 개가 있는지 확인"
   ]
  },
  {
   "cell_type": "code",
   "execution_count": 8,
   "id": "e45dd58c",
   "metadata": {},
   "outputs": [
    {
     "data": {
      "text/html": [
       "<style>\n",
       ".dl-inline {width: auto; margin:0; padding: 0}\n",
       ".dl-inline>dt, .dl-inline>dd {float: none; width: auto; display: inline-block}\n",
       ".dl-inline>dt::after {content: \":\\0020\"; padding-right: .5ex}\n",
       ".dl-inline>dt:not(:first-of-type) {padding-left: .5ex}\n",
       "</style><dl class=dl-inline><dt>Ozone</dt><dd>37</dd><dt>Solar.R</dt><dd>7</dd><dt>Wind</dt><dd>0</dd><dt>Temp</dt><dd>0</dd><dt>Month</dt><dd>0</dd><dt>Day</dt><dd>0</dd></dl>\n"
      ],
      "text/latex": [
       "\\begin{description*}\n",
       "\\item[Ozone] 37\n",
       "\\item[Solar.R] 7\n",
       "\\item[Wind] 0\n",
       "\\item[Temp] 0\n",
       "\\item[Month] 0\n",
       "\\item[Day] 0\n",
       "\\end{description*}\n"
      ],
      "text/markdown": [
       "Ozone\n",
       ":   37Solar.R\n",
       ":   7Wind\n",
       ":   0Temp\n",
       ":   0Month\n",
       ":   0Day\n",
       ":   0\n",
       "\n"
      ],
      "text/plain": [
       "  Ozone Solar.R    Wind    Temp   Month     Day \n",
       "     37       7       0       0       0       0 "
      ]
     },
     "metadata": {},
     "output_type": "display_data"
    }
   ],
   "source": [
    "#summary(airquality)\n",
    "apply(airquality,2,function(x) sum(is.na(x)))"
   ]
  },
  {
   "cell_type": "markdown",
   "id": "f08b3eea",
   "metadata": {},
   "source": [
    "* complete.case 함수를 이용하여 `airquality` 데이터에서 na값이 하나라도 존재하는 행들을 air_na 변수에 저장하고, na값을 하나도 가지지 않는 행들을 air_com 변수에 저장하기."
   ]
  },
  {
   "cell_type": "code",
   "execution_count": 12,
   "id": "b23420d0",
   "metadata": {},
   "outputs": [],
   "source": [
    "air_na <- airquality[!complete.cases(airquality),]"
   ]
  },
  {
   "cell_type": "code",
   "execution_count": 14,
   "id": "d266c4f3",
   "metadata": {},
   "outputs": [
    {
     "data": {
      "text/html": [
       "<table class=\"dataframe\">\n",
       "<caption>A data.frame: 6 × 6</caption>\n",
       "<thead>\n",
       "\t<tr><th></th><th scope=col>Ozone</th><th scope=col>Solar.R</th><th scope=col>Wind</th><th scope=col>Temp</th><th scope=col>Month</th><th scope=col>Day</th></tr>\n",
       "\t<tr><th></th><th scope=col>&lt;int&gt;</th><th scope=col>&lt;int&gt;</th><th scope=col>&lt;dbl&gt;</th><th scope=col>&lt;int&gt;</th><th scope=col>&lt;int&gt;</th><th scope=col>&lt;int&gt;</th></tr>\n",
       "</thead>\n",
       "<tbody>\n",
       "\t<tr><th scope=row>5</th><td>NA</td><td> NA</td><td>14.3</td><td>56</td><td>5</td><td> 5</td></tr>\n",
       "\t<tr><th scope=row>6</th><td>28</td><td> NA</td><td>14.9</td><td>66</td><td>5</td><td> 6</td></tr>\n",
       "\t<tr><th scope=row>10</th><td>NA</td><td>194</td><td> 8.6</td><td>69</td><td>5</td><td>10</td></tr>\n",
       "\t<tr><th scope=row>11</th><td> 7</td><td> NA</td><td> 6.9</td><td>74</td><td>5</td><td>11</td></tr>\n",
       "\t<tr><th scope=row>25</th><td>NA</td><td> 66</td><td>16.6</td><td>57</td><td>5</td><td>25</td></tr>\n",
       "\t<tr><th scope=row>26</th><td>NA</td><td>266</td><td>14.9</td><td>58</td><td>5</td><td>26</td></tr>\n",
       "</tbody>\n",
       "</table>\n"
      ],
      "text/latex": [
       "A data.frame: 6 × 6\n",
       "\\begin{tabular}{r|llllll}\n",
       "  & Ozone & Solar.R & Wind & Temp & Month & Day\\\\\n",
       "  & <int> & <int> & <dbl> & <int> & <int> & <int>\\\\\n",
       "\\hline\n",
       "\t5 & NA &  NA & 14.3 & 56 & 5 &  5\\\\\n",
       "\t6 & 28 &  NA & 14.9 & 66 & 5 &  6\\\\\n",
       "\t10 & NA & 194 &  8.6 & 69 & 5 & 10\\\\\n",
       "\t11 &  7 &  NA &  6.9 & 74 & 5 & 11\\\\\n",
       "\t25 & NA &  66 & 16.6 & 57 & 5 & 25\\\\\n",
       "\t26 & NA & 266 & 14.9 & 58 & 5 & 26\\\\\n",
       "\\end{tabular}\n"
      ],
      "text/markdown": [
       "\n",
       "A data.frame: 6 × 6\n",
       "\n",
       "| <!--/--> | Ozone &lt;int&gt; | Solar.R &lt;int&gt; | Wind &lt;dbl&gt; | Temp &lt;int&gt; | Month &lt;int&gt; | Day &lt;int&gt; |\n",
       "|---|---|---|---|---|---|---|\n",
       "| 5 | NA |  NA | 14.3 | 56 | 5 |  5 |\n",
       "| 6 | 28 |  NA | 14.9 | 66 | 5 |  6 |\n",
       "| 10 | NA | 194 |  8.6 | 69 | 5 | 10 |\n",
       "| 11 |  7 |  NA |  6.9 | 74 | 5 | 11 |\n",
       "| 25 | NA |  66 | 16.6 | 57 | 5 | 25 |\n",
       "| 26 | NA | 266 | 14.9 | 58 | 5 | 26 |\n",
       "\n"
      ],
      "text/plain": [
       "   Ozone Solar.R Wind Temp Month Day\n",
       "5  NA     NA     14.3 56   5      5 \n",
       "6  28     NA     14.9 66   5      6 \n",
       "10 NA    194      8.6 69   5     10 \n",
       "11  7     NA      6.9 74   5     11 \n",
       "25 NA     66     16.6 57   5     25 \n",
       "26 NA    266     14.9 58   5     26 "
      ]
     },
     "metadata": {},
     "output_type": "display_data"
    }
   ],
   "source": [
    "head(air_na)"
   ]
  },
  {
   "cell_type": "code",
   "execution_count": 15,
   "id": "46f1f6f9",
   "metadata": {},
   "outputs": [],
   "source": [
    "air_com <- airquality[complete.cases(airquality),]"
   ]
  },
  {
   "cell_type": "code",
   "execution_count": 16,
   "id": "4d7dbe46",
   "metadata": {},
   "outputs": [
    {
     "data": {
      "text/html": [
       "<table class=\"dataframe\">\n",
       "<caption>A data.frame: 6 × 6</caption>\n",
       "<thead>\n",
       "\t<tr><th></th><th scope=col>Ozone</th><th scope=col>Solar.R</th><th scope=col>Wind</th><th scope=col>Temp</th><th scope=col>Month</th><th scope=col>Day</th></tr>\n",
       "\t<tr><th></th><th scope=col>&lt;int&gt;</th><th scope=col>&lt;int&gt;</th><th scope=col>&lt;dbl&gt;</th><th scope=col>&lt;int&gt;</th><th scope=col>&lt;int&gt;</th><th scope=col>&lt;int&gt;</th></tr>\n",
       "</thead>\n",
       "<tbody>\n",
       "\t<tr><th scope=row>1</th><td>41</td><td>190</td><td> 7.4</td><td>67</td><td>5</td><td>1</td></tr>\n",
       "\t<tr><th scope=row>2</th><td>36</td><td>118</td><td> 8.0</td><td>72</td><td>5</td><td>2</td></tr>\n",
       "\t<tr><th scope=row>3</th><td>12</td><td>149</td><td>12.6</td><td>74</td><td>5</td><td>3</td></tr>\n",
       "\t<tr><th scope=row>4</th><td>18</td><td>313</td><td>11.5</td><td>62</td><td>5</td><td>4</td></tr>\n",
       "\t<tr><th scope=row>7</th><td>23</td><td>299</td><td> 8.6</td><td>65</td><td>5</td><td>7</td></tr>\n",
       "\t<tr><th scope=row>8</th><td>19</td><td> 99</td><td>13.8</td><td>59</td><td>5</td><td>8</td></tr>\n",
       "</tbody>\n",
       "</table>\n"
      ],
      "text/latex": [
       "A data.frame: 6 × 6\n",
       "\\begin{tabular}{r|llllll}\n",
       "  & Ozone & Solar.R & Wind & Temp & Month & Day\\\\\n",
       "  & <int> & <int> & <dbl> & <int> & <int> & <int>\\\\\n",
       "\\hline\n",
       "\t1 & 41 & 190 &  7.4 & 67 & 5 & 1\\\\\n",
       "\t2 & 36 & 118 &  8.0 & 72 & 5 & 2\\\\\n",
       "\t3 & 12 & 149 & 12.6 & 74 & 5 & 3\\\\\n",
       "\t4 & 18 & 313 & 11.5 & 62 & 5 & 4\\\\\n",
       "\t7 & 23 & 299 &  8.6 & 65 & 5 & 7\\\\\n",
       "\t8 & 19 &  99 & 13.8 & 59 & 5 & 8\\\\\n",
       "\\end{tabular}\n"
      ],
      "text/markdown": [
       "\n",
       "A data.frame: 6 × 6\n",
       "\n",
       "| <!--/--> | Ozone &lt;int&gt; | Solar.R &lt;int&gt; | Wind &lt;dbl&gt; | Temp &lt;int&gt; | Month &lt;int&gt; | Day &lt;int&gt; |\n",
       "|---|---|---|---|---|---|---|\n",
       "| 1 | 41 | 190 |  7.4 | 67 | 5 | 1 |\n",
       "| 2 | 36 | 118 |  8.0 | 72 | 5 | 2 |\n",
       "| 3 | 12 | 149 | 12.6 | 74 | 5 | 3 |\n",
       "| 4 | 18 | 313 | 11.5 | 62 | 5 | 4 |\n",
       "| 7 | 23 | 299 |  8.6 | 65 | 5 | 7 |\n",
       "| 8 | 19 |  99 | 13.8 | 59 | 5 | 8 |\n",
       "\n"
      ],
      "text/plain": [
       "  Ozone Solar.R Wind Temp Month Day\n",
       "1 41    190      7.4 67   5     1  \n",
       "2 36    118      8.0 72   5     2  \n",
       "3 12    149     12.6 74   5     3  \n",
       "4 18    313     11.5 62   5     4  \n",
       "7 23    299      8.6 65   5     7  \n",
       "8 19     99     13.8 59   5     8  "
      ]
     },
     "metadata": {},
     "output_type": "display_data"
    }
   ],
   "source": [
    "head(air_com)"
   ]
  },
  {
   "cell_type": "markdown",
   "id": "20f34881",
   "metadata": {},
   "source": [
    "# 결측치 대치법"
   ]
  },
  {
   "cell_type": "markdown",
   "id": "f6f22911",
   "metadata": {},
   "source": [
    "* completes analysis : 결측값이 존재하는 행을 삭제"
   ]
  },
  {
   "cell_type": "markdown",
   "id": "8d163b3c",
   "metadata": {},
   "source": [
    "* 평균, 중앙값, 최빈값, nearest neighbor 방법 등이 있음"
   ]
  },
  {
   "cell_type": "markdown",
   "id": "b60a67bb",
   "metadata": {},
   "source": [
    "## R 실습"
   ]
  },
  {
   "cell_type": "markdown",
   "id": "3e819630",
   "metadata": {},
   "source": [
    "* `airquality`의 `Ozone` 변수 값이 존재하지 않는 경우, 해당 변수를 평균값으로 대체하자."
   ]
  },
  {
   "cell_type": "code",
   "execution_count": 19,
   "id": "9d2d76ca",
   "metadata": {},
   "outputs": [],
   "source": [
    "airquality$Ozone[is.na(airquality$Ozone)] <- mean(airquality$Ozone, na.rm=T)"
   ]
  },
  {
   "cell_type": "code",
   "execution_count": 21,
   "id": "db23b938",
   "metadata": {},
   "outputs": [
    {
     "data": {
      "text/html": [
       "0"
      ],
      "text/latex": [
       "0"
      ],
      "text/markdown": [
       "0"
      ],
      "text/plain": [
       "[1] 0"
      ]
     },
     "metadata": {},
     "output_type": "display_data"
    }
   ],
   "source": [
    "sum(is.na(airquality$Ozone))"
   ]
  },
  {
   "cell_type": "markdown",
   "id": "e9accbe6",
   "metadata": {},
   "source": [
    "### DMwR  패키지"
   ]
  },
  {
   "cell_type": "code",
   "execution_count": 28,
   "id": "f06e3d43",
   "metadata": {},
   "outputs": [],
   "source": [
    "library(DMwR2)"
   ]
  },
  {
   "cell_type": "code",
   "execution_count": 29,
   "id": "dcb3f15d",
   "metadata": {},
   "outputs": [],
   "source": [
    "air_before <- airquality"
   ]
  },
  {
   "cell_type": "code",
   "execution_count": 32,
   "id": "a9e5cec6",
   "metadata": {},
   "outputs": [],
   "source": [
    "air_after <- centralImputation(airquality) ## 결측치를 중앙값으로 대치"
   ]
  },
  {
   "cell_type": "code",
   "execution_count": 37,
   "id": "7ecfb664",
   "metadata": {},
   "outputs": [],
   "source": [
    "na_indx <- which(!complete.cases(airquality)) ## Na인덱스를 추출"
   ]
  },
  {
   "cell_type": "code",
   "execution_count": 38,
   "id": "bf11e858",
   "metadata": {},
   "outputs": [
    {
     "data": {
      "text/html": [
       "<table class=\"dataframe\">\n",
       "<caption>A data.frame: 6 × 6</caption>\n",
       "<thead>\n",
       "\t<tr><th></th><th scope=col>Ozone</th><th scope=col>Solar.R</th><th scope=col>Wind</th><th scope=col>Temp</th><th scope=col>Month</th><th scope=col>Day</th></tr>\n",
       "\t<tr><th></th><th scope=col>&lt;dbl&gt;</th><th scope=col>&lt;int&gt;</th><th scope=col>&lt;dbl&gt;</th><th scope=col>&lt;int&gt;</th><th scope=col>&lt;int&gt;</th><th scope=col>&lt;int&gt;</th></tr>\n",
       "</thead>\n",
       "<tbody>\n",
       "\t<tr><th scope=row>5</th><td>42.12931</td><td>NA</td><td>14.3</td><td>56</td><td>5</td><td> 5</td></tr>\n",
       "\t<tr><th scope=row>6</th><td>28.00000</td><td>NA</td><td>14.9</td><td>66</td><td>5</td><td> 6</td></tr>\n",
       "\t<tr><th scope=row>11</th><td> 7.00000</td><td>NA</td><td> 6.9</td><td>74</td><td>5</td><td>11</td></tr>\n",
       "\t<tr><th scope=row>27</th><td>42.12931</td><td>NA</td><td> 8.0</td><td>57</td><td>5</td><td>27</td></tr>\n",
       "\t<tr><th scope=row>96</th><td>78.00000</td><td>NA</td><td> 6.9</td><td>86</td><td>8</td><td> 4</td></tr>\n",
       "\t<tr><th scope=row>97</th><td>35.00000</td><td>NA</td><td> 7.4</td><td>85</td><td>8</td><td> 5</td></tr>\n",
       "</tbody>\n",
       "</table>\n"
      ],
      "text/latex": [
       "A data.frame: 6 × 6\n",
       "\\begin{tabular}{r|llllll}\n",
       "  & Ozone & Solar.R & Wind & Temp & Month & Day\\\\\n",
       "  & <dbl> & <int> & <dbl> & <int> & <int> & <int>\\\\\n",
       "\\hline\n",
       "\t5 & 42.12931 & NA & 14.3 & 56 & 5 &  5\\\\\n",
       "\t6 & 28.00000 & NA & 14.9 & 66 & 5 &  6\\\\\n",
       "\t11 &  7.00000 & NA &  6.9 & 74 & 5 & 11\\\\\n",
       "\t27 & 42.12931 & NA &  8.0 & 57 & 5 & 27\\\\\n",
       "\t96 & 78.00000 & NA &  6.9 & 86 & 8 &  4\\\\\n",
       "\t97 & 35.00000 & NA &  7.4 & 85 & 8 &  5\\\\\n",
       "\\end{tabular}\n"
      ],
      "text/markdown": [
       "\n",
       "A data.frame: 6 × 6\n",
       "\n",
       "| <!--/--> | Ozone &lt;dbl&gt; | Solar.R &lt;int&gt; | Wind &lt;dbl&gt; | Temp &lt;int&gt; | Month &lt;int&gt; | Day &lt;int&gt; |\n",
       "|---|---|---|---|---|---|---|\n",
       "| 5 | 42.12931 | NA | 14.3 | 56 | 5 |  5 |\n",
       "| 6 | 28.00000 | NA | 14.9 | 66 | 5 |  6 |\n",
       "| 11 |  7.00000 | NA |  6.9 | 74 | 5 | 11 |\n",
       "| 27 | 42.12931 | NA |  8.0 | 57 | 5 | 27 |\n",
       "| 96 | 78.00000 | NA |  6.9 | 86 | 8 |  4 |\n",
       "| 97 | 35.00000 | NA |  7.4 | 85 | 8 |  5 |\n",
       "\n"
      ],
      "text/plain": [
       "   Ozone    Solar.R Wind Temp Month Day\n",
       "5  42.12931 NA      14.3 56   5      5 \n",
       "6  28.00000 NA      14.9 66   5      6 \n",
       "11  7.00000 NA       6.9 74   5     11 \n",
       "27 42.12931 NA       8.0 57   5     27 \n",
       "96 78.00000 NA       6.9 86   8      4 \n",
       "97 35.00000 NA       7.4 85   8      5 "
      ]
     },
     "metadata": {},
     "output_type": "display_data"
    }
   ],
   "source": [
    "head(air_before[na_indx,])"
   ]
  },
  {
   "cell_type": "code",
   "execution_count": 39,
   "id": "f469792f",
   "metadata": {},
   "outputs": [
    {
     "data": {
      "text/html": [
       "<table class=\"dataframe\">\n",
       "<caption>A data.frame: 6 × 6</caption>\n",
       "<thead>\n",
       "\t<tr><th></th><th scope=col>Ozone</th><th scope=col>Solar.R</th><th scope=col>Wind</th><th scope=col>Temp</th><th scope=col>Month</th><th scope=col>Day</th></tr>\n",
       "\t<tr><th></th><th scope=col>&lt;dbl&gt;</th><th scope=col>&lt;dbl&gt;</th><th scope=col>&lt;dbl&gt;</th><th scope=col>&lt;int&gt;</th><th scope=col>&lt;int&gt;</th><th scope=col>&lt;int&gt;</th></tr>\n",
       "</thead>\n",
       "<tbody>\n",
       "\t<tr><th scope=row>1</th><td>41.00000</td><td>190</td><td> 7.4</td><td>67</td><td>5</td><td>1</td></tr>\n",
       "\t<tr><th scope=row>2</th><td>36.00000</td><td>118</td><td> 8.0</td><td>72</td><td>5</td><td>2</td></tr>\n",
       "\t<tr><th scope=row>3</th><td>12.00000</td><td>149</td><td>12.6</td><td>74</td><td>5</td><td>3</td></tr>\n",
       "\t<tr><th scope=row>4</th><td>18.00000</td><td>313</td><td>11.5</td><td>62</td><td>5</td><td>4</td></tr>\n",
       "\t<tr><th scope=row>5</th><td>42.12931</td><td>205</td><td>14.3</td><td>56</td><td>5</td><td>5</td></tr>\n",
       "\t<tr><th scope=row>6</th><td>28.00000</td><td>205</td><td>14.9</td><td>66</td><td>5</td><td>6</td></tr>\n",
       "</tbody>\n",
       "</table>\n"
      ],
      "text/latex": [
       "A data.frame: 6 × 6\n",
       "\\begin{tabular}{r|llllll}\n",
       "  & Ozone & Solar.R & Wind & Temp & Month & Day\\\\\n",
       "  & <dbl> & <dbl> & <dbl> & <int> & <int> & <int>\\\\\n",
       "\\hline\n",
       "\t1 & 41.00000 & 190 &  7.4 & 67 & 5 & 1\\\\\n",
       "\t2 & 36.00000 & 118 &  8.0 & 72 & 5 & 2\\\\\n",
       "\t3 & 12.00000 & 149 & 12.6 & 74 & 5 & 3\\\\\n",
       "\t4 & 18.00000 & 313 & 11.5 & 62 & 5 & 4\\\\\n",
       "\t5 & 42.12931 & 205 & 14.3 & 56 & 5 & 5\\\\\n",
       "\t6 & 28.00000 & 205 & 14.9 & 66 & 5 & 6\\\\\n",
       "\\end{tabular}\n"
      ],
      "text/markdown": [
       "\n",
       "A data.frame: 6 × 6\n",
       "\n",
       "| <!--/--> | Ozone &lt;dbl&gt; | Solar.R &lt;dbl&gt; | Wind &lt;dbl&gt; | Temp &lt;int&gt; | Month &lt;int&gt; | Day &lt;int&gt; |\n",
       "|---|---|---|---|---|---|---|\n",
       "| 1 | 41.00000 | 190 |  7.4 | 67 | 5 | 1 |\n",
       "| 2 | 36.00000 | 118 |  8.0 | 72 | 5 | 2 |\n",
       "| 3 | 12.00000 | 149 | 12.6 | 74 | 5 | 3 |\n",
       "| 4 | 18.00000 | 313 | 11.5 | 62 | 5 | 4 |\n",
       "| 5 | 42.12931 | 205 | 14.3 | 56 | 5 | 5 |\n",
       "| 6 | 28.00000 | 205 | 14.9 | 66 | 5 | 6 |\n",
       "\n"
      ],
      "text/plain": [
       "  Ozone    Solar.R Wind Temp Month Day\n",
       "1 41.00000 190      7.4 67   5     1  \n",
       "2 36.00000 118      8.0 72   5     2  \n",
       "3 12.00000 149     12.6 74   5     3  \n",
       "4 18.00000 313     11.5 62   5     4  \n",
       "5 42.12931 205     14.3 56   5     5  \n",
       "6 28.00000 205     14.9 66   5     6  "
      ]
     },
     "metadata": {},
     "output_type": "display_data"
    }
   ],
   "source": [
    "head(air_after)"
   ]
  },
  {
   "cell_type": "markdown",
   "id": "4191c839",
   "metadata": {},
   "source": [
    "* 아래의 값을 살펴본 결과 결측치가 중앙값으로 잘 대치 되었음을 확인하였다."
   ]
  },
  {
   "cell_type": "code",
   "execution_count": 40,
   "id": "eaf488bc",
   "metadata": {},
   "outputs": [
    {
     "data": {
      "text/html": [
       "205"
      ],
      "text/latex": [
       "205"
      ],
      "text/markdown": [
       "205"
      ],
      "text/plain": [
       "[1] 205"
      ]
     },
     "metadata": {},
     "output_type": "display_data"
    }
   ],
   "source": [
    "median(airquality$Solar.R,na.rm=T)"
   ]
  },
  {
   "cell_type": "markdown",
   "id": "c46d45ca",
   "metadata": {},
   "source": [
    "* k최근접 이웃 알고리즘을 이용하여 na값을 대치해보기"
   ]
  },
  {
   "cell_type": "code",
   "execution_count": 43,
   "id": "89795a33",
   "metadata": {},
   "outputs": [
    {
     "data": {
      "text/html": [
       "<style>\n",
       ".dl-inline {width: auto; margin:0; padding: 0}\n",
       ".dl-inline>dt, .dl-inline>dd {float: none; width: auto; display: inline-block}\n",
       ".dl-inline>dt::after {content: \":\\0020\"; padding-right: .5ex}\n",
       ".dl-inline>dt:not(:first-of-type) {padding-left: .5ex}\n",
       "</style><dl class=dl-inline><dt>Ozone</dt><dd>0</dd><dt>Solar.R</dt><dd>0</dd><dt>Wind</dt><dd>0</dd><dt>Temp</dt><dd>0</dd><dt>Month</dt><dd>0</dd><dt>Day</dt><dd>0</dd></dl>\n"
      ],
      "text/latex": [
       "\\begin{description*}\n",
       "\\item[Ozone] 0\n",
       "\\item[Solar.R] 0\n",
       "\\item[Wind] 0\n",
       "\\item[Temp] 0\n",
       "\\item[Month] 0\n",
       "\\item[Day] 0\n",
       "\\end{description*}\n"
      ],
      "text/markdown": [
       "Ozone\n",
       ":   0Solar.R\n",
       ":   0Wind\n",
       ":   0Temp\n",
       ":   0Month\n",
       ":   0Day\n",
       ":   0\n",
       "\n"
      ],
      "text/plain": [
       "  Ozone Solar.R    Wind    Temp   Month     Day \n",
       "      0       0       0       0       0       0 "
      ]
     },
     "metadata": {},
     "output_type": "display_data"
    }
   ],
   "source": [
    "apply(knnImputation(air_before,k=3),2,function(x) sum(is.na(x)))"
   ]
  }
 ],
 "metadata": {
  "kernelspec": {
   "display_name": "R",
   "language": "R",
   "name": "ir"
  },
  "language_info": {
   "codemirror_mode": "r",
   "file_extension": ".r",
   "mimetype": "text/x-r-source",
   "name": "R",
   "pygments_lexer": "r",
   "version": "4.1.2"
  },
  "toc": {
   "base_numbering": 1,
   "nav_menu": {},
   "number_sections": false,
   "sideBar": true,
   "skip_h1_title": false,
   "title_cell": "Table of Contents",
   "title_sidebar": "Contents",
   "toc_cell": false,
   "toc_position": {},
   "toc_section_display": true,
   "toc_window_display": true
  }
 },
 "nbformat": 4,
 "nbformat_minor": 5
}
