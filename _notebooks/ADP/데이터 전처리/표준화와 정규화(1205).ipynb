{
 "cells": [
  {
   "cell_type": "markdown",
   "id": "47ef4701",
   "metadata": {},
   "source": [
    "# 표준화\n",
    "> \"ADP\"\n",
    "\n",
    "- toc:true\n",
    "- branch: master\n",
    "- badges: true\n",
    "- comments: true\n",
    "- author: 이강철\n",
    "- categories: [python]\n",
    "- hide :false\n",
    "- published: true"
   ]
  },
  {
   "cell_type": "markdown",
   "id": "1b67aa81",
   "metadata": {},
   "source": [
    "* 각 개체들이 평균을 기준으로 얼마나 떨어져 있는지를 나타내는 값으로 변환하는 과정"
   ]
  },
  {
   "cell_type": "markdown",
   "id": "f2713e58",
   "metadata": {},
   "source": [
    "* `Z-Score` 표준화는 각 요소의 값에서 평균을 뺀 후 표준편차로 나누어 수행"
   ]
  },
  {
   "cell_type": "markdown",
   "id": "3d828f86",
   "metadata": {},
   "source": [
    "* 변환 후 데이터의 평균은 0, 표준편차는 1의 값을 갖게 된다."
   ]
  },
  {
   "cell_type": "markdown",
   "id": "0da492ef",
   "metadata": {},
   "source": [
    "## R실습"
   ]
  },
  {
   "cell_type": "markdown",
   "id": "994a8385",
   "metadata": {},
   "source": [
    "* scale\n",
    "    * center : TRUE이면 데이터에서 해당벡터의 평균을 뺌\n",
    "    * scale : \n",
    "        * center = T, scale = T 이면 데이터를  해당 벡터의 표준편차로 나눔\n",
    "        * center = F, scale = T 이면 데이터를 해당 벡터의 제곱평균제곱근으로 나눔\n",
    "        * scale =  F 이면 데이터를 어떤 값으로도 나누지 않음"
   ]
  },
  {
   "cell_type": "markdown",
   "id": "e1fcb232",
   "metadata": {},
   "source": [
    "* mtcars 데이터의 mpg, hp 변수로만 이루어진 데이터프레임을 생성하고 각 변수를 표준화한 새로운 변수를 추가해보자."
   ]
  },
  {
   "cell_type": "code",
   "execution_count": 2,
   "id": "44fa3ac0",
   "metadata": {},
   "outputs": [],
   "source": [
    "library(tidyverse)"
   ]
  },
  {
   "cell_type": "code",
   "execution_count": 6,
   "id": "ed7a5ed2",
   "metadata": {},
   "outputs": [],
   "source": [
    "test <- mtcars %>%  select(mpg,hp)"
   ]
  },
  {
   "cell_type": "code",
   "execution_count": 35,
   "id": "efd18aaa",
   "metadata": {},
   "outputs": [
    {
     "data": {
      "text/html": [
       "<table class=\"dataframe\">\n",
       "<caption>A data.frame: 6 × 2</caption>\n",
       "<thead>\n",
       "\t<tr><th></th><th scope=col>mpg</th><th scope=col>hp</th></tr>\n",
       "\t<tr><th></th><th scope=col>&lt;dbl[,1]&gt;</th><th scope=col>&lt;dbl[,1]&gt;</th></tr>\n",
       "</thead>\n",
       "<tbody>\n",
       "\t<tr><th scope=row>Mazda RX4</th><td> 0.1508848</td><td>-0.5350928</td></tr>\n",
       "\t<tr><th scope=row>Mazda RX4 Wag</th><td> 0.1508848</td><td>-0.5350928</td></tr>\n",
       "\t<tr><th scope=row>Datsun 710</th><td> 0.4495434</td><td>-0.7830405</td></tr>\n",
       "\t<tr><th scope=row>Hornet 4 Drive</th><td> 0.2172534</td><td>-0.5350928</td></tr>\n",
       "\t<tr><th scope=row>Hornet Sportabout</th><td>-0.2307345</td><td> 0.4129422</td></tr>\n",
       "\t<tr><th scope=row>Valiant</th><td>-0.3302874</td><td>-0.6080186</td></tr>\n",
       "</tbody>\n",
       "</table>\n"
      ],
      "text/latex": [
       "A data.frame: 6 × 2\n",
       "\\begin{tabular}{r|ll}\n",
       "  & mpg & hp\\\\\n",
       "  & <dbl{[},1{]}> & <dbl{[},1{]}>\\\\\n",
       "\\hline\n",
       "\tMazda RX4 &  0.1508848 & -0.5350928\\\\\n",
       "\tMazda RX4 Wag &  0.1508848 & -0.5350928\\\\\n",
       "\tDatsun 710 &  0.4495434 & -0.7830405\\\\\n",
       "\tHornet 4 Drive &  0.2172534 & -0.5350928\\\\\n",
       "\tHornet Sportabout & -0.2307345 &  0.4129422\\\\\n",
       "\tValiant & -0.3302874 & -0.6080186\\\\\n",
       "\\end{tabular}\n"
      ],
      "text/markdown": [
       "\n",
       "A data.frame: 6 × 2\n",
       "\n",
       "| <!--/--> | mpg &lt;dbl[,1]&gt; | hp &lt;dbl[,1]&gt; |\n",
       "|---|---|---|\n",
       "| Mazda RX4 |  0.1508848 | -0.5350928 |\n",
       "| Mazda RX4 Wag |  0.1508848 | -0.5350928 |\n",
       "| Datsun 710 |  0.4495434 | -0.7830405 |\n",
       "| Hornet 4 Drive |  0.2172534 | -0.5350928 |\n",
       "| Hornet Sportabout | -0.2307345 |  0.4129422 |\n",
       "| Valiant | -0.3302874 | -0.6080186 |\n",
       "\n"
      ],
      "text/plain": [
       "                  mpg        hp        \n",
       "Mazda RX4          0.1508848 -0.5350928\n",
       "Mazda RX4 Wag      0.1508848 -0.5350928\n",
       "Datsun 710         0.4495434 -0.7830405\n",
       "Hornet 4 Drive     0.2172534 -0.5350928\n",
       "Hornet Sportabout -0.2307345  0.4129422\n",
       "Valiant           -0.3302874 -0.6080186"
      ]
     },
     "metadata": {},
     "output_type": "display_data"
    }
   ],
   "source": [
    "test %>% transmute_at(vars(mpg,hp),scale) %>% head()\n",
    "##scale(test$mpg, center=T,scale=T) 안되면 걍이런식으로 노가다 붙이자"
   ]
  },
  {
   "cell_type": "markdown",
   "id": "3e5ef80f",
   "metadata": {},
   "source": [
    "# 정규화"
   ]
  },
  {
   "cell_type": "markdown",
   "id": "77de6126",
   "metadata": {},
   "source": [
    "* 정규화란 데이터의 범위를 0과 1사이로 변환하여 데이터의 분포를 조정하는 방법"
   ]
  },
  {
   "cell_type": "markdown",
   "id": "d8a7eb37",
   "metadata": {},
   "source": [
    "* 특정 개체가 가지는 위치를 파악하고 비교할 때 유용하게 사용할 수 있다."
   ]
  },
  {
   "cell_type": "markdown",
   "id": "18ece526",
   "metadata": {},
   "source": [
    "## R실습"
   ]
  },
  {
   "cell_type": "markdown",
   "id": "cb7be210",
   "metadata": {},
   "source": [
    "* 사용자 정의함수 생성"
   ]
  },
  {
   "cell_type": "code",
   "execution_count": 27,
   "id": "8bddc3f5",
   "metadata": {},
   "outputs": [],
   "source": [
    "normal <- function(x)\n",
    "    {\n",
    "    return ((x- min(x)) / (max(x)-min(x)))\n",
    "}"
   ]
  },
  {
   "cell_type": "code",
   "execution_count": 38,
   "id": "fa2cab16",
   "metadata": {},
   "outputs": [],
   "source": [
    "iris2 <- iris %>% transmute_at(vars(-Species),normal)"
   ]
  },
  {
   "cell_type": "code",
   "execution_count": 39,
   "id": "68e438a4",
   "metadata": {},
   "outputs": [
    {
     "data": {
      "text/html": [
       "<table class=\"dataframe\">\n",
       "<caption>A data.frame: 6 × 5</caption>\n",
       "<thead>\n",
       "\t<tr><th></th><th scope=col>Sepal.Length</th><th scope=col>Sepal.Width</th><th scope=col>Petal.Length</th><th scope=col>Petal.Width</th><th scope=col>Species</th></tr>\n",
       "\t<tr><th></th><th scope=col>&lt;dbl&gt;</th><th scope=col>&lt;dbl&gt;</th><th scope=col>&lt;dbl&gt;</th><th scope=col>&lt;dbl&gt;</th><th scope=col>&lt;fct&gt;</th></tr>\n",
       "</thead>\n",
       "<tbody>\n",
       "\t<tr><th scope=row>1</th><td>5.1</td><td>3.5</td><td>1.4</td><td>0.2</td><td>setosa</td></tr>\n",
       "\t<tr><th scope=row>2</th><td>4.9</td><td>3.0</td><td>1.4</td><td>0.2</td><td>setosa</td></tr>\n",
       "\t<tr><th scope=row>3</th><td>4.7</td><td>3.2</td><td>1.3</td><td>0.2</td><td>setosa</td></tr>\n",
       "\t<tr><th scope=row>4</th><td>4.6</td><td>3.1</td><td>1.5</td><td>0.2</td><td>setosa</td></tr>\n",
       "\t<tr><th scope=row>5</th><td>5.0</td><td>3.6</td><td>1.4</td><td>0.2</td><td>setosa</td></tr>\n",
       "\t<tr><th scope=row>6</th><td>5.4</td><td>3.9</td><td>1.7</td><td>0.4</td><td>setosa</td></tr>\n",
       "</tbody>\n",
       "</table>\n"
      ],
      "text/latex": [
       "A data.frame: 6 × 5\n",
       "\\begin{tabular}{r|lllll}\n",
       "  & Sepal.Length & Sepal.Width & Petal.Length & Petal.Width & Species\\\\\n",
       "  & <dbl> & <dbl> & <dbl> & <dbl> & <fct>\\\\\n",
       "\\hline\n",
       "\t1 & 5.1 & 3.5 & 1.4 & 0.2 & setosa\\\\\n",
       "\t2 & 4.9 & 3.0 & 1.4 & 0.2 & setosa\\\\\n",
       "\t3 & 4.7 & 3.2 & 1.3 & 0.2 & setosa\\\\\n",
       "\t4 & 4.6 & 3.1 & 1.5 & 0.2 & setosa\\\\\n",
       "\t5 & 5.0 & 3.6 & 1.4 & 0.2 & setosa\\\\\n",
       "\t6 & 5.4 & 3.9 & 1.7 & 0.4 & setosa\\\\\n",
       "\\end{tabular}\n"
      ],
      "text/markdown": [
       "\n",
       "A data.frame: 6 × 5\n",
       "\n",
       "| <!--/--> | Sepal.Length &lt;dbl&gt; | Sepal.Width &lt;dbl&gt; | Petal.Length &lt;dbl&gt; | Petal.Width &lt;dbl&gt; | Species &lt;fct&gt; |\n",
       "|---|---|---|---|---|---|\n",
       "| 1 | 5.1 | 3.5 | 1.4 | 0.2 | setosa |\n",
       "| 2 | 4.9 | 3.0 | 1.4 | 0.2 | setosa |\n",
       "| 3 | 4.7 | 3.2 | 1.3 | 0.2 | setosa |\n",
       "| 4 | 4.6 | 3.1 | 1.5 | 0.2 | setosa |\n",
       "| 5 | 5.0 | 3.6 | 1.4 | 0.2 | setosa |\n",
       "| 6 | 5.4 | 3.9 | 1.7 | 0.4 | setosa |\n",
       "\n"
      ],
      "text/plain": [
       "  Sepal.Length Sepal.Width Petal.Length Petal.Width Species\n",
       "1 5.1          3.5         1.4          0.2         setosa \n",
       "2 4.9          3.0         1.4          0.2         setosa \n",
       "3 4.7          3.2         1.3          0.2         setosa \n",
       "4 4.6          3.1         1.5          0.2         setosa \n",
       "5 5.0          3.6         1.4          0.2         setosa \n",
       "6 5.4          3.9         1.7          0.4         setosa "
      ]
     },
     "metadata": {},
     "output_type": "display_data"
    },
    {
     "data": {
      "text/html": [
       "<table class=\"dataframe\">\n",
       "<caption>A data.frame: 6 × 4</caption>\n",
       "<thead>\n",
       "\t<tr><th></th><th scope=col>Sepal.Length</th><th scope=col>Sepal.Width</th><th scope=col>Petal.Length</th><th scope=col>Petal.Width</th></tr>\n",
       "\t<tr><th></th><th scope=col>&lt;dbl&gt;</th><th scope=col>&lt;dbl&gt;</th><th scope=col>&lt;dbl&gt;</th><th scope=col>&lt;dbl&gt;</th></tr>\n",
       "</thead>\n",
       "<tbody>\n",
       "\t<tr><th scope=row>1</th><td>0.22222222</td><td>0.6250000</td><td>0.06779661</td><td>0.04166667</td></tr>\n",
       "\t<tr><th scope=row>2</th><td>0.16666667</td><td>0.4166667</td><td>0.06779661</td><td>0.04166667</td></tr>\n",
       "\t<tr><th scope=row>3</th><td>0.11111111</td><td>0.5000000</td><td>0.05084746</td><td>0.04166667</td></tr>\n",
       "\t<tr><th scope=row>4</th><td>0.08333333</td><td>0.4583333</td><td>0.08474576</td><td>0.04166667</td></tr>\n",
       "\t<tr><th scope=row>5</th><td>0.19444444</td><td>0.6666667</td><td>0.06779661</td><td>0.04166667</td></tr>\n",
       "\t<tr><th scope=row>6</th><td>0.30555556</td><td>0.7916667</td><td>0.11864407</td><td>0.12500000</td></tr>\n",
       "</tbody>\n",
       "</table>\n"
      ],
      "text/latex": [
       "A data.frame: 6 × 4\n",
       "\\begin{tabular}{r|llll}\n",
       "  & Sepal.Length & Sepal.Width & Petal.Length & Petal.Width\\\\\n",
       "  & <dbl> & <dbl> & <dbl> & <dbl>\\\\\n",
       "\\hline\n",
       "\t1 & 0.22222222 & 0.6250000 & 0.06779661 & 0.04166667\\\\\n",
       "\t2 & 0.16666667 & 0.4166667 & 0.06779661 & 0.04166667\\\\\n",
       "\t3 & 0.11111111 & 0.5000000 & 0.05084746 & 0.04166667\\\\\n",
       "\t4 & 0.08333333 & 0.4583333 & 0.08474576 & 0.04166667\\\\\n",
       "\t5 & 0.19444444 & 0.6666667 & 0.06779661 & 0.04166667\\\\\n",
       "\t6 & 0.30555556 & 0.7916667 & 0.11864407 & 0.12500000\\\\\n",
       "\\end{tabular}\n"
      ],
      "text/markdown": [
       "\n",
       "A data.frame: 6 × 4\n",
       "\n",
       "| <!--/--> | Sepal.Length &lt;dbl&gt; | Sepal.Width &lt;dbl&gt; | Petal.Length &lt;dbl&gt; | Petal.Width &lt;dbl&gt; |\n",
       "|---|---|---|---|---|\n",
       "| 1 | 0.22222222 | 0.6250000 | 0.06779661 | 0.04166667 |\n",
       "| 2 | 0.16666667 | 0.4166667 | 0.06779661 | 0.04166667 |\n",
       "| 3 | 0.11111111 | 0.5000000 | 0.05084746 | 0.04166667 |\n",
       "| 4 | 0.08333333 | 0.4583333 | 0.08474576 | 0.04166667 |\n",
       "| 5 | 0.19444444 | 0.6666667 | 0.06779661 | 0.04166667 |\n",
       "| 6 | 0.30555556 | 0.7916667 | 0.11864407 | 0.12500000 |\n",
       "\n"
      ],
      "text/plain": [
       "  Sepal.Length Sepal.Width Petal.Length Petal.Width\n",
       "1 0.22222222   0.6250000   0.06779661   0.04166667 \n",
       "2 0.16666667   0.4166667   0.06779661   0.04166667 \n",
       "3 0.11111111   0.5000000   0.05084746   0.04166667 \n",
       "4 0.08333333   0.4583333   0.08474576   0.04166667 \n",
       "5 0.19444444   0.6666667   0.06779661   0.04166667 \n",
       "6 0.30555556   0.7916667   0.11864407   0.12500000 "
      ]
     },
     "metadata": {},
     "output_type": "display_data"
    }
   ],
   "source": [
    "head(iris); head(iris2)"
   ]
  }
 ],
 "metadata": {
  "kernelspec": {
   "display_name": "R",
   "language": "R",
   "name": "ir"
  },
  "language_info": {
   "codemirror_mode": "r",
   "file_extension": ".r",
   "mimetype": "text/x-r-source",
   "name": "R",
   "pygments_lexer": "r",
   "version": "4.1.2"
  },
  "toc": {
   "base_numbering": 1,
   "nav_menu": {},
   "number_sections": false,
   "sideBar": true,
   "skip_h1_title": false,
   "title_cell": "Table of Contents",
   "title_sidebar": "Contents",
   "toc_cell": false,
   "toc_position": {},
   "toc_section_display": true,
   "toc_window_display": true
  }
 },
 "nbformat": 4,
 "nbformat_minor": 5
}
