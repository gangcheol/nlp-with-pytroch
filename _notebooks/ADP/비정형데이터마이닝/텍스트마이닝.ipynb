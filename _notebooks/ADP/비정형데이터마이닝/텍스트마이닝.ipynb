{
 "cells": [
  {
   "cell_type": "markdown",
   "id": "9a7a5aa1",
   "metadata": {},
   "source": [
    "# tm 패키지를 활용한 Corpus만들기"
   ]
  },
  {
   "cell_type": "markdown",
   "id": "0b6e17c1",
   "metadata": {},
   "source": [
    "* 텍스트 마이닝을 수행하기 전에 tm 패키지를 활용해 Corpus를 만들고 생성된 Corpus를 전처리 하고 분석에 활용하여야 한다."
   ]
  },
  {
   "cell_type": "markdown",
   "id": "fe9061e4",
   "metadata": {},
   "source": [
    "* `VectorSource` 함수를 사용하고 문서로 완성된 데이터를 `VCorpus` 함수를 이용하여 `Corpus`로 만든다."
   ]
  },
  {
   "cell_type": "code",
   "execution_count": 41,
   "id": "f59411c2",
   "metadata": {},
   "outputs": [],
   "source": [
    "library(tm)"
   ]
  },
  {
   "cell_type": "markdown",
   "id": "cde03fe0",
   "metadata": {},
   "source": [
    "* `crude` 데이터는 `tm` 패키지 내에 내장된 `Corpus`데이터 이다."
   ]
  },
  {
   "cell_type": "markdown",
   "id": "b9319551",
   "metadata": {},
   "source": [
    "* `inspect` 하수를 이용해 첫 번째 문서의 정보를 확인한다."
   ]
  },
  {
   "cell_type": "code",
   "execution_count": 13,
   "id": "277898cb",
   "metadata": {},
   "outputs": [
    {
     "name": "stdout",
     "output_type": "stream",
     "text": [
      "<<VCorpus>>\n",
      "Metadata:  corpus specific: 0, document level (indexed): 0\n",
      "Content:  documents: 1\n",
      "\n",
      "$`reut-00001.xml`\n",
      "<<PlainTextDocument>>\n",
      "Metadata:  15\n",
      "Content:  chars: 527\n",
      "\n"
     ]
    }
   ],
   "source": [
    "inspect(crude[1])"
   ]
  },
  {
   "cell_type": "markdown",
   "id": "1b125852",
   "metadata": {},
   "source": [
    "## tm 패키지를 활용한 데이터 전처리"
   ]
  },
  {
   "cell_type": "markdown",
   "id": "d74b3140",
   "metadata": {},
   "source": [
    "* tm_map(x, tolower)  : 소문자로 만들기\n",
    "* tm_map(x, stemDocument) : 어근만 남기기\n",
    "* tm_map(x, stripWhitespace) : 공백 제거\n",
    "* tm_map(x, removePunctuation) : 문장부호 제거\n",
    "* tm_map(x, removeNumbers) : 숫자 제거\n",
    "* tm_map(x, removeWords, \"words\") : 특정 단어 제거\n",
    "* tm_map(x, removeWords,stopwords (\"english)) : 불용어 제거\n",
    "* tm_map(x, PlainTextDocument) : TextDocument로 변환"
   ]
  },
  {
   "cell_type": "code",
   "execution_count": 44,
   "id": "1c6ac2e5",
   "metadata": {},
   "outputs": [],
   "source": [
    "setwd(\"C:\\\\Users\\\\rkdcj\\\\OneDrive\\\\바탕 화면\\\\PART 06 실습용 데이터\")"
   ]
  },
  {
   "cell_type": "code",
   "execution_count": 27,
   "id": "22e2b640",
   "metadata": {},
   "outputs": [],
   "source": [
    "library(tm)"
   ]
  },
  {
   "cell_type": "markdown",
   "id": "b6336add",
   "metadata": {},
   "source": [
    "* 데이터 로드"
   ]
  },
  {
   "cell_type": "code",
   "execution_count": 45,
   "id": "f93c9529",
   "metadata": {},
   "outputs": [],
   "source": [
    "news <- readLines(\"키워드_뉴스.txt\")"
   ]
  },
  {
   "cell_type": "code",
   "execution_count": 29,
   "id": "94f1ada0",
   "metadata": {},
   "outputs": [],
   "source": [
    "news.corpus <- VCorpus(VectorSource(news))"
   ]
  },
  {
   "cell_type": "code",
   "execution_count": 31,
   "id": "07a1cda0",
   "metadata": {},
   "outputs": [
    {
     "data": {
      "text/plain": [
       "<<VCorpus>>\n",
       "Metadata:  corpus specific: 0, document level (indexed): 0\n",
       "Content:  documents: 10"
      ]
     },
     "metadata": {},
     "output_type": "display_data"
    }
   ],
   "source": [
    "news.corpus"
   ]
  },
  {
   "cell_type": "markdown",
   "id": "3dc73dee",
   "metadata": {},
   "source": [
    "* 전처리 함수 생성"
   ]
  },
  {
   "cell_type": "code",
   "execution_count": 32,
   "id": "b2695cf4",
   "metadata": {},
   "outputs": [],
   "source": [
    "clean_txt <- function(txt) {\n",
    "        txt <- tm_map(txt, removeNumbers) ## 숫자제거\n",
    "        txt <- tm_map(txt, removePunctuation) ## 문장부호 제거\n",
    "        txt <- tm_map(txt, stripWhitespace)  ## 공백제거\n",
    "        \n",
    "        return(txt)\n",
    "}"
   ]
  },
  {
   "cell_type": "code",
   "execution_count": 33,
   "id": "90339975",
   "metadata": {},
   "outputs": [],
   "source": [
    "clean.news <- clean_txt(news.corpus)"
   ]
  },
  {
   "cell_type": "code",
   "execution_count": 21,
   "id": "281ef4e7",
   "metadata": {},
   "outputs": [
    {
     "data": {
      "text/html": [
       "'동아대학교(총장 한석정)가 \\'수요자 데이터기반 스마트헬스케어 서비스\\'분야 ‘4차 산업혁명 혁신선도대학으로 최종선정됐습니다. 동아대가 혁신선도대학으로 펼치게 될 ‘수요자 데이터기반 스마트헬스케어 서비스’ 산업은 리빙데이터(운동·영양·약물)와 메디컬데이터(생체계측·진료기록)를 종합 분석, 다양한 헬스케어 서비스를 제공하는 것입니다. 동아대는 건강과학대학과 의료원, 재활요양병원 등 경쟁력 있는 인프라를 바탕으로 신뢰도 높은 정밀 분석을 실시, ‘헬스케어 기획 전문가’와 ‘헬스케어 데이터분석 전문가’ 등 수요자 맞춤형 헬스케어 서비스 분야를 선도하는 전문 인재를 키워나갈 계획입니다. ‘스마트헬스케어 융합전공’을 신설, 경영정보학과를 중심으로 한 빅데이터 분석, 식품영양학과·의약생명공학과·건강관리학과 중심의 헬스케어 등 학문 간 경계는 교육혁신도 이뤄나갈 방침입니다. '"
      ],
      "text/latex": [
       "'동아대학교(총장 한석정)가 \\textbackslash{}'수요자 데이터기반 스마트헬스케어 서비스\\textbackslash{}'분야 ‘4차 산업혁명 혁신선도대학으로 최종선정됐습니다. 동아대가 혁신선도대학으로 펼치게 될 ‘수요자 데이터기반 스마트헬스케어 서비스’ 산업은 리빙데이터(운동·영양·약물)와 메디컬데이터(생체계측·진료기록)를 종합 분석, 다양한 헬스케어 서비스를 제공하는 것입니다. 동아대는 건강과학대학과 의료원, 재활요양병원 등 경쟁력 있는 인프라를 바탕으로 신뢰도 높은 정밀 분석을 실시, ‘헬스케어 기획 전문가’와 ‘헬스케어 데이터분석 전문가’ 등 수요자 맞춤형 헬스케어 서비스 분야를 선도하는 전문 인재를 키워나갈 계획입니다. ‘스마트헬스케어 융합전공’을 신설, 경영정보학과를 중심으로 한 빅데이터 분석, 식품영양학과·의약생명공학과·건강관리학과 중심의 헬스케어 등 학문 간 경계는 교육혁신도 이뤄나갈 방침입니다. '"
      ],
      "text/markdown": [
       "'동아대학교(총장 한석정)가 \\'수요자 데이터기반 스마트헬스케어 서비스\\'분야 ‘4차 산업혁명 혁신선도대학으로 최종선정됐습니다. 동아대가 혁신선도대학으로 펼치게 될 ‘수요자 데이터기반 스마트헬스케어 서비스’ 산업은 리빙데이터(운동·영양·약물)와 메디컬데이터(생체계측·진료기록)를 종합 분석, 다양한 헬스케어 서비스를 제공하는 것입니다. 동아대는 건강과학대학과 의료원, 재활요양병원 등 경쟁력 있는 인프라를 바탕으로 신뢰도 높은 정밀 분석을 실시, ‘헬스케어 기획 전문가’와 ‘헬스케어 데이터분석 전문가’ 등 수요자 맞춤형 헬스케어 서비스 분야를 선도하는 전문 인재를 키워나갈 계획입니다. ‘스마트헬스케어 융합전공’을 신설, 경영정보학과를 중심으로 한 빅데이터 분석, 식품영양학과·의약생명공학과·건강관리학과 중심의 헬스케어 등 학문 간 경계는 교육혁신도 이뤄나갈 방침입니다. '"
      ],
      "text/plain": [
       "[1] \"동아대학교(총장 한석정)가 '수요자 데이터기반 스마트헬스케어 서비스'분야 ‘4차 산업혁명 혁신선도대학으로 최종선정됐습니다. 동아대가 혁신선도대학으로 펼치게 될 ‘수요자 데이터기반 스마트헬스케어 서비스’ 산업은 리빙데이터(운동·영양·약물)와 메디컬데이터(생체계측·진료기록)를 종합 분석, 다양한 헬스케어 서비스를 제공하는 것입니다. 동아대는 건강과학대학과 의료원, 재활요양병원 등 경쟁력 있는 인프라를 바탕으로 신뢰도 높은 정밀 분석을 실시, ‘헬스케어 기획 전문가’와 ‘헬스케어 데이터분석 전문가’ 등 수요자 맞춤형 헬스케어 서비스 분야를 선도하는 전문 인재를 키워나갈 계획입니다. ‘스마트헬스케어 융합전공’을 신설, 경영정보학과를 중심으로 한 빅데이터 분석, 식품영양학과·의약생명공학과·건강관리학과 중심의 헬스케어 등 학문 간 경계는 교육혁신도 이뤄나갈 방침입니다. \""
      ]
     },
     "metadata": {},
     "output_type": "display_data"
    }
   ],
   "source": [
    "news.corpus[[1]]$content"
   ]
  },
  {
   "cell_type": "code",
   "execution_count": 35,
   "id": "da20ff2a",
   "metadata": {},
   "outputs": [
    {
     "data": {
      "text/html": [
       "'동아대학교총장 한석정가 수요자 데이터기반 스마트헬스케어 서비스분야 ‘차 산업혁명 혁신선도대학으로 최종선정됐습니다 동아대가 혁신선도대학으로 펼치게 될 ‘수요자 데이터기반 스마트헬스케어 서비스’ 산업은 리빙데이터운동·영양·약물와 메디컬데이터생체계측·진료기록를 종합 분석 다양한 헬스케어 서비스를 제공하는 것입니다 동아대는 건강과학대학과 의료원 재활요양병원 등 경쟁력 있는 인프라를 바탕으로 신뢰도 높은 정밀 분석을 실시 ‘헬스케어 기획 전문가’와 ‘헬스케어 데이터분석 전문가’ 등 수요자 맞춤형 헬스케어 서비스 분야를 선도하는 전문 인재를 키워나갈 계획입니다 ‘스마트헬스케어 융합전공’을 신설 경영정보학과를 중심으로 한 빅데이터 분석 식품영양학과·의약생명공학과·건강관리학과 중심의 헬스케어 등 학문 간 경계는 교육혁신도 이뤄나갈 방침입니다 '"
      ],
      "text/latex": [
       "'동아대학교총장 한석정가 수요자 데이터기반 스마트헬스케어 서비스분야 ‘차 산업혁명 혁신선도대학으로 최종선정됐습니다 동아대가 혁신선도대학으로 펼치게 될 ‘수요자 데이터기반 스마트헬스케어 서비스’ 산업은 리빙데이터운동·영양·약물와 메디컬데이터생체계측·진료기록를 종합 분석 다양한 헬스케어 서비스를 제공하는 것입니다 동아대는 건강과학대학과 의료원 재활요양병원 등 경쟁력 있는 인프라를 바탕으로 신뢰도 높은 정밀 분석을 실시 ‘헬스케어 기획 전문가’와 ‘헬스케어 데이터분석 전문가’ 등 수요자 맞춤형 헬스케어 서비스 분야를 선도하는 전문 인재를 키워나갈 계획입니다 ‘스마트헬스케어 융합전공’을 신설 경영정보학과를 중심으로 한 빅데이터 분석 식품영양학과·의약생명공학과·건강관리학과 중심의 헬스케어 등 학문 간 경계는 교육혁신도 이뤄나갈 방침입니다 '"
      ],
      "text/markdown": [
       "'동아대학교총장 한석정가 수요자 데이터기반 스마트헬스케어 서비스분야 ‘차 산업혁명 혁신선도대학으로 최종선정됐습니다 동아대가 혁신선도대학으로 펼치게 될 ‘수요자 데이터기반 스마트헬스케어 서비스’ 산업은 리빙데이터운동·영양·약물와 메디컬데이터생체계측·진료기록를 종합 분석 다양한 헬스케어 서비스를 제공하는 것입니다 동아대는 건강과학대학과 의료원 재활요양병원 등 경쟁력 있는 인프라를 바탕으로 신뢰도 높은 정밀 분석을 실시 ‘헬스케어 기획 전문가’와 ‘헬스케어 데이터분석 전문가’ 등 수요자 맞춤형 헬스케어 서비스 분야를 선도하는 전문 인재를 키워나갈 계획입니다 ‘스마트헬스케어 융합전공’을 신설 경영정보학과를 중심으로 한 빅데이터 분석 식품영양학과·의약생명공학과·건강관리학과 중심의 헬스케어 등 학문 간 경계는 교육혁신도 이뤄나갈 방침입니다 '"
      ],
      "text/plain": [
       "[1] \"동아대학교총장 한석정가 수요자 데이터기반 스마트헬스케어 서비스분야 ‘차 산업혁명 혁신선도대학으로 최종선정됐습니다 동아대가 혁신선도대학으로 펼치게 될 ‘수요자 데이터기반 스마트헬스케어 서비스’ 산업은 리빙데이터운동·영양·약물와 메디컬데이터생체계측·진료기록를 종합 분석 다양한 헬스케어 서비스를 제공하는 것입니다 동아대는 건강과학대학과 의료원 재활요양병원 등 경쟁력 있는 인프라를 바탕으로 신뢰도 높은 정밀 분석을 실시 ‘헬스케어 기획 전문가’와 ‘헬스케어 데이터분석 전문가’ 등 수요자 맞춤형 헬스케어 서비스 분야를 선도하는 전문 인재를 키워나갈 계획입니다 ‘스마트헬스케어 융합전공’을 신설 경영정보학과를 중심으로 한 빅데이터 분석 식품영양학과·의약생명공학과·건강관리학과 중심의 헬스케어 등 학문 간 경계는 교육혁신도 이뤄나갈 방침입니다 \""
      ]
     },
     "metadata": {},
     "output_type": "display_data"
    }
   ],
   "source": [
    "clean.news[[1]]$content"
   ]
  },
  {
   "cell_type": "markdown",
   "id": "1cfdadba",
   "metadata": {},
   "source": [
    "* 확인 결과 \" ', $\\cdot$ \"와 같은 부호는 제거 되지않음"
   ]
  },
  {
   "cell_type": "markdown",
   "id": "f01173ac",
   "metadata": {},
   "source": [
    "* 아래와 같은 함수를 사용하여 제거해준다."
   ]
  },
  {
   "cell_type": "code",
   "execution_count": 54,
   "id": "d5e1a7e9",
   "metadata": {},
   "outputs": [],
   "source": [
    "txt<- gsub(\"[[:punct:]]\",\"\",clean.news)"
   ]
  },
  {
   "cell_type": "markdown",
   "id": "f898f7a1",
   "metadata": {},
   "source": [
    "***"
   ]
  },
  {
   "cell_type": "markdown",
   "id": "b78c3b23",
   "metadata": {},
   "source": [
    "# KoNLP 패키지를 활용한 한글처리"
   ]
  },
  {
   "cell_type": "code",
   "execution_count": 34,
   "id": "ac61ec91",
   "metadata": {},
   "outputs": [],
   "source": [
    "library(IRdisplay)"
   ]
  },
  {
   "cell_type": "code",
   "execution_count": 5,
   "id": "28c277c8",
   "metadata": {},
   "outputs": [],
   "source": [
    "library(KoNLP)"
   ]
  },
  {
   "cell_type": "markdown",
   "id": "73a0653f",
   "metadata": {},
   "source": [
    "* bulidDictionary(ext_dic, data) : 추가하고자 하는 단어와 품사가 들어간 **data.frame** 또는 **txt** 파일을 사전에 추가\n",
    "    * ext_dic : `woorimasam, sejong, insighter` 이 있음"
   ]
  },
  {
   "cell_type": "markdown",
   "id": "b10ea030",
   "metadata": {},
   "source": [
    "* extraNoun(text) : 명사를 추출하고자 하는 문장 또는 문서"
   ]
  },
  {
   "cell_type": "markdown",
   "id": "d62a901e",
   "metadata": {},
   "source": [
    "* SimplePos22(text) : 형태소 분석을 하고자 하는 문장 또는 문서"
   ]
  },
  {
   "cell_type": "markdown",
   "id": "44e0d2c4",
   "metadata": {},
   "source": [
    "* 간단한 문장으로 명사 추출, 사전 단어 추가, 품사를 확인해보자"
   ]
  },
  {
   "cell_type": "code",
   "execution_count": 23,
   "id": "f5d5629d",
   "metadata": {},
   "outputs": [
    {
     "name": "stdout",
     "output_type": "stream",
     "text": [
      "Backup was just finished!\n",
      "370957 words dictionary was built.\n"
     ]
    }
   ],
   "source": [
    "useSejongDic() ## 세종사전 사용"
   ]
  },
  {
   "cell_type": "code",
   "execution_count": 24,
   "id": "1e848e7d",
   "metadata": {},
   "outputs": [],
   "source": [
    "sentence <- \"아버지가 방에 스르륵 들어가신다.\""
   ]
  },
  {
   "cell_type": "code",
   "execution_count": 25,
   "id": "443f0c46",
   "metadata": {},
   "outputs": [
    {
     "data": {
      "text/html": [
       "<style>\n",
       ".list-inline {list-style: none; margin:0; padding: 0}\n",
       ".list-inline>li {display: inline-block}\n",
       ".list-inline>li:not(:last-child)::after {content: \"\\00b7\"; padding: 0 .5ex}\n",
       "</style>\n",
       "<ol class=list-inline><li>'아버지'</li><li>'방'</li><li>'스르륵'</li></ol>\n"
      ],
      "text/latex": [
       "\\begin{enumerate*}\n",
       "\\item '아버지'\n",
       "\\item '방'\n",
       "\\item '스르륵'\n",
       "\\end{enumerate*}\n"
      ],
      "text/markdown": [
       "1. '아버지'\n",
       "2. '방'\n",
       "3. '스르륵'\n",
       "\n",
       "\n"
      ],
      "text/plain": [
       "[1] \"아버지\" \"방\"     \"스르륵\""
      ]
     },
     "metadata": {},
     "output_type": "display_data"
    }
   ],
   "source": [
    "extractNoun(sentence) ## 명사추출 스르륵은 명사가 아니다."
   ]
  },
  {
   "cell_type": "code",
   "execution_count": 29,
   "id": "cb099d81",
   "metadata": {},
   "outputs": [
    {
     "name": "stdout",
     "output_type": "stream",
     "text": [
      "370961 words dictionary was built.\n"
     ]
    }
   ],
   "source": [
    "buildDictionary(ext_dic=\"sejong\",\n",
    "               user_dic = data.frame(c(\"스르륵\"),c(\"mag\")))  ## 스르륵을 부사로 추가"
   ]
  },
  {
   "cell_type": "markdown",
   "id": "cd4cc7c3",
   "metadata": {},
   "source": [
    "* 스르륵을 부사로 추가 후 다시 명사를 추출하였을 때 제대로 추출되었음을 알 수 있음"
   ]
  },
  {
   "cell_type": "code",
   "execution_count": 30,
   "id": "d82440c2",
   "metadata": {},
   "outputs": [
    {
     "data": {
      "text/html": [
       "<style>\n",
       ".list-inline {list-style: none; margin:0; padding: 0}\n",
       ".list-inline>li {display: inline-block}\n",
       ".list-inline>li:not(:last-child)::after {content: \"\\00b7\"; padding: 0 .5ex}\n",
       "</style>\n",
       "<ol class=list-inline><li>'아버지'</li><li>'방'</li></ol>\n"
      ],
      "text/latex": [
       "\\begin{enumerate*}\n",
       "\\item '아버지'\n",
       "\\item '방'\n",
       "\\end{enumerate*}\n"
      ],
      "text/markdown": [
       "1. '아버지'\n",
       "2. '방'\n",
       "\n",
       "\n"
      ],
      "text/plain": [
       "[1] \"아버지\" \"방\"    "
      ]
     },
     "metadata": {},
     "output_type": "display_data"
    }
   ],
   "source": [
    "extractNoun(sentence)"
   ]
  },
  {
   "cell_type": "markdown",
   "id": "c0592c58",
   "metadata": {},
   "source": [
    "*  KoNLP에서 제공하는 품사태그는 아래와 같다."
   ]
  },
  {
   "cell_type": "code",
   "execution_count": 36,
   "id": "8b763249",
   "metadata": {},
   "outputs": [
    {
     "data": {
      "image/png": "[encoded data removed]"
     },
     "metadata": {},
     "output_type": "display_data"
    }
   ],
   "source": [
    "display_png(file=\"C:\\\\Users\\\\rkdcj\\\\OneDrive\\\\바탕 화면\\\\품사.png\")"
   ]
  },
  {
   "cell_type": "markdown",
   "id": "552e5dee",
   "metadata": {},
   "source": [
    "* 아래의 함수를 이용하여 문장의 형태소 분석을 해보자."
   ]
  },
  {
   "cell_type": "code",
   "execution_count": 31,
   "id": "37050214",
   "metadata": {},
   "outputs": [
    {
     "data": {
      "text/html": [
       "<dl>\n",
       "\t<dt>$아버지가</dt>\n",
       "\t\t<dd>'아버지/NC+가/JC'</dd>\n",
       "\t<dt>$방에</dt>\n",
       "\t\t<dd>'방/NC+에/JC'</dd>\n",
       "\t<dt>$스르륵</dt>\n",
       "\t\t<dd>'스르륵/MA'</dd>\n",
       "\t<dt>$들어가신다</dt>\n",
       "\t\t<dd>'들/PV+어/EC+가/PX+시/EP+ㄴ다/EF'</dd>\n",
       "\t<dt>$.</dt>\n",
       "\t\t<dd>'./SF'</dd>\n",
       "</dl>\n"
      ],
      "text/latex": [
       "\\begin{description}\n",
       "\\item[\\$아버지가] '아버지/NC+가/JC'\n",
       "\\item[\\$방에] '방/NC+에/JC'\n",
       "\\item[\\$스르륵] '스르륵/MA'\n",
       "\\item[\\$들어가신다] '들/PV+어/EC+가/PX+시/EP+ㄴ다/EF'\n",
       "\\item[\\$.] './SF'\n",
       "\\end{description}\n"
      ],
      "text/markdown": [
       "$아버지가\n",
       ":   '아버지/NC+가/JC'\n",
       "$방에\n",
       ":   '방/NC+에/JC'\n",
       "$스르륵\n",
       ":   '스르륵/MA'\n",
       "$들어가신다\n",
       ":   '들/PV+어/EC+가/PX+시/EP+ㄴ다/EF'\n",
       "$.\n",
       ":   './SF'\n",
       "\n",
       "\n"
      ],
      "text/plain": [
       "$아버지가\n",
       "[1] \"아버지/NC+가/JC\"\n",
       "\n",
       "$방에\n",
       "[1] \"방/NC+에/JC\"\n",
       "\n",
       "$스르륵\n",
       "[1] \"스르륵/MA\"\n",
       "\n",
       "$들어가신다\n",
       "[1] \"들/PV+어/EC+가/PX+시/EP+ㄴ다/EF\"\n",
       "\n",
       "$.\n",
       "[1] \"./SF\"\n"
      ]
     },
     "metadata": {},
     "output_type": "display_data"
    }
   ],
   "source": [
    "SimplePos22(sentence)"
   ]
  },
  {
   "cell_type": "markdown",
   "id": "3dbb414f",
   "metadata": {},
   "source": [
    "## news data not use Corpus"
   ]
  },
  {
   "cell_type": "code",
   "execution_count": 93,
   "id": "f8be633b",
   "metadata": {},
   "outputs": [],
   "source": [
    "clean_txt2 <- function(txt) {\n",
    "        txt <- removeNumbers(txt) ## 숫자제거\n",
    "        txt <- removePunctuation(txt) ## 문장부호 제거\n",
    "        txt <- stripWhitespace(txt) ## 공백제거\n",
    "        txt <- gsub(\"[^[:alnum:]]\",\" \",txt) ## 영어와 숫자를 제거\n",
    "        return(txt)\n",
    "}"
   ]
  },
  {
   "cell_type": "code",
   "execution_count": 94,
   "id": "3a2a7f07",
   "metadata": {},
   "outputs": [],
   "source": [
    "clean.news <- clean_txt2(news)"
   ]
  },
  {
   "cell_type": "markdown",
   "id": "c6d3a059",
   "metadata": {},
   "source": [
    "* 전처리 결과 `푸드테크`, `스타트업`  등과 같은 복합명사가 분리되어 출력되는 것을 확인할 수 있었다."
   ]
  },
  {
   "cell_type": "markdown",
   "id": "65914b20",
   "metadata": {},
   "source": [
    "* 따라서 복합명사를 명사로 인식할 수 있도록 사전에 등록하고 다시 분석 결과를 확인하면 복합명사도 하나의 명사로 추가된 것으로 확인할 수 있다."
   ]
  },
  {
   "cell_type": "code",
   "execution_count": 55,
   "id": "4dc08be8",
   "metadata": {},
   "outputs": [
    {
     "data": {
      "text/html": [
       "<style>\n",
       ".list-inline {list-style: none; margin:0; padding: 0}\n",
       ".list-inline>li {display: inline-block}\n",
       ".list-inline>li:not(:last-child)::after {content: \"\\00b7\"; padding: 0 .5ex}\n",
       "</style>\n",
       "<ol class=list-inline><li>'푸드'</li><li>'테크'</li><li>'스타트'</li><li>'업'</li><li>'빅데이터'</li><li>'기반'</li></ol>\n"
      ],
      "text/latex": [
       "\\begin{enumerate*}\n",
       "\\item '푸드'\n",
       "\\item '테크'\n",
       "\\item '스타트'\n",
       "\\item '업'\n",
       "\\item '빅데이터'\n",
       "\\item '기반'\n",
       "\\end{enumerate*}\n"
      ],
      "text/markdown": [
       "1. '푸드'\n",
       "2. '테크'\n",
       "3. '스타트'\n",
       "4. '업'\n",
       "5. '빅데이터'\n",
       "6. '기반'\n",
       "\n",
       "\n"
      ],
      "text/plain": [
       "[1] \"푸드\"     \"테크\"     \"스타트\"   \"업\"       \"빅데이터\" \"기반\"    "
      ]
     },
     "metadata": {},
     "output_type": "display_data"
    }
   ],
   "source": [
    "head(extractNoun(clean.news[5]))"
   ]
  },
  {
   "cell_type": "code",
   "execution_count": 56,
   "id": "780e85c6",
   "metadata": {},
   "outputs": [
    {
     "name": "stdout",
     "output_type": "stream",
     "text": [
      "370965 words dictionary was built.\n"
     ]
    }
   ],
   "source": [
    "buildDictionary(ext_dic= \"sejong\",\n",
    "                user_dic=data.frame(c(read.table(\"food.txt\"))))"
   ]
  },
  {
   "cell_type": "code",
   "execution_count": 59,
   "id": "92a728ec",
   "metadata": {},
   "outputs": [
    {
     "data": {
      "text/html": [
       "<table class=\"dataframe\">\n",
       "<caption>A data.frame: 4 × 2</caption>\n",
       "<thead>\n",
       "\t<tr><th scope=col>V1</th><th scope=col>V2</th></tr>\n",
       "\t<tr><th scope=col>&lt;chr&gt;</th><th scope=col>&lt;chr&gt;</th></tr>\n",
       "</thead>\n",
       "<tbody>\n",
       "\t<tr><td>푸드테크    </td><td>ncn</td></tr>\n",
       "\t<tr><td>스타트업    </td><td>ncn</td></tr>\n",
       "\t<tr><td>빅데이터    </td><td>ncn</td></tr>\n",
       "\t<tr><td>우아한형제들</td><td>ncn</td></tr>\n",
       "</tbody>\n",
       "</table>\n"
      ],
      "text/latex": [
       "A data.frame: 4 × 2\n",
       "\\begin{tabular}{ll}\n",
       " V1 & V2\\\\\n",
       " <chr> & <chr>\\\\\n",
       "\\hline\n",
       "\t 푸드테크     & ncn\\\\\n",
       "\t 스타트업     & ncn\\\\\n",
       "\t 빅데이터     & ncn\\\\\n",
       "\t 우아한형제들 & ncn\\\\\n",
       "\\end{tabular}\n"
      ],
      "text/markdown": [
       "\n",
       "A data.frame: 4 × 2\n",
       "\n",
       "| V1 &lt;chr&gt; | V2 &lt;chr&gt; |\n",
       "|---|---|\n",
       "| 푸드테크     | ncn |\n",
       "| 스타트업     | ncn |\n",
       "| 빅데이터     | ncn |\n",
       "| 우아한형제들 | ncn |\n",
       "\n"
      ],
      "text/plain": [
       "  V1           V2 \n",
       "1 푸드테크     ncn\n",
       "2 스타트업     ncn\n",
       "3 빅데이터     ncn\n",
       "4 우아한형제들 ncn"
      ]
     },
     "metadata": {},
     "output_type": "display_data"
    }
   ],
   "source": [
    "read.table(\"food.txt\")"
   ]
  },
  {
   "cell_type": "code",
   "execution_count": 57,
   "id": "bd56549b",
   "metadata": {},
   "outputs": [
    {
     "data": {
      "text/html": [
       "<style>\n",
       ".list-inline {list-style: none; margin:0; padding: 0}\n",
       ".list-inline>li {display: inline-block}\n",
       ".list-inline>li:not(:last-child)::after {content: \"\\00b7\"; padding: 0 .5ex}\n",
       "</style>\n",
       "<ol class=list-inline><li>'푸드테크'</li><li>'스타트업'</li><li>'들이'</li><li>'빅데이터'</li><li>'기반'</li><li>'시스템'</li></ol>\n"
      ],
      "text/latex": [
       "\\begin{enumerate*}\n",
       "\\item '푸드테크'\n",
       "\\item '스타트업'\n",
       "\\item '들이'\n",
       "\\item '빅데이터'\n",
       "\\item '기반'\n",
       "\\item '시스템'\n",
       "\\end{enumerate*}\n"
      ],
      "text/markdown": [
       "1. '푸드테크'\n",
       "2. '스타트업'\n",
       "3. '들이'\n",
       "4. '빅데이터'\n",
       "5. '기반'\n",
       "6. '시스템'\n",
       "\n",
       "\n"
      ],
      "text/plain": [
       "[1] \"푸드테크\" \"스타트업\" \"들이\"     \"빅데이터\" \"기반\"     \"시스템\"  "
      ]
     },
     "metadata": {},
     "output_type": "display_data"
    }
   ],
   "source": [
    "head(extractNoun(clean.news[5]))"
   ]
  },
  {
   "cell_type": "markdown",
   "id": "79ce7717",
   "metadata": {},
   "source": [
    "* 위와 같이 복합명사도 하나의 명사로 추출된 것을 확인할 수 있다."
   ]
  },
  {
   "cell_type": "markdown",
   "id": "f54ca733",
   "metadata": {},
   "source": [
    "## SimplePos22를 활용해 형용사 추출하기"
   ]
  },
  {
   "cell_type": "code",
   "execution_count": 64,
   "id": "6405cd7d",
   "metadata": {},
   "outputs": [],
   "source": [
    "library(stringr) ## R에서 문자열을 처리할 수 있는 패키지"
   ]
  },
  {
   "cell_type": "code",
   "execution_count": 66,
   "id": "1d0a91cc",
   "metadata": {},
   "outputs": [],
   "source": [
    "doc1 <- paste(SimplePos22(clean.news[[2]]))"
   ]
  },
  {
   "cell_type": "code",
   "execution_count": 68,
   "id": "eb17f460",
   "metadata": {},
   "outputs": [
    {
     "data": {
      "text/html": [
       "<style>\n",
       ".list-inline {list-style: none; margin:0; padding: 0}\n",
       ".list-inline>li {display: inline-block}\n",
       ".list-inline>li:not(:last-child)::after {content: \"\\00b7\"; padding: 0 .5ex}\n",
       "</style>\n",
       "<ol class=list-inline><li>'첨단/NC'</li><li>'정보통신기술/NC+에/JC'</li><li>'AI/F'</li><li>'등/NB+이/JC'</li><li>'더하/PA+어/EC+지/PX+면서/EC'</li><li>'무기체계/NC+가/JC'</li></ol>\n"
      ],
      "text/latex": [
       "\\begin{enumerate*}\n",
       "\\item '첨단/NC'\n",
       "\\item '정보통신기술/NC+에/JC'\n",
       "\\item 'AI/F'\n",
       "\\item '등/NB+이/JC'\n",
       "\\item '더하/PA+어/EC+지/PX+면서/EC'\n",
       "\\item '무기체계/NC+가/JC'\n",
       "\\end{enumerate*}\n"
      ],
      "text/markdown": [
       "1. '첨단/NC'\n",
       "2. '정보통신기술/NC+에/JC'\n",
       "3. 'AI/F'\n",
       "4. '등/NB+이/JC'\n",
       "5. '더하/PA+어/EC+지/PX+면서/EC'\n",
       "6. '무기체계/NC+가/JC'\n",
       "\n",
       "\n"
      ],
      "text/plain": [
       "[1] \"첨단/NC\"                     \"정보통신기술/NC+에/JC\"      \n",
       "[3] \"AI/F\"                        \"등/NB+이/JC\"                \n",
       "[5] \"더하/PA+어/EC+지/PX+면서/EC\" \"무기체계/NC+가/JC\"          "
      ]
     },
     "metadata": {},
     "output_type": "display_data"
    }
   ],
   "source": [
    "head(doc1)"
   ]
  },
  {
   "cell_type": "markdown",
   "id": "461d5862",
   "metadata": {},
   "source": [
    "* 형용사의 품사는 PA 이므로 아래와 같은 함수를 이용하여 추출"
   ]
  },
  {
   "cell_type": "code",
   "execution_count": 69,
   "id": "57afd0c1",
   "metadata": {},
   "outputs": [],
   "source": [
    "doc2 <- str_match(doc1,\"([가-힣]+)/PA\") "
   ]
  },
  {
   "cell_type": "code",
   "execution_count": 73,
   "id": "e6e5cb31",
   "metadata": {},
   "outputs": [
    {
     "data": {
      "text/html": [
       "<table class=\"dataframe\">\n",
       "<caption>A matrix: 6 × 2 of type chr</caption>\n",
       "<tbody>\n",
       "\t<tr><td>NA     </td><td>NA  </td></tr>\n",
       "\t<tr><td>NA     </td><td>NA  </td></tr>\n",
       "\t<tr><td>NA     </td><td>NA  </td></tr>\n",
       "\t<tr><td>NA     </td><td>NA  </td></tr>\n",
       "\t<tr><td>더하/PA</td><td>더하</td></tr>\n",
       "\t<tr><td>NA     </td><td>NA  </td></tr>\n",
       "</tbody>\n",
       "</table>\n"
      ],
      "text/latex": [
       "A matrix: 6 × 2 of type chr\n",
       "\\begin{tabular}{ll}\n",
       "\t NA      & NA  \\\\\n",
       "\t NA      & NA  \\\\\n",
       "\t NA      & NA  \\\\\n",
       "\t NA      & NA  \\\\\n",
       "\t 더하/PA & 더하\\\\\n",
       "\t NA      & NA  \\\\\n",
       "\\end{tabular}\n"
      ],
      "text/markdown": [
       "\n",
       "A matrix: 6 × 2 of type chr\n",
       "\n",
       "| NA      | NA   |\n",
       "| NA      | NA   |\n",
       "| NA      | NA   |\n",
       "| NA      | NA   |\n",
       "| 더하/PA | 더하 |\n",
       "| NA      | NA   |\n",
       "\n"
      ],
      "text/plain": [
       "     [,1]    [,2]\n",
       "[1,] NA      NA  \n",
       "[2,] NA      NA  \n",
       "[3,] NA      NA  \n",
       "[4,] NA      NA  \n",
       "[5,] 더하/PA 더하\n",
       "[6,] NA      NA  "
      ]
     },
     "metadata": {},
     "output_type": "display_data"
    }
   ],
   "source": [
    "head(doc2)"
   ]
  },
  {
   "cell_type": "code",
   "execution_count": 83,
   "id": "4fbc454a",
   "metadata": {},
   "outputs": [
    {
     "data": {
      "text/html": [
       "<style>\n",
       ".list-inline {list-style: none; margin:0; padding: 0}\n",
       ".list-inline>li {display: inline-block}\n",
       ".list-inline>li:not(:last-child)::after {content: \"\\00b7\"; padding: 0 .5ex}\n",
       "</style>\n",
       "<ol class=list-inline><li>'더하'</li><li>'빠르'</li><li>'새롭'</li><li>'빠르'</li><li>'빠르'</li><li>'이러하'</li><li>'걸맞'</li></ol>\n"
      ],
      "text/latex": [
       "\\begin{enumerate*}\n",
       "\\item '더하'\n",
       "\\item '빠르'\n",
       "\\item '새롭'\n",
       "\\item '빠르'\n",
       "\\item '빠르'\n",
       "\\item '이러하'\n",
       "\\item '걸맞'\n",
       "\\end{enumerate*}\n"
      ],
      "text/markdown": [
       "1. '더하'\n",
       "2. '빠르'\n",
       "3. '새롭'\n",
       "4. '빠르'\n",
       "5. '빠르'\n",
       "6. '이러하'\n",
       "7. '걸맞'\n",
       "\n",
       "\n"
      ],
      "text/plain": [
       "[1] \"더하\"   \"빠르\"   \"새롭\"   \"빠르\"   \"빠르\"   \"이러하\" \"걸맞\"  "
      ]
     },
     "metadata": {},
     "output_type": "display_data"
    }
   ],
   "source": [
    "doc3 <- doc2 %>% na.omit()\n",
    "doc3[,2]"
   ]
  },
  {
   "cell_type": "markdown",
   "id": "4bd45cc7",
   "metadata": {},
   "source": [
    "## Stemming"
   ]
  },
  {
   "cell_type": "markdown",
   "id": "0db295c8",
   "metadata": {},
   "source": [
    "* 어간추출은 정해진 규칙만 보고 단어의 어미를 자르는 어림짐작의 작업이라고 할 수 있다.\n",
    "    * 즉, 공통 어간을 가지는 단어를 묶는 작업을 Stemming이라고 한다."
   ]
  },
  {
   "cell_type": "markdown",
   "id": "52b631bb",
   "metadata": {},
   "source": [
    "* R에서는 `tm`패키지에서 `stemDocument` 함수를 통해 공통으로 들어가지 않은 부분을 제외하고 `stemCompletion` 함수를 통해 `stemming`된 단어와 완성을 위한 `dictionary`를 함께 넣으면 기본적인 어휘로 완성해주는 역할을 한다."
   ]
  },
  {
   "cell_type": "code",
   "execution_count": 89,
   "id": "0fd268dc",
   "metadata": {},
   "outputs": [
    {
     "data": {
      "text/html": [
       "<style>\n",
       ".list-inline {list-style: none; margin:0; padding: 0}\n",
       ".list-inline>li {display: inline-block}\n",
       ".list-inline>li:not(:last-child)::after {content: \"\\00b7\"; padding: 0 .5ex}\n",
       "</style>\n",
       "<ol class=list-inline><li>'analyz'</li><li>'analyz'</li><li>'analyz'</li></ol>\n"
      ],
      "text/latex": [
       "\\begin{enumerate*}\n",
       "\\item 'analyz'\n",
       "\\item 'analyz'\n",
       "\\item 'analyz'\n",
       "\\end{enumerate*}\n"
      ],
      "text/markdown": [
       "1. 'analyz'\n",
       "2. 'analyz'\n",
       "3. 'analyz'\n",
       "\n",
       "\n"
      ],
      "text/plain": [
       "[1] \"analyz\" \"analyz\" \"analyz\""
      ]
     },
     "metadata": {},
     "output_type": "display_data"
    }
   ],
   "source": [
    "test <- stemDocument(c(\"analyze\",\"analyzed\",\"analyzing\"))\n",
    "test"
   ]
  },
  {
   "cell_type": "markdown",
   "id": "f5483b31",
   "metadata": {},
   "source": [
    "* 아래에서 중요한것은 `stemCompletion` 함수를 사용할 때에는 단어의 완성을 위해 반드시 `dictionary`가 필요하다."
   ]
  },
  {
   "cell_type": "code",
   "execution_count": 90,
   "id": "4e1bc01e",
   "metadata": {},
   "outputs": [
    {
     "data": {
      "text/html": [
       "<style>\n",
       ".dl-inline {width: auto; margin:0; padding: 0}\n",
       ".dl-inline>dt, .dl-inline>dd {float: none; width: auto; display: inline-block}\n",
       ".dl-inline>dt::after {content: \":\\0020\"; padding-right: .5ex}\n",
       ".dl-inline>dt:not(:first-of-type) {padding-left: .5ex}\n",
       "</style><dl class=dl-inline><dt>analyz</dt><dd>'analyze'</dd><dt>analyz</dt><dd>'analyze'</dd><dt>analyz</dt><dd>'analyze'</dd></dl>\n"
      ],
      "text/latex": [
       "\\begin{description*}\n",
       "\\item[analyz] 'analyze'\n",
       "\\item[analyz] 'analyze'\n",
       "\\item[analyz] 'analyze'\n",
       "\\end{description*}\n"
      ],
      "text/markdown": [
       "analyz\n",
       ":   'analyze'analyz\n",
       ":   'analyze'analyz\n",
       ":   'analyze'\n",
       "\n"
      ],
      "text/plain": [
       "   analyz    analyz    analyz \n",
       "\"analyze\" \"analyze\" \"analyze\" "
      ]
     },
     "metadata": {},
     "output_type": "display_data"
    }
   ],
   "source": [
    "stemCompletion(test,dictionary =c(\"analyze\",\"analyzed\",\"analyzing\") )"
   ]
  },
  {
   "cell_type": "markdown",
   "id": "b17946eb",
   "metadata": {},
   "source": [
    "## TDM"
   ]
  },
  {
   "cell_type": "markdown",
   "id": "6e56d519",
   "metadata": {},
   "source": [
    " * R에서 `tm`패키지의 `TermDocumentMatric`을 사용하여 문서-단어 빈도행렬을 만들 수 있다. 단 객체는 `Corpus` 객체를 이용하여야함."
   ]
  },
  {
   "cell_type": "code",
   "execution_count": 100,
   "id": "39970113",
   "metadata": {},
   "outputs": [],
   "source": [
    "VC.news <- VCorpus(VectorSource(clean.news))"
   ]
  },
  {
   "cell_type": "code",
   "execution_count": 102,
   "id": "4e2aab16",
   "metadata": {},
   "outputs": [
    {
     "name": "stdout",
     "output_type": "stream",
     "text": [
      "<<TermDocumentMatrix (terms: 1011, documents: 10)>>\n",
      "Non-/sparse entries: 1144/8966\n",
      "Sparsity           : 89%\n",
      "Maximal term length: 14\n",
      "Weighting          : term frequency (tf)\n",
      "Sample             :\n",
      "            Docs\n",
      "Terms        1 10 2 3 4 5 6 7 8 9\n",
      "  관계자는   0  1 0 1 0 3 0 1 0 0\n",
      "  데이터     0  4 3 6 8 3 7 1 4 5\n",
      "  밝혔다     0  1 0 1 2 0 1 0 2 0\n",
      "  분석을     1  0 0 1 2 0 2 0 0 0\n",
      "  브라이틱스 0  0 0 0 9 0 0 0 0 0\n",
      "  빅데이터   1  1 3 1 2 5 0 2 1 4\n",
      "  빅데이터를 0  2 0 0 0 5 0 0 0 1\n",
      "  서비스를   1  2 1 0 0 2 2 0 0 0\n",
      "  전문가     2  0 1 0 1 0 1 0 2 0\n",
      "  활용한     0  0 2 0 1 0 2 0 2 1\n"
     ]
    }
   ],
   "source": [
    "inspect(TermDocumentMatrix(VC.news))"
   ]
  },
  {
   "cell_type": "markdown",
   "id": "7d8e7875",
   "metadata": {},
   "source": [
    "* 총 10개의 기사에서 11의 단어가 추출된 것을 확인하였다."
   ]
  },
  {
   "cell_type": "markdown",
   "id": "0218a941",
   "metadata": {},
   "source": [
    "### 명사만 추출하여 TDM을 만들기"
   ]
  },
  {
   "cell_type": "markdown",
   "id": "642143c9",
   "metadata": {},
   "source": [
    "* 사용자 정의 함수 생성"
   ]
  },
  {
   "cell_type": "code",
   "execution_count": 104,
   "id": "79ca8d37",
   "metadata": {},
   "outputs": [],
   "source": [
    "words <- function(doc) {\n",
    "    doc <- as.character(doc)\n",
    "    extractNoun(doc)\n",
    "}"
   ]
  },
  {
   "cell_type": "markdown",
   "id": "ef602365",
   "metadata": {},
   "source": [
    "* 명사만 추출한 TDM 생성"
   ]
  },
  {
   "cell_type": "code",
   "execution_count": 105,
   "id": "f2d05b08",
   "metadata": {},
   "outputs": [],
   "source": [
    "TDM.news2 <- TermDocumentMatrix(VC.news, control = list(tokenize = words))"
   ]
  },
  {
   "cell_type": "code",
   "execution_count": 106,
   "id": "0ab7e401",
   "metadata": {},
   "outputs": [
    {
     "name": "stdout",
     "output_type": "stream",
     "text": [
      "<<TermDocumentMatrix (terms: 289, documents: 10)>>\n",
      "Non-/sparse entries: 360/2530\n",
      "Sparsity           : 88%\n",
      "Maximal term length: 14\n",
      "Weighting          : term frequency (tf)\n",
      "Sample             :\n",
      "            Docs\n",
      "Terms        1 10 2 3 4  5  6 7 8 9\n",
      "  경쟁력     1  0 0 2 0  1  1 0 1 1\n",
      "  경진대회   0  0 0 0 1  0  0 2 0 5\n",
      "  관계자     0  1 0 1 0  3  0 1 0 0\n",
      "  광양제철소 0  0 0 0 0  0  0 0 0 6\n",
      "  데이터     3  6 3 7 8  7 10 3 5 5\n",
      "  브라이틱스 0  0 0 0 9  0  0 0 0 0\n",
      "  빅데이터   1  4 4 1 3 16  0 2 1 6\n",
      "  서비스     3  3 3 0 0  7  3 1 0 0\n",
      "  시스템     0  2 0 2 1  3  0 0 0 0\n",
      "  전문가     2  1 1 4 1  1  1 1 2 1\n"
     ]
    }
   ],
   "source": [
    "inspect(TDM.news2)"
   ]
  },
  {
   "cell_type": "markdown",
   "id": "d2187b0b",
   "metadata": {},
   "source": [
    "* 총 289개의 단어가 추출되었다."
   ]
  },
  {
   "cell_type": "markdown",
   "id": "9b3ed06e",
   "metadata": {},
   "source": [
    "* TDM으로 나타난 단어들의 빈도 체크"
   ]
  },
  {
   "cell_type": "code",
   "execution_count": null,
   "id": "80827682",
   "metadata": {},
   "outputs": [],
   "source": [
    "tdm2 <- as.matrix(TDM.news2)\n",
    "tdm3 <- rowSums(tdm2)\n",
    "tdm4 <- tdm3[order(tdm3,decreasing = T)]"
   ]
  },
  {
   "cell_type": "code",
   "execution_count": 111,
   "id": "7326c8d8",
   "metadata": {},
   "outputs": [
    {
     "data": {
      "text/html": [
       "<style>\n",
       ".dl-inline {width: auto; margin:0; padding: 0}\n",
       ".dl-inline>dt, .dl-inline>dd {float: none; width: auto; display: inline-block}\n",
       ".dl-inline>dt::after {content: \":\\0020\"; padding-right: .5ex}\n",
       ".dl-inline>dt:not(:first-of-type) {padding-left: .5ex}\n",
       "</style><dl class=dl-inline><dt>데이터</dt><dd>57</dd><dt>빅데이터</dt><dd>38</dd><dt>서비스</dt><dd>20</dd><dt>전문가</dt><dd>15</dd><dt>브라이틱스</dt><dd>9</dd><dt>경진대회</dt><dd>8</dd><dt>시스템</dt><dd>8</dd><dt>경쟁력</dt><dd>7</dd><dt>관계자</dt><dd>6</dd><dt>광양제철소</dt><dd>6</dd></dl>\n"
      ],
      "text/latex": [
       "\\begin{description*}\n",
       "\\item[데이터] 57\n",
       "\\item[빅데이터] 38\n",
       "\\item[서비스] 20\n",
       "\\item[전문가] 15\n",
       "\\item[브라이틱스] 9\n",
       "\\item[경진대회] 8\n",
       "\\item[시스템] 8\n",
       "\\item[경쟁력] 7\n",
       "\\item[관계자] 6\n",
       "\\item[광양제철소] 6\n",
       "\\end{description*}\n"
      ],
      "text/markdown": [
       "데이터\n",
       ":   57빅데이터\n",
       ":   38서비스\n",
       ":   20전문가\n",
       ":   15브라이틱스\n",
       ":   9경진대회\n",
       ":   8시스템\n",
       ":   8경쟁력\n",
       ":   7관계자\n",
       ":   6광양제철소\n",
       ":   6\n",
       "\n"
      ],
      "text/plain": [
       "    데이터   빅데이터     서비스     전문가 브라이틱스   경진대회     시스템 \n",
       "        57         38         20         15          9          8          8 \n",
       "    경쟁력     관계자 광양제철소 \n",
       "         7          6          6 "
      ]
     },
     "metadata": {},
     "output_type": "display_data"
    }
   ],
   "source": [
    "tdm4[1:10]"
   ]
  },
  {
   "cell_type": "markdown",
   "id": "dd746d5d",
   "metadata": {},
   "source": [
    "* 단어 사전을 정의하여 특정 단어들에 대해서만 분석 결과를 확인해보자."
   ]
  },
  {
   "cell_type": "code",
   "execution_count": 116,
   "id": "fbb97d0e",
   "metadata": {},
   "outputs": [],
   "source": [
    "mydict <- names(tdm4)[1:10]"
   ]
  },
  {
   "cell_type": "code",
   "execution_count": 117,
   "id": "27bba6ea",
   "metadata": {},
   "outputs": [],
   "source": [
    "my.news <- TermDocumentMatrix(VC.news, control = list(tokenize=words,dictionary=mydict))"
   ]
  },
  {
   "cell_type": "code",
   "execution_count": 118,
   "id": "66dcab34",
   "metadata": {},
   "outputs": [
    {
     "data": {
      "text/plain": [
       "<<TermDocumentMatrix (terms: 10, documents: 10)>>\n",
       "Non-/sparse entries: 54/46\n",
       "Sparsity           : 46%\n",
       "Maximal term length: 5\n",
       "Weighting          : term frequency (tf)"
      ]
     },
     "metadata": {},
     "output_type": "display_data"
    }
   ],
   "source": [
    "my.news"
   ]
  },
  {
   "cell_type": "markdown",
   "id": "9d905b45",
   "metadata": {},
   "source": [
    "* 상위 10개 단어에 대해서만 추출하엿다."
   ]
  },
  {
   "cell_type": "code",
   "execution_count": 119,
   "id": "342ac24c",
   "metadata": {},
   "outputs": [
    {
     "name": "stdout",
     "output_type": "stream",
     "text": [
      "<<TermDocumentMatrix (terms: 10, documents: 10)>>\n",
      "Non-/sparse entries: 54/46\n",
      "Sparsity           : 46%\n",
      "Maximal term length: 5\n",
      "Weighting          : term frequency (tf)\n",
      "Sample             :\n",
      "            Docs\n",
      "Terms        1 10 2 3 4  5  6 7 8 9\n",
      "  경쟁력     1  0 0 2 0  1  1 0 1 1\n",
      "  경진대회   0  0 0 0 1  0  0 2 0 5\n",
      "  관계자     0  1 0 1 0  3  0 1 0 0\n",
      "  광양제철소 0  0 0 0 0  0  0 0 0 6\n",
      "  데이터     3  6 3 7 8  7 10 3 5 5\n",
      "  브라이틱스 0  0 0 0 9  0  0 0 0 0\n",
      "  빅데이터   1  4 4 1 3 16  0 2 1 6\n",
      "  서비스     3  3 3 0 0  7  3 1 0 0\n",
      "  시스템     0  2 0 2 1  3  0 0 0 0\n",
      "  전문가     2  1 1 4 1  1  1 1 2 1\n"
     ]
    }
   ],
   "source": [
    "inspect(my.news)"
   ]
  },
  {
   "cell_type": "markdown",
   "id": "9c8e4f86",
   "metadata": {},
   "source": [
    "# TDM을 활용한 분석 및 시각화"
   ]
  },
  {
   "cell_type": "code",
   "execution_count": 125,
   "id": "c0317cd9",
   "metadata": {},
   "outputs": [
    {
     "data": {
      "text/html": [
       "<style>\n",
       ".list-inline {list-style: none; margin:0; padding: 0}\n",
       ".list-inline>li {display: inline-block}\n",
       ".list-inline>li:not(:last-child)::after {content: \"\\00b7\"; padding: 0 .5ex}\n",
       "</style>\n",
       "<ol class=list-inline><li>'데이터'</li><li>'빅데이터'</li><li>'서비스'</li><li>'전문가'</li></ol>\n"
      ],
      "text/latex": [
       "\\begin{enumerate*}\n",
       "\\item '데이터'\n",
       "\\item '빅데이터'\n",
       "\\item '서비스'\n",
       "\\item '전문가'\n",
       "\\end{enumerate*}\n"
      ],
      "text/markdown": [
       "1. '데이터'\n",
       "2. '빅데이터'\n",
       "3. '서비스'\n",
       "4. '전문가'\n",
       "\n",
       "\n"
      ],
      "text/plain": [
       "[1] \"데이터\"   \"빅데이터\" \"서비스\"   \"전문가\"  "
      ]
     },
     "metadata": {},
     "output_type": "display_data"
    }
   ],
   "source": [
    "findFreqTerms(my.news,10,Inf) ## 단어 빈도가 10 이상인 단어 추출"
   ]
  },
  {
   "cell_type": "markdown",
   "id": "97e42367",
   "metadata": {},
   "source": [
    "* 빅데이터라는 단어와의 연관성이 0.9 이상인 단어들을 추출"
   ]
  },
  {
   "cell_type": "code",
   "execution_count": 126,
   "id": "41935396",
   "metadata": {},
   "outputs": [
    {
     "data": {
      "text/html": [
       "<strong>$빅데이터</strong> = <style>\n",
       ".dl-inline {width: auto; margin:0; padding: 0}\n",
       ".dl-inline>dt, .dl-inline>dd {float: none; width: auto; display: inline-block}\n",
       ".dl-inline>dt::after {content: \":\\0020\"; padding-right: .5ex}\n",
       ".dl-inline>dt:not(:first-of-type) {padding-left: .5ex}\n",
       "</style><dl class=dl-inline><dt>가맹점</dt><dd>0.92</dd><dt>개발자</dt><dd>0.92</dd><dt>경쟁이</dt><dd>0.92</dd><dt>고객사를</dt><dd>0.92</dd><dt>기대감</dt><dd>0.92</dd><dt>김봉진이</dt><dd>0.92</dd><dt>내비쳤</dt><dd>0.92</dd><dt>데이터베이스db에서</dt><dd>0.92</dd><dt>메쉬코리아대표</dt><dd>0.92</dd><dt>바로고대표</dt><dd>0.92</dd><dt>바로고만</dt><dd>0.92</dd><dt>배달기사</dt><dd>0.92</dd><dt>배민라이더스는</dt><dd>0.92</dd><dt>벤디츠대표</dt><dd>0.92</dd><dt>붐업도</dt><dd>0.92</dd><dt>브랜드</dt><dd>0.92</dd><dt>비효율</dt><dd>0.92</dd><dt>사륜차</dt><dd>0.92</dd><dt>사이언티스트를</dt><dd>0.92</dd><dt>상생윈윈할</dt><dd>0.92</dd><dt>소비자</dt><dd>0.92</dd><dt>스파이더크래프트대표</dt><dd>0.92</dd><dt>시너지</dt><dd>0.92</dd><dt>연구개발rd</dt><dd>0.92</dd><dt>염상준는</dt><dd>0.92</dd><dt>우아한형제들</dt><dd>0.92</dd><dt>운영사</dt><dd>0.92</dd><dt>유현철는</dt><dd>0.92</dd><dt>이륜차</dt><dd>0.92</dd><dt>자신감</dt><dd>0.92</dd><dt>차별화</dt><dd>0.92</dd><dt>카카오</dt><dd>0.92</dd><dt>컨설팅</dt><dd>0.92</dd><dt>클라우드를</dt><dd>0.92</dd><dt>편의성</dt><dd>0.92</dd><dt>푸드테크</dt><dd>0.92</dd><dt>피드백</dt><dd>0.92</dd><dt>해법으로</dt><dd>0.92</dd><dt>화물차</dt><dd>0.92</dd><dt>효율화</dt><dd>0.92</dd></dl>\n"
      ],
      "text/latex": [
       "\\textbf{\\$빅데이터} = \\begin{description*}\n",
       "\\item[가맹점] 0.92\n",
       "\\item[개발자] 0.92\n",
       "\\item[경쟁이] 0.92\n",
       "\\item[고객사를] 0.92\n",
       "\\item[기대감] 0.92\n",
       "\\item[김봉진이] 0.92\n",
       "\\item[내비쳤] 0.92\n",
       "\\item[데이터베이스db에서] 0.92\n",
       "\\item[메쉬코리아대표] 0.92\n",
       "\\item[바로고대표] 0.92\n",
       "\\item[바로고만] 0.92\n",
       "\\item[배달기사] 0.92\n",
       "\\item[배민라이더스는] 0.92\n",
       "\\item[벤디츠대표] 0.92\n",
       "\\item[붐업도] 0.92\n",
       "\\item[브랜드] 0.92\n",
       "\\item[비효율] 0.92\n",
       "\\item[사륜차] 0.92\n",
       "\\item[사이언티스트를] 0.92\n",
       "\\item[상생윈윈할] 0.92\n",
       "\\item[소비자] 0.92\n",
       "\\item[스파이더크래프트대표] 0.92\n",
       "\\item[시너지] 0.92\n",
       "\\item[연구개발rd] 0.92\n",
       "\\item[염상준는] 0.92\n",
       "\\item[우아한형제들] 0.92\n",
       "\\item[운영사] 0.92\n",
       "\\item[유현철는] 0.92\n",
       "\\item[이륜차] 0.92\n",
       "\\item[자신감] 0.92\n",
       "\\item[차별화] 0.92\n",
       "\\item[카카오] 0.92\n",
       "\\item[컨설팅] 0.92\n",
       "\\item[클라우드를] 0.92\n",
       "\\item[편의성] 0.92\n",
       "\\item[푸드테크] 0.92\n",
       "\\item[피드백] 0.92\n",
       "\\item[해법으로] 0.92\n",
       "\\item[화물차] 0.92\n",
       "\\item[효율화] 0.92\n",
       "\\end{description*}\n"
      ],
      "text/markdown": [
       "**$빅데이터** = 가맹점\n",
       ":   0.92개발자\n",
       ":   0.92경쟁이\n",
       ":   0.92고객사를\n",
       ":   0.92기대감\n",
       ":   0.92김봉진이\n",
       ":   0.92내비쳤\n",
       ":   0.92데이터베이스db에서\n",
       ":   0.92메쉬코리아대표\n",
       ":   0.92바로고대표\n",
       ":   0.92바로고만\n",
       ":   0.92배달기사\n",
       ":   0.92배민라이더스는\n",
       ":   0.92벤디츠대표\n",
       ":   0.92붐업도\n",
       ":   0.92브랜드\n",
       ":   0.92비효율\n",
       ":   0.92사륜차\n",
       ":   0.92사이언티스트를\n",
       ":   0.92상생윈윈할\n",
       ":   0.92소비자\n",
       ":   0.92스파이더크래프트대표\n",
       ":   0.92시너지\n",
       ":   0.92연구개발rd\n",
       ":   0.92염상준는\n",
       ":   0.92우아한형제들\n",
       ":   0.92운영사\n",
       ":   0.92유현철는\n",
       ":   0.92이륜차\n",
       ":   0.92자신감\n",
       ":   0.92차별화\n",
       ":   0.92카카오\n",
       ":   0.92컨설팅\n",
       ":   0.92클라우드를\n",
       ":   0.92편의성\n",
       ":   0.92푸드테크\n",
       ":   0.92피드백\n",
       ":   0.92해법으로\n",
       ":   0.92화물차\n",
       ":   0.92효율화\n",
       ":   0.92\n",
       "\n"
      ],
      "text/plain": [
       "$빅데이터\n",
       "              가맹점               개발자               경쟁이 \n",
       "                0.92                 0.92                 0.92 \n",
       "            고객사를               기대감             김봉진이 \n",
       "                0.92                 0.92                 0.92 \n",
       "              내비쳤   데이터베이스db에서       메쉬코리아대표 \n",
       "                0.92                 0.92                 0.92 \n",
       "          바로고대표             바로고만             배달기사 \n",
       "                0.92                 0.92                 0.92 \n",
       "      배민라이더스는           벤디츠대표               붐업도 \n",
       "                0.92                 0.92                 0.92 \n",
       "              브랜드               비효율               사륜차 \n",
       "                0.92                 0.92                 0.92 \n",
       "      사이언티스트를           상생윈윈할               소비자 \n",
       "                0.92                 0.92                 0.92 \n",
       "스파이더크래프트대표               시너지           연구개발rd \n",
       "                0.92                 0.92                 0.92 \n",
       "            염상준는         우아한형제들               운영사 \n",
       "                0.92                 0.92                 0.92 \n",
       "            유현철는               이륜차               자신감 \n",
       "                0.92                 0.92                 0.92 \n",
       "              차별화               카카오               컨설팅 \n",
       "                0.92                 0.92                 0.92 \n",
       "          클라우드를               편의성             푸드테크 \n",
       "                0.92                 0.92                 0.92 \n",
       "              피드백             해법으로               화물차 \n",
       "                0.92                 0.92                 0.92 \n",
       "              효율화 \n",
       "                0.92 \n"
      ]
     },
     "metadata": {},
     "output_type": "display_data"
    }
   ],
   "source": [
    "findAssocs(TDM.news2,\"빅데이터\",0.9)"
   ]
  },
  {
   "cell_type": "markdown",
   "id": "95a1c058",
   "metadata": {},
   "source": [
    "* TDM.news2 데이터를 워드 클라우드로 만들어 보자."
   ]
  },
  {
   "cell_type": "markdown",
   "id": "a8d4b01f",
   "metadata": {},
   "source": [
    "* 함수 인자는 아래와 같다."
   ]
  },
  {
   "cell_type": "markdown",
   "id": "46c083ec",
   "metadata": {},
   "source": [
    "`1` words : 워드클라우드를 만들고자 하는 단어,"
   ]
  },
  {
   "cell_type": "markdown",
   "id": "64e6813d",
   "metadata": {},
   "source": [
    "`2` freq :   단어의 빈도"
   ]
  },
  {
   "cell_type": "markdown",
   "id": "1c3ce286",
   "metadata": {},
   "source": [
    "`3` min.freq : 시각화하려는 단어의 최소빈도"
   ]
  },
  {
   "cell_type": "markdown",
   "id": "93d13dde",
   "metadata": {},
   "source": [
    "`4` random.order : 단어의 배치를 랜덤으로 할지 정함, (F 인 경우 빈도순으로 그려짐)"
   ]
  },
  {
   "cell_type": "markdown",
   "id": "0315dcb9",
   "metadata": {},
   "source": [
    "`5` colors : 빈도에 다라 단어의 색을 지정"
   ]
  },
  {
   "cell_type": "code",
   "execution_count": 130,
   "id": "f67c04c1",
   "metadata": {},
   "outputs": [],
   "source": [
    "library(wordcloud)"
   ]
  },
  {
   "cell_type": "code",
   "execution_count": 159,
   "id": "b31e7df2",
   "metadata": {},
   "outputs": [],
   "source": [
    "freq <- rowSums(as.matrix(TDM.news2))"
   ]
  },
  {
   "cell_type": "code",
   "execution_count": 163,
   "id": "04e0a897",
   "metadata": {},
   "outputs": [],
   "source": [
    "options(repr.plot.res=200)"
   ]
  },
  {
   "cell_type": "code",
   "execution_count": 167,
   "id": "f12d8c62",
   "metadata": {},
   "outputs": [
    {
     "data": {
      "image/png": "[encoded data removed]",
      "text/plain": [
       "plot without title"
      ]
     },
     "metadata": {
      "image/png": {
       "height": 700,
       "width": 700
      }
     },
     "output_type": "display_data"
    }
   ],
   "source": [
    "wordcloud(words = names(freq),\n",
    "          freq = freq,\n",
    "          min.freq=5,\n",
    "          random.order=F,\n",
    "          colors = brewer.pal(8,\"Dark2\"))"
   ]
  }
 ],
 "metadata": {
  "kernelspec": {
   "display_name": "R",
   "language": "R",
   "name": "ir"
  },
  "language_info": {
   "codemirror_mode": "r",
   "file_extension": ".r",
   "mimetype": "text/x-r-source",
   "name": "R",
   "pygments_lexer": "r",
   "version": "4.1.2"
  },
  "toc": {
   "base_numbering": 1,
   "nav_menu": {},
   "number_sections": false,
   "sideBar": true,
   "skip_h1_title": false,
   "title_cell": "Table of Contents",
   "title_sidebar": "Contents",
   "toc_cell": false,
   "toc_position": {
    "height": "541.6px",
    "left": "716px",
    "top": "324.125px",
    "width": "307.2px"
   },
   "toc_section_display": true,
   "toc_window_display": true
  }
 },
 "nbformat": 4,
 "nbformat_minor": 5
}
