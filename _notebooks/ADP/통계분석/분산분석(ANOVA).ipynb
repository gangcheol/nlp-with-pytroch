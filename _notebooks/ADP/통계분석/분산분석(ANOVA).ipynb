{
 "cells": [
  {
   "cell_type": "markdown",
   "metadata": {},
   "source": [
    "# 일원배치 분산분석 (one-way ANOVA)"
   ]
  },
  {
   "cell_type": "markdown",
   "metadata": {},
   "source": [
    "* T-검정과 달리 두 개 이상의 다수 집단 간 평균을 비교하는 통계분석 방법"
   ]
  },
  {
   "cell_type": "markdown",
   "metadata": {},
   "source": [
    "* 반응값에 대한 하나의 범주형 변수의 영향을 알아보기 위해 사용한다."
   ]
  },
  {
   "cell_type": "markdown",
   "metadata": {},
   "source": [
    "* 가정 : 각 집단의 측정치는 **서로 독립적이며, 정규분포를 따른다. 또한 각 집단 측정치의 분산은 같다.**"
   ]
  },
  {
   "cell_type": "markdown",
   "metadata": {},
   "source": [
    "* 등분산 검정은 : 정규성을 만족할 경우 `Bartlett.test`, 그렇지 않은 경우`Levene.test`(lawstat 패키지)를 사용"
   ]
  },
  {
   "cell_type": "markdown",
   "metadata": {},
   "source": [
    "* 정규성 가정이 깨졌다면? $\\to$ kruskal-Wallis Rank Sum Test"
   ]
  },
  {
   "cell_type": "markdown",
   "metadata": {},
   "source": [
    "* 정규성 가정이 깨지지 않았다면? ->`F통계량`에 근거한 `p-value` 값으로 가설의 유의성을 검증한다."
   ]
  },
  {
   "cell_type": "markdown",
   "metadata": {},
   "source": [
    "* 사후 검정 : 귀무가설이 기각된 경우 어떠한 집단들에 대해서 평균의 차이가 존재하는지를 알아보기 위해 실시하는 분석"
   ]
  },
  {
   "cell_type": "markdown",
   "metadata": {},
   "source": [
    "## R 실습"
   ]
  },
  {
   "cell_type": "code",
   "execution_count": 10,
   "metadata": {},
   "outputs": [
    {
     "data": {
      "text/plain": [
       "iris$Species: setosa\n",
       "\n",
       "\tShapiro-Wilk normality test\n",
       "\n",
       "data:  dd[x, ]\n",
       "W = 0.97172, p-value = 0.2715\n",
       "\n",
       "------------------------------------------------------------ \n",
       "iris$Species: versicolor\n",
       "\n",
       "\tShapiro-Wilk normality test\n",
       "\n",
       "data:  dd[x, ]\n",
       "W = 0.97413, p-value = 0.338\n",
       "\n",
       "------------------------------------------------------------ \n",
       "iris$Species: virginica\n",
       "\n",
       "\tShapiro-Wilk normality test\n",
       "\n",
       "data:  dd[x, ]\n",
       "W = 0.96739, p-value = 0.1809\n"
      ]
     },
     "metadata": {},
     "output_type": "display_data"
    }
   ],
   "source": [
    "by( iris$Sepal.Width,iris$Species,shapiro.test)"
   ]
  },
  {
   "cell_type": "markdown",
   "metadata": {},
   "source": [
    "* 정규성 검정결과 세 가지 종 모두 정규성을 만족한다."
   ]
  },
  {
   "cell_type": "code",
   "execution_count": 18,
   "metadata": {},
   "outputs": [
    {
     "name": "stdout",
     "output_type": "stream",
     "text": [
      "'data.frame':\t150 obs. of  5 variables:\n",
      " $ Sepal.Length: num  5.1 4.9 4.7 4.6 5 5.4 4.6 5 4.4 4.9 ...\n",
      " $ Sepal.Width : num  3.5 3 3.2 3.1 3.6 3.9 3.4 3.4 2.9 3.1 ...\n",
      " $ Petal.Length: num  1.4 1.4 1.3 1.5 1.4 1.7 1.4 1.5 1.4 1.5 ...\n",
      " $ Petal.Width : num  0.2 0.2 0.2 0.2 0.2 0.4 0.3 0.2 0.2 0.1 ...\n",
      " $ Species     : Factor w/ 3 levels \"setosa\",\"versicolor\",..: 1 1 1 1 1 1 1 1 1 1 ...\n"
     ]
    }
   ],
   "source": [
    "str(iris)"
   ]
  },
  {
   "cell_type": "code",
   "execution_count": 20,
   "metadata": {},
   "outputs": [
    {
     "data": {
      "text/plain": [
       "\n",
       "\tBartlett test of homogeneity of variances\n",
       "\n",
       "data:  Sepal.Width by Species\n",
       "Bartlett's K-squared = 2.0911, df = 2, p-value = 0.3515\n"
      ]
     },
     "metadata": {},
     "output_type": "display_data"
    }
   ],
   "source": [
    "bartlett.test(Sepal.Width~Species ,data= iris)"
   ]
  },
  {
   "cell_type": "markdown",
   "metadata": {},
   "source": [
    "* 검정결과 3가지 종의 꽃잎길이는 등분산성을 만족한다."
   ]
  },
  {
   "cell_type": "markdown",
   "metadata": {},
   "source": [
    "* 정규성과 등분산성을 만족한다는 가정하에 일원배치 분산분석을 수행"
   ]
  },
  {
   "cell_type": "code",
   "execution_count": 30,
   "metadata": {},
   "outputs": [
    {
     "data": {
      "text/plain": [
       "\n",
       "\tOne-way analysis of means\n",
       "\n",
       "data:  Sepal.Width and Species\n",
       "F = 49.16, num df = 2, denom df = 147, p-value < 2.2e-16\n"
      ]
     },
     "metadata": {},
     "output_type": "display_data"
    }
   ],
   "source": [
    "result <- oneway.test(Sepal.Width~Species, data=iris,var.equal=T)\n",
    "result"
   ]
  },
  {
   "cell_type": "markdown",
   "metadata": {},
   "source": [
    "* 검정결과 귀무가설을 기각 즉, 적어도 어느 하나의 종의 `Speal.Width`가 나머지 종들과 통계적으로 유의한 차이가 있다고 말할 수 있다."
   ]
  },
  {
   "cell_type": "markdown",
   "metadata": {},
   "source": [
    "*  사후검정을 통해 확인"
   ]
  },
  {
   "cell_type": "code",
   "execution_count": 49,
   "metadata": {},
   "outputs": [],
   "source": [
    "library(stats)"
   ]
  },
  {
   "cell_type": "code",
   "execution_count": 64,
   "metadata": {},
   "outputs": [
    {
     "data": {
      "text/plain": [
       "\n",
       "\tPairwise comparisons using t tests with non-pooled SD \n",
       "\n",
       "data:  iris$Sepal.Width and iris$Species \n",
       "\n",
       "           setosa  versicolor\n",
       "versicolor 7.5e-15 -         \n",
       "virginica  1.4e-08 0.0055    \n",
       "\n",
       "P value adjustment method: bonferroni "
      ]
     },
     "metadata": {},
     "output_type": "display_data"
    }
   ],
   "source": [
    "pairwise.t.test(iris$Sepal.Width,iris$Species,pool.sd=F,p.adj=\"bonf\") ## pool.sd=F는 합동공분산 사용여부 "
   ]
  },
  {
   "cell_type": "markdown",
   "metadata": {},
   "source": [
    "* $H_0 : $ 집단들 사이의 평균은 같다."
   ]
  },
  {
   "cell_type": "markdown",
   "metadata": {},
   "source": [
    "* $H_1 : $ 집단들 사이의 평균은 같지 않다."
   ]
  },
  {
   "cell_type": "markdown",
   "metadata": {},
   "source": [
    "* $p-value$ 값을 살펴본 결과 모든 종들에 대해서 꽃받침 폭의 평균값은 통계적으로 유의한 차이가 있다는 것을 알 수 있다."
   ]
  },
  {
   "cell_type": "markdown",
   "metadata": {},
   "source": [
    "***"
   ]
  },
  {
   "cell_type": "markdown",
   "metadata": {},
   "source": [
    "# 이원배치 분산분석 (Two-way ANOVA)"
   ]
  },
  {
   "cell_type": "markdown",
   "metadata": {},
   "source": [
    "* 분산분석에서 반응값에 대해 두 개의 범주형 변수 $A,\\,B$의 영향을 알아보기 위해 사용되는 검증 방법이다."
   ]
  },
  {
   "cell_type": "markdown",
   "metadata": {},
   "source": [
    "* 두 독립변수 A, B 사이에 상관관계가 있는지를 살펴보는 **교호작용(두 독립변수의 범주들의 조합으로 인해 반응변수에 미치는 특별한 영향)** 에 대한 검증이 반드시 진행되어야 한다."
   ]
  },
  {
   "cell_type": "markdown",
   "metadata": {},
   "source": [
    "* 가정 각 집단 측정치는 정규성을 따르며, 집단 간 측정치의 분산은 같다."
   ]
  },
  {
   "cell_type": "markdown",
   "metadata": {},
   "source": [
    "## R 실습"
   ]
  },
  {
   "cell_type": "markdown",
   "metadata": {},
   "source": [
    "* 실린더 개수와 변속기 종류에 따른 주행거리의 차이가 있는지 검정"
   ]
  },
  {
   "cell_type": "code",
   "execution_count": 99,
   "metadata": {},
   "outputs": [
    {
     "name": "stdout",
     "output_type": "stream",
     "text": [
      "'data.frame':\t32 obs. of  11 variables:\n",
      " $ mpg : num  21 21 22.8 21.4 18.7 18.1 14.3 24.4 22.8 19.2 ...\n",
      " $ cyl : num  6 6 4 6 8 6 8 4 4 6 ...\n",
      " $ disp: num  160 160 108 258 360 ...\n",
      " $ hp  : num  110 110 93 110 175 105 245 62 95 123 ...\n",
      " $ drat: num  3.9 3.9 3.85 3.08 3.15 2.76 3.21 3.69 3.92 3.92 ...\n",
      " $ wt  : num  2.62 2.88 2.32 3.21 3.44 ...\n",
      " $ qsec: num  16.5 17 18.6 19.4 17 ...\n",
      " $ vs  : num  0 0 1 1 0 1 0 1 1 1 ...\n",
      " $ am  : num  1 1 1 0 0 0 0 0 0 0 ...\n",
      " $ gear: num  4 4 4 3 3 3 3 4 4 4 ...\n",
      " $ carb: num  4 4 1 1 2 1 4 2 2 4 ...\n"
     ]
    }
   ],
   "source": [
    "str(mtcars)"
   ]
  },
  {
   "cell_type": "code",
   "execution_count": 100,
   "metadata": {},
   "outputs": [],
   "source": [
    "mtcars$cyl <- as.factor(mtcars$cyl)\n",
    "mtcars$am <- as.factor(mtcars$am)"
   ]
  },
  {
   "cell_type": "code",
   "execution_count": 101,
   "metadata": {},
   "outputs": [],
   "source": [
    "library(tidyverse)"
   ]
  },
  {
   "cell_type": "code",
   "execution_count": 87,
   "metadata": {},
   "outputs": [],
   "source": [
    "#mtcars %>% \n",
    " #       group_by(cyl,am) %>% \n",
    "  #          summarise(statistic = shapiro.test(mpg)$statistic,\n",
    "  #                    p.value = shapiro.test(mpg)$p.value) "
   ]
  },
  {
   "cell_type": "markdown",
   "metadata": {},
   "source": [
    "* 본래는 위와 같이 검정을 하여야 하나 샘플사이즈가 3보다 적은 그룹이 있어 계산 불가..."
   ]
  },
  {
   "cell_type": "code",
   "execution_count": 102,
   "metadata": {},
   "outputs": [],
   "source": [
    "car_aov <- aov(mpg~cyl*am,mtcars)"
   ]
  },
  {
   "cell_type": "code",
   "execution_count": 103,
   "metadata": {},
   "outputs": [
    {
     "data": {
      "text/plain": [
       "            Df Sum Sq Mean Sq F value   Pr(>F)    \n",
       "cyl          2  824.8   412.4  44.852 3.73e-09 ***\n",
       "am           1   36.8    36.8   3.999   0.0561 .  \n",
       "cyl:am       2   25.4    12.7   1.383   0.2686    \n",
       "Residuals   26  239.1     9.2                     \n",
       "---\n",
       "Signif. codes:  0 '***' 0.001 '**' 0.01 '*' 0.05 '.' 0.1 ' ' 1"
      ]
     },
     "metadata": {},
     "output_type": "display_data"
    }
   ],
   "source": [
    "summary(car_aov)"
   ]
  },
  {
   "cell_type": "markdown",
   "metadata": {},
   "source": [
    "* 검정결과 **실린더개수(cyl)** 에 따른 주행거리 차이만 통계적으로 유의하다는 결론을 내렸다."
   ]
  },
  {
   "cell_type": "code",
   "execution_count": 105,
   "metadata": {},
   "outputs": [],
   "source": [
    "options(repr.plot.res=200,repr.plot.height=5,repr.plot.width=10)"
   ]
  },
  {
   "cell_type": "code",
   "execution_count": 106,
   "metadata": {},
   "outputs": [
    {
     "data": {
      "image/png": "[encoded data removed]",
      "text/plain": [
       "plot without title"
      ]
     },
     "metadata": {
      "image/png": {
       "height": 500,
       "width": 1000
      }
     },
     "output_type": "display_data"
    }
   ],
   "source": [
    "interaction.plot(mtcars$cyl,mtcars$am,mtcars$mpg,col=c(\"red\",\"blue\"),lwd=2)"
   ]
  },
  {
   "cell_type": "markdown",
   "metadata": {},
   "source": [
    "* 일반적으로 상호작용 그래프에서 두 선이 서로 교차하고 있을 시에는 $x$ 축에 있는 독립변수와 그래프에서 시각화된 독립변수 간에는 상호작용이 존재한다고 해석할 수 있다."
   ]
  }
 ],
 "metadata": {
  "kernelspec": {
   "display_name": "R",
   "language": "R",
   "name": "ir"
  },
  "language_info": {
   "codemirror_mode": "r",
   "file_extension": ".r",
   "mimetype": "text/x-r-source",
   "name": "R",
   "pygments_lexer": "r",
   "version": "4.1.1"
  },
  "toc": {
   "base_numbering": 1,
   "nav_menu": {},
   "number_sections": false,
   "sideBar": true,
   "skip_h1_title": false,
   "title_cell": "Table of Contents",
   "title_sidebar": "Contents",
   "toc_cell": false,
   "toc_position": {},
   "toc_section_display": true,
   "toc_window_display": true
  }
 },
 "nbformat": 4,
 "nbformat_minor": 4
}
