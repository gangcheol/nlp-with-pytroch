{
 "cells": [
  {
   "cell_type": "markdown",
   "metadata": {},
   "source": [
    "# Regularized Linear Regression"
   ]
  },
  {
   "cell_type": "markdown",
   "metadata": {},
   "source": [
    "* 정규화 선형회귀는 선형회귀 계수에 대한 제약 조건을 추가하여 모델이 과도하게 최적화되는 현상을 막는 방법이다."
   ]
  },
  {
   "cell_type": "markdown",
   "metadata": {},
   "source": [
    "* 즉, 불편성은 포기하되 모형의 해석력을 단순화하자는 것이 초점이다."
   ]
  },
  {
   "cell_type": "markdown",
   "metadata": {},
   "source": [
    "## $\\lambda$ 의 선택"
   ]
  },
  {
   "cell_type": "markdown",
   "metadata": {},
   "source": [
    "* 교차타당법에 의한 선택이 일반적임"
   ]
  },
  {
   "cell_type": "markdown",
   "metadata": {},
   "source": [
    "* 또는 임의의 $\\lambda$ grid를 선택하고 가능한 모든 값 중 가장 우수한 $\\lambda$를 선택"
   ]
  },
  {
   "cell_type": "markdown",
   "metadata": {},
   "source": [
    "#  RIdge Regression"
   ]
  },
  {
   "cell_type": "markdown",
   "metadata": {},
   "source": [
    "* 아래의 경우는 기존의 `LSE` 최소제곱법으로 $\\beta_i$를 추정할 때 사용한다."
   ]
  },
  {
   "cell_type": "markdown",
   "metadata": {},
   "source": [
    "$$RSS = \\sum_{i=1}^n(y_i - \\beta_0 -\\sum_{j=1}^p\\beta_jx_{ij})^2$$"
   ]
  },
  {
   "cell_type": "markdown",
   "metadata": {},
   "source": [
    "*  Ridge 추정량은 `LSE`와 매우 유사하나 `shrinkage penalty`를 추가로 고려하여 최소화한다."
   ]
  },
  {
   "cell_type": "markdown",
   "metadata": {},
   "source": [
    "$$\\sum_{i=1}^n(y_i - \\beta_0 -\\sum_{j=1}^p\\beta_jx_{ij})^2 + \\lambda \\sum_{i=1}^p \\beta_j^2$$"
   ]
  },
  {
   "cell_type": "markdown",
   "metadata": {},
   "source": [
    "$$\\lambda \\,:\\,tuning \\,\\,parameter$$"
   ]
  },
  {
   "cell_type": "markdown",
   "metadata": {},
   "source": [
    "* $\\lambda$가 0이되면 일반적인 선형회귀모형이되고, $\\lambda$가 커지면 **정규화 정도가 커진다.(회귀계수들이 작아진다.)** $\\to$ `bias`는 증가 `variance`는 감소"
   ]
  },
  {
   "cell_type": "markdown",
   "metadata": {},
   "source": [
    "* 릿지회귀모형에서는 **L2 penalty** 를 사용하여 베타계수들이 0에 근사하도록 한다."
   ]
  },
  {
   "cell_type": "markdown",
   "metadata": {},
   "source": [
    "## R 실습"
   ]
  },
  {
   "cell_type": "code",
   "execution_count": 109,
   "metadata": {},
   "outputs": [],
   "source": [
    "library(tidyverse)\n",
    "library(mosaicData)\n",
    "library(glmnet) ## 리지 및 라쏘 회귀를 적합하기 위한 패키지"
   ]
  },
  {
   "cell_type": "code",
   "execution_count": 110,
   "metadata": {},
   "outputs": [
    {
     "name": "stdout",
     "output_type": "stream",
     "text": [
      "Rows: 90\n",
      "Columns: 11\n",
      "$ hightemp   \u001b[3m\u001b[90m<int>\u001b[39m\u001b[23m 83, 73, 74, 95, 44, 69, 66, 66, 80, 79, 78, 65, 41, 59, 50,~\n",
      "$ lowtemp    \u001b[3m\u001b[90m<int>\u001b[39m\u001b[23m 50, 49, 52, 61, 52, 54, 39, 38, 55, 45, 55, 48, 49, 35, 35,~\n",
      "$ avgtemp    \u001b[3m\u001b[90m<dbl>\u001b[39m\u001b[23m 66.5, 61.0, 63.0, 78.0, 48.0, 61.5, 52.5, 52.0, 67.5, 62.0,~\n",
      "$ spring     \u001b[3m\u001b[90m<int>\u001b[39m\u001b[23m 0, 0, 1, 0, 1, 1, 1, 1, 0, 0, 0, 1, 1, 0, 0, 1, 0, 1, 1, 0,~\n",
      "$ summer     \u001b[3m\u001b[90m<int>\u001b[39m\u001b[23m 1, 1, 0, 1, 0, 0, 0, 0, 1, 1, 1, 0, 0, 0, 0, 0, 1, 0, 0, 0,~\n",
      "$ fall       \u001b[3m\u001b[90m<int>\u001b[39m\u001b[23m 0, 0, 0, 0, 0, 0, 0, 0, 0, 0, 0, 0, 0, 1, 1, 0, 0, 0, 0, 1,~\n",
      "$ cloudcover \u001b[3m\u001b[90m<dbl>\u001b[39m\u001b[23m 7.6, 6.3, 7.5, 2.6, 10.0, 6.6, 2.4, 0.0, 3.8, 4.1, 8.5, 7.2~\n",
      "$ precip     \u001b[3m\u001b[90m<dbl>\u001b[39m\u001b[23m 0.00, 0.29, 0.32, 0.00, 0.14, 0.02, 0.00, 0.00, 0.00, 0.00,~\n",
      "$ volume     \u001b[3m\u001b[90m<int>\u001b[39m\u001b[23m 501, 419, 397, 385, 200, 375, 417, 629, 533, 547, 432, 418,~\n",
      "$ weekday    \u001b[3m\u001b[90m<lgl>\u001b[39m\u001b[23m TRUE, TRUE, TRUE, FALSE, TRUE, TRUE, TRUE, FALSE, FALSE, TR~\n",
      "$ dayType    \u001b[3m\u001b[90m<chr>\u001b[39m\u001b[23m \"weekday\", \"weekday\", \"weekday\", \"weekend\", \"weekday\", \"wee~\n"
     ]
    }
   ],
   "source": [
    "glimpse(RailTrail)"
   ]
  },
  {
   "cell_type": "markdown",
   "metadata": {},
   "source": [
    "* model.matrix는 기본적으로 절편을 포함한 모형을 산정한다. 절편을 제외시킨 모형을 고려해보자"
   ]
  },
  {
   "cell_type": "code",
   "execution_count": 118,
   "metadata": {},
   "outputs": [],
   "source": [
    "x <- model.matrix(volume~.-1 ,RailTrail) "
   ]
  },
  {
   "cell_type": "code",
   "execution_count": 119,
   "metadata": {},
   "outputs": [],
   "source": [
    "y <- RailTrail$volume"
   ]
  },
  {
   "cell_type": "markdown",
   "metadata": {},
   "source": [
    "* 모형적합"
   ]
  },
  {
   "cell_type": "code",
   "execution_count": 120,
   "metadata": {},
   "outputs": [],
   "source": [
    "ridge.fit <- cv.glmnet(x,y,alpha=0) ## 모형적합 alpha=0 은 릿지를 말함"
   ]
  },
  {
   "cell_type": "markdown",
   "metadata": {},
   "source": [
    "* 교차타당에러를 최소로하는 람다값을 구한결과 `11.757`로 산출되었다."
   ]
  },
  {
   "cell_type": "code",
   "execution_count": 130,
   "metadata": {},
   "outputs": [
    {
     "data": {
      "text/html": [
       "2.65058474242334"
      ],
      "text/latex": [
       "2.65058474242334"
      ],
      "text/markdown": [
       "2.65058474242334"
      ],
      "text/plain": [
       "[1] 2.650585"
      ]
     },
     "metadata": {},
     "output_type": "display_data"
    }
   ],
   "source": [
    "bestlam <- ridge.fit$lambda.min\n",
    "log(bestlam)"
   ]
  },
  {
   "cell_type": "code",
   "execution_count": 122,
   "metadata": {},
   "outputs": [
    {
     "data": {
      "text/plain": [
       "12 x 1 sparse Matrix of class \"dgCMatrix\"\n",
       "                       s1\n",
       "(Intercept)     97.879570\n",
       "hightemp         3.923302\n",
       "lowtemp         -1.148241\n",
       "avgtemp          1.971339\n",
       "spring          10.236204\n",
       "summer           3.316273\n",
       "fall           -27.057463\n",
       "cloudcover      -8.082976\n",
       "precip         -90.969378\n",
       "weekdayFALSE    13.410258\n",
       "weekdayTRUE    -13.487794\n",
       "dayTypeweekend  13.616159"
      ]
     },
     "metadata": {},
     "output_type": "display_data"
    }
   ],
   "source": [
    "coef(ridge.fit, s = \"lambda.min\")"
   ]
  },
  {
   "cell_type": "code",
   "execution_count": 123,
   "metadata": {},
   "outputs": [],
   "source": [
    "options(repr.plot.res=200,repr.plot.height=4,repr.plot.width=10)"
   ]
  },
  {
   "cell_type": "markdown",
   "metadata": {},
   "source": [
    "* bestlam에서 `MSE`가 최소가 되는 지점을 확인"
   ]
  },
  {
   "cell_type": "code",
   "execution_count": 136,
   "metadata": {},
   "outputs": [
    {
     "data": {
      "image/png": "[encoded data removed]",
      "text/plain": [
       "plot without title"
      ]
     },
     "metadata": {
      "image/png": {
       "height": 400,
       "width": 1000
      }
     },
     "output_type": "display_data"
    }
   ],
   "source": [
    "plot(ridge.fit)\n",
    "abline(v=log(bestlam),lty=\"dashed\",lwd=2,col=\"blue\")"
   ]
  },
  {
   "cell_type": "markdown",
   "metadata": {},
   "source": [
    "* 산출된 `best.lam`값으로 모형을 다시 적합 후 `MSE`를 구해보자."
   ]
  },
  {
   "cell_type": "code",
   "execution_count": 137,
   "metadata": {},
   "outputs": [],
   "source": [
    "train  <- sample(1:nrow(x),nrow(x)*0.7)\n",
    "test  <- -train\n",
    "y.test <- y[test]\n",
    "y.train <- y[train]"
   ]
  },
  {
   "cell_type": "code",
   "execution_count": 139,
   "metadata": {},
   "outputs": [],
   "source": [
    "ridge.fit <- glmnet(x[train,],y.train,alpha=0,lambda=bestlam,family=\"gaussian\")"
   ]
  },
  {
   "cell_type": "code",
   "execution_count": 142,
   "metadata": {},
   "outputs": [],
   "source": [
    "ridge.pred <- predict(ridge.fit,s=bestlam,newx=x[test,]) ## type=\"coefficients\"로 하면 예측된 베타계수를 보여줌"
   ]
  },
  {
   "cell_type": "code",
   "execution_count": 147,
   "metadata": {},
   "outputs": [],
   "source": [
    "ridge.coef <- predict(ridge.fit,s=bestlam,newx=x[test,],type=\"coefficients\") ## type=\"coefficients\"로 하면 예측된 베타계수를 보여줌"
   ]
  },
  {
   "cell_type": "code",
   "execution_count": 148,
   "metadata": {},
   "outputs": [
    {
     "data": {
      "text/plain": [
       "12 x 1 sparse Matrix of class \"dgCMatrix\"\n",
       "                        s1\n",
       "(Intercept)     64.9007304\n",
       "hightemp         3.9758591\n",
       "lowtemp         -0.7261573\n",
       "avgtemp          2.0855905\n",
       "spring          20.3027908\n",
       "summer         -13.1841751\n",
       "fall           -18.2167429\n",
       "cloudcover      -6.5169836\n",
       "precip         -59.6275608\n",
       "weekdayFALSE    12.1230181\n",
       "weekdayTRUE    -12.6441270\n",
       "dayTypeweekend  12.3701010"
      ]
     },
     "metadata": {},
     "output_type": "display_data"
    }
   ],
   "source": [
    "ridge.coef"
   ]
  },
  {
   "cell_type": "code",
   "execution_count": 141,
   "metadata": {},
   "outputs": [
    {
     "data": {
      "text/html": [
       "11360.201935448"
      ],
      "text/latex": [
       "11360.201935448"
      ],
      "text/markdown": [
       "11360.201935448"
      ],
      "text/plain": [
       "[1] 11360.2"
      ]
     },
     "metadata": {},
     "output_type": "display_data"
    }
   ],
   "source": [
    "mean((ridge.pred - y.test)^2)"
   ]
  },
  {
   "cell_type": "markdown",
   "metadata": {},
   "source": [
    "* mse가 만 단위가 넘게 나왔는데. 지나치게 모형을 단순화 하였다는 생각이 든다."
   ]
  },
  {
   "cell_type": "markdown",
   "metadata": {},
   "source": [
    "***"
   ]
  },
  {
   "cell_type": "markdown",
   "metadata": {},
   "source": [
    "# Lasso Regression"
   ]
  },
  {
   "cell_type": "markdown",
   "metadata": {},
   "source": [
    "* 라쏘는 릿지와 다르게 베타계수를 **\"0값으로 보낸다.\"**"
   ]
  },
  {
   "cell_type": "markdown",
   "metadata": {},
   "source": [
    "* 이것을 **\"L1 penalty\"** 라고 부른다."
   ]
  },
  {
   "cell_type": "markdown",
   "metadata": {},
   "source": [
    "$$\\sum_{i=1}^n(y_i - \\beta_0 -\\sum_{j=1}^p\\beta_jx_{ij})^2 + \\lambda \\sum_{i=1}^p |\\beta_j|$$"
   ]
  },
  {
   "cell_type": "markdown",
   "metadata": {},
   "source": [
    "# R실습"
   ]
  },
  {
   "cell_type": "code",
   "execution_count": 161,
   "metadata": {},
   "outputs": [],
   "source": [
    "lasso.fit <- cv.glmnet(x,y,alpha=1) ## 모형적합 alpha=1 은 라쏘를 말함"
   ]
  },
  {
   "cell_type": "code",
   "execution_count": 162,
   "metadata": {},
   "outputs": [
    {
     "data": {
      "text/html": [
       "1.5109214135677"
      ],
      "text/latex": [
       "1.5109214135677"
      ],
      "text/markdown": [
       "1.5109214135677"
      ],
      "text/plain": [
       "[1] 1.510921"
      ]
     },
     "metadata": {},
     "output_type": "display_data"
    }
   ],
   "source": [
    "bestlam <- lasso.fit$lambda.min\n",
    "log(bestlam)"
   ]
  },
  {
   "cell_type": "markdown",
   "metadata": {},
   "source": [
    "* 교차타당검정시 발생하는 에러값이 최소가되는 지점임을 확인"
   ]
  },
  {
   "cell_type": "code",
   "execution_count": 165,
   "metadata": {},
   "outputs": [
    {
     "data": {
      "text/html": [
       "9549.05291718447"
      ],
      "text/latex": [
       "9549.05291718447"
      ],
      "text/markdown": [
       "9549.05291718447"
      ],
      "text/plain": [
       "[1] 9549.053"
      ]
     },
     "metadata": {},
     "output_type": "display_data"
    }
   ],
   "source": [
    "min(lasso.fit$cvm)"
   ]
  },
  {
   "cell_type": "code",
   "execution_count": 169,
   "metadata": {},
   "outputs": [
    {
     "data": {
      "image/png": "[encoded data removed]",
      "text/plain": [
       "plot without title"
      ]
     },
     "metadata": {
      "image/png": {
       "height": 400,
       "width": 1000
      }
     },
     "output_type": "display_data"
    }
   ],
   "source": [
    "plot(lasso.fit)\n",
    "abline(v=log(bestlam),lty=\"dashed\",lwd=2,col=\"blue\")\n",
    "points(x=log(bestlam),y=min(lasso.fit$cvm),cex=1.5,col=\"green\")"
   ]
  },
  {
   "cell_type": "markdown",
   "metadata": {},
   "source": [
    "* 실제 예측을 하여 `MSE`값을 구해보자."
   ]
  },
  {
   "cell_type": "code",
   "execution_count": 182,
   "metadata": {},
   "outputs": [],
   "source": [
    "lasss <- glmnet(x[train,],y.train,alpha=1,family=\"gaussian\",lambda=bestlam)"
   ]
  },
  {
   "cell_type": "code",
   "execution_count": 184,
   "metadata": {},
   "outputs": [
    {
     "data": {
      "text/html": [
       "4.53090370767974"
      ],
      "text/latex": [
       "4.53090370767974"
      ],
      "text/markdown": [
       "4.53090370767974"
      ],
      "text/plain": [
       "[1] 4.530904"
      ]
     },
     "metadata": {},
     "output_type": "display_data"
    }
   ],
   "source": [
    "lasss$lambda"
   ]
  },
  {
   "cell_type": "code",
   "execution_count": 188,
   "metadata": {},
   "outputs": [],
   "source": [
    "pred.lasso <- predict(lasss,newx=x[test,],s=bestlam)"
   ]
  },
  {
   "cell_type": "code",
   "execution_count": 189,
   "metadata": {},
   "outputs": [
    {
     "data": {
      "text/html": [
       "11635.8271566842"
      ],
      "text/latex": [
       "11635.8271566842"
      ],
      "text/markdown": [
       "11635.8271566842"
      ],
      "text/plain": [
       "[1] 11635.83"
      ]
     },
     "metadata": {},
     "output_type": "display_data"
    }
   ],
   "source": [
    "mean((pred.lasso-y.test)^2)"
   ]
  }
 ],
 "metadata": {
  "kernelspec": {
   "display_name": "R",
   "language": "R",
   "name": "ir"
  },
  "language_info": {
   "codemirror_mode": "r",
   "file_extension": ".r",
   "mimetype": "text/x-r-source",
   "name": "R",
   "pygments_lexer": "r",
   "version": "4.1.1"
  },
  "toc": {
   "base_numbering": 1,
   "nav_menu": {},
   "number_sections": false,
   "sideBar": true,
   "skip_h1_title": false,
   "title_cell": "Table of Contents",
   "title_sidebar": "Contents",
   "toc_cell": false,
   "toc_position": {
    "height": "calc(100% - 180px)",
    "left": "10px",
    "top": "150px",
    "width": "349.091px"
   },
   "toc_section_display": true,
   "toc_window_display": true
  }
 },
 "nbformat": 4,
 "nbformat_minor": 4
}
