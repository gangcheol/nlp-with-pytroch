{
 "cells": [
  {
   "cell_type": "markdown",
   "metadata": {},
   "source": [
    "# 1. 단순 임의 추출"
   ]
  },
  {
   "cell_type": "code",
   "execution_count": 9,
   "metadata": {},
   "outputs": [],
   "source": [
    "n <- nrow(iris)"
   ]
  },
  {
   "cell_type": "code",
   "execution_count": 10,
   "metadata": {},
   "outputs": [],
   "source": [
    "idx <- sample(1:n,n*0.7,replace=F)"
   ]
  },
  {
   "cell_type": "code",
   "execution_count": 12,
   "metadata": {},
   "outputs": [],
   "source": [
    "train <- iris[idx,]\n",
    "test <- iris[-idx]"
   ]
  },
  {
   "cell_type": "markdown",
   "metadata": {},
   "source": [
    "# 2. 층화 임의 추출"
   ]
  },
  {
   "cell_type": "markdown",
   "metadata": {},
   "source": [
    "* method <br><br>\n",
    "    `1`. srswor : 비복원 단순 임의 추출 <br>\n",
    "    `2`. srswr : 복원 단순 임의 추출 <br>\n",
    "    `3`. possion :  포아송 추출 <br>\n",
    "    `4`. systematic : 계통 추출 <br>"
   ]
  },
  {
   "cell_type": "code",
   "execution_count": 17,
   "metadata": {},
   "outputs": [],
   "source": [
    "library(sampling)"
   ]
  },
  {
   "cell_type": "code",
   "execution_count": 18,
   "metadata": {},
   "outputs": [],
   "source": [
    "samples <- strata(iris,c(\"Species\"),size=c(20,15,15),method=\"srswor\")"
   ]
  },
  {
   "cell_type": "code",
   "execution_count": 21,
   "metadata": {},
   "outputs": [],
   "source": [
    "iris_sample <- getdata(iris,samples)"
   ]
  },
  {
   "cell_type": "markdown",
   "metadata": {},
   "source": [
    "# 3. 계통 추출"
   ]
  },
  {
   "cell_type": "markdown",
   "metadata": {},
   "source": [
    "* formula : ~ 우축에 나열한 이름에 따라 데이터가 그룹으로 묶임\n",
    "* frac = 0.1 : 추출할 샘플 비율 기본값은 10%\n",
    "* replace : 복원 추출 여부\n",
    "* data = parent.frame() : 추출할 데이터 프레임\n",
    "* systematic = F : 계통 추출(Systematic Sampling)을 사용할지 여부"
   ]
  },
  {
   "cell_type": "code",
   "execution_count": 27,
   "metadata": {},
   "outputs": [],
   "source": [
    "library(doBy)"
   ]
  },
  {
   "cell_type": "code",
   "execution_count": 31,
   "metadata": {},
   "outputs": [
    {
     "data": {
      "text/html": [
       "<table class=\"dataframe\">\n",
       "<caption>A data.frame: 6 × 5</caption>\n",
       "<thead>\n",
       "\t<tr><th></th><th scope=col>Sepal.Length</th><th scope=col>Sepal.Width</th><th scope=col>Petal.Length</th><th scope=col>Petal.Width</th><th scope=col>Species</th></tr>\n",
       "\t<tr><th></th><th scope=col>&lt;dbl&gt;</th><th scope=col>&lt;dbl&gt;</th><th scope=col>&lt;dbl&gt;</th><th scope=col>&lt;dbl&gt;</th><th scope=col>&lt;fct&gt;</th></tr>\n",
       "</thead>\n",
       "<tbody>\n",
       "\t<tr><th scope=row>setosa.1</th><td>5.1</td><td>3.5</td><td>1.4</td><td>0.2</td><td>setosa</td></tr>\n",
       "\t<tr><th scope=row>setosa.4</th><td>4.6</td><td>3.1</td><td>1.5</td><td>0.2</td><td>setosa</td></tr>\n",
       "\t<tr><th scope=row>setosa.7</th><td>4.6</td><td>3.4</td><td>1.4</td><td>0.3</td><td>setosa</td></tr>\n",
       "\t<tr><th scope=row>setosa.11</th><td>5.4</td><td>3.7</td><td>1.5</td><td>0.2</td><td>setosa</td></tr>\n",
       "\t<tr><th scope=row>setosa.14</th><td>4.3</td><td>3.0</td><td>1.1</td><td>0.1</td><td>setosa</td></tr>\n",
       "\t<tr><th scope=row>setosa.17</th><td>5.4</td><td>3.9</td><td>1.3</td><td>0.4</td><td>setosa</td></tr>\n",
       "</tbody>\n",
       "</table>\n"
      ],
      "text/latex": [
       "A data.frame: 6 × 5\n",
       "\\begin{tabular}{r|lllll}\n",
       "  & Sepal.Length & Sepal.Width & Petal.Length & Petal.Width & Species\\\\\n",
       "  & <dbl> & <dbl> & <dbl> & <dbl> & <fct>\\\\\n",
       "\\hline\n",
       "\tsetosa.1 & 5.1 & 3.5 & 1.4 & 0.2 & setosa\\\\\n",
       "\tsetosa.4 & 4.6 & 3.1 & 1.5 & 0.2 & setosa\\\\\n",
       "\tsetosa.7 & 4.6 & 3.4 & 1.4 & 0.3 & setosa\\\\\n",
       "\tsetosa.11 & 5.4 & 3.7 & 1.5 & 0.2 & setosa\\\\\n",
       "\tsetosa.14 & 4.3 & 3.0 & 1.1 & 0.1 & setosa\\\\\n",
       "\tsetosa.17 & 5.4 & 3.9 & 1.3 & 0.4 & setosa\\\\\n",
       "\\end{tabular}\n"
      ],
      "text/markdown": [
       "\n",
       "A data.frame: 6 × 5\n",
       "\n",
       "| <!--/--> | Sepal.Length &lt;dbl&gt; | Sepal.Width &lt;dbl&gt; | Petal.Length &lt;dbl&gt; | Petal.Width &lt;dbl&gt; | Species &lt;fct&gt; |\n",
       "|---|---|---|---|---|---|\n",
       "| setosa.1 | 5.1 | 3.5 | 1.4 | 0.2 | setosa |\n",
       "| setosa.4 | 4.6 | 3.1 | 1.5 | 0.2 | setosa |\n",
       "| setosa.7 | 4.6 | 3.4 | 1.4 | 0.3 | setosa |\n",
       "| setosa.11 | 5.4 | 3.7 | 1.5 | 0.2 | setosa |\n",
       "| setosa.14 | 4.3 | 3.0 | 1.1 | 0.1 | setosa |\n",
       "| setosa.17 | 5.4 | 3.9 | 1.3 | 0.4 | setosa |\n",
       "\n"
      ],
      "text/plain": [
       "          Sepal.Length Sepal.Width Petal.Length Petal.Width Species\n",
       "setosa.1  5.1          3.5         1.4          0.2         setosa \n",
       "setosa.4  4.6          3.1         1.5          0.2         setosa \n",
       "setosa.7  4.6          3.4         1.4          0.3         setosa \n",
       "setosa.11 5.4          3.7         1.5          0.2         setosa \n",
       "setosa.14 4.3          3.0         1.1          0.1         setosa \n",
       "setosa.17 5.4          3.9         1.3          0.4         setosa "
      ]
     },
     "metadata": {},
     "output_type": "display_data"
    }
   ],
   "source": [
    "head(sampleBy(~ Species,frac = 0.3,data = iris, systematic =T))"
   ]
  }
 ],
 "metadata": {
  "kernelspec": {
   "display_name": "R",
   "language": "R",
   "name": "ir"
  },
  "language_info": {
   "codemirror_mode": "r",
   "file_extension": ".r",
   "mimetype": "text/x-r-source",
   "name": "R",
   "pygments_lexer": "r",
   "version": "4.1.1"
  },
  "toc": {
   "base_numbering": 1,
   "nav_menu": {},
   "number_sections": false,
   "sideBar": true,
   "skip_h1_title": false,
   "title_cell": "Table of Contents",
   "title_sidebar": "Contents",
   "toc_cell": false,
   "toc_position": {},
   "toc_section_display": true,
   "toc_window_display": true
  }
 },
 "nbformat": 4,
 "nbformat_minor": 4
}
