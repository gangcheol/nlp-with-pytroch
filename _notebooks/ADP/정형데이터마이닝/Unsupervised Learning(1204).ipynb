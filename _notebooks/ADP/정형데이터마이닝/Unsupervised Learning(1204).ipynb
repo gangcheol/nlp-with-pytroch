{
 "cells": [
  {
   "cell_type": "markdown",
   "metadata": {},
   "source": [
    "# 군집분석"
   ]
  },
  {
   "cell_type": "markdown",
   "metadata": {},
   "source": [
    "* 개체간 유사성에 따라 집단을 분류하고, 군집 내 유사성과 군집 간 상이성을 규명하는 다변량 분석 기법이다."
   ]
  },
  {
   "cell_type": "markdown",
   "metadata": {},
   "source": [
    "* 군집분석에서는 관측 데이터 간 유사성이나 근접성을 측정해 어느 군집으로 묶을 수 있는지 판단해야 한다."
   ]
  },
  {
   "cell_type": "markdown",
   "metadata": {},
   "source": [
    "## 거리측도"
   ]
  },
  {
   "cell_type": "markdown",
   "metadata": {},
   "source": [
    "### 1. 연속형인 경우"
   ]
  },
  {
   "cell_type": "markdown",
   "metadata": {},
   "source": [
    "* 유클리디안거리 (euclidean) : 가장 널리 사용되나 통계적 개념이 내포되어 있지 않아 변수들의 산포 정도가 전혀 감안되어 있지 않음.\n",
    "* 표준화 거리(Standardized) : 해당변수의 표준편차로 척도 변환 후 유클리드안 거리를 계산하는 방법. 분산 차이로 인한 왜곡을 피할 수 있음.\n",
    "* 마할라노비스 거리(Mahalanobis) : 통계적 개념이 포함된 거리로 두 벡터 사이의 거리를 표본공분산으로 나눠주어야 한다. 그룹에 대한 사전 지식 없이는 표본공분산 S를 계산할 수 없으므로 사용하기 곤란하다.\n",
    "* 체비셰프 거리 (Chebyshev) : $d(x,y) = max_{i} |x_i-y_i|$\n",
    "* 멘하탄 거리 (Manhattan) : 유클리디안과 비슷 -> $d(x,y) = \\sum |x_i-y_i|$\n",
    "* 캔버라 거리(Canberra), 민코우스키(Minkowski) 거리 등이 있음    "
   ]
  },
  {
   "cell_type": "markdown",
   "metadata": {},
   "source": [
    "### 2. 범주형인 경우"
   ]
  },
  {
   "cell_type": "markdown",
   "metadata": {},
   "source": [
    "* 자카드 거리"
   ]
  },
  {
   "cell_type": "markdown",
   "metadata": {},
   "source": [
    "$$ 1-  J(A,B) = \\frac {|A\\cup B|- |A\\cap B|}{|A\\cup B|}$$"
   ]
  },
  {
   "cell_type": "markdown",
   "metadata": {},
   "source": [
    "* 코사인 유사도 : 두 개체의 백터 내적의 코사인 값을 이용하여 측정된 벡터간의 유사한 정도"
   ]
  },
  {
   "cell_type": "code",
   "execution_count": 4,
   "metadata": {},
   "outputs": [],
   "source": [
    "library(tidyverse)"
   ]
  },
  {
   "cell_type": "markdown",
   "metadata": {},
   "source": [
    "# 1. 계층적 군집분석"
   ]
  },
  {
   "cell_type": "markdown",
   "metadata": {},
   "source": [
    "* n개의 군집으로 시작해 점차 군집의 개수를 줄여 나가는 방법"
   ]
  },
  {
   "cell_type": "markdown",
   "metadata": {},
   "source": [
    "## 1-1. 종류"
   ]
  },
  {
   "cell_type": "markdown",
   "metadata": {},
   "source": [
    "* 최단연결법 (single linkage, nearest neighbor)\n",
    "    * nxn 거리 행렬에서 가장 가까운 데이터를 묶어서 군집을 형성한다."
   ]
  },
  {
   "cell_type": "markdown",
   "metadata": {},
   "source": [
    "* 최장연결법 (complete linkage) : 데이터 간 거리를 계산할 때 최장거리를 거리로 계산하여 거리행렬을 수정하는 방법"
   ]
  },
  {
   "cell_type": "markdown",
   "metadata": {},
   "source": [
    "* 평균연결법 (average linkage)"
   ]
  },
  {
   "cell_type": "markdown",
   "metadata": {},
   "source": [
    "* 와드연결법(Ward linkage) : 군집 내 편차들의 제곱합을 고려한 방법, 군집간 정보의 손실을 최소화 하기 위해 군집화를 진행 $\\to sse$를 고려한다고 생각"
   ]
  },
  {
   "cell_type": "markdown",
   "metadata": {},
   "source": [
    "## 1-2. 절차"
   ]
  },
  {
   "cell_type": "markdown",
   "metadata": {},
   "source": [
    "step 1. 거리행렬을 통해 가장 가까운 거리의 객체들 간의 관계를 규명하고 덴드로그램을 그린다."
   ]
  },
  {
   "cell_type": "markdown",
   "metadata": {},
   "source": [
    "step 2. 덴드로그램을 보고 군집의 개수를 변화해 가면서 적절한 군집 수를 선정한다."
   ]
  },
  {
   "cell_type": "markdown",
   "metadata": {},
   "source": [
    "step 3. 군집의 수는 분석 목적에 따라 선정할수 있지만 대부분 5개 이상의 군집은 잘 활용하지 않는다."
   ]
  },
  {
   "cell_type": "markdown",
   "metadata": {},
   "source": [
    "## 1-3. R 실습"
   ]
  },
  {
   "cell_type": "markdown",
   "metadata": {},
   "source": [
    "* dist(data, method)\n",
    "    * method : 거리측정방법, euclidean, maximum, manhattan, canberra, binary, minkowski가 있음"
   ]
  },
  {
   "cell_type": "markdown",
   "metadata": {},
   "source": [
    "* hclust (data, method)\n",
    "    * data : dist 함수로 거리가 측정된 데이터\n",
    "    * method : 거리측정 밥법, single, complete, average, median, ward.D 가 있음 "
   ]
  },
  {
   "cell_type": "code",
   "execution_count": 14,
   "metadata": {},
   "outputs": [
    {
     "data": {
      "text/html": [
       "<table class=\"dataframe\">\n",
       "<caption>A data.frame: 6 × 4</caption>\n",
       "<thead>\n",
       "\t<tr><th></th><th scope=col>Murder</th><th scope=col>Assault</th><th scope=col>UrbanPop</th><th scope=col>Rape</th></tr>\n",
       "\t<tr><th></th><th scope=col>&lt;dbl&gt;</th><th scope=col>&lt;int&gt;</th><th scope=col>&lt;int&gt;</th><th scope=col>&lt;dbl&gt;</th></tr>\n",
       "</thead>\n",
       "<tbody>\n",
       "\t<tr><th scope=row>Alabama</th><td>13.2</td><td>236</td><td>58</td><td>21.2</td></tr>\n",
       "\t<tr><th scope=row>Alaska</th><td>10.0</td><td>263</td><td>48</td><td>44.5</td></tr>\n",
       "\t<tr><th scope=row>Arizona</th><td> 8.1</td><td>294</td><td>80</td><td>31.0</td></tr>\n",
       "\t<tr><th scope=row>Arkansas</th><td> 8.8</td><td>190</td><td>50</td><td>19.5</td></tr>\n",
       "\t<tr><th scope=row>California</th><td> 9.0</td><td>276</td><td>91</td><td>40.6</td></tr>\n",
       "\t<tr><th scope=row>Colorado</th><td> 7.9</td><td>204</td><td>78</td><td>38.7</td></tr>\n",
       "</tbody>\n",
       "</table>\n"
      ],
      "text/latex": [
       "A data.frame: 6 × 4\n",
       "\\begin{tabular}{r|llll}\n",
       "  & Murder & Assault & UrbanPop & Rape\\\\\n",
       "  & <dbl> & <int> & <int> & <dbl>\\\\\n",
       "\\hline\n",
       "\tAlabama & 13.2 & 236 & 58 & 21.2\\\\\n",
       "\tAlaska & 10.0 & 263 & 48 & 44.5\\\\\n",
       "\tArizona &  8.1 & 294 & 80 & 31.0\\\\\n",
       "\tArkansas &  8.8 & 190 & 50 & 19.5\\\\\n",
       "\tCalifornia &  9.0 & 276 & 91 & 40.6\\\\\n",
       "\tColorado &  7.9 & 204 & 78 & 38.7\\\\\n",
       "\\end{tabular}\n"
      ],
      "text/markdown": [
       "\n",
       "A data.frame: 6 × 4\n",
       "\n",
       "| <!--/--> | Murder &lt;dbl&gt; | Assault &lt;int&gt; | UrbanPop &lt;int&gt; | Rape &lt;dbl&gt; |\n",
       "|---|---|---|---|---|\n",
       "| Alabama | 13.2 | 236 | 58 | 21.2 |\n",
       "| Alaska | 10.0 | 263 | 48 | 44.5 |\n",
       "| Arizona |  8.1 | 294 | 80 | 31.0 |\n",
       "| Arkansas |  8.8 | 190 | 50 | 19.5 |\n",
       "| California |  9.0 | 276 | 91 | 40.6 |\n",
       "| Colorado |  7.9 | 204 | 78 | 38.7 |\n",
       "\n"
      ],
      "text/plain": [
       "           Murder Assault UrbanPop Rape\n",
       "Alabama    13.2   236     58       21.2\n",
       "Alaska     10.0   263     48       44.5\n",
       "Arizona     8.1   294     80       31.0\n",
       "Arkansas    8.8   190     50       19.5\n",
       "California  9.0   276     91       40.6\n",
       "Colorado    7.9   204     78       38.7"
      ]
     },
     "metadata": {},
     "output_type": "display_data"
    }
   ],
   "source": [
    "US <- USArrests\n",
    "head(US)"
   ]
  },
  {
   "cell_type": "code",
   "execution_count": 18,
   "metadata": {},
   "outputs": [],
   "source": [
    "US.dist <- dist(US, \"euclidean\")"
   ]
  },
  {
   "cell_type": "markdown",
   "metadata": {},
   "source": [
    "* `dist^2`을 한 이유는 거리의 차이를 많이 두어 군집이 나뉘는 것을 쉽게 확인하기 위해서임."
   ]
  },
  {
   "cell_type": "code",
   "execution_count": 37,
   "metadata": {},
   "outputs": [
    {
     "data": {
      "image/png": "[encoded data removed]",
      "text/plain": [
       "Plot with title \"Cluster Dendrogram\""
      ]
     },
     "metadata": {
      "image/png": {
       "height": 700,
       "width": 700
      }
     },
     "output_type": "display_data"
    }
   ],
   "source": [
    "# hclust 함수를 이용하여 계층적 군집분석\n",
    "options(repr.plot.res=200,repr.plot.hight=5,repr.plot.width=7)\n",
    "US.single <- hclust(US.dist^2,method=\"single\")\n",
    "plot(US.single)"
   ]
  },
  {
   "cell_type": "code",
   "execution_count": 53,
   "metadata": {},
   "outputs": [
    {
     "data": {
      "text/html": [
       "<style>\n",
       ".dl-inline {width: auto; margin:0; padding: 0}\n",
       ".dl-inline>dt, .dl-inline>dd {float: none; width: auto; display: inline-block}\n",
       ".dl-inline>dt::after {content: \":\\0020\"; padding-right: .5ex}\n",
       ".dl-inline>dt:not(:first-of-type) {padding-left: .5ex}\n",
       "</style><dl class=dl-inline><dt>Alabama</dt><dd>1</dd><dt>Alaska</dt><dd>2</dd><dt>Arizona</dt><dd>1</dd><dt>Arkansas</dt><dd>3</dd><dt>California</dt><dd>1</dd><dt>Colorado</dt><dd>3</dd><dt>Connecticut</dt><dd>3</dd><dt>Delaware</dt><dd>1</dd><dt>Florida</dt><dd>4</dd><dt>Georgia</dt><dd>3</dd><dt>Hawaii</dt><dd>3</dd><dt>Idaho</dt><dd>3</dd><dt>Illinois</dt><dd>1</dd><dt>Indiana</dt><dd>3</dd><dt>Iowa</dt><dd>3</dd><dt>Kansas</dt><dd>3</dd><dt>Kentucky</dt><dd>3</dd><dt>Louisiana</dt><dd>1</dd><dt>Maine</dt><dd>3</dd><dt>Maryland</dt><dd>1</dd><dt>Massachusetts</dt><dd>3</dd><dt>Michigan</dt><dd>1</dd><dt>Minnesota</dt><dd>3</dd><dt>Mississippi</dt><dd>1</dd><dt>Missouri</dt><dd>3</dd><dt>Montana</dt><dd>3</dd><dt>Nebraska</dt><dd>3</dd><dt>Nevada</dt><dd>1</dd><dt>New Hampshire</dt><dd>3</dd><dt>New Jersey</dt><dd>3</dd><dt>New Mexico</dt><dd>1</dd><dt>New York</dt><dd>1</dd><dt>North Carolina</dt><dd>5</dd><dt>North Dakota</dt><dd>3</dd><dt>Ohio</dt><dd>3</dd><dt>Oklahoma</dt><dd>3</dd><dt>Oregon</dt><dd>3</dd><dt>Pennsylvania</dt><dd>3</dd><dt>Rhode Island</dt><dd>3</dd><dt>South Carolina</dt><dd>1</dd><dt>South Dakota</dt><dd>3</dd><dt>Tennessee</dt><dd>3</dd><dt>Texas</dt><dd>3</dd><dt>Utah</dt><dd>3</dd><dt>Vermont</dt><dd>3</dd><dt>Virginia</dt><dd>3</dd><dt>Washington</dt><dd>3</dd><dt>West Virginia</dt><dd>3</dd><dt>Wisconsin</dt><dd>3</dd><dt>Wyoming</dt><dd>3</dd></dl>\n"
      ],
      "text/latex": [
       "\\begin{description*}\n",
       "\\item[Alabama] 1\n",
       "\\item[Alaska] 2\n",
       "\\item[Arizona] 1\n",
       "\\item[Arkansas] 3\n",
       "\\item[California] 1\n",
       "\\item[Colorado] 3\n",
       "\\item[Connecticut] 3\n",
       "\\item[Delaware] 1\n",
       "\\item[Florida] 4\n",
       "\\item[Georgia] 3\n",
       "\\item[Hawaii] 3\n",
       "\\item[Idaho] 3\n",
       "\\item[Illinois] 1\n",
       "\\item[Indiana] 3\n",
       "\\item[Iowa] 3\n",
       "\\item[Kansas] 3\n",
       "\\item[Kentucky] 3\n",
       "\\item[Louisiana] 1\n",
       "\\item[Maine] 3\n",
       "\\item[Maryland] 1\n",
       "\\item[Massachusetts] 3\n",
       "\\item[Michigan] 1\n",
       "\\item[Minnesota] 3\n",
       "\\item[Mississippi] 1\n",
       "\\item[Missouri] 3\n",
       "\\item[Montana] 3\n",
       "\\item[Nebraska] 3\n",
       "\\item[Nevada] 1\n",
       "\\item[New Hampshire] 3\n",
       "\\item[New Jersey] 3\n",
       "\\item[New Mexico] 1\n",
       "\\item[New York] 1\n",
       "\\item[North Carolina] 5\n",
       "\\item[North Dakota] 3\n",
       "\\item[Ohio] 3\n",
       "\\item[Oklahoma] 3\n",
       "\\item[Oregon] 3\n",
       "\\item[Pennsylvania] 3\n",
       "\\item[Rhode Island] 3\n",
       "\\item[South Carolina] 1\n",
       "\\item[South Dakota] 3\n",
       "\\item[Tennessee] 3\n",
       "\\item[Texas] 3\n",
       "\\item[Utah] 3\n",
       "\\item[Vermont] 3\n",
       "\\item[Virginia] 3\n",
       "\\item[Washington] 3\n",
       "\\item[West Virginia] 3\n",
       "\\item[Wisconsin] 3\n",
       "\\item[Wyoming] 3\n",
       "\\end{description*}\n"
      ],
      "text/markdown": [
       "Alabama\n",
       ":   1Alaska\n",
       ":   2Arizona\n",
       ":   1Arkansas\n",
       ":   3California\n",
       ":   1Colorado\n",
       ":   3Connecticut\n",
       ":   3Delaware\n",
       ":   1Florida\n",
       ":   4Georgia\n",
       ":   3Hawaii\n",
       ":   3Idaho\n",
       ":   3Illinois\n",
       ":   1Indiana\n",
       ":   3Iowa\n",
       ":   3Kansas\n",
       ":   3Kentucky\n",
       ":   3Louisiana\n",
       ":   1Maine\n",
       ":   3Maryland\n",
       ":   1Massachusetts\n",
       ":   3Michigan\n",
       ":   1Minnesota\n",
       ":   3Mississippi\n",
       ":   1Missouri\n",
       ":   3Montana\n",
       ":   3Nebraska\n",
       ":   3Nevada\n",
       ":   1New Hampshire\n",
       ":   3New Jersey\n",
       ":   3New Mexico\n",
       ":   1New York\n",
       ":   1North Carolina\n",
       ":   5North Dakota\n",
       ":   3Ohio\n",
       ":   3Oklahoma\n",
       ":   3Oregon\n",
       ":   3Pennsylvania\n",
       ":   3Rhode Island\n",
       ":   3South Carolina\n",
       ":   1South Dakota\n",
       ":   3Tennessee\n",
       ":   3Texas\n",
       ":   3Utah\n",
       ":   3Vermont\n",
       ":   3Virginia\n",
       ":   3Washington\n",
       ":   3West Virginia\n",
       ":   3Wisconsin\n",
       ":   3Wyoming\n",
       ":   3\n",
       "\n"
      ],
      "text/plain": [
       "       Alabama         Alaska        Arizona       Arkansas     California \n",
       "             1              2              1              3              1 \n",
       "      Colorado    Connecticut       Delaware        Florida        Georgia \n",
       "             3              3              1              4              3 \n",
       "        Hawaii          Idaho       Illinois        Indiana           Iowa \n",
       "             3              3              1              3              3 \n",
       "        Kansas       Kentucky      Louisiana          Maine       Maryland \n",
       "             3              3              1              3              1 \n",
       " Massachusetts       Michigan      Minnesota    Mississippi       Missouri \n",
       "             3              1              3              1              3 \n",
       "       Montana       Nebraska         Nevada  New Hampshire     New Jersey \n",
       "             3              3              1              3              3 \n",
       "    New Mexico       New York North Carolina   North Dakota           Ohio \n",
       "             1              1              5              3              3 \n",
       "      Oklahoma         Oregon   Pennsylvania   Rhode Island South Carolina \n",
       "             3              3              3              3              1 \n",
       "  South Dakota      Tennessee          Texas           Utah        Vermont \n",
       "             3              3              3              3              3 \n",
       "      Virginia     Washington  West Virginia      Wisconsin        Wyoming \n",
       "             3              3              3              3              3 "
      ]
     },
     "metadata": {},
     "output_type": "display_data"
    }
   ],
   "source": [
    "# cutree함수를 이용하여 계층적 군집결과를 그릅 나누기\n",
    "group <- cutree(US.single,k=5) ## k는 군집의 수, h는 높이\n",
    "group"
   ]
  },
  {
   "cell_type": "code",
   "execution_count": 55,
   "metadata": {},
   "outputs": [
    {
     "data": {
      "image/png": "[encoded data removed]",
      "text/plain": [
       "Plot with title \"Cluster Dendrogram\""
      ]
     },
     "metadata": {
      "image/png": {
       "height": 700,
       "width": 700
      }
     },
     "output_type": "display_data"
    }
   ],
   "source": [
    "## 각각의 그룹을 사각형으로 그룹지어 나타나기\n",
    "plot(US.single)\n",
    "rect.hclust(US.single,k=5,border=\"red\")"
   ]
  },
  {
   "cell_type": "markdown",
   "metadata": {},
   "source": [
    "***"
   ]
  },
  {
   "cell_type": "markdown",
   "metadata": {},
   "source": [
    "# 2. 비계층적 군집분석 (K-means clustering)"
   ]
  },
  {
   "cell_type": "markdown",
   "metadata": {},
   "source": [
    "* 주어진 데이터를 k개의 클러스터로 묶는 알고리즘, 각 클러스터와 거리 차이의 분산을 최소화 하는 방식으로 동작\n",
    "* 알고리즘이 단순하며 계층적 군집분석에 비해 많은 양의 데이터를 다룰 수 있으며 사전 정보가 없을 경우 의미있는 자료 구조를 찾을 수 있음.\n",
    "* 허나 군집의 수, 가중치와 거리 정의가 어려우며, 사전에 주어진 목적이 없으므로 결과 해석이 어려움.\n",
    "* 또한 잡음이나 이상값의 영향을 받으며 초기 군집 수를 결정해야 한다는 단점이 있다."
   ]
  },
  {
   "cell_type": "code",
   "execution_count": 66,
   "metadata": {},
   "outputs": [
    {
     "name": "stderr",
     "output_type": "stream",
     "text": [
      "\u001b[1m\u001b[1mRows: \u001b[1m\u001b[22m\u001b[34m\u001b[34m1000\u001b[34m\u001b[39m \u001b[1m\u001b[1mColumns: \u001b[1m\u001b[22m\u001b[34m\u001b[34m21\u001b[34m\u001b[39m\n",
      "\n",
      "\u001b[36m--\u001b[39m \u001b[1m\u001b[1mColumn specification\u001b[1m\u001b[22m \u001b[36m------------------------------------------------------------------------------------------------\u001b[39m\n",
      "\u001b[1mDelimiter:\u001b[22m \",\"\n",
      "\u001b[32mdbl\u001b[39m (21): credit.rating, account.balance, credit.duration.months, previous.c...\n",
      "\n",
      "\n",
      "\u001b[36mi\u001b[39m Use \u001b[30m\u001b[47m\u001b[30m\u001b[47m`spec()`\u001b[47m\u001b[30m\u001b[49m\u001b[39m to retrieve the full column specification for this data.\n",
      "\u001b[36mi\u001b[39m Specify the column types or set \u001b[30m\u001b[47m\u001b[30m\u001b[47m`show_col_types = FALSE`\u001b[47m\u001b[30m\u001b[49m\u001b[39m to quiet this message.\n",
      "\n"
     ]
    }
   ],
   "source": [
    "setwd(\"C:\\\\Users\\\\lee\\\\Desktop\\\\PART 05 실습용 데이터\")\n",
    "credit_data <- read_csv(\"credit_final.csv\")\n",
    "#glimpse(credit_data) ## credit.rating의 경우 factor 변수이므로 변환\n",
    "credit_data$credit.rating <- as_factor(credit_data$credit.rating)"
   ]
  },
  {
   "cell_type": "code",
   "execution_count": 67,
   "metadata": {},
   "outputs": [],
   "source": [
    "# summary(credit_data)\n",
    "## 데이터 분할 각각의 데이터를 7:3으로 나눔\n",
    "train <- credit_data %>% sample_frac(0.7)\n",
    "test <- credit_data %>% setdiff(train)"
   ]
  },
  {
   "cell_type": "code",
   "execution_count": 68,
   "metadata": {},
   "outputs": [
    {
     "data": {
      "text/html": [
       "<style>\n",
       ".list-inline {list-style: none; margin:0; padding: 0}\n",
       ".list-inline>li {display: inline-block}\n",
       ".list-inline>li:not(:last-child)::after {content: \"\\00b7\"; padding: 0 .5ex}\n",
       "</style>\n",
       "<ol class=list-inline><li>'cluster'</li><li>'centers'</li><li>'totss'</li><li>'withinss'</li><li>'tot.withinss'</li><li>'betweenss'</li><li>'size'</li><li>'iter'</li><li>'ifault'</li></ol>\n"
      ],
      "text/latex": [
       "\\begin{enumerate*}\n",
       "\\item 'cluster'\n",
       "\\item 'centers'\n",
       "\\item 'totss'\n",
       "\\item 'withinss'\n",
       "\\item 'tot.withinss'\n",
       "\\item 'betweenss'\n",
       "\\item 'size'\n",
       "\\item 'iter'\n",
       "\\item 'ifault'\n",
       "\\end{enumerate*}\n"
      ],
      "text/markdown": [
       "1. 'cluster'\n",
       "2. 'centers'\n",
       "3. 'totss'\n",
       "4. 'withinss'\n",
       "5. 'tot.withinss'\n",
       "6. 'betweenss'\n",
       "7. 'size'\n",
       "8. 'iter'\n",
       "9. 'ifault'\n",
       "\n",
       "\n"
      ],
      "text/plain": [
       "[1] \"cluster\"      \"centers\"      \"totss\"        \"withinss\"     \"tot.withinss\"\n",
       "[6] \"betweenss\"    \"size\"         \"iter\"         \"ifault\"      "
      ]
     },
     "metadata": {},
     "output_type": "display_data"
    }
   ],
   "source": [
    "train.data <- train %>% select(-1)\n",
    "credit.kmeans <- kmeans(train.data,centers=2)\n",
    "names(credit.kmeans)"
   ]
  },
  {
   "cell_type": "code",
   "execution_count": 69,
   "metadata": {},
   "outputs": [
    {
     "data": {
      "text/plain": [
       "Confusion Matrix and Statistics\n",
       "\n",
       "          Reference\n",
       "Prediction   0   1\n",
       "         0  48  75\n",
       "         1 166 411\n",
       "                                          \n",
       "               Accuracy : 0.6557          \n",
       "                 95% CI : (0.6192, 0.6909)\n",
       "    No Information Rate : 0.6943          \n",
       "    P-Value [Acc > NIR] : 0.9873          \n",
       "                                          \n",
       "                  Kappa : 0.0794          \n",
       "                                          \n",
       " Mcnemar's Test P-Value : 6.735e-09       \n",
       "                                          \n",
       "            Sensitivity : 0.8457          \n",
       "            Specificity : 0.2243          \n",
       "         Pos Pred Value : 0.7123          \n",
       "         Neg Pred Value : 0.3902          \n",
       "             Prevalence : 0.6943          \n",
       "         Detection Rate : 0.5871          \n",
       "   Detection Prevalence : 0.8243          \n",
       "      Balanced Accuracy : 0.5350          \n",
       "                                          \n",
       "       'Positive' Class : 1               \n",
       "                                          "
      ]
     },
     "metadata": {},
     "output_type": "display_data"
    }
   ],
   "source": [
    "cluster <- as.factor(ifelse(credit.kmeans$cluster==1,0,1))\n",
    "library(caret)\n",
    "confusionMatrix(cluster,train$credit.rating,positive = \"1\")"
   ]
  },
  {
   "cell_type": "markdown",
   "metadata": {},
   "source": [
    "* 실제 데이터와 군집분설결과의 confusion matrix 확인 -> 그닥 결과가 좋지는 않음"
   ]
  },
  {
   "cell_type": "markdown",
   "metadata": {},
   "source": [
    "* 또한 전체변동에서 군집 간 변동이 차지하는 비율을 보았을 때 약 70%로 좋은 모델이라고 판단할 수 없다."
   ]
  },
  {
   "cell_type": "code",
   "execution_count": 70,
   "metadata": {},
   "outputs": [
    {
     "data": {
      "text/html": [
       "0.690074654329468"
      ],
      "text/latex": [
       "0.690074654329468"
      ],
      "text/markdown": [
       "0.690074654329468"
      ],
      "text/plain": [
       "[1] 0.6900747"
      ]
     },
     "metadata": {},
     "output_type": "display_data"
    }
   ],
   "source": [
    "credit.kmeans$betweenss/credit.kmeans$totss"
   ]
  },
  {
   "cell_type": "markdown",
   "metadata": {},
   "source": [
    "* NbClust함수를 이용하면 최적의 군집수를 찾을 수 있다."
   ]
  },
  {
   "cell_type": "code",
   "execution_count": 74,
   "metadata": {},
   "outputs": [],
   "source": [
    "library(NbClust)"
   ]
  },
  {
   "cell_type": "code",
   "execution_count": 75,
   "metadata": {},
   "outputs": [
    {
     "name": "stdout",
     "output_type": "stream",
     "text": [
      "*** : The Hubert index is a graphical method of determining the number of clusters.\n",
      "                In the plot of Hubert index, we seek a significant knee that corresponds to a \n",
      "                significant increase of the value of the measure i.e the significant peak in Hubert\n",
      "                index second differences plot. \n",
      " \n"
     ]
    },
    {
     "data": {
      "image/png": "[encoded data removed]",
      "text/plain": [
       "plot without title"
      ]
     },
     "metadata": {
      "image/png": {
       "height": 700,
       "width": 700
      }
     },
     "output_type": "display_data"
    },
    {
     "name": "stdout",
     "output_type": "stream",
     "text": [
      "*** : The D index is a graphical method of determining the number of clusters. \n",
      "                In the plot of D index, we seek a significant knee (the significant peak in Dindex\n",
      "                second differences plot) that corresponds to a significant increase of the value of\n",
      "                the measure. \n",
      " \n",
      "******************************************************************* \n",
      "* Among all indices:                                                \n",
      "* 5 proposed 2 as the best number of clusters \n",
      "* 2 proposed 3 as the best number of clusters \n",
      "* 8 proposed 4 as the best number of clusters \n",
      "* 1 proposed 6 as the best number of clusters \n",
      "* 2 proposed 9 as the best number of clusters \n",
      "* 1 proposed 10 as the best number of clusters \n",
      "* 5 proposed 15 as the best number of clusters \n",
      "\n",
      "                   ***** Conclusion *****                            \n",
      " \n",
      "* According to the majority rule, the best number of clusters is  4 \n",
      " \n",
      " \n",
      "******************************************************************* \n"
     ]
    },
    {
     "data": {
      "image/png": "[encoded data removed]",
      "text/plain": [
       "plot without title"
      ]
     },
     "metadata": {
      "image/png": {
       "height": 700,
       "width": 700
      }
     },
     "output_type": "display_data"
    }
   ],
   "source": [
    "nc <- NbClust(train.data, min.nc=2, max.nc = 15, method=\"kmeans\")"
   ]
  },
  {
   "cell_type": "markdown",
   "metadata": {},
   "source": [
    "* Hubert index와 D index 값의 근거하여 최적의 군집의 수를 4로 채택 : 군집분석 타당성 지표 다시 공부"
   ]
  },
  {
   "cell_type": "code",
   "execution_count": 76,
   "metadata": {},
   "outputs": [
    {
     "data": {
      "text/html": [
       "<style>\n",
       ".list-inline {list-style: none; margin:0; padding: 0}\n",
       ".list-inline>li {display: inline-block}\n",
       ".list-inline>li:not(:last-child)::after {content: \"\\00b7\"; padding: 0 .5ex}\n",
       "</style>\n",
       "<ol class=list-inline><li>'All.index'</li><li>'All.CriticalValues'</li><li>'Best.nc'</li><li>'Best.partition'</li></ol>\n"
      ],
      "text/latex": [
       "\\begin{enumerate*}\n",
       "\\item 'All.index'\n",
       "\\item 'All.CriticalValues'\n",
       "\\item 'Best.nc'\n",
       "\\item 'Best.partition'\n",
       "\\end{enumerate*}\n"
      ],
      "text/markdown": [
       "1. 'All.index'\n",
       "2. 'All.CriticalValues'\n",
       "3. 'Best.nc'\n",
       "4. 'Best.partition'\n",
       "\n",
       "\n"
      ],
      "text/plain": [
       "[1] \"All.index\"          \"All.CriticalValues\" \"Best.nc\"           \n",
       "[4] \"Best.partition\"    "
      ]
     },
     "metadata": {},
     "output_type": "display_data"
    }
   ],
   "source": [
    "names(nc)"
   ]
  },
  {
   "cell_type": "code",
   "execution_count": 77,
   "metadata": {},
   "outputs": [
    {
     "data": {
      "text/html": [
       "<style>\n",
       ".list-inline {list-style: none; margin:0; padding: 0}\n",
       ".list-inline>li {display: inline-block}\n",
       ".list-inline>li:not(:last-child)::after {content: \"\\00b7\"; padding: 0 .5ex}\n",
       "</style>\n",
       "<ol class=list-inline><li>3</li><li>3</li><li>3</li><li>3</li><li>3</li><li>3</li><li>3</li><li>4</li><li>3</li><li>4</li><li>4</li><li>3</li><li>3</li><li>4</li><li>1</li><li>3</li><li>4</li><li>1</li><li>3</li><li>4</li><li>2</li><li>4</li><li>4</li><li>1</li><li>3</li><li>4</li><li>4</li><li>3</li><li>3</li><li>3</li><li>3</li><li>3</li><li>3</li><li>2</li><li>4</li><li>1</li><li>1</li><li>4</li><li>3</li><li>4</li><li>1</li><li>3</li><li>3</li><li>3</li><li>3</li><li>4</li><li>4</li><li>3</li><li>3</li><li>1</li><li>1</li><li>4</li><li>3</li><li>1</li><li>1</li><li>3</li><li>4</li><li>3</li><li>3</li><li>3</li><li>3</li><li>2</li><li>3</li><li>4</li><li>4</li><li>3</li><li>3</li><li>3</li><li>4</li><li>3</li><li>1</li><li>4</li><li>1</li><li>3</li><li>2</li><li>4</li><li>3</li><li>3</li><li>1</li><li>3</li><li>3</li><li>4</li><li>4</li><li>2</li><li>3</li><li>3</li><li>3</li><li>3</li><li>1</li><li>3</li><li>3</li><li>4</li><li>3</li><li>3</li><li>1</li><li>2</li><li>4</li><li>4</li><li>3</li><li>4</li><li>3</li><li>3</li><li>1</li><li>4</li><li>2</li><li>3</li><li>1</li><li>4</li><li>1</li><li>3</li><li>4</li><li>3</li><li>3</li><li>1</li><li>4</li><li>3</li><li>3</li><li>3</li><li>3</li><li>3</li><li>3</li><li>3</li><li>3</li><li>4</li><li>4</li><li>3</li><li>3</li><li>3</li><li>2</li><li>3</li><li>4</li><li>1</li><li>3</li><li>4</li><li>4</li><li>1</li><li>1</li><li>3</li><li>3</li><li>3</li><li>3</li><li>3</li><li>3</li><li>4</li><li>4</li><li>2</li><li>3</li><li>1</li><li>3</li><li>3</li><li>3</li><li>3</li><li>1</li><li>1</li><li>3</li><li>2</li><li>3</li><li>3</li><li>3</li><li>3</li><li>4</li><li>3</li><li>1</li><li>3</li><li>4</li><li>4</li><li>4</li><li>3</li><li>3</li><li>1</li><li>4</li><li>3</li><li>3</li><li>4</li><li>3</li><li>3</li><li>3</li><li>3</li><li>4</li><li>2</li><li>3</li><li>3</li><li>3</li><li>4</li><li>3</li><li>2</li><li>3</li><li>3</li><li>4</li><li>3</li><li>2</li><li>3</li><li>3</li><li>1</li><li>3</li><li>3</li><li>4</li><li>1</li><li>3</li><li>4</li><li>...</li><li>1</li><li>3</li><li>1</li><li>3</li><li>2</li><li>1</li><li>1</li><li>1</li><li>3</li><li>3</li><li>3</li><li>4</li><li>3</li><li>4</li><li>4</li><li>1</li><li>3</li><li>4</li><li>4</li><li>3</li><li>3</li><li>3</li><li>2</li><li>3</li><li>3</li><li>3</li><li>4</li><li>4</li><li>4</li><li>3</li><li>3</li><li>3</li><li>4</li><li>4</li><li>3</li><li>1</li><li>3</li><li>4</li><li>4</li><li>1</li><li>3</li><li>3</li><li>3</li><li>4</li><li>4</li><li>4</li><li>4</li><li>4</li><li>1</li><li>3</li><li>1</li><li>3</li><li>3</li><li>3</li><li>3</li><li>4</li><li>3</li><li>4</li><li>3</li><li>3</li><li>1</li><li>3</li><li>3</li><li>3</li><li>3</li><li>4</li><li>4</li><li>3</li><li>3</li><li>4</li><li>3</li><li>4</li><li>3</li><li>3</li><li>3</li><li>4</li><li>3</li><li>4</li><li>4</li><li>3</li><li>4</li><li>3</li><li>3</li><li>1</li><li>4</li><li>2</li><li>4</li><li>4</li><li>3</li><li>4</li><li>4</li><li>3</li><li>4</li><li>4</li><li>3</li><li>3</li><li>3</li><li>3</li><li>4</li><li>4</li><li>3</li><li>3</li><li>3</li><li>3</li><li>3</li><li>3</li><li>4</li><li>3</li><li>3</li><li>3</li><li>4</li><li>4</li><li>3</li><li>2</li><li>3</li><li>4</li><li>4</li><li>3</li><li>3</li><li>3</li><li>3</li><li>3</li><li>1</li><li>3</li><li>3</li><li>3</li><li>1</li><li>4</li><li>3</li><li>3</li><li>3</li><li>3</li><li>2</li><li>3</li><li>4</li><li>3</li><li>4</li><li>1</li><li>4</li><li>3</li><li>3</li><li>4</li><li>1</li><li>4</li><li>1</li><li>1</li><li>4</li><li>3</li><li>3</li><li>1</li><li>3</li><li>3</li><li>1</li><li>2</li><li>3</li><li>3</li><li>3</li><li>3</li><li>4</li><li>3</li><li>1</li><li>3</li><li>1</li><li>3</li><li>3</li><li>3</li><li>4</li><li>3</li><li>1</li><li>1</li><li>3</li><li>3</li><li>4</li><li>1</li><li>2</li><li>4</li><li>4</li><li>3</li><li>4</li><li>3</li><li>3</li><li>3</li><li>3</li><li>3</li><li>3</li><li>1</li><li>3</li><li>4</li><li>3</li><li>3</li><li>4</li><li>4</li><li>4</li><li>1</li><li>4</li><li>3</li><li>3</li><li>4</li><li>3</li><li>3</li></ol>\n"
      ],
      "text/latex": [
       "\\begin{enumerate*}\n",
       "\\item 3\n",
       "\\item 3\n",
       "\\item 3\n",
       "\\item 3\n",
       "\\item 3\n",
       "\\item 3\n",
       "\\item 3\n",
       "\\item 4\n",
       "\\item 3\n",
       "\\item 4\n",
       "\\item 4\n",
       "\\item 3\n",
       "\\item 3\n",
       "\\item 4\n",
       "\\item 1\n",
       "\\item 3\n",
       "\\item 4\n",
       "\\item 1\n",
       "\\item 3\n",
       "\\item 4\n",
       "\\item 2\n",
       "\\item 4\n",
       "\\item 4\n",
       "\\item 1\n",
       "\\item 3\n",
       "\\item 4\n",
       "\\item 4\n",
       "\\item 3\n",
       "\\item 3\n",
       "\\item 3\n",
       "\\item 3\n",
       "\\item 3\n",
       "\\item 3\n",
       "\\item 2\n",
       "\\item 4\n",
       "\\item 1\n",
       "\\item 1\n",
       "\\item 4\n",
       "\\item 3\n",
       "\\item 4\n",
       "\\item 1\n",
       "\\item 3\n",
       "\\item 3\n",
       "\\item 3\n",
       "\\item 3\n",
       "\\item 4\n",
       "\\item 4\n",
       "\\item 3\n",
       "\\item 3\n",
       "\\item 1\n",
       "\\item 1\n",
       "\\item 4\n",
       "\\item 3\n",
       "\\item 1\n",
       "\\item 1\n",
       "\\item 3\n",
       "\\item 4\n",
       "\\item 3\n",
       "\\item 3\n",
       "\\item 3\n",
       "\\item 3\n",
       "\\item 2\n",
       "\\item 3\n",
       "\\item 4\n",
       "\\item 4\n",
       "\\item 3\n",
       "\\item 3\n",
       "\\item 3\n",
       "\\item 4\n",
       "\\item 3\n",
       "\\item 1\n",
       "\\item 4\n",
       "\\item 1\n",
       "\\item 3\n",
       "\\item 2\n",
       "\\item 4\n",
       "\\item 3\n",
       "\\item 3\n",
       "\\item 1\n",
       "\\item 3\n",
       "\\item 3\n",
       "\\item 4\n",
       "\\item 4\n",
       "\\item 2\n",
       "\\item 3\n",
       "\\item 3\n",
       "\\item 3\n",
       "\\item 3\n",
       "\\item 1\n",
       "\\item 3\n",
       "\\item 3\n",
       "\\item 4\n",
       "\\item 3\n",
       "\\item 3\n",
       "\\item 1\n",
       "\\item 2\n",
       "\\item 4\n",
       "\\item 4\n",
       "\\item 3\n",
       "\\item 4\n",
       "\\item 3\n",
       "\\item 3\n",
       "\\item 1\n",
       "\\item 4\n",
       "\\item 2\n",
       "\\item 3\n",
       "\\item 1\n",
       "\\item 4\n",
       "\\item 1\n",
       "\\item 3\n",
       "\\item 4\n",
       "\\item 3\n",
       "\\item 3\n",
       "\\item 1\n",
       "\\item 4\n",
       "\\item 3\n",
       "\\item 3\n",
       "\\item 3\n",
       "\\item 3\n",
       "\\item 3\n",
       "\\item 3\n",
       "\\item 3\n",
       "\\item 3\n",
       "\\item 4\n",
       "\\item 4\n",
       "\\item 3\n",
       "\\item 3\n",
       "\\item 3\n",
       "\\item 2\n",
       "\\item 3\n",
       "\\item 4\n",
       "\\item 1\n",
       "\\item 3\n",
       "\\item 4\n",
       "\\item 4\n",
       "\\item 1\n",
       "\\item 1\n",
       "\\item 3\n",
       "\\item 3\n",
       "\\item 3\n",
       "\\item 3\n",
       "\\item 3\n",
       "\\item 3\n",
       "\\item 4\n",
       "\\item 4\n",
       "\\item 2\n",
       "\\item 3\n",
       "\\item 1\n",
       "\\item 3\n",
       "\\item 3\n",
       "\\item 3\n",
       "\\item 3\n",
       "\\item 1\n",
       "\\item 1\n",
       "\\item 3\n",
       "\\item 2\n",
       "\\item 3\n",
       "\\item 3\n",
       "\\item 3\n",
       "\\item 3\n",
       "\\item 4\n",
       "\\item 3\n",
       "\\item 1\n",
       "\\item 3\n",
       "\\item 4\n",
       "\\item 4\n",
       "\\item 4\n",
       "\\item 3\n",
       "\\item 3\n",
       "\\item 1\n",
       "\\item 4\n",
       "\\item 3\n",
       "\\item 3\n",
       "\\item 4\n",
       "\\item 3\n",
       "\\item 3\n",
       "\\item 3\n",
       "\\item 3\n",
       "\\item 4\n",
       "\\item 2\n",
       "\\item 3\n",
       "\\item 3\n",
       "\\item 3\n",
       "\\item 4\n",
       "\\item 3\n",
       "\\item 2\n",
       "\\item 3\n",
       "\\item 3\n",
       "\\item 4\n",
       "\\item 3\n",
       "\\item 2\n",
       "\\item 3\n",
       "\\item 3\n",
       "\\item 1\n",
       "\\item 3\n",
       "\\item 3\n",
       "\\item 4\n",
       "\\item 1\n",
       "\\item 3\n",
       "\\item 4\n",
       "\\item ...\n",
       "\\item 1\n",
       "\\item 3\n",
       "\\item 1\n",
       "\\item 3\n",
       "\\item 2\n",
       "\\item 1\n",
       "\\item 1\n",
       "\\item 1\n",
       "\\item 3\n",
       "\\item 3\n",
       "\\item 3\n",
       "\\item 4\n",
       "\\item 3\n",
       "\\item 4\n",
       "\\item 4\n",
       "\\item 1\n",
       "\\item 3\n",
       "\\item 4\n",
       "\\item 4\n",
       "\\item 3\n",
       "\\item 3\n",
       "\\item 3\n",
       "\\item 2\n",
       "\\item 3\n",
       "\\item 3\n",
       "\\item 3\n",
       "\\item 4\n",
       "\\item 4\n",
       "\\item 4\n",
       "\\item 3\n",
       "\\item 3\n",
       "\\item 3\n",
       "\\item 4\n",
       "\\item 4\n",
       "\\item 3\n",
       "\\item 1\n",
       "\\item 3\n",
       "\\item 4\n",
       "\\item 4\n",
       "\\item 1\n",
       "\\item 3\n",
       "\\item 3\n",
       "\\item 3\n",
       "\\item 4\n",
       "\\item 4\n",
       "\\item 4\n",
       "\\item 4\n",
       "\\item 4\n",
       "\\item 1\n",
       "\\item 3\n",
       "\\item 1\n",
       "\\item 3\n",
       "\\item 3\n",
       "\\item 3\n",
       "\\item 3\n",
       "\\item 4\n",
       "\\item 3\n",
       "\\item 4\n",
       "\\item 3\n",
       "\\item 3\n",
       "\\item 1\n",
       "\\item 3\n",
       "\\item 3\n",
       "\\item 3\n",
       "\\item 3\n",
       "\\item 4\n",
       "\\item 4\n",
       "\\item 3\n",
       "\\item 3\n",
       "\\item 4\n",
       "\\item 3\n",
       "\\item 4\n",
       "\\item 3\n",
       "\\item 3\n",
       "\\item 3\n",
       "\\item 4\n",
       "\\item 3\n",
       "\\item 4\n",
       "\\item 4\n",
       "\\item 3\n",
       "\\item 4\n",
       "\\item 3\n",
       "\\item 3\n",
       "\\item 1\n",
       "\\item 4\n",
       "\\item 2\n",
       "\\item 4\n",
       "\\item 4\n",
       "\\item 3\n",
       "\\item 4\n",
       "\\item 4\n",
       "\\item 3\n",
       "\\item 4\n",
       "\\item 4\n",
       "\\item 3\n",
       "\\item 3\n",
       "\\item 3\n",
       "\\item 3\n",
       "\\item 4\n",
       "\\item 4\n",
       "\\item 3\n",
       "\\item 3\n",
       "\\item 3\n",
       "\\item 3\n",
       "\\item 3\n",
       "\\item 3\n",
       "\\item 4\n",
       "\\item 3\n",
       "\\item 3\n",
       "\\item 3\n",
       "\\item 4\n",
       "\\item 4\n",
       "\\item 3\n",
       "\\item 2\n",
       "\\item 3\n",
       "\\item 4\n",
       "\\item 4\n",
       "\\item 3\n",
       "\\item 3\n",
       "\\item 3\n",
       "\\item 3\n",
       "\\item 3\n",
       "\\item 1\n",
       "\\item 3\n",
       "\\item 3\n",
       "\\item 3\n",
       "\\item 1\n",
       "\\item 4\n",
       "\\item 3\n",
       "\\item 3\n",
       "\\item 3\n",
       "\\item 3\n",
       "\\item 2\n",
       "\\item 3\n",
       "\\item 4\n",
       "\\item 3\n",
       "\\item 4\n",
       "\\item 1\n",
       "\\item 4\n",
       "\\item 3\n",
       "\\item 3\n",
       "\\item 4\n",
       "\\item 1\n",
       "\\item 4\n",
       "\\item 1\n",
       "\\item 1\n",
       "\\item 4\n",
       "\\item 3\n",
       "\\item 3\n",
       "\\item 1\n",
       "\\item 3\n",
       "\\item 3\n",
       "\\item 1\n",
       "\\item 2\n",
       "\\item 3\n",
       "\\item 3\n",
       "\\item 3\n",
       "\\item 3\n",
       "\\item 4\n",
       "\\item 3\n",
       "\\item 1\n",
       "\\item 3\n",
       "\\item 1\n",
       "\\item 3\n",
       "\\item 3\n",
       "\\item 3\n",
       "\\item 4\n",
       "\\item 3\n",
       "\\item 1\n",
       "\\item 1\n",
       "\\item 3\n",
       "\\item 3\n",
       "\\item 4\n",
       "\\item 1\n",
       "\\item 2\n",
       "\\item 4\n",
       "\\item 4\n",
       "\\item 3\n",
       "\\item 4\n",
       "\\item 3\n",
       "\\item 3\n",
       "\\item 3\n",
       "\\item 3\n",
       "\\item 3\n",
       "\\item 3\n",
       "\\item 1\n",
       "\\item 3\n",
       "\\item 4\n",
       "\\item 3\n",
       "\\item 3\n",
       "\\item 4\n",
       "\\item 4\n",
       "\\item 4\n",
       "\\item 1\n",
       "\\item 4\n",
       "\\item 3\n",
       "\\item 3\n",
       "\\item 4\n",
       "\\item 3\n",
       "\\item 3\n",
       "\\end{enumerate*}\n"
      ],
      "text/markdown": [
       "1. 3\n",
       "2. 3\n",
       "3. 3\n",
       "4. 3\n",
       "5. 3\n",
       "6. 3\n",
       "7. 3\n",
       "8. 4\n",
       "9. 3\n",
       "10. 4\n",
       "11. 4\n",
       "12. 3\n",
       "13. 3\n",
       "14. 4\n",
       "15. 1\n",
       "16. 3\n",
       "17. 4\n",
       "18. 1\n",
       "19. 3\n",
       "20. 4\n",
       "21. 2\n",
       "22. 4\n",
       "23. 4\n",
       "24. 1\n",
       "25. 3\n",
       "26. 4\n",
       "27. 4\n",
       "28. 3\n",
       "29. 3\n",
       "30. 3\n",
       "31. 3\n",
       "32. 3\n",
       "33. 3\n",
       "34. 2\n",
       "35. 4\n",
       "36. 1\n",
       "37. 1\n",
       "38. 4\n",
       "39. 3\n",
       "40. 4\n",
       "41. 1\n",
       "42. 3\n",
       "43. 3\n",
       "44. 3\n",
       "45. 3\n",
       "46. 4\n",
       "47. 4\n",
       "48. 3\n",
       "49. 3\n",
       "50. 1\n",
       "51. 1\n",
       "52. 4\n",
       "53. 3\n",
       "54. 1\n",
       "55. 1\n",
       "56. 3\n",
       "57. 4\n",
       "58. 3\n",
       "59. 3\n",
       "60. 3\n",
       "61. 3\n",
       "62. 2\n",
       "63. 3\n",
       "64. 4\n",
       "65. 4\n",
       "66. 3\n",
       "67. 3\n",
       "68. 3\n",
       "69. 4\n",
       "70. 3\n",
       "71. 1\n",
       "72. 4\n",
       "73. 1\n",
       "74. 3\n",
       "75. 2\n",
       "76. 4\n",
       "77. 3\n",
       "78. 3\n",
       "79. 1\n",
       "80. 3\n",
       "81. 3\n",
       "82. 4\n",
       "83. 4\n",
       "84. 2\n",
       "85. 3\n",
       "86. 3\n",
       "87. 3\n",
       "88. 3\n",
       "89. 1\n",
       "90. 3\n",
       "91. 3\n",
       "92. 4\n",
       "93. 3\n",
       "94. 3\n",
       "95. 1\n",
       "96. 2\n",
       "97. 4\n",
       "98. 4\n",
       "99. 3\n",
       "100. 4\n",
       "101. 3\n",
       "102. 3\n",
       "103. 1\n",
       "104. 4\n",
       "105. 2\n",
       "106. 3\n",
       "107. 1\n",
       "108. 4\n",
       "109. 1\n",
       "110. 3\n",
       "111. 4\n",
       "112. 3\n",
       "113. 3\n",
       "114. 1\n",
       "115. 4\n",
       "116. 3\n",
       "117. 3\n",
       "118. 3\n",
       "119. 3\n",
       "120. 3\n",
       "121. 3\n",
       "122. 3\n",
       "123. 3\n",
       "124. 4\n",
       "125. 4\n",
       "126. 3\n",
       "127. 3\n",
       "128. 3\n",
       "129. 2\n",
       "130. 3\n",
       "131. 4\n",
       "132. 1\n",
       "133. 3\n",
       "134. 4\n",
       "135. 4\n",
       "136. 1\n",
       "137. 1\n",
       "138. 3\n",
       "139. 3\n",
       "140. 3\n",
       "141. 3\n",
       "142. 3\n",
       "143. 3\n",
       "144. 4\n",
       "145. 4\n",
       "146. 2\n",
       "147. 3\n",
       "148. 1\n",
       "149. 3\n",
       "150. 3\n",
       "151. 3\n",
       "152. 3\n",
       "153. 1\n",
       "154. 1\n",
       "155. 3\n",
       "156. 2\n",
       "157. 3\n",
       "158. 3\n",
       "159. 3\n",
       "160. 3\n",
       "161. 4\n",
       "162. 3\n",
       "163. 1\n",
       "164. 3\n",
       "165. 4\n",
       "166. 4\n",
       "167. 4\n",
       "168. 3\n",
       "169. 3\n",
       "170. 1\n",
       "171. 4\n",
       "172. 3\n",
       "173. 3\n",
       "174. 4\n",
       "175. 3\n",
       "176. 3\n",
       "177. 3\n",
       "178. 3\n",
       "179. 4\n",
       "180. 2\n",
       "181. 3\n",
       "182. 3\n",
       "183. 3\n",
       "184. 4\n",
       "185. 3\n",
       "186. 2\n",
       "187. 3\n",
       "188. 3\n",
       "189. 4\n",
       "190. 3\n",
       "191. 2\n",
       "192. 3\n",
       "193. 3\n",
       "194. 1\n",
       "195. 3\n",
       "196. 3\n",
       "197. 4\n",
       "198. 1\n",
       "199. 3\n",
       "200. 4\n",
       "201. ...\n",
       "202. 1\n",
       "203. 3\n",
       "204. 1\n",
       "205. 3\n",
       "206. 2\n",
       "207. 1\n",
       "208. 1\n",
       "209. 1\n",
       "210. 3\n",
       "211. 3\n",
       "212. 3\n",
       "213. 4\n",
       "214. 3\n",
       "215. 4\n",
       "216. 4\n",
       "217. 1\n",
       "218. 3\n",
       "219. 4\n",
       "220. 4\n",
       "221. 3\n",
       "222. 3\n",
       "223. 3\n",
       "224. 2\n",
       "225. 3\n",
       "226. 3\n",
       "227. 3\n",
       "228. 4\n",
       "229. 4\n",
       "230. 4\n",
       "231. 3\n",
       "232. 3\n",
       "233. 3\n",
       "234. 4\n",
       "235. 4\n",
       "236. 3\n",
       "237. 1\n",
       "238. 3\n",
       "239. 4\n",
       "240. 4\n",
       "241. 1\n",
       "242. 3\n",
       "243. 3\n",
       "244. 3\n",
       "245. 4\n",
       "246. 4\n",
       "247. 4\n",
       "248. 4\n",
       "249. 4\n",
       "250. 1\n",
       "251. 3\n",
       "252. 1\n",
       "253. 3\n",
       "254. 3\n",
       "255. 3\n",
       "256. 3\n",
       "257. 4\n",
       "258. 3\n",
       "259. 4\n",
       "260. 3\n",
       "261. 3\n",
       "262. 1\n",
       "263. 3\n",
       "264. 3\n",
       "265. 3\n",
       "266. 3\n",
       "267. 4\n",
       "268. 4\n",
       "269. 3\n",
       "270. 3\n",
       "271. 4\n",
       "272. 3\n",
       "273. 4\n",
       "274. 3\n",
       "275. 3\n",
       "276. 3\n",
       "277. 4\n",
       "278. 3\n",
       "279. 4\n",
       "280. 4\n",
       "281. 3\n",
       "282. 4\n",
       "283. 3\n",
       "284. 3\n",
       "285. 1\n",
       "286. 4\n",
       "287. 2\n",
       "288. 4\n",
       "289. 4\n",
       "290. 3\n",
       "291. 4\n",
       "292. 4\n",
       "293. 3\n",
       "294. 4\n",
       "295. 4\n",
       "296. 3\n",
       "297. 3\n",
       "298. 3\n",
       "299. 3\n",
       "300. 4\n",
       "301. 4\n",
       "302. 3\n",
       "303. 3\n",
       "304. 3\n",
       "305. 3\n",
       "306. 3\n",
       "307. 3\n",
       "308. 4\n",
       "309. 3\n",
       "310. 3\n",
       "311. 3\n",
       "312. 4\n",
       "313. 4\n",
       "314. 3\n",
       "315. 2\n",
       "316. 3\n",
       "317. 4\n",
       "318. 4\n",
       "319. 3\n",
       "320. 3\n",
       "321. 3\n",
       "322. 3\n",
       "323. 3\n",
       "324. 1\n",
       "325. 3\n",
       "326. 3\n",
       "327. 3\n",
       "328. 1\n",
       "329. 4\n",
       "330. 3\n",
       "331. 3\n",
       "332. 3\n",
       "333. 3\n",
       "334. 2\n",
       "335. 3\n",
       "336. 4\n",
       "337. 3\n",
       "338. 4\n",
       "339. 1\n",
       "340. 4\n",
       "341. 3\n",
       "342. 3\n",
       "343. 4\n",
       "344. 1\n",
       "345. 4\n",
       "346. 1\n",
       "347. 1\n",
       "348. 4\n",
       "349. 3\n",
       "350. 3\n",
       "351. 1\n",
       "352. 3\n",
       "353. 3\n",
       "354. 1\n",
       "355. 2\n",
       "356. 3\n",
       "357. 3\n",
       "358. 3\n",
       "359. 3\n",
       "360. 4\n",
       "361. 3\n",
       "362. 1\n",
       "363. 3\n",
       "364. 1\n",
       "365. 3\n",
       "366. 3\n",
       "367. 3\n",
       "368. 4\n",
       "369. 3\n",
       "370. 1\n",
       "371. 1\n",
       "372. 3\n",
       "373. 3\n",
       "374. 4\n",
       "375. 1\n",
       "376. 2\n",
       "377. 4\n",
       "378. 4\n",
       "379. 3\n",
       "380. 4\n",
       "381. 3\n",
       "382. 3\n",
       "383. 3\n",
       "384. 3\n",
       "385. 3\n",
       "386. 3\n",
       "387. 1\n",
       "388. 3\n",
       "389. 4\n",
       "390. 3\n",
       "391. 3\n",
       "392. 4\n",
       "393. 4\n",
       "394. 4\n",
       "395. 1\n",
       "396. 4\n",
       "397. 3\n",
       "398. 3\n",
       "399. 4\n",
       "400. 3\n",
       "401. 3\n",
       "\n",
       "\n"
      ],
      "text/plain": [
       "  [1] 3 3 3 3 3 3 3 4 3 4 4 3 3 4 1 3 4 1 3 4 2 4 4 1 3 4 4 3 3 3 3 3 3 2 4 1 1\n",
       " [38] 4 3 4 1 3 3 3 3 4 4 3 3 1 1 4 3 1 1 3 4 3 3 3 3 2 3 4 4 3 3 3 4 3 1 4 1 3\n",
       " [75] 2 4 3 3 1 3 3 4 4 2 3 3 3 3 1 3 3 4 3 3 1 2 4 4 3 4 3 3 1 4 2 3 1 4 1 3 4\n",
       "[112] 3 3 1 4 3 3 3 3 3 3 3 3 4 4 3 3 3 2 3 4 1 3 4 4 1 1 3 3 3 3 3 3 4 4 2 3 1\n",
       "[149] 3 3 3 3 1 1 3 2 3 3 3 3 4 3 1 3 4 4 4 3 3 1 4 3 3 4 3 3 3 3 4 2 3 3 3 4 3\n",
       "[186] 2 3 3 4 3 2 3 3 1 3 3 4 1 3 4 3 3 3 3 3 3 3 1 3 3 3 3 3 3 3 3 1 3 4 4 3 3\n",
       "[223] 4 3 3 3 3 2 3 3 3 3 4 1 3 3 4 3 4 3 3 4 4 3 4 1 4 3 1 1 3 4 4 3 4 3 3 3 2\n",
       "[260] 4 3 4 3 4 3 3 1 1 4 3 3 3 4 3 4 3 3 3 4 3 3 4 4 3 3 4 3 3 3 1 4 1 4 3 3 4\n",
       "[297] 3 2 3 3 4 4 3 1 1 3 3 3 1 4 1 3 3 3 3 3 3 2 3 1 3 4 3 3 4 3 3 4 4 4 3 3 4\n",
       "[334] 4 4 1 3 4 4 3 3 1 3 3 3 4 4 4 3 1 3 4 1 3 4 3 3 4 3 1 3 3 3 1 1 4 3 3 3 4\n",
       "[371] 4 3 4 1 3 3 4 3 3 3 4 1 4 4 3 3 1 3 3 3 3 3 1 3 3 3 3 3 4 3 3 4 3 3 3 3 3\n",
       "[408] 4 1 4 4 4 1 3 3 3 4 3 3 4 3 3 1 1 2 3 1 3 3 3 4 4 1 3 4 3 3 3 4 3 4 3 4 4\n",
       "[445] 4 3 1 4 3 1 4 3 2 4 4 4 3 3 3 1 3 3 4 3 4 4 3 1 4 4 3 3 4 3 3 4 3 1 3 3 4\n",
       "[482] 3 3 3 3 3 4 3 3 3 3 1 3 3 3 3 4 3 1 3 1 3 1 3 2 1 1 1 3 3 3 4 3 4 4 1 3 4\n",
       "[519] 4 3 3 3 2 3 3 3 4 4 4 3 3 3 4 4 3 1 3 4 4 1 3 3 3 4 4 4 4 4 1 3 1 3 3 3 3\n",
       "[556] 4 3 4 3 3 1 3 3 3 3 4 4 3 3 4 3 4 3 3 3 4 3 4 4 3 4 3 3 1 4 2 4 4 3 4 4 3\n",
       "[593] 4 4 3 3 3 3 4 4 3 3 3 3 3 3 4 3 3 3 4 4 3 2 3 4 4 3 3 3 3 3 1 3 3 3 1 4 3\n",
       "[630] 3 3 3 2 3 4 3 4 1 4 3 3 4 1 4 1 1 4 3 3 1 3 3 1 2 3 3 3 3 4 3 1 3 1 3 3 3\n",
       "[667] 4 3 1 1 3 3 4 1 2 4 4 3 4 3 3 3 3 3 3 1 3 4 3 3 4 4 4 1 4 3 3 4 3 3"
      ]
     },
     "metadata": {},
     "output_type": "display_data"
    }
   ],
   "source": [
    "nc$Best.partition"
   ]
  },
  {
   "cell_type": "markdown",
   "metadata": {},
   "source": [
    "***"
   ]
  },
  {
   "cell_type": "markdown",
   "metadata": {},
   "source": [
    "# 3. 혼합 분포 군집"
   ]
  },
  {
   "cell_type": "markdown",
   "metadata": {},
   "source": [
    "* 데이터가 K개의 모수적 모형의 가중합으로 표현되는 모집단 모형으로부터 나왔다는 가정하에서 모수와 함께 가중치를 자료로부터 추정하는 방법을 사용"
   ]
  },
  {
   "cell_type": "markdown",
   "metadata": {},
   "source": [
    "* K개의 각 모형은 군집을 의미하며, 각 데이터는 추정된 K개의 모형 중 어느 모형으로 부터 나왔을 확률이 높은지에 따라 군집의 분류가 이루어진다."
   ]
  },
  {
   "cell_type": "markdown",
   "metadata": {},
   "source": [
    "* 흔히 혼합 모형에서의 모수와 가중치의 추정(MLE)에는 EM 알고리즘이 사용된다."
   ]
  },
  {
   "cell_type": "markdown",
   "metadata": {},
   "source": [
    "* K-means 방법과 유사하지만 확률분포를 도입하여 군집을 수행한다."
   ]
  },
  {
   "cell_type": "markdown",
   "metadata": {},
   "source": [
    "* Mclust함수의 `G`인자는 클러스터의 수를 지정하나, 디폴트는 `2:9` 에서 스스로 최적 군집의 수를 찾아준다."
   ]
  },
  {
   "cell_type": "markdown",
   "metadata": {},
   "source": [
    "* `summary`함수의 `parameter = T` 하여 혼합분포의 모수추정치와 함께 각 군집별 해당 자료에 대한 요약결과를 확인할 수 있다."
   ]
  },
  {
   "cell_type": "code",
   "execution_count": 6,
   "metadata": {},
   "outputs": [],
   "source": [
    "library(mclust)"
   ]
  },
  {
   "cell_type": "code",
   "execution_count": 8,
   "metadata": {},
   "outputs": [],
   "source": [
    "mc <- Mclust(iris %>% select(-Species),G=3)\n",
    "#summary(mc,parameters=T)"
   ]
  },
  {
   "cell_type": "code",
   "execution_count": 16,
   "metadata": {},
   "outputs": [],
   "source": [
    "library(factoextra)"
   ]
  },
  {
   "cell_type": "code",
   "execution_count": 17,
   "metadata": {},
   "outputs": [
    {
     "data": {
      "image/png": "[encoded data removed]",
      "text/plain": [
       "plot without title"
      ]
     },
     "metadata": {
      "image/png": {
       "height": 400,
       "width": 700
      }
     },
     "output_type": "display_data"
    }
   ],
   "source": [
    "options(repr.plot.res=200, repr.plot.height=4,repr.plot.width=7)\n",
    "fviz_mclust(mc,\"classification\",geom=\"point\")"
   ]
  },
  {
   "cell_type": "markdown",
   "metadata": {},
   "source": [
    "***"
   ]
  },
  {
   "cell_type": "markdown",
   "metadata": {},
   "source": [
    "# 4. 연관분석 (Association analysis)"
   ]
  },
  {
   "cell_type": "markdown",
   "metadata": {},
   "source": [
    "## 4-1. 측도"
   ]
  },
  {
   "cell_type": "markdown",
   "metadata": {},
   "source": [
    "$\\divideontimes$ tip:측도의 단어 뜻을 직관적으로 받아들여 해석하자."
   ]
  },
  {
   "cell_type": "markdown",
   "metadata": {},
   "source": [
    "* 지지도 (Support) : 전체 거래 중 항목 A와 항목 B를 동시에 포함하는 거래의 비율로 정의한다."
   ]
  },
  {
   "cell_type": "markdown",
   "metadata": {},
   "source": [
    "$\\quad P (A \\cup B)$"
   ]
  },
  {
   "cell_type": "markdown",
   "metadata": {},
   "source": [
    "* 신뢰도 (Confidence) : 항목 A를 포함한 거래중 항목 B도 같이 포함될 확률 "
   ]
  },
  {
   "cell_type": "markdown",
   "metadata": {},
   "source": [
    "$\\begin {eqnarray*}\\quad P(B|A) = \\frac {P(A\\cap B)}{P(A)} \\end{eqnarray*}$"
   ]
  },
  {
   "cell_type": "markdown",
   "metadata": {},
   "source": [
    "*  향상도 (Lift) : A가 구매되지 않았을 때 품목 B의 구매확률에 비해 A가 구매됐을 때 품목 B의 구매확률의 증가비"
   ]
  },
  {
   "cell_type": "markdown",
   "metadata": {},
   "source": [
    "$\\quad \\begin {eqnarray*}  \\frac {P(B|A)}{P(B)}\\end{eqnarray*}$"
   ]
  },
  {
   "cell_type": "markdown",
   "metadata": {},
   "source": [
    "## 4-2. Apriori 알고리즘"
   ]
  },
  {
   "cell_type": "markdown",
   "metadata": {},
   "source": [
    "* 빈발항목집합(frequent item set) : 최소 지지도 보다 큰 지지도 값을 갖는 품목의 집합"
   ]
  },
  {
   "cell_type": "markdown",
   "metadata": {},
   "source": [
    "* Apriori 알고리즘 : 모든 품목집합에 대한 지지도를 전부 계산하는 것이 아니라, 최소 지지도 이상의 빈발항목집합을 찾은 후 그것들에 대해서만 연관규칙을 계산하는 것."
   ]
  },
  {
   "cell_type": "markdown",
   "metadata": {},
   "source": [
    "* 지지도가 낮은 후보 집합 생성 시 아이템의 개수가 많아지면 계산 복잡도가 증가한다는 문제점을 가지고 있다."
   ]
  },
  {
   "cell_type": "markdown",
   "metadata": {},
   "source": [
    "## 4-3. R실습"
   ]
  },
  {
   "cell_type": "markdown",
   "metadata": {},
   "source": [
    "* as함수를 이용하여 데이터프레임을 `transactions` 함수로 변형 후에 진행하여야 하나 예제 데이터는 이미 변형이 된 데이터이다."
   ]
  },
  {
   "cell_type": "code",
   "execution_count": 92,
   "metadata": {},
   "outputs": [],
   "source": [
    "library(arules)"
   ]
  },
  {
   "cell_type": "code",
   "execution_count": 102,
   "metadata": {},
   "outputs": [
    {
     "name": "stdout",
     "output_type": "stream",
     "text": [
      "    items                \n",
      "[1] {citrus fruit,       \n",
      "     semi-finished bread,\n",
      "     margarine,          \n",
      "     ready soups}        \n",
      "[2] {tropical fruit,     \n",
      "     yogurt,             \n",
      "     coffee}             \n",
      "[3] {whole milk}         \n"
     ]
    }
   ],
   "source": [
    "data(Groceries)\n",
    "inspect(Groceries[1:3]) ##연관규칙 확인"
   ]
  },
  {
   "cell_type": "code",
   "execution_count": 103,
   "metadata": {},
   "outputs": [
    {
     "name": "stdout",
     "output_type": "stream",
     "text": [
      "Apriori\n",
      "\n",
      "Parameter specification:\n",
      " confidence minval smax arem  aval originalSupport maxtime support minlen\n",
      "        0.3    0.1    1 none FALSE            TRUE       5    0.01      1\n",
      " maxlen target  ext\n",
      "     10  rules TRUE\n",
      "\n",
      "Algorithmic control:\n",
      " filter tree heap memopt load sort verbose\n",
      "    0.1 TRUE TRUE  FALSE TRUE    2    TRUE\n",
      "\n",
      "Absolute minimum support count: 98 \n",
      "\n",
      "set item appearances ...[0 item(s)] done [0.00s].\n",
      "set transactions ...[169 item(s), 9835 transaction(s)] done [0.00s].\n",
      "sorting and recoding items ... [88 item(s)] done [0.00s].\n",
      "creating transaction tree ... done [0.00s].\n",
      "checking subsets of size 1 2 3 4 done [0.00s].\n",
      "writing ... [125 rule(s)] done [0.00s].\n",
      "creating S4 object  ... done [0.00s].\n"
     ]
    }
   ],
   "source": [
    "rules <- apriori(Groceries,\n",
    "                 parameter = list(support=0.01,\n",
    "                                  confidence = 0.3))"
   ]
  },
  {
   "cell_type": "markdown",
   "metadata": {},
   "source": [
    "* 총 125개의 연관규칙이 생성되었다."
   ]
  },
  {
   "cell_type": "code",
   "execution_count": 104,
   "metadata": {},
   "outputs": [
    {
     "name": "stdout",
     "output_type": "stream",
     "text": [
      "    lhs                                 rhs                support   \n",
      "[1] {citrus fruit,root vegetables}   => {other vegetables} 0.01037112\n",
      "[2] {tropical fruit,root vegetables} => {other vegetables} 0.01230300\n",
      "[3] {curd,yogurt}                    => {whole milk}       0.01006609\n",
      "[4] {other vegetables,butter}        => {whole milk}       0.01148958\n",
      "[5] {tropical fruit,root vegetables} => {whole milk}       0.01199797\n",
      "    confidence coverage   lift     count\n",
      "[1] 0.5862069  0.01769192 3.029608 102  \n",
      "[2] 0.5845411  0.02104728 3.020999 121  \n",
      "[3] 0.5823529  0.01728521 2.279125  99  \n",
      "[4] 0.5736041  0.02003050 2.244885 113  \n",
      "[5] 0.5700483  0.02104728 2.230969 118  \n"
     ]
    }
   ],
   "source": [
    "inspect(sort(rules,by=c(\"confidence\"),decreasing = T)[1:5])"
   ]
  },
  {
   "cell_type": "markdown",
   "metadata": {},
   "source": [
    "* 좌항에서 우항, 우항에서 좌항의 규칙이 겹치는 경우가 있으므로 중복규칙 제거함수 구현"
   ]
  },
  {
   "cell_type": "code",
   "execution_count": 106,
   "metadata": {},
   "outputs": [],
   "source": [
    "prune.dup.rules <- function(rules) {\n",
    "                    rule.subset.matrix <- is.subset(rules,rules,sparse=F)\n",
    "                    rule.subset.matrix[lower.tri(rule.subset.matrix, diag =T)] <- NA\n",
    "                    dup.rules <- colSums(rule.subset.matrix,na.rm =T) >=1\n",
    "                    pruned.rules <- rules[!dup.rules]\n",
    "                    return (pruned.rules)\n",
    "                    }"
   ]
  },
  {
   "cell_type": "markdown",
   "metadata": {},
   "source": [
    "* 만약 우변의 아이템 구매를 이끌 아이템을 찾고 싶다면?"
   ]
  },
  {
   "cell_type": "code",
   "execution_count": 107,
   "metadata": {},
   "outputs": [],
   "source": [
    "metric.params <- list(supp=0.001,conf=0.5,minlen=2) ## minlen은 좌항과 우항을 합친 최소 물품수\n",
    "rules <- apriori(Groceries,\n",
    "                 parameter = metric.params,\n",
    "                 appearance = list(default = \"lhs\",rhs=\"soda\"),\n",
    "                 control = list(verbose=F))"
   ]
  },
  {
   "cell_type": "markdown",
   "metadata": {},
   "source": [
    "* `apperance` : 우측의 `soda`를 사기위해 좌항의 아이템을 찾는 것으로 설정\n",
    "* `verbose` : `apriori` 함수 실행 결과를 나타낼지의 여부를 묻는 인자"
   ]
  },
  {
   "cell_type": "code",
   "execution_count": 108,
   "metadata": {},
   "outputs": [],
   "source": [
    "rules <- prune.dup.rules(rules)"
   ]
  },
  {
   "cell_type": "code",
   "execution_count": 109,
   "metadata": {},
   "outputs": [],
   "source": [
    "rules <- sort(rules,decreasing=T,by=\"confidence\")"
   ]
  },
  {
   "cell_type": "code",
   "execution_count": 110,
   "metadata": {},
   "outputs": [
    {
     "name": "stdout",
     "output_type": "stream",
     "text": [
      "    lhs                                     rhs    support     confidence\n",
      "[1] {coffee,misc. beverages}             => {soda} 0.001016777 0.7692308 \n",
      "[2] {sausage,bottled water,bottled beer} => {soda} 0.001118454 0.7333333 \n",
      "[3] {sausage,white bread,shopping bags}  => {soda} 0.001016777 0.6666667 \n",
      "[4] {rolls/buns,bottled water,chocolate} => {soda} 0.001321810 0.6500000 \n",
      "[5] {pastry,misc. beverages}             => {soda} 0.001220132 0.6315789 \n",
      "    coverage    lift     count\n",
      "[1] 0.001321810 4.411303 10   \n",
      "[2] 0.001525165 4.205442 11   \n",
      "[3] 0.001525165 3.823129 10   \n",
      "[4] 0.002033554 3.727551 13   \n",
      "[5] 0.001931876 3.621912 12   \n"
     ]
    }
   ],
   "source": [
    "inspect(rules[1:5])"
   ]
  },
  {
   "cell_type": "markdown",
   "metadata": {},
   "source": [
    "* 만약 좌변의 아이템 세트를 가지고 있을 때 물품을 찾고 싶다면?"
   ]
  },
  {
   "cell_type": "code",
   "execution_count": 113,
   "metadata": {},
   "outputs": [],
   "source": [
    "metric.params <- list(supp=0.001,conf=0.3,minlen=2) ## minlen은 좌항과 우항을 합친 최소 물품수\n",
    "rules <- apriori(Groceries,\n",
    "                 parameter = metric.params,\n",
    "                 appearance = list(default = \"rhs\",lhs=c(\"yogurt\",\"sugar\")),\n",
    "                 control = list(verbose=F))"
   ]
  },
  {
   "cell_type": "code",
   "execution_count": 114,
   "metadata": {},
   "outputs": [],
   "source": [
    "rules <- prune.dup.rules(rules)"
   ]
  },
  {
   "cell_type": "code",
   "execution_count": 115,
   "metadata": {},
   "outputs": [],
   "source": [
    "rules <- sort(rules,decreasing=T, by=\"confidence\")"
   ]
  },
  {
   "cell_type": "code",
   "execution_count": 116,
   "metadata": {},
   "outputs": [
    {
     "name": "stdout",
     "output_type": "stream",
     "text": [
      "    lhs               rhs                  support     confidence coverage   \n",
      "[1] {sugar}        => {whole milk}         0.015048297 0.4444444  0.033858668\n",
      "[2] {yogurt}       => {whole milk}         0.056024403 0.4016035  0.139501779\n",
      "[3] {sugar}        => {other vegetables}   0.010777834 0.3183183  0.033858668\n",
      "[4] {yogurt}       => {other vegetables}   0.043416370 0.3112245  0.139501779\n",
      "[5] {yogurt,sugar} => {whipped/sour cream} 0.002135231 0.3088235  0.006914082\n",
      "[6] {yogurt,sugar} => {root vegetables}    0.002135231 0.3088235  0.006914082\n",
      "    lift     count\n",
      "[1] 1.739400 148  \n",
      "[2] 1.571735 551  \n",
      "[3] 1.645119 106  \n",
      "[4] 1.608457 427  \n",
      "[5] 4.308198  21  \n",
      "[6] 2.833283  21  \n"
     ]
    }
   ],
   "source": [
    "inspect(rules,decreasing=T,by=\"confidence\")"
   ]
  },
  {
   "cell_type": "markdown",
   "metadata": {},
   "source": [
    "***"
   ]
  },
  {
   "cell_type": "markdown",
   "metadata": {},
   "source": [
    "## Extra. SOM (자기조직화지도)"
   ]
  },
  {
   "cell_type": "code",
   "execution_count": 107,
   "metadata": {},
   "outputs": [],
   "source": [
    "library(kohonen) ## somgmgid를 위한함수"
   ]
  },
  {
   "cell_type": "code",
   "execution_count": 122,
   "metadata": {},
   "outputs": [],
   "source": [
    "\n",
    "train <- sample(1:150, 100) #무작위로 100개 추출 (학습데이터)\n",
    "train_Set <-  list( x = as.matrix(iris[train,-5]), Species = as.factor(iris[train,5])) #학습데이터 list형\n",
    "test_Set <- list(x = as.matrix(iris[-train,-5]), Species = as.factor(iris[-train,5])) #테스트 데이터 list형\n",
    "gr <- somgrid(xdim = 3, ydim = 5, topo = \"hexagonal\") #grid 갯수 및 모양 설정\n",
    "ss <- supersom(train_Set, gr, rlen = 200, alpha = c(0.05, 0.01)) #som 학습하기\n"
   ]
  },
  {
   "cell_type": "markdown",
   "metadata": {},
   "source": [
    "* grid : 경쟁층의 가충치 테이블을 `5 x 4`로 설정 topology 위상방법은 `rectangular, hexagonal` 두가지 중 하나를 설정한다."
   ]
  },
  {
   "cell_type": "markdown",
   "metadata": {},
   "source": [
    "* rlen : 전체 데이트 세트가 네트워크에 표시되는 횟수 (= 학습 횟수)"
   ]
  },
  {
   "cell_type": "markdown",
   "metadata": {},
   "source": [
    "* alpha : 학습율, 변화의 양을 나타내는 두 개의 숫자의 벡터. 기본값은 rlen 업데이트에 대해 0.05에서 0.01로  선형적으로 감소하는 것이다. "
   ]
  },
  {
   "cell_type": "code",
   "execution_count": 123,
   "metadata": {},
   "outputs": [
    {
     "name": "stdout",
     "output_type": "stream",
     "text": [
      "SOM of size 3x5 with a hexagonal topology and a bubble neighbourhood function.\n",
      "The number of data layers is 2.\n",
      "Distance measure(s) used: sumofsquares, tanimoto.\n",
      "Training data included: 100 objects.\n",
      "Mean distance to the closest unit in the map: 0.008.\n"
     ]
    }
   ],
   "source": [
    "summary(ss)"
   ]
  },
  {
   "cell_type": "markdown",
   "metadata": {},
   "source": [
    "* 요약결과 가장 가까운 노드까지의 평균 거리가 0.008 이다."
   ]
  },
  {
   "cell_type": "markdown",
   "metadata": {},
   "source": [
    "* 학습을 거듭하면서 뉴런과 학습 데이터의 거리가 짧아짐을 아래와 같이 확인할 수 있었다."
   ]
  },
  {
   "cell_type": "code",
   "execution_count": 148,
   "metadata": {},
   "outputs": [
    {
     "data": {
      "image/png": "[encoded data removed]",
      "text/plain": [
       "Plot with title \"Training progress\""
      ]
     },
     "metadata": {
      "image/png": {
       "height": 500,
       "width": 800
      }
     },
     "output_type": "display_data"
    }
   ],
   "source": [
    "plot(ss,type=\"change\")"
   ]
  },
  {
   "cell_type": "markdown",
   "metadata": {},
   "source": [
    "* 또한 학습된 som모델의 각 뉴런이 몇 개의 학습 데이터와 매핑이 되는 지를 확인 할 수 있었다."
   ]
  },
  {
   "cell_type": "markdown",
   "metadata": {},
   "source": [
    "* 결과적으로 보았을 때 매핑이 더ㅣ지않은 뉴런이 존재하는 것으로 보아 생성한 `som` 모델의 신경망 크기가 크다는 것을 의미한다."
   ]
  },
  {
   "cell_type": "code",
   "execution_count": 149,
   "metadata": {},
   "outputs": [
    {
     "data": {
      "image/png": "[encoded data removed]",
      "text/plain": [
       "Plot with title \"Counts plot\""
      ]
     },
     "metadata": {
      "image/png": {
       "height": 500,
       "width": 800
      }
     },
     "output_type": "display_data"
    }
   ],
   "source": [
    "plot(ss, type=\"count\")"
   ]
  },
  {
   "cell_type": "markdown",
   "metadata": {},
   "source": [
    "* 아래와 같이 통합거리매트릭스를 그려 각 뉴런의 이웃간 거리를 표현할 수 있었다. 값이 높을 수록 해당 뉴런은 이웃뉴련과 비유사하다고 할 수 있다."
   ]
  },
  {
   "cell_type": "code",
   "execution_count": 150,
   "metadata": {},
   "outputs": [
    {
     "data": {
      "image/png": "[encoded data removed]",
      "text/plain": [
       "Plot with title \"Neighbour distance plot\""
      ]
     },
     "metadata": {
      "image/png": {
       "height": 500,
       "width": 800
      }
     },
     "output_type": "display_data"
    }
   ],
   "source": [
    "plot(ss, type=\"dist.neighbours\")"
   ]
  },
  {
   "cell_type": "markdown",
   "metadata": {},
   "source": [
    "* 또한 아래그림처럼 각 뉴런에서 `Species`의 속성들 가중치 기여율을 알 수 있다."
   ]
  },
  {
   "cell_type": "code",
   "execution_count": 151,
   "metadata": {},
   "outputs": [
    {
     "data": {
      "image/png": "[encoded data removed]",
      "text/plain": [
       "Plot with title \"x\""
      ]
     },
     "metadata": {
      "image/png": {
       "height": 500,
       "width": 800
      }
     },
     "output_type": "display_data"
    },
    {
     "data": {
      "image/png": "[encoded data removed]",
      "text/plain": [
       "Plot with title \"Species\""
      ]
     },
     "metadata": {
      "image/png": {
       "height": 500,
       "width": 800
      }
     },
     "output_type": "display_data"
    }
   ],
   "source": [
    "plot(ss, type=\"codes\")"
   ]
  },
  {
   "cell_type": "markdown",
   "metadata": {},
   "source": [
    "* 학습된 모델을 통해 학습에 사용된 데이터 분류와 모델분류를 확인하기 위해 혼동행렬을 그려보면 아래와 같다."
   ]
  },
  {
   "cell_type": "code",
   "execution_count": 160,
   "metadata": {},
   "outputs": [],
   "source": [
    "som.prediction <- predict(ss, newdata = test_Set[1],type=\"class\")"
   ]
  },
  {
   "cell_type": "code",
   "execution_count": 163,
   "metadata": {},
   "outputs": [
    {
     "data": {
      "text/html": [
       "<style>\n",
       ".list-inline {list-style: none; margin:0; padding: 0}\n",
       ".list-inline>li {display: inline-block}\n",
       ".list-inline>li:not(:last-child)::after {content: \"\\00b7\"; padding: 0 .5ex}\n",
       "</style>\n",
       "<ol class=list-inline><li>setosa</li><li>setosa</li><li>setosa</li><li>setosa</li><li>setosa</li><li>setosa</li><li>setosa</li><li>setosa</li><li>setosa</li><li>setosa</li><li>setosa</li><li>setosa</li><li>&lt;NA&gt;</li><li>versicolor</li><li>versicolor</li><li>versicolor</li><li>versicolor</li><li>versicolor</li><li>versicolor</li><li>versicolor</li><li>&lt;NA&gt;</li><li>versicolor</li><li>versicolor</li><li>versicolor</li><li>versicolor</li><li>versicolor</li><li>versicolor</li><li>versicolor</li><li>virginica</li><li>virginica</li><li>virginica</li><li>virginica</li><li>virginica</li><li>virginica</li><li>virginica</li><li>virginica</li><li>versicolor</li><li>virginica</li><li>virginica</li><li>virginica</li><li>virginica</li><li>virginica</li><li>virginica</li><li>virginica</li><li>virginica</li><li>virginica</li><li>virginica</li><li>virginica</li><li>virginica</li><li>virginica</li></ol>\n",
       "\n",
       "<details>\n",
       "\t<summary style=display:list-item;cursor:pointer>\n",
       "\t\t<strong>Levels</strong>:\n",
       "\t</summary>\n",
       "\t<style>\n",
       "\t.list-inline {list-style: none; margin:0; padding: 0}\n",
       "\t.list-inline>li {display: inline-block}\n",
       "\t.list-inline>li:not(:last-child)::after {content: \"\\00b7\"; padding: 0 .5ex}\n",
       "\t</style>\n",
       "\t<ol class=list-inline><li>'setosa'</li><li>'versicolor'</li><li>'virginica'</li></ol>\n",
       "</details>"
      ],
      "text/latex": [
       "\\begin{enumerate*}\n",
       "\\item setosa\n",
       "\\item setosa\n",
       "\\item setosa\n",
       "\\item setosa\n",
       "\\item setosa\n",
       "\\item setosa\n",
       "\\item setosa\n",
       "\\item setosa\n",
       "\\item setosa\n",
       "\\item setosa\n",
       "\\item setosa\n",
       "\\item setosa\n",
       "\\item <NA>\n",
       "\\item versicolor\n",
       "\\item versicolor\n",
       "\\item versicolor\n",
       "\\item versicolor\n",
       "\\item versicolor\n",
       "\\item versicolor\n",
       "\\item versicolor\n",
       "\\item <NA>\n",
       "\\item versicolor\n",
       "\\item versicolor\n",
       "\\item versicolor\n",
       "\\item versicolor\n",
       "\\item versicolor\n",
       "\\item versicolor\n",
       "\\item versicolor\n",
       "\\item virginica\n",
       "\\item virginica\n",
       "\\item virginica\n",
       "\\item virginica\n",
       "\\item virginica\n",
       "\\item virginica\n",
       "\\item virginica\n",
       "\\item virginica\n",
       "\\item versicolor\n",
       "\\item virginica\n",
       "\\item virginica\n",
       "\\item virginica\n",
       "\\item virginica\n",
       "\\item virginica\n",
       "\\item virginica\n",
       "\\item virginica\n",
       "\\item virginica\n",
       "\\item virginica\n",
       "\\item virginica\n",
       "\\item virginica\n",
       "\\item virginica\n",
       "\\item virginica\n",
       "\\end{enumerate*}\n",
       "\n",
       "\\emph{Levels}: \\begin{enumerate*}\n",
       "\\item 'setosa'\n",
       "\\item 'versicolor'\n",
       "\\item 'virginica'\n",
       "\\end{enumerate*}\n"
      ],
      "text/markdown": [
       "1. setosa\n",
       "2. setosa\n",
       "3. setosa\n",
       "4. setosa\n",
       "5. setosa\n",
       "6. setosa\n",
       "7. setosa\n",
       "8. setosa\n",
       "9. setosa\n",
       "10. setosa\n",
       "11. setosa\n",
       "12. setosa\n",
       "13. &lt;NA&gt;\n",
       "14. versicolor\n",
       "15. versicolor\n",
       "16. versicolor\n",
       "17. versicolor\n",
       "18. versicolor\n",
       "19. versicolor\n",
       "20. versicolor\n",
       "21. &lt;NA&gt;\n",
       "22. versicolor\n",
       "23. versicolor\n",
       "24. versicolor\n",
       "25. versicolor\n",
       "26. versicolor\n",
       "27. versicolor\n",
       "28. versicolor\n",
       "29. virginica\n",
       "30. virginica\n",
       "31. virginica\n",
       "32. virginica\n",
       "33. virginica\n",
       "34. virginica\n",
       "35. virginica\n",
       "36. virginica\n",
       "37. versicolor\n",
       "38. virginica\n",
       "39. virginica\n",
       "40. virginica\n",
       "41. virginica\n",
       "42. virginica\n",
       "43. virginica\n",
       "44. virginica\n",
       "45. virginica\n",
       "46. virginica\n",
       "47. virginica\n",
       "48. virginica\n",
       "49. virginica\n",
       "50. virginica\n",
       "\n",
       "\n",
       "\n",
       "**Levels**: 1. 'setosa'\n",
       "2. 'versicolor'\n",
       "3. 'virginica'\n",
       "\n",
       "\n"
      ],
      "text/plain": [
       " [1] setosa     setosa     setosa     setosa     setosa     setosa    \n",
       " [7] setosa     setosa     setosa     setosa     setosa     setosa    \n",
       "[13] <NA>       versicolor versicolor versicolor versicolor versicolor\n",
       "[19] versicolor versicolor <NA>       versicolor versicolor versicolor\n",
       "[25] versicolor versicolor versicolor versicolor virginica  virginica \n",
       "[31] virginica  virginica  virginica  virginica  virginica  virginica \n",
       "[37] versicolor virginica  virginica  virginica  virginica  virginica \n",
       "[43] virginica  virginica  virginica  virginica  virginica  virginica \n",
       "[49] virginica  virginica \n",
       "Levels: setosa versicolor virginica"
      ]
     },
     "metadata": {},
     "output_type": "display_data"
    }
   ],
   "source": [
    "som.prediction$predictions$Species"
   ]
  },
  {
   "cell_type": "code",
   "execution_count": 158,
   "metadata": {},
   "outputs": [],
   "source": [
    "library(caret)"
   ]
  },
  {
   "cell_type": "code",
   "execution_count": 164,
   "metadata": {},
   "outputs": [
    {
     "data": {
      "text/plain": [
       "Confusion Matrix and Statistics\n",
       "\n",
       "            Reference\n",
       "Prediction   setosa versicolor virginica\n",
       "  setosa         12          0         0\n",
       "  versicolor      0         14         1\n",
       "  virginica       0          0        21\n",
       "\n",
       "Overall Statistics\n",
       "                                          \n",
       "               Accuracy : 0.9792          \n",
       "                 95% CI : (0.8893, 0.9995)\n",
       "    No Information Rate : 0.4583          \n",
       "    P-Value [Acc > NIR] : 3.148e-15       \n",
       "                                          \n",
       "                  Kappa : 0.9677          \n",
       "                                          \n",
       " Mcnemar's Test P-Value : NA              \n",
       "\n",
       "Statistics by Class:\n",
       "\n",
       "                     Class: setosa Class: versicolor Class: virginica\n",
       "Sensitivity                   1.00            1.0000           0.9545\n",
       "Specificity                   1.00            0.9706           1.0000\n",
       "Pos Pred Value                1.00            0.9333           1.0000\n",
       "Neg Pred Value                1.00            1.0000           0.9630\n",
       "Prevalence                    0.25            0.2917           0.4583\n",
       "Detection Rate                0.25            0.2917           0.4375\n",
       "Detection Prevalence          0.25            0.3125           0.4375\n",
       "Balanced Accuracy             1.00            0.9853           0.9773"
      ]
     },
     "metadata": {},
     "output_type": "display_data"
    }
   ],
   "source": [
    "confusionMatrix(som.prediction$predictions$Species,test_Set$Species)"
   ]
  }
 ],
 "metadata": {
  "kernelspec": {
   "display_name": "R",
   "language": "R",
   "name": "ir"
  },
  "language_info": {
   "codemirror_mode": "r",
   "file_extension": ".r",
   "mimetype": "text/x-r-source",
   "name": "R",
   "pygments_lexer": "r",
   "version": "4.1.1"
  },
  "toc": {
   "base_numbering": 1,
   "nav_menu": {},
   "number_sections": false,
   "sideBar": true,
   "skip_h1_title": false,
   "title_cell": "Table of Contents",
   "title_sidebar": "Contents",
   "toc_cell": false,
   "toc_position": {
    "height": "476px",
    "left": "255px",
    "top": "111.136px",
    "width": "349.091px"
   },
   "toc_section_display": true,
   "toc_window_display": true
  }
 },
 "nbformat": 4,
 "nbformat_minor": 4
}
