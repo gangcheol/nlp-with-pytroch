{
 "cells": [
  {
   "cell_type": "markdown",
   "metadata": {},
   "source": [
    "# 지도학습 (Supervised Learning)"
   ]
  },
  {
   "cell_type": "markdown",
   "metadata": {},
   "source": [
    "* 절차 : 목적 설정 -> 데이터 준비 -> 가공 -> 기법적용 -> 검증"
   ]
  },
  {
   "cell_type": "markdown",
   "metadata": {},
   "source": [
    "* 세부적인 절차는 아래와 같다."
   ]
  },
  {
   "cell_type": "markdown",
   "metadata": {},
   "source": [
    "1. 데이터를 로드 한 후 데이터의 형(type), 기초통계량 확인"
   ]
  },
  {
   "cell_type": "markdown",
   "metadata": {},
   "source": [
    "2. 훈련용 데이터와 테스트 데이터를 분류"
   ]
  },
  {
   "cell_type": "markdown",
   "metadata": {},
   "source": [
    "3. 모형 적합 후 모형확인 -> 유의하지 않은 변수가 많을 경우 step 함수를 이용하여 적절히 변수선택법을 사용"
   ]
  },
  {
   "cell_type": "markdown",
   "metadata": {},
   "source": [
    "4. 모형 적합 후 검증 : ROC curve, AUC, 정확도, 특이도, 민감도 등을 확인"
   ]
  },
  {
   "cell_type": "markdown",
   "metadata": {},
   "source": [
    "# 0. Package for Supervised Learning"
   ]
  },
  {
   "cell_type": "code",
   "execution_count": 4,
   "metadata": {},
   "outputs": [],
   "source": [
    "library(tidyverse) ##전처리 패키지\n",
    "library(caret) ## confusion matrix를 만들기 위한 패키지\n",
    "library(nnet) ##  다항 로지스틱 회귀분석 모델을 적합하기 위한 패키지\n",
    "library(ROCR)"
   ]
  },
  {
   "cell_type": "markdown",
   "metadata": {},
   "source": [
    "# 1. 로지스틱 회귀분석"
   ]
  },
  {
   "cell_type": "markdown",
   "metadata": {},
   "source": [
    "* 로지스틱 회귀분석은 지도학습 기법 중 가장 기본이 되는 분석기법이다."
   ]
  },
  {
   "cell_type": "markdown",
   "metadata": {},
   "source": [
    "$$\\begin{eqnarray*} P\\,(Y) = \\frac {1}{1+exp\\left[ -\\,(\\beta_0 + \\beta_1x_1+\\dots\\right)]}\\end{eqnarray*}$$"
   ]
  },
  {
   "cell_type": "markdown",
   "metadata": {},
   "source": [
    "* $x_i$가 한 단위 증가할때 $log(odds)$는 $\\beta_i$ 만큼 증가한다."
   ]
  },
  {
   "cell_type": "markdown",
   "metadata": {},
   "source": [
    "* 다른 분류기법들과 다르게 특정 범주의 속할 확률을 계산한뒤 임계치를 기준으로 분류한다."
   ]
  },
  {
   "cell_type": "markdown",
   "metadata": {},
   "source": [
    "## 1-1. R을 이용한 이항 로지스틱"
   ]
  },
  {
   "cell_type": "code",
   "execution_count": 5,
   "metadata": {},
   "outputs": [
    {
     "name": "stderr",
     "output_type": "stream",
     "text": [
      "\u001b[1m\u001b[1mRows: \u001b[1m\u001b[22m\u001b[34m\u001b[34m1000\u001b[34m\u001b[39m \u001b[1m\u001b[1mColumns: \u001b[1m\u001b[22m\u001b[34m\u001b[34m21\u001b[34m\u001b[39m\n",
      "\n",
      "\u001b[36m--\u001b[39m \u001b[1m\u001b[1mColumn specification\u001b[1m\u001b[22m \u001b[36m------------------------------------------------------------------------------------------------\u001b[39m\n",
      "\u001b[1mDelimiter:\u001b[22m \",\"\n",
      "\u001b[32mdbl\u001b[39m (21): credit.rating, account.balance, credit.duration.months, previous.c...\n",
      "\n",
      "\n",
      "\u001b[36mi\u001b[39m Use \u001b[30m\u001b[47m\u001b[30m\u001b[47m`spec()`\u001b[47m\u001b[30m\u001b[49m\u001b[39m to retrieve the full column specification for this data.\n",
      "\u001b[36mi\u001b[39m Specify the column types or set \u001b[30m\u001b[47m\u001b[30m\u001b[47m`show_col_types = FALSE`\u001b[47m\u001b[30m\u001b[49m\u001b[39m to quiet this message.\n",
      "\n"
     ]
    }
   ],
   "source": [
    "setwd(\"C:\\\\Users\\\\lee\\\\Desktop\\\\PART 05 실습용 데이터\")\n",
    "credit_data <- read_csv(\"credit_final.csv\")\n",
    "#glimpse(credit_data) ## credit.rating의 경우 factor 변수이므로 변환\n",
    "credit_data$credit.rating <- as_factor(credit_data$credit.rating)"
   ]
  },
  {
   "cell_type": "code",
   "execution_count": 6,
   "metadata": {},
   "outputs": [],
   "source": [
    "# summary(credit_data)\n",
    "## 데이터 분할 각각의 데이터를 7:3으로 나눔\n",
    "train <- credit_data %>% sample_frac(0.7)\n",
    "test <- credit_data %>% setdiff(train)"
   ]
  },
  {
   "cell_type": "code",
   "execution_count": 7,
   "metadata": {},
   "outputs": [
    {
     "name": "stdout",
     "output_type": "stream",
     "text": [
      "Start:  AIC=695.13\n",
      "credit.rating ~ account.balance + credit.duration.months + previous.credit.payment.status + \n",
      "    credit.purpose + credit.amount + savings + employment.duration + \n",
      "    installment.rate + marital.status + guarantor + residence.duration + \n",
      "    current.assets + age + other.credits + apartment.type + bank.credits + \n",
      "    occupation + dependents + telephone + foreign.worker\n",
      "\n",
      "                                 Df Deviance    AIC\n",
      "- residence.duration              1   653.14 693.14\n",
      "- dependents                      1   653.18 693.18\n",
      "- occupation                      1   653.19 693.19\n",
      "- age                             1   653.21 693.21\n",
      "- guarantor                       1   653.34 693.34\n",
      "- bank.credits                    1   653.76 693.76\n",
      "- foreign.worker                  1   654.15 694.15\n",
      "<none>                                653.13 695.13\n",
      "- employment.duration             1   655.13 695.13\n",
      "- other.credits                   1   655.68 695.68\n",
      "- apartment.type                  1   656.90 696.90\n",
      "- credit.amount                   1   656.97 696.97\n",
      "- telephone                       1   658.59 698.59\n",
      "- credit.duration.months          1   658.67 698.67\n",
      "- marital.status                  1   659.91 699.91\n",
      "- previous.credit.payment.status  1   661.76 701.76\n",
      "- installment.rate                1   662.17 702.17\n",
      "- savings                         1   663.97 703.97\n",
      "- current.assets                  1   665.97 705.97\n",
      "- credit.purpose                  1   666.41 706.41\n",
      "- account.balance                 1   710.79 750.79\n",
      "\n",
      "Step:  AIC=693.14\n",
      "credit.rating ~ account.balance + credit.duration.months + previous.credit.payment.status + \n",
      "    credit.purpose + credit.amount + savings + employment.duration + \n",
      "    installment.rate + marital.status + guarantor + current.assets + \n",
      "    age + other.credits + apartment.type + bank.credits + occupation + \n",
      "    dependents + telephone + foreign.worker\n",
      "\n",
      "                                 Df Deviance    AIC\n",
      "- dependents                      1   653.20 691.20\n",
      "- occupation                      1   653.20 691.20\n",
      "- age                             1   653.25 691.25\n",
      "- guarantor                       1   653.35 691.35\n",
      "- bank.credits                    1   653.77 691.77\n",
      "- foreign.worker                  1   654.18 692.18\n",
      "<none>                                653.14 693.14\n",
      "- employment.duration             1   655.28 693.28\n",
      "- other.credits                   1   655.70 693.70\n",
      "- apartment.type                  1   656.90 694.90\n",
      "- credit.amount                   1   656.99 694.99\n",
      "+ residence.duration              1   653.13 695.13\n",
      "- telephone                       1   658.64 696.64\n",
      "- credit.duration.months          1   658.71 696.71\n",
      "- marital.status                  1   659.93 697.93\n",
      "- previous.credit.payment.status  1   661.81 699.81\n",
      "- installment.rate                1   662.18 700.18\n",
      "- savings                         1   664.13 702.13\n",
      "- current.assets                  1   666.17 704.17\n",
      "- credit.purpose                  1   666.51 704.51\n",
      "- account.balance                 1   711.31 749.31\n",
      "\n",
      "Step:  AIC=691.2\n",
      "credit.rating ~ account.balance + credit.duration.months + previous.credit.payment.status + \n",
      "    credit.purpose + credit.amount + savings + employment.duration + \n",
      "    installment.rate + marital.status + guarantor + current.assets + \n",
      "    age + other.credits + apartment.type + bank.credits + occupation + \n",
      "    telephone + foreign.worker\n",
      "\n",
      "                                 Df Deviance    AIC\n",
      "- occupation                      1   653.27 689.27\n",
      "- age                             1   653.29 689.29\n",
      "- guarantor                       1   653.41 689.41\n",
      "- bank.credits                    1   653.84 689.84\n",
      "- foreign.worker                  1   654.22 690.22\n",
      "<none>                                653.20 691.20\n",
      "- employment.duration             1   655.31 691.31\n",
      "- other.credits                   1   655.78 691.78\n",
      "- apartment.type                  1   656.91 692.91\n",
      "- credit.amount                   1   657.03 693.03\n",
      "+ dependents                      1   653.14 693.14\n",
      "+ residence.duration              1   653.18 693.18\n",
      "- telephone                       1   658.71 694.71\n",
      "- credit.duration.months          1   658.75 694.75\n",
      "- marital.status                  1   659.95 695.95\n",
      "- previous.credit.payment.status  1   661.92 697.92\n",
      "- installment.rate                1   662.21 698.21\n",
      "- savings                         1   664.16 700.16\n",
      "- current.assets                  1   666.24 702.24\n",
      "- credit.purpose                  1   666.62 702.62\n",
      "- account.balance                 1   711.60 747.60\n",
      "\n",
      "Step:  AIC=689.27\n",
      "credit.rating ~ account.balance + credit.duration.months + previous.credit.payment.status + \n",
      "    credit.purpose + credit.amount + savings + employment.duration + \n",
      "    installment.rate + marital.status + guarantor + current.assets + \n",
      "    age + other.credits + apartment.type + bank.credits + telephone + \n",
      "    foreign.worker\n",
      "\n",
      "                                 Df Deviance    AIC\n",
      "- age                             1   653.35 687.35\n",
      "- guarantor                       1   653.48 687.48\n",
      "- bank.credits                    1   653.93 687.93\n",
      "- foreign.worker                  1   654.28 688.28\n",
      "<none>                                653.27 689.27\n",
      "- employment.duration             1   655.52 689.52\n",
      "- other.credits                   1   655.88 689.88\n",
      "- apartment.type                  1   656.97 690.97\n",
      "- credit.amount                   1   657.05 691.05\n",
      "+ occupation                      1   653.20 691.20\n",
      "+ dependents                      1   653.20 691.20\n",
      "+ residence.duration              1   653.25 691.25\n",
      "- credit.duration.months          1   658.90 692.90\n",
      "- telephone                       1   659.76 693.76\n",
      "- marital.status                  1   659.97 693.97\n",
      "- previous.credit.payment.status  1   661.95 695.95\n",
      "- installment.rate                1   662.22 696.22\n",
      "- savings                         1   664.17 698.17\n",
      "- current.assets                  1   666.30 700.30\n",
      "- credit.purpose                  1   666.99 700.99\n",
      "- account.balance                 1   711.99 745.99\n",
      "\n",
      "Step:  AIC=687.35\n",
      "credit.rating ~ account.balance + credit.duration.months + previous.credit.payment.status + \n",
      "    credit.purpose + credit.amount + savings + employment.duration + \n",
      "    installment.rate + marital.status + guarantor + current.assets + \n",
      "    other.credits + apartment.type + bank.credits + telephone + \n",
      "    foreign.worker\n",
      "\n",
      "                                 Df Deviance    AIC\n",
      "- guarantor                       1   653.57 685.57\n",
      "- bank.credits                    1   653.97 685.97\n",
      "- foreign.worker                  1   654.39 686.39\n",
      "<none>                                653.35 687.35\n",
      "- other.credits                   1   655.96 687.96\n",
      "- employment.duration             1   656.02 688.02\n",
      "- credit.amount                   1   657.10 689.10\n",
      "+ age                             1   653.27 689.27\n",
      "+ occupation                      1   653.29 689.29\n",
      "+ dependents                      1   653.30 689.30\n",
      "+ residence.duration              1   653.32 689.32\n",
      "- apartment.type                  1   657.85 689.85\n",
      "- credit.duration.months          1   659.25 691.25\n",
      "- marital.status                  1   659.98 691.98\n",
      "- telephone                       1   660.07 692.07\n",
      "- previous.credit.payment.status  1   662.05 694.05\n",
      "- installment.rate                1   662.25 694.25\n",
      "- savings                         1   664.35 696.35\n",
      "- current.assets                  1   666.35 698.35\n",
      "- credit.purpose                  1   666.99 698.99\n",
      "- account.balance                 1   712.02 744.02\n",
      "\n",
      "Step:  AIC=685.57\n",
      "credit.rating ~ account.balance + credit.duration.months + previous.credit.payment.status + \n",
      "    credit.purpose + credit.amount + savings + employment.duration + \n",
      "    installment.rate + marital.status + current.assets + other.credits + \n",
      "    apartment.type + bank.credits + telephone + foreign.worker\n",
      "\n",
      "                                 Df Deviance    AIC\n",
      "- bank.credits                    1   654.17 684.17\n",
      "- foreign.worker                  1   654.67 684.67\n",
      "<none>                                653.57 685.57\n",
      "- other.credits                   1   656.21 686.21\n",
      "- employment.duration             1   656.25 686.25\n",
      "- credit.amount                   1   657.25 687.25\n",
      "+ guarantor                       1   653.35 687.35\n",
      "+ age                             1   653.48 687.48\n",
      "+ occupation                      1   653.52 687.52\n",
      "+ dependents                      1   653.52 687.52\n",
      "+ residence.duration              1   653.55 687.55\n",
      "- apartment.type                  1   658.04 688.04\n",
      "- credit.duration.months          1   659.38 689.38\n",
      "- telephone                       1   660.23 690.23\n",
      "- marital.status                  1   660.32 690.32\n",
      "- previous.credit.payment.status  1   662.15 692.15\n",
      "- installment.rate                1   662.49 692.49\n",
      "- savings                         1   664.37 694.37\n",
      "- credit.purpose                  1   667.27 697.27\n",
      "- current.assets                  1   667.27 697.27\n",
      "- account.balance                 1   712.07 742.07\n",
      "\n",
      "Step:  AIC=684.17\n",
      "credit.rating ~ account.balance + credit.duration.months + previous.credit.payment.status + \n",
      "    credit.purpose + credit.amount + savings + employment.duration + \n",
      "    installment.rate + marital.status + current.assets + other.credits + \n",
      "    apartment.type + telephone + foreign.worker\n",
      "\n",
      "                                 Df Deviance    AIC\n",
      "- foreign.worker                  1   655.39 683.39\n",
      "<none>                                654.17 684.17\n",
      "- employment.duration             1   656.69 684.69\n",
      "- other.credits                   1   657.30 685.30\n",
      "+ bank.credits                    1   653.57 685.57\n",
      "+ guarantor                       1   653.97 685.97\n",
      "- credit.amount                   1   658.07 686.07\n",
      "+ occupation                      1   654.09 686.09\n",
      "+ dependents                      1   654.10 686.10\n",
      "+ age                             1   654.12 686.12\n",
      "+ residence.duration              1   654.16 686.16\n",
      "- apartment.type                  1   658.67 686.67\n",
      "- credit.duration.months          1   659.92 687.92\n",
      "- telephone                       1   660.69 688.69\n",
      "- marital.status                  1   660.79 688.79\n",
      "- previous.credit.payment.status  1   662.55 690.55\n",
      "- installment.rate                1   662.92 690.92\n",
      "- savings                         1   665.50 693.50\n",
      "- current.assets                  1   667.58 695.58\n",
      "- credit.purpose                  1   668.17 696.17\n",
      "- account.balance                 1   712.69 740.69\n",
      "\n",
      "Step:  AIC=683.39\n",
      "credit.rating ~ account.balance + credit.duration.months + previous.credit.payment.status + \n",
      "    credit.purpose + credit.amount + savings + employment.duration + \n",
      "    installment.rate + marital.status + current.assets + other.credits + \n",
      "    apartment.type + telephone\n",
      "\n",
      "                                 Df Deviance    AIC\n",
      "<none>                                655.39 683.39\n",
      "- employment.duration             1   657.93 683.93\n",
      "+ foreign.worker                  1   654.17 684.17\n",
      "- other.credits                   1   658.53 684.53\n",
      "+ bank.credits                    1   654.67 684.67\n",
      "- credit.amount                   1   658.86 684.86\n",
      "+ guarantor                       1   655.13 685.13\n",
      "+ occupation                      1   655.31 685.31\n",
      "+ age                             1   655.32 685.32\n",
      "+ dependents                      1   655.33 685.33\n",
      "+ residence.duration              1   655.36 685.36\n",
      "- apartment.type                  1   659.85 685.85\n",
      "- telephone                       1   661.73 687.73\n",
      "- credit.duration.months          1   661.88 687.88\n",
      "- marital.status                  1   662.40 688.40\n",
      "- previous.credit.payment.status  1   664.08 690.08\n",
      "- installment.rate                1   664.36 690.36\n",
      "- savings                         1   666.61 692.61\n",
      "- credit.purpose                  1   668.81 694.81\n",
      "- current.assets                  1   669.65 695.65\n",
      "- account.balance                 1   713.23 739.23\n"
     ]
    }
   ],
   "source": [
    "## 로지스틱 회귀모형 적합\n",
    "logit_fit <-glm(credit.rating~., data =train, \n",
    "                family = \"binomial\") ## 이진분류이므로 \"binomial\"이라고 기입\n",
    "\n",
    "# summary(logit_fit)\n",
    "\n",
    "step.logit <- step(glm(credit.rating~., data =train, \n",
    "    family = \"binomial\"),direction = 'both')\n",
    "\n",
    "# summary(step.logit) ## 총 12개의 변수가 채택됨\n",
    "# length(step.logit$coefficients)\n",
    "\n",
    "\n",
    "pred <- predict(step.logit, test %>% select(-1),type=\"response\") %>% as_tibble()\n",
    "pred <- pred %>% mutate(hat_y = as.factor(ifelse(value>0.5,1,0)))"
   ]
  },
  {
   "cell_type": "code",
   "execution_count": 7,
   "metadata": {},
   "outputs": [
    {
     "data": {
      "text/plain": [
       "Confusion Matrix and Statistics\n",
       "\n",
       "          Reference\n",
       "Prediction   0   1\n",
       "         0  40  23\n",
       "         1  56 181\n",
       "                                         \n",
       "               Accuracy : 0.7367         \n",
       "                 95% CI : (0.683, 0.7856)\n",
       "    No Information Rate : 0.68           \n",
       "    P-Value [Acc > NIR] : 0.0192801      \n",
       "                                         \n",
       "                  Kappa : 0.3343         \n",
       "                                         \n",
       " Mcnemar's Test P-Value : 0.0003179      \n",
       "                                         \n",
       "            Sensitivity : 0.8873         \n",
       "            Specificity : 0.4167         \n",
       "         Pos Pred Value : 0.7637         \n",
       "         Neg Pred Value : 0.6349         \n",
       "             Prevalence : 0.6800         \n",
       "         Detection Rate : 0.6033         \n",
       "   Detection Prevalence : 0.7900         \n",
       "      Balanced Accuracy : 0.6520         \n",
       "                                         \n",
       "       'Positive' Class : 1              \n",
       "                                         "
      ]
     },
     "metadata": {},
     "output_type": "display_data"
    }
   ],
   "source": [
    "confusionMatrix(data=pred$hat_y,reference = test$credit.rating,positive = \"1\")"
   ]
  },
  {
   "cell_type": "code",
   "execution_count": 8,
   "metadata": {},
   "outputs": [
    {
     "data": {
      "text/html": [
       "<ol>\n",
       "\t<li>0.651960784313725</li>\n",
       "</ol>\n"
      ],
      "text/latex": [
       "\\begin{enumerate}\n",
       "\\item 0.651960784313725\n",
       "\\end{enumerate}\n"
      ],
      "text/markdown": [
       "1. 0.651960784313725\n",
       "\n",
       "\n"
      ],
      "text/plain": [
       "[[1]]\n",
       "[1] 0.6519608\n"
      ]
     },
     "metadata": {},
     "output_type": "display_data"
    },
    {
     "data": {
      "image/png": "[encoded data removed]",
      "text/plain": [
       "plot without title"
      ]
     },
     "metadata": {
      "image/png": {
       "height": 375,
       "width": 600
      }
     },
     "output_type": "display_data"
    }
   ],
   "source": [
    "options(repr.plot.res=150,repr.plot.width=8,repr.plot.height=5)\n",
    "pred.roc <- prediction(as.numeric(pred$hat_y),as.numeric(test$credit.rating))\n",
    "plot(performance(pred.roc,\"tpr\",\"fpr\"),lwd=2)\n",
    "abline(a=0,b=1,lty=\"dashed\",col=\"red\",lwd=2)\n",
    "performance(pred.roc,\"auc\")@y.values"
   ]
  },
  {
   "cell_type": "markdown",
   "metadata": {},
   "source": [
    "* 위를 살펴보면 기존의 로지스틱회귀 모형을 적합했을 때 유의미하지 않은 변수가 다수 보여 단계적 변수 선택법을 적용하여 모델을 적합시켰다."
   ]
  },
  {
   "cell_type": "markdown",
   "metadata": {},
   "source": [
    "* 정확도는 약 73%, 민감도와 특이도는 각각 85%, 44%로 측정되었으며, AUC값은 0.6484로 산출되었다. 그닥 훌륭한 모델이라고 보기 어렵다."
   ]
  },
  {
   "cell_type": "markdown",
   "metadata": {},
   "source": [
    "## 1-2. 다항로지스틱"
   ]
  },
  {
   "cell_type": "code",
   "execution_count": 9,
   "metadata": {},
   "outputs": [
    {
     "name": "stdout",
     "output_type": "stream",
     "text": [
      "# weights:  18 (10 variable)\n",
      "initial  value 115.354290 \n",
      "iter  10 value 11.452176\n",
      "iter  20 value 3.153238\n",
      "iter  30 value 2.649388\n",
      "iter  40 value 2.341641\n",
      "iter  50 value 2.256572\n",
      "iter  60 value 1.995702\n",
      "iter  70 value 1.245143\n",
      "iter  80 value 0.904025\n",
      "iter  90 value 0.621338\n",
      "iter 100 value 0.603201\n",
      "final  value 0.603201 \n",
      "stopped after 100 iterations\n"
     ]
    },
    {
     "data": {
      "text/plain": [
       "Call:\n",
       "multinom(formula = Species ~ ., data = train.iris)\n",
       "\n",
       "Coefficients:\n",
       "           (Intercept) Sepal.Length Sepal.Width Petal.Length Petal.Width\n",
       "versicolor    51.48231    -30.82089   -21.44772     85.88038    24.74862\n",
       "virginica    -96.62251    -68.87111   -61.97239    164.13765    94.06323\n",
       "\n",
       "Std. Errors:\n",
       "           (Intercept) Sepal.Length Sepal.Width Petal.Length Petal.Width\n",
       "versicolor    121.5106     132.8265    97.66829     74.74537    36.83325\n",
       "virginica     118.3141     144.8161   106.79819     64.21134    33.88914\n",
       "\n",
       "Residual Deviance: 1.206402 \n",
       "AIC: 21.2064 "
      ]
     },
     "metadata": {},
     "output_type": "display_data"
    }
   ],
   "source": [
    "##iris 데이터를 이용한 다항 로지스틱 회귀분석\n",
    "train.iris <- iris %>% sample_frac(0.7)\n",
    "test.iris <- iris %>% setdiff(train.iris)\n",
    "\n",
    "mul.iris <- multinom(Species~.,train.iris)\n",
    "summary(mul.iris)"
   ]
  },
  {
   "cell_type": "code",
   "execution_count": 10,
   "metadata": {},
   "outputs": [
    {
     "data": {
      "text/plain": [
       "Confusion Matrix and Statistics\n",
       "\n",
       "            Reference\n",
       "Prediction   setosa versicolor virginica\n",
       "  setosa         13          0         0\n",
       "  versicolor      0         16         0\n",
       "  virginica       0          1        15\n",
       "\n",
       "Overall Statistics\n",
       "                                          \n",
       "               Accuracy : 0.9778          \n",
       "                 95% CI : (0.8823, 0.9994)\n",
       "    No Information Rate : 0.3778          \n",
       "    P-Value [Acc > NIR] : < 2.2e-16       \n",
       "                                          \n",
       "                  Kappa : 0.9665          \n",
       "                                          \n",
       " Mcnemar's Test P-Value : NA              \n",
       "\n",
       "Statistics by Class:\n",
       "\n",
       "                     Class: setosa Class: versicolor Class: virginica\n",
       "Sensitivity                 1.0000            0.9412           1.0000\n",
       "Specificity                 1.0000            1.0000           0.9667\n",
       "Pos Pred Value              1.0000            1.0000           0.9375\n",
       "Neg Pred Value              1.0000            0.9655           1.0000\n",
       "Prevalence                  0.2889            0.3778           0.3333\n",
       "Detection Rate              0.2889            0.3556           0.3333\n",
       "Detection Prevalence        0.2889            0.3556           0.3556\n",
       "Balanced Accuracy           1.0000            0.9706           0.9833"
      ]
     },
     "metadata": {},
     "output_type": "display_data"
    }
   ],
   "source": [
    "pred.mul <- predict(mul.iris,test.iris %>% select(-5)) \n",
    "confusionMatrix(pred.mul,test.iris$Species)"
   ]
  },
  {
   "cell_type": "markdown",
   "metadata": {},
   "source": [
    "***"
   ]
  },
  {
   "cell_type": "markdown",
   "metadata": {},
   "source": [
    "# 2. 의사결정나무"
   ]
  },
  {
   "cell_type": "markdown",
   "metadata": {},
   "source": [
    "* 분류함수를 의사결정 규칙으로 이뤄진 나무 모양으로 그리는 방법\n",
    "* 분할 횟수가 많을 경우 모형이 복잡해지는 것을 방지하기 위해 가지치기 단계를 적용한다."
   ]
  },
  {
   "cell_type": "markdown",
   "metadata": {},
   "source": [
    "## 2-1. binary classification"
   ]
  },
  {
   "cell_type": "code",
   "execution_count": 11,
   "metadata": {},
   "outputs": [],
   "source": [
    "library(rpart)\n",
    "library(rpart.plot)"
   ]
  },
  {
   "cell_type": "code",
   "execution_count": 23,
   "metadata": {},
   "outputs": [],
   "source": [
    "dt.model <- rpart(credit.rating~.,method=\"class\", ## 회귀가 아닌 분류이므로 \"class\" 기입\n",
    "                                   data = train, \n",
    "                                   control = rpart.control(maxdepth=5,\n",
    "                                                           minsplit=15)) ## 의사결정나무의 최대 깊이는 5, 노드에서의 최소 관측치는 15개이 상"
   ]
  },
  {
   "cell_type": "code",
   "execution_count": 24,
   "metadata": {},
   "outputs": [
    {
     "data": {
      "image/png": "[encoded data removed]",
      "text/plain": [
       "plot without title"
      ]
     },
     "metadata": {
      "image/png": {
       "height": 500,
       "width": 800
      }
     },
     "output_type": "display_data"
    }
   ],
   "source": [
    "options(repr.plot.res=200)\n",
    "rpart.plot(dt.model,extra=2) ## extra 인자를 이용해 각각 범주의 분류된 개수를 파악, extra=3 은 오분류된 개수를 보여주"
   ]
  },
  {
   "cell_type": "markdown",
   "metadata": {},
   "source": [
    "* 총 700개의 관측치 중 496개의 관측치를 1로 분류하였으며, `account.balance <3` 인 377개의 노드 중 210개가 1로 분류되었음을 의미한다."
   ]
  },
  {
   "cell_type": "markdown",
   "metadata": {},
   "source": [
    "* cptable을 확인하여 xerror가 가장 낮은 split 개수를 택한 후 가지치기를 적용하자.\n",
    "* `xerror`는해당 `CP`에서 교차검증오류를 나타내며 `CP`는 복잡성을 나타낸다. "
   ]
  },
  {
   "cell_type": "code",
   "execution_count": 25,
   "metadata": {},
   "outputs": [
    {
     "data": {
      "text/html": [
       "<table class=\"dataframe\">\n",
       "<caption>A matrix: 4 × 5 of type dbl</caption>\n",
       "<thead>\n",
       "\t<tr><th></th><th scope=col>CP</th><th scope=col>nsplit</th><th scope=col>rel error</th><th scope=col>xerror</th><th scope=col>xstd</th></tr>\n",
       "</thead>\n",
       "<tbody>\n",
       "\t<tr><th scope=row>1</th><td>0.05269608</td><td>0</td><td>1.0000000</td><td>1.0000000</td><td>0.05893547</td></tr>\n",
       "\t<tr><th scope=row>2</th><td>0.02450980</td><td>4</td><td>0.7892157</td><td>0.9264706</td><td>0.05757874</td></tr>\n",
       "\t<tr><th scope=row>3</th><td>0.01470588</td><td>5</td><td>0.7647059</td><td>0.8872549</td><td>0.05678633</td></tr>\n",
       "\t<tr><th scope=row>4</th><td>0.01000000</td><td>7</td><td>0.7352941</td><td>0.8872549</td><td>0.05678633</td></tr>\n",
       "</tbody>\n",
       "</table>\n"
      ],
      "text/latex": [
       "A matrix: 4 × 5 of type dbl\n",
       "\\begin{tabular}{r|lllll}\n",
       "  & CP & nsplit & rel error & xerror & xstd\\\\\n",
       "\\hline\n",
       "\t1 & 0.05269608 & 0 & 1.0000000 & 1.0000000 & 0.05893547\\\\\n",
       "\t2 & 0.02450980 & 4 & 0.7892157 & 0.9264706 & 0.05757874\\\\\n",
       "\t3 & 0.01470588 & 5 & 0.7647059 & 0.8872549 & 0.05678633\\\\\n",
       "\t4 & 0.01000000 & 7 & 0.7352941 & 0.8872549 & 0.05678633\\\\\n",
       "\\end{tabular}\n"
      ],
      "text/markdown": [
       "\n",
       "A matrix: 4 × 5 of type dbl\n",
       "\n",
       "| <!--/--> | CP | nsplit | rel error | xerror | xstd |\n",
       "|---|---|---|---|---|---|\n",
       "| 1 | 0.05269608 | 0 | 1.0000000 | 1.0000000 | 0.05893547 |\n",
       "| 2 | 0.02450980 | 4 | 0.7892157 | 0.9264706 | 0.05757874 |\n",
       "| 3 | 0.01470588 | 5 | 0.7647059 | 0.8872549 | 0.05678633 |\n",
       "| 4 | 0.01000000 | 7 | 0.7352941 | 0.8872549 | 0.05678633 |\n",
       "\n"
      ],
      "text/plain": [
       "  CP         nsplit rel error xerror    xstd      \n",
       "1 0.05269608 0      1.0000000 1.0000000 0.05893547\n",
       "2 0.02450980 4      0.7892157 0.9264706 0.05757874\n",
       "3 0.01470588 5      0.7647059 0.8872549 0.05678633\n",
       "4 0.01000000 7      0.7352941 0.8872549 0.05678633"
      ]
     },
     "metadata": {},
     "output_type": "display_data"
    }
   ],
   "source": [
    "dt.model$cptable"
   ]
  },
  {
   "cell_type": "markdown",
   "metadata": {},
   "source": [
    "* 확인 결과 `xerror`가 가장 낮은 분할 횟수는 7이며, 앞선 모형의 그래프를 봤을 때 모델이 분할을 7번까지 한다고 할 수 있다."
   ]
  },
  {
   "cell_type": "markdown",
   "metadata": {},
   "source": [
    "* 해당 위치에서의 `CP` 값을 전달받자"
   ]
  },
  {
   "cell_type": "code",
   "execution_count": 26,
   "metadata": {},
   "outputs": [],
   "source": [
    "opt <- which.min(dt.model$cptable[,\"xerror\"])\n",
    "cp  <- dt.model$cptable[opt,\"CP\"]"
   ]
  },
  {
   "cell_type": "markdown",
   "metadata": {},
   "source": [
    "* plotcp를 그려본결과 8번째 분할에서 `xerror`가 가장 낮지만 과적합을 막기위해 `cptable`에서 산출한 `cp`값을 이용하여 가지치기를 하자."
   ]
  },
  {
   "cell_type": "code",
   "execution_count": 28,
   "metadata": {},
   "outputs": [
    {
     "data": {
      "image/png": "[encoded data removed]",
      "text/plain": [
       "plot without title"
      ]
     },
     "metadata": {
      "image/png": {
       "height": 500,
       "width": 800
      }
     },
     "output_type": "display_data"
    }
   ],
   "source": [
    "plotcp(dt.model)"
   ]
  },
  {
   "cell_type": "markdown",
   "metadata": {},
   "source": [
    "* 가지치기 수행"
   ]
  },
  {
   "cell_type": "code",
   "execution_count": 29,
   "metadata": {},
   "outputs": [
    {
     "data": {
      "image/png": "[encoded data removed]",
      "text/plain": [
       "plot without title"
      ]
     },
     "metadata": {
      "image/png": {
       "height": 500,
       "width": 800
      }
     },
     "output_type": "display_data"
    }
   ],
   "source": [
    "options(repr.plot.res=200)\n",
    "rpart.plot(dt.model,extra=2) ## extra 인자를 이용해 각각 범주의 분류된 개수를 파악, extra=3 은 오분류된 개수를 보여준다"
   ]
  },
  {
   "cell_type": "code",
   "execution_count": 30,
   "metadata": {},
   "outputs": [
    {
     "data": {
      "image/png": "[encoded data removed]",
      "text/plain": [
       "plot without title"
      ]
     },
     "metadata": {
      "image/png": {
       "height": 500,
       "width": 800
      }
     },
     "output_type": "display_data"
    }
   ],
   "source": [
    "prune.c <- prune(dt.model,cp=cp)\n",
    "rpart.plot(prune.c,extra=2)"
   ]
  },
  {
   "cell_type": "markdown",
   "metadata": {},
   "source": [
    "* 기존의 모델보다 복잡성이 줄어든 것으로 볼 수 있다."
   ]
  },
  {
   "cell_type": "markdown",
   "metadata": {},
   "source": [
    "* 예측을 통하여 우리가 생성한 모델의 타당성을 평가하자."
   ]
  },
  {
   "cell_type": "code",
   "execution_count": 31,
   "metadata": {},
   "outputs": [],
   "source": [
    "pred.dt <- predict(dt.model, test %>% select(-1),type=\"class\")"
   ]
  },
  {
   "cell_type": "code",
   "execution_count": 32,
   "metadata": {},
   "outputs": [
    {
     "data": {
      "text/plain": [
       "Confusion Matrix and Statistics\n",
       "\n",
       "          Reference\n",
       "Prediction   0   1\n",
       "         0  37  19\n",
       "         1  59 185\n",
       "                                          \n",
       "               Accuracy : 0.74            \n",
       "                 95% CI : (0.6865, 0.7887)\n",
       "    No Information Rate : 0.68            \n",
       "    P-Value [Acc > NIR] : 0.014           \n",
       "                                          \n",
       "                  Kappa : 0.3285          \n",
       "                                          \n",
       " Mcnemar's Test P-Value : 1.006e-05       \n",
       "                                          \n",
       "            Sensitivity : 0.3854          \n",
       "            Specificity : 0.9069          \n",
       "         Pos Pred Value : 0.6607          \n",
       "         Neg Pred Value : 0.7582          \n",
       "             Prevalence : 0.3200          \n",
       "         Detection Rate : 0.1233          \n",
       "   Detection Prevalence : 0.1867          \n",
       "      Balanced Accuracy : 0.6461          \n",
       "                                          \n",
       "       'Positive' Class : 0               \n",
       "                                          "
      ]
     },
     "metadata": {},
     "output_type": "display_data"
    }
   ],
   "source": [
    "confusionMatrix(data=pred.dt,reference= test$credit.rating)"
   ]
  },
  {
   "cell_type": "markdown",
   "metadata": {},
   "source": [
    "* `정분류율`은 0.73이며 `특이도`, `민감도`는 각각 0.8578, 0.4270으로 산출되었다."
   ]
  },
  {
   "cell_type": "code",
   "execution_count": 33,
   "metadata": {},
   "outputs": [],
   "source": [
    "pred.dt.roc <- prediction(as.numeric(pred.dt),as.numeric(test$credit.rating))"
   ]
  },
  {
   "cell_type": "code",
   "execution_count": 34,
   "metadata": {},
   "outputs": [
    {
     "data": {
      "image/png": "[encoded data removed]",
      "text/plain": [
       "plot without title"
      ]
     },
     "metadata": {
      "image/png": {
       "height": 500,
       "width": 800
      }
     },
     "output_type": "display_data"
    }
   ],
   "source": [
    "plot(performance(pred.dt.roc,\"tpr\",\"fpr\"),lwd=2)\n",
    "abline(a=0,b=1,lty=2,col=\"red\",lwd=2)"
   ]
  },
  {
   "cell_type": "code",
   "execution_count": 35,
   "metadata": {},
   "outputs": [
    {
     "data": {
      "text/html": [
       "<ol>\n",
       "\t<li>0.646139705882353</li>\n",
       "</ol>\n"
      ],
      "text/latex": [
       "\\begin{enumerate}\n",
       "\\item 0.646139705882353\n",
       "\\end{enumerate}\n"
      ],
      "text/markdown": [
       "1. 0.646139705882353\n",
       "\n",
       "\n"
      ],
      "text/plain": [
       "[[1]]\n",
       "[1] 0.6461397\n"
      ]
     },
     "metadata": {},
     "output_type": "display_data"
    }
   ],
   "source": [
    "performance(pred.dt.roc,\"auc\")@y.values"
   ]
  },
  {
   "cell_type": "markdown",
   "metadata": {},
   "source": [
    "* 산출된 AUC값은 `0.642`로 좋은 모델은 아니다."
   ]
  },
  {
   "cell_type": "markdown",
   "metadata": {},
   "source": [
    "## 2-2.  multiple classification"
   ]
  },
  {
   "cell_type": "code",
   "execution_count": 36,
   "metadata": {},
   "outputs": [],
   "source": [
    "dt.model2 <- rpart(Species ~. ,data=train.iris)"
   ]
  },
  {
   "cell_type": "code",
   "execution_count": 37,
   "metadata": {},
   "outputs": [
    {
     "data": {
      "image/png": "[encoded data removed]",
      "text/plain": [
       "plot without title"
      ]
     },
     "metadata": {
      "image/png": {
       "height": 500,
       "width": 800
      }
     },
     "output_type": "display_data"
    }
   ],
   "source": [
    "rpart.plot(dt.model2,extra=2)"
   ]
  },
  {
   "cell_type": "markdown",
   "metadata": {},
   "source": [
    "* 총 105개의 데이터에서 39개의 데이터가 `virginica`로 분류되었고, `Petal.Length < 2.5`인 34개의 데이터는 모두 `setosa`로 분류되었다."
   ]
  },
  {
   "cell_type": "code",
   "execution_count": 38,
   "metadata": {},
   "outputs": [],
   "source": [
    "pred.dt2 <- predict(dt.model2, test.iris %>% select(-5),type=\"class\")"
   ]
  },
  {
   "cell_type": "code",
   "execution_count": 40,
   "metadata": {},
   "outputs": [
    {
     "data": {
      "text/plain": [
       "Confusion Matrix and Statistics\n",
       "\n",
       "            Reference\n",
       "Prediction   setosa versicolor virginica\n",
       "  setosa         13          0         0\n",
       "  versicolor      0         16         3\n",
       "  virginica       0          1        12\n",
       "\n",
       "Overall Statistics\n",
       "                                          \n",
       "               Accuracy : 0.9111          \n",
       "                 95% CI : (0.7878, 0.9752)\n",
       "    No Information Rate : 0.3778          \n",
       "    P-Value [Acc > NIR] : 1.099e-13       \n",
       "                                          \n",
       "                  Kappa : 0.8655          \n",
       "                                          \n",
       " Mcnemar's Test P-Value : NA              \n",
       "\n",
       "Statistics by Class:\n",
       "\n",
       "                     Class: setosa Class: versicolor Class: virginica\n",
       "Sensitivity                 1.0000            0.9412           0.8000\n",
       "Specificity                 1.0000            0.8929           0.9667\n",
       "Pos Pred Value              1.0000            0.8421           0.9231\n",
       "Neg Pred Value              1.0000            0.9615           0.9062\n",
       "Prevalence                  0.2889            0.3778           0.3333\n",
       "Detection Rate              0.2889            0.3556           0.2667\n",
       "Detection Prevalence        0.2889            0.4222           0.2889\n",
       "Balanced Accuracy           1.0000            0.9170           0.8833"
      ]
     },
     "metadata": {},
     "output_type": "display_data"
    }
   ],
   "source": [
    "confusionMatrix(pred.dt2,test.iris$Species)"
   ]
  },
  {
   "cell_type": "markdown",
   "metadata": {},
   "source": [
    "* 정확도의 `0.9556`, 각각의 `class`에서 특이도와 민감도를 확인해보니 적절한 분류가 이루어졌음을 알 수 있다."
   ]
  },
  {
   "cell_type": "markdown",
   "metadata": {},
   "source": [
    "***"
   ]
  },
  {
   "cell_type": "markdown",
   "metadata": {},
   "source": [
    "# 3. 배깅"
   ]
  },
  {
   "cell_type": "markdown",
   "metadata": {},
   "source": [
    "* 의사결정나무의 경우 학습자료의 작은 변화에 의해 예측모형이 크게 변한다. 즉 학습방법이 불안정하다."
   ]
  },
  {
   "cell_type": "markdown",
   "metadata": {},
   "source": [
    "* 배깅은 여러 개의 붓스트랩자료를 생성하고 각 붓스트랩 자료에 예측모형을 만든 후 결합하여 최종 예측모형을 만드는 방법이다."
   ]
  },
  {
   "cell_type": "markdown",
   "metadata": {},
   "source": [
    "$\\divideontimes$ **붓스트랩 : 주어진 자료에서 동일한 크기의 표본을 랜덤 복원추출로 뽑은 자료를 의미한다.**"
   ]
  },
  {
   "cell_type": "markdown",
   "metadata": {},
   "source": [
    "* 예측모형을 결합한다는 것은 평균을 내는 것과 같으며, Classification 문제의 경우는 평균을 내는 것이 무의미 하므로 다수결의 원칙 즉, `voting` 방식을 이용한다."
   ]
  },
  {
   "cell_type": "markdown",
   "metadata": {},
   "source": [
    "* `adabag` 패키지에서 제공하는 `bagging` 함수의 경우 코드실행속도가 매우 느리다.\n",
    "* 따라서 `randomForest` 패키지에서 제공하는 `randomForest` 함수를 사용 \n",
    "* `mtry` 는 매번 분할에 사용될 예측변수(x)에 개수, 해당 데이터는 총 20개의 예측변수를 가짐\n",
    "* `randomForest`와 `bagging`의 차이점은 고려할 예측변수의 개수이다. `bagging`의 경우 모든 변수를 고려한다."
   ]
  },
  {
   "cell_type": "code",
   "execution_count": 18,
   "metadata": {},
   "outputs": [],
   "source": [
    "library(randomForest)\n",
    "library(adabag) ## 이 패키지의 경우 코드실행속도가 매우 느리다."
   ]
  },
  {
   "cell_type": "code",
   "execution_count": 20,
   "metadata": {},
   "outputs": [
    {
     "data": {
      "text/plain": [
       "Confusion Matrix and Statistics\n",
       "\n",
       "          Reference\n",
       "Prediction   0   1\n",
       "         0  49  27\n",
       "         1  43 181\n",
       "                                          \n",
       "               Accuracy : 0.7667          \n",
       "                 95% CI : (0.7146, 0.8134)\n",
       "    No Information Rate : 0.6933          \n",
       "    P-Value [Acc > NIR] : 0.00297         \n",
       "                                          \n",
       "                  Kappa : 0.4233          \n",
       "                                          \n",
       " Mcnemar's Test P-Value : 0.07300         \n",
       "                                          \n",
       "            Sensitivity : 0.8702          \n",
       "            Specificity : 0.5326          \n",
       "         Pos Pred Value : 0.8080          \n",
       "         Neg Pred Value : 0.6447          \n",
       "             Prevalence : 0.6933          \n",
       "         Detection Rate : 0.6033          \n",
       "   Detection Prevalence : 0.7467          \n",
       "      Balanced Accuracy : 0.7014          \n",
       "                                          \n",
       "       'Positive' Class : 1               \n",
       "                                          "
      ]
     },
     "metadata": {},
     "output_type": "display_data"
    }
   ],
   "source": [
    "bag <- randomForest(credit.rating ~. , data=train, \n",
    "                        mtry = 20,importance =T)\n",
    "pred.bg <- predict(bag,test,type=\"class\")\n",
    "confusionMatrix(data = pred.bg, \n",
    "                reference = test$credit.rating,\n",
    "                positive = \"1\")"
   ]
  },
  {
   "cell_type": "code",
   "execution_count": 24,
   "metadata": {},
   "outputs": [
    {
     "data": {
      "text/html": [
       "<ol>\n",
       "\t<li>0.701400501672241</li>\n",
       "</ol>\n"
      ],
      "text/latex": [
       "\\begin{enumerate}\n",
       "\\item 0.701400501672241\n",
       "\\end{enumerate}\n"
      ],
      "text/markdown": [
       "1. 0.701400501672241\n",
       "\n",
       "\n"
      ],
      "text/plain": [
       "[[1]]\n",
       "[1] 0.7014005\n"
      ]
     },
     "metadata": {},
     "output_type": "display_data"
    },
    {
     "data": {
      "image/png": "[encoded data removed]",
      "text/plain": [
       "plot without title"
      ]
     },
     "metadata": {
      "image/png": {
       "height": 500,
       "width": 800
      }
     },
     "output_type": "display_data"
    }
   ],
   "source": [
    "options(repr.plot.res=200,repr.plot.width=8,repr.plot.height=5)\n",
    "pred.bg.roc <- prediction(as.numeric(pred.bg),as.numeric(test$credit.rating))\n",
    "plot(performance(pred.bg.roc,\"tpr\",\"fpr\"),lwd=2)\n",
    "abline(a=0,b=1,col=\"red\",lwd=2,lty=\"dashed\")\n",
    "performance(pred.bg.roc,\"auc\")@y.values"
   ]
  },
  {
   "cell_type": "markdown",
   "metadata": {},
   "source": [
    "***"
   ]
  },
  {
   "cell_type": "markdown",
   "metadata": {},
   "source": [
    "# 4. 부스팅"
   ]
  },
  {
   "cell_type": "markdown",
   "metadata": {},
   "source": [
    "* 배깅과 달리 tree를 순차적으로 적합\n",
    "* 전번 분류기에서 오분류율 정보를 이용하여 다음 번 분류기에서 가중치를 적합해 생성, 가중치의 합은 1\n",
    "* 배깅은 샘플링을 이용하여 `n`개의 예측모형생성 후 다수결의 원칙을 적용\n",
    "* 부스팅은 샘플링을 하지 않고 잔차에서 발생하는 정보를 활용하여 다음 분류기에 적합한다."
   ]
  },
  {
   "cell_type": "markdown",
   "metadata": {},
   "source": [
    "* 부스팅하고 배깅은 속도가 코드 구현 속도가 너무 느리다...."
   ]
  },
  {
   "cell_type": "markdown",
   "metadata": {},
   "source": [
    "***"
   ]
  },
  {
   "cell_type": "markdown",
   "metadata": {},
   "source": [
    "# 5. 랜덤포레스트"
   ]
  },
  {
   "cell_type": "markdown",
   "metadata": {},
   "source": [
    "* 붓스트랩에 의해 생성되는 나무들 간의 상관성을 제거함으로써 최종 예측 모형의 분산을 획기적으로 감소시키고자 하는 방법\n",
    "* 이는 소수의 강력한 예측변수들에 의해 모든 나무모형이 유사해지는 것을 막기 위해 매번 분할 시 `p`개의 예측 변수 중 `m` 개만 문할 기준의 후보로 삼음."
   ]
  },
  {
   "cell_type": "code",
   "execution_count": 37,
   "metadata": {},
   "outputs": [],
   "source": [
    "library(randomForest)"
   ]
  },
  {
   "cell_type": "code",
   "execution_count": 39,
   "metadata": {},
   "outputs": [
    {
     "data": {
      "text/plain": [
       "\n",
       "Call:\n",
       " randomForest(formula = credit.rating ~ ., data = train, ntree = 50,      mtry = sqrt(20), importance = T) \n",
       "               Type of random forest: classification\n",
       "                     Number of trees: 50\n",
       "No. of variables tried at each split: 4\n",
       "\n",
       "        OOB estimate of  error rate: 26.86%\n",
       "Confusion matrix:\n",
       "   0   1 class.error\n",
       "0 77 131   0.6298077\n",
       "1 57 435   0.1158537"
      ]
     },
     "metadata": {},
     "output_type": "display_data"
    }
   ],
   "source": [
    "rf.model <- randomForest(credit.rating ~.,\n",
    "                         data = train, ntree = 50,\n",
    "                          mtry = sqrt(20),\n",
    "                          importance=T)\n",
    "rf.model"
   ]
  },
  {
   "cell_type": "markdown",
   "metadata": {},
   "source": [
    "* `OOB estimate of error rate`는 에러추정치로서 값이 낮을수록 분류모델의 성능이 좋다고 판단할 수 있다."
   ]
  },
  {
   "cell_type": "code",
   "execution_count": 44,
   "metadata": {},
   "outputs": [
    {
     "data": {
      "image/png": "[encoded data removed]",
      "text/plain": [
       "plot without title"
      ]
     },
     "metadata": {
      "image/png": {
       "height": 500,
       "width": 800
      }
     },
     "output_type": "display_data"
    }
   ],
   "source": [
    "# rf.model$importance\n",
    "varImpPlot(rf.model)"
   ]
  },
  {
   "cell_type": "markdown",
   "metadata": {},
   "source": [
    "* 변수 중요도를 `MeanDecreaseGini` 기준으로 살펴보았을 때, `credit.amount`, `credit.duration.months`, `age` 순서로 변수 중요도가 크다는 것을 파악할 수 있다. "
   ]
  },
  {
   "cell_type": "code",
   "execution_count": 46,
   "metadata": {},
   "outputs": [
    {
     "data": {
      "text/plain": [
       "Confusion Matrix and Statistics\n",
       "\n",
       "          Reference\n",
       "Prediction   0   1\n",
       "         0  38  19\n",
       "         1  54 189\n",
       "                                         \n",
       "               Accuracy : 0.7567         \n",
       "                 95% CI : (0.704, 0.8041)\n",
       "    No Information Rate : 0.6933         \n",
       "    P-Value [Acc > NIR] : 0.009216       \n",
       "                                         \n",
       "                  Kappa : 0.3599         \n",
       "                                         \n",
       " Mcnemar's Test P-Value : 6.909e-05      \n",
       "                                         \n",
       "            Sensitivity : 0.9087         \n",
       "            Specificity : 0.4130         \n",
       "         Pos Pred Value : 0.7778         \n",
       "         Neg Pred Value : 0.6667         \n",
       "             Prevalence : 0.6933         \n",
       "         Detection Rate : 0.6300         \n",
       "   Detection Prevalence : 0.8100         \n",
       "      Balanced Accuracy : 0.6608         \n",
       "                                         \n",
       "       'Positive' Class : 1              \n",
       "                                         "
      ]
     },
     "metadata": {},
     "output_type": "display_data"
    }
   ],
   "source": [
    "pred.rf <-  predict(rf.model, test, type=\"class\")\n",
    "confusionMatrix(data = pred.rf, reference = test$credit.rating, positive=\"1\")"
   ]
  },
  {
   "cell_type": "code",
   "execution_count": 51,
   "metadata": {},
   "outputs": [
    {
     "data": {
      "text/html": [
       "<ol>\n",
       "\t<li>0.660848662207358</li>\n",
       "</ol>\n"
      ],
      "text/latex": [
       "\\begin{enumerate}\n",
       "\\item 0.660848662207358\n",
       "\\end{enumerate}\n"
      ],
      "text/markdown": [
       "1. 0.660848662207358\n",
       "\n",
       "\n"
      ],
      "text/plain": [
       "[[1]]\n",
       "[1] 0.6608487\n"
      ]
     },
     "metadata": {},
     "output_type": "display_data"
    },
    {
     "data": {
      "image/png": "[encoded data removed]",
      "text/plain": [
       "plot without title"
      ]
     },
     "metadata": {
      "image/png": {
       "height": 500,
       "width": 800
      }
     },
     "output_type": "display_data"
    }
   ],
   "source": [
    "pred.rf.roc <- prediction(as.numeric(pred.rf), as.numeric(test$credit.rating))\n",
    "plot(performance(pred.rf.roc,\"tpr\",\"fpr\"),lwd=2)\n",
    "abline(b=1,a=0,col=\"red\",lty=2,lwd=2)\n",
    "performance(pred.rf.roc,\"auc\")@y.values"
   ]
  },
  {
   "cell_type": "markdown",
   "metadata": {},
   "source": [
    "# 6. SVM"
   ]
  },
  {
   "cell_type": "markdown",
   "metadata": {},
   "source": [
    "* 각 그룹을 구분하는 분류자를 **결정 초평면 (decision hyperline)**, 각 그룹에 속한 데이터들 중에서도 **초평면에 가장 가까이에 붙어있는 최전방 데이터들을 서포트 벡터(support vector), 서포트 벡터와 초평면 사이의 수직거리를 마진(mergin)**,이라고 한다. "
   ]
  },
  {
   "cell_type": "markdown",
   "metadata": {},
   "source": [
    "* SVM은 고차원 혹은 무한 차원의 공간에서 마진을 최대화하는 초평면을 찾아 **분류와 회귀**를 수행한다.\n",
    "* 모형을 적합하기 전 `tune.svm` 함수로 최적의 파라미터를 찾는다.\n",
    "* `gamma` : 초평면의 기울기, default = 1/(데이터차원)\n",
    "* `cost` : 과적합을 막는 정도로 오분류의 허용한계이다. cost가 클수록 마진이 넓고, 적을 수록 마진이 좁다. dafault = 1"
   ]
  },
  {
   "cell_type": "code",
   "execution_count": 54,
   "metadata": {},
   "outputs": [],
   "source": [
    "library(e1071)"
   ]
  },
  {
   "cell_type": "code",
   "execution_count": 53,
   "metadata": {},
   "outputs": [
    {
     "data": {
      "text/plain": [
       "\n",
       "Parameter tuning of 'svm':\n",
       "\n",
       "- sampling method: 10-fold cross validation \n",
       "\n",
       "- best parameters:\n",
       " gamma cost\n",
       "  0.01   10\n",
       "\n",
       "- best performance: 0.232 \n"
      ]
     },
     "metadata": {},
     "output_type": "display_data"
    }
   ],
   "source": [
    "tune.svm(credit.rating ~., data = credit_data,\n",
    "                          gamma = 10^(-6:-1),\n",
    "                          cost = 10^(1:2))"
   ]
  },
  {
   "cell_type": "markdown",
   "metadata": {},
   "source": [
    "* 위와 같은 경우 `6 x 2 = 12` 총 12개의 조합에서 모수조율이 이루어진다."
   ]
  },
  {
   "cell_type": "markdown",
   "metadata": {},
   "source": [
    "* `kernel` : radial, linear, polynomial, sigmoid 등이 있는데 실제 문제에서 커널의 선택이 결과의 정확도에 큰 영향을 주지 않는다."
   ]
  },
  {
   "cell_type": "code",
   "execution_count": 55,
   "metadata": {},
   "outputs": [],
   "source": [
    "svm.model  <- svm(credit.rating~.,\n",
    "                  data =train,\n",
    "                  kernel =\"radial\",\n",
    "                  gamma = 0.01,\n",
    "                  cost = 10)"
   ]
  },
  {
   "cell_type": "code",
   "execution_count": 56,
   "metadata": {},
   "outputs": [
    {
     "data": {
      "text/plain": [
       "\n",
       "Call:\n",
       "svm(formula = credit.rating ~ ., data = train, kernel = \"radial\", \n",
       "    gamma = 0.01, cost = 10)\n",
       "\n",
       "\n",
       "Parameters:\n",
       "   SVM-Type:  C-classification \n",
       " SVM-Kernel:  radial \n",
       "       cost:  10 \n",
       "\n",
       "Number of Support Vectors:  402\n",
       "\n",
       " ( 187 215 )\n",
       "\n",
       "\n",
       "Number of Classes:  2 \n",
       "\n",
       "Levels: \n",
       " 0 1\n",
       "\n",
       "\n"
      ]
     },
     "metadata": {},
     "output_type": "display_data"
    }
   ],
   "source": [
    "summary(svm.model)"
   ]
  },
  {
   "cell_type": "code",
   "execution_count": 57,
   "metadata": {},
   "outputs": [
    {
     "data": {
      "text/plain": [
       "Confusion Matrix and Statistics\n",
       "\n",
       "          Reference\n",
       "Prediction   0   1\n",
       "         0  39  22\n",
       "         1  53 186\n",
       "                                        \n",
       "               Accuracy : 0.75          \n",
       "                 95% CI : (0.697, 0.798)\n",
       "    No Information Rate : 0.6933        \n",
       "    P-Value [Acc > NIR] : 0.018050      \n",
       "                                        \n",
       "                  Kappa : 0.3511        \n",
       "                                        \n",
       " Mcnemar's Test P-Value : 0.000532      \n",
       "                                        \n",
       "            Sensitivity : 0.8942        \n",
       "            Specificity : 0.4239        \n",
       "         Pos Pred Value : 0.7782        \n",
       "         Neg Pred Value : 0.6393        \n",
       "             Prevalence : 0.6933        \n",
       "         Detection Rate : 0.6200        \n",
       "   Detection Prevalence : 0.7967        \n",
       "      Balanced Accuracy : 0.6591        \n",
       "                                        \n",
       "       'Positive' Class : 1             \n",
       "                                        "
      ]
     },
     "metadata": {},
     "output_type": "display_data"
    }
   ],
   "source": [
    "pred.svm <- predict(svm.model, test, type=\"class\")\n",
    "confusionMatrix(data = pred.svm, reference = test$credit.rating,positive= \"1\")"
   ]
  },
  {
   "cell_type": "code",
   "execution_count": 62,
   "metadata": {},
   "outputs": [
    {
     "data": {
      "text/html": [
       "<ol>\n",
       "\t<li>0.659071906354515</li>\n",
       "</ol>\n"
      ],
      "text/latex": [
       "\\begin{enumerate}\n",
       "\\item 0.659071906354515\n",
       "\\end{enumerate}\n"
      ],
      "text/markdown": [
       "1. 0.659071906354515\n",
       "\n",
       "\n"
      ],
      "text/plain": [
       "[[1]]\n",
       "[1] 0.6590719\n"
      ]
     },
     "metadata": {},
     "output_type": "display_data"
    },
    {
     "data": {
      "image/png": "[encoded data removed]",
      "text/plain": [
       "plot without title"
      ]
     },
     "metadata": {
      "image/png": {
       "height": 500,
       "width": 800
      }
     },
     "output_type": "display_data"
    }
   ],
   "source": [
    "pred.svm.roc <- prediction(as.numeric(pred.svm),as.numeric(test$credit.rating))\n",
    "plot(performance(pred.svm.roc,\"tpr\",\"fpr\"))\n",
    "abline(a=0,b=1,col=\"red\",lty=2)\n",
    "performance(pred.svm.roc,\"auc\")@y.values"
   ]
  },
  {
   "cell_type": "markdown",
   "metadata": {},
   "source": [
    "# 7. 나이브 베이즈 분류"
   ]
  },
  {
   "cell_type": "markdown",
   "metadata": {},
   "source": [
    "* $C_i = label \\, of \\, class$\n",
    "* $X=(X_1,X_2,\\dots X_n)$"
   ]
  },
  {
   "cell_type": "markdown",
   "metadata": {},
   "source": [
    " * $\\begin {eqnarray*}posterior=P(C_i | X) = \\frac {P(C_i)P(X|C_i)}{P(X)}\\end{eqnarray*} = \\frac {prior \\times likelhood}{evidence}$ "
   ]
  },
  {
   "cell_type": "markdown",
   "metadata": {},
   "source": [
    "* $P(X | C_i)= \\prod_{k=1}^n P(X_k|C_i) = P(x_1|C_i)\\times \\dots P(x_n |C_i)$"
   ]
  },
  {
   "cell_type": "markdown",
   "metadata": {},
   "source": [
    "* 클래스 조건 독립성 : 위 식처럼 속성값에 대해 다른 속성이 독립적이라는 가정이다."
   ]
  },
  {
   "cell_type": "markdown",
   "metadata": {},
   "source": [
    "* 즉 $X$라는 속성값들이 주어져있을 때 사전확률값과 관측값을 이용하여 사후확률을 구하여 개체를 해당 클래스로 분류하는 기법이다."
   ]
  },
  {
   "cell_type": "code",
   "execution_count": 63,
   "metadata": {},
   "outputs": [],
   "source": [
    "library(e1071)"
   ]
  },
  {
   "cell_type": "markdown",
   "metadata": {},
   "source": [
    "* `laplace` : 라플라스 보정여부, 뭔지는 잘 모르겠음.."
   ]
  },
  {
   "cell_type": "code",
   "execution_count": 65,
   "metadata": {},
   "outputs": [],
   "source": [
    "nb.model  <- naiveBayes(credit.rating ~ . ,data = train , laplace=0)"
   ]
  },
  {
   "cell_type": "code",
   "execution_count": 66,
   "metadata": {},
   "outputs": [
    {
     "data": {
      "text/plain": [
       "\n",
       "Naive Bayes Classifier for Discrete Predictors\n",
       "\n",
       "Call:\n",
       "naiveBayes.default(x = X, y = Y, laplace = laplace)\n",
       "\n",
       "A-priori probabilities:\n",
       "Y\n",
       "        0         1 \n",
       "0.2971429 0.7028571 \n",
       "\n",
       "Conditional probabilities:\n",
       "   account.balance\n",
       "Y       [,1]      [,2]\n",
       "  0 1.759615 0.8045185\n",
       "  1 2.394309 0.8066729\n",
       "\n",
       "   credit.duration.months\n",
       "Y       [,1]     [,2]\n",
       "  0 25.24038 13.26358\n",
       "  1 19.23984 11.38457\n",
       "\n",
       "   previous.credit.payment.status\n",
       "Y       [,1]      [,2]\n",
       "  0 2.081731 0.6505686\n",
       "  1 2.365854 0.5955475\n",
       "\n",
       "   credit.purpose\n",
       "Y       [,1]      [,2]\n",
       "  0 3.149038 0.9178314\n",
       "  1 2.900407 0.9929691\n",
       "\n",
       "   credit.amount\n",
       "Y       [,1]     [,2]\n",
       "  0 3841.731 3393.693\n",
       "  1 3035.821 2507.385\n",
       "\n",
       "   savings\n",
       "Y       [,1]     [,2]\n",
       "  0 1.586538 1.036629\n",
       "  1 2.002033 1.244947\n",
       "\n",
       "   employment.duration\n",
       "Y       [,1]     [,2]\n",
       "  0 2.250000 1.135718\n",
       "  1 2.518293 1.072557\n",
       "\n",
       "   installment.rate\n",
       "Y       [,1]     [,2]\n",
       "  0 3.158654 1.062684\n",
       "  1 2.914634 1.124088\n",
       "\n",
       "   marital.status\n",
       "Y       [,1]     [,2]\n",
       "  0 2.250000 1.096767\n",
       "  1 2.439024 1.049848\n",
       "\n",
       "   guarantor\n",
       "Y       [,1]      [,2]\n",
       "  0 1.096154 0.2955133\n",
       "  1 1.093496 0.2914225\n",
       "\n",
       "   residence.duration\n",
       "Y       [,1]     [,2]\n",
       "  0 2.831731 1.110143\n",
       "  1 2.833333 1.100207\n",
       "\n",
       "   current.assets\n",
       "Y      [,1]     [,2]\n",
       "  0 2.50000 1.049500\n",
       "  1 2.26626 1.041032\n",
       "\n",
       "   age\n",
       "Y       [,1]     [,2]\n",
       "  0 34.01442 11.22647\n",
       "  1 36.23171 11.51335\n",
       "\n",
       "   other.credits\n",
       "Y       [,1]      [,2]\n",
       "  0 1.750000 0.4340574\n",
       "  1 1.857724 0.3496890\n",
       "\n",
       "   apartment.type\n",
       "Y       [,1]      [,2]\n",
       "  0 1.937500 0.5986599\n",
       "  1 1.955285 0.4839928\n",
       "\n",
       "   bank.credits\n",
       "Y       [,1]      [,2]\n",
       "  0 1.326923 0.4702206\n",
       "  1 1.367886 0.4827210\n",
       "\n",
       "   occupation\n",
       "Y       [,1]      [,2]\n",
       "  0 2.961538 0.6727703\n",
       "  1 2.900407 0.6415992\n",
       "\n",
       "   dependents\n",
       "Y       [,1]      [,2]\n",
       "  0 1.149038 0.3569856\n",
       "  1 1.162602 0.3693774\n",
       "\n",
       "   telephone\n",
       "Y       [,1]      [,2]\n",
       "  0 1.379808 0.4865098\n",
       "  1 1.398374 0.4900615\n",
       "\n",
       "   foreign.worker\n",
       "Y       [,1]      [,2]\n",
       "  0 1.019231 0.1376665\n",
       "  1 1.046748 0.2113134\n"
      ]
     },
     "metadata": {},
     "output_type": "display_data"
    }
   ],
   "source": [
    "nb.model"
   ]
  },
  {
   "cell_type": "markdown",
   "metadata": {},
   "source": [
    "* `A-priori probabilities` 는 사전확률을 나타내고 있으며, `Conditional Probabilities`는 각 변수에 대한 조건부 확률이다."
   ]
  },
  {
   "cell_type": "code",
   "execution_count": 68,
   "metadata": {},
   "outputs": [
    {
     "data": {
      "text/plain": [
       "Confusion Matrix and Statistics\n",
       "\n",
       "          Reference\n",
       "Prediction   0   1\n",
       "         0  59  36\n",
       "         1  33 172\n",
       "                                          \n",
       "               Accuracy : 0.77            \n",
       "                 95% CI : (0.7182, 0.8164)\n",
       "    No Information Rate : 0.6933          \n",
       "    P-Value [Acc > NIR] : 0.001967        \n",
       "                                          \n",
       "                  Kappa : 0.464           \n",
       "                                          \n",
       " Mcnemar's Test P-Value : 0.809732        \n",
       "                                          \n",
       "            Sensitivity : 0.8269          \n",
       "            Specificity : 0.6413          \n",
       "         Pos Pred Value : 0.8390          \n",
       "         Neg Pred Value : 0.6211          \n",
       "             Prevalence : 0.6933          \n",
       "         Detection Rate : 0.5733          \n",
       "   Detection Prevalence : 0.6833          \n",
       "      Balanced Accuracy : 0.7341          \n",
       "                                          \n",
       "       'Positive' Class : 1               \n",
       "                                          "
      ]
     },
     "metadata": {},
     "output_type": "display_data"
    }
   ],
   "source": [
    "pred.nb <- predict(nb.model,test, type=\"class\")\n",
    "confusionMatrix(data= pred.nb,reference = test$credit.rating,positive=\"1\")"
   ]
  },
  {
   "cell_type": "code",
   "execution_count": 71,
   "metadata": {},
   "outputs": [
    {
     "data": {
      "text/html": [
       "<ol>\n",
       "\t<li>0.734113712374582</li>\n",
       "</ol>\n"
      ],
      "text/latex": [
       "\\begin{enumerate}\n",
       "\\item 0.734113712374582\n",
       "\\end{enumerate}\n"
      ],
      "text/markdown": [
       "1. 0.734113712374582\n",
       "\n",
       "\n"
      ],
      "text/plain": [
       "[[1]]\n",
       "[1] 0.7341137\n"
      ]
     },
     "metadata": {},
     "output_type": "display_data"
    },
    {
     "data": {
      "image/png": "[encoded data removed]",
      "text/plain": [
       "plot without title"
      ]
     },
     "metadata": {
      "image/png": {
       "height": 500,
       "width": 800
      }
     },
     "output_type": "display_data"
    }
   ],
   "source": [
    "pred.nb.roc  <- prediction(as.numeric(pred.nb),as.numeric(test$credit.rating))\n",
    "plot(performance(pred.nb.roc,\"tpr\",\"fpr\"))\n",
    "abline(b=1,a=0,col=\"red\"); performance(pred.nb.roc,\"auc\")@y.values"
   ]
  },
  {
   "cell_type": "markdown",
   "metadata": {},
   "source": [
    "***"
   ]
  },
  {
   "cell_type": "markdown",
   "metadata": {},
   "source": [
    "# 8. K-NN(K-Nearest Neighbor)"
   ]
  },
  {
   "cell_type": "markdown",
   "metadata": {},
   "source": [
    "* K-NN 알고리즘에서는 새로운 데이터의 클래스를 해당 데이터와 가장 가까운 `k`개 데이터들의 클래스(범주)로 결정한다.\n",
    "* 최근접 이웃 간의 거리를 계산할 때 유클리디안 거리, 맨하탄 거리, 민코우스키 거리 등을 사용할 수 있으며, 대표적으로 **유클리디안 거리**를 사용한다."
   ]
  },
  {
   "cell_type": "code",
   "execution_count": 72,
   "metadata": {},
   "outputs": [],
   "source": [
    "library(class)"
   ]
  },
  {
   "cell_type": "code",
   "execution_count": 76,
   "metadata": {},
   "outputs": [],
   "source": [
    "train.data <- train %>% select(-1)\n",
    "test.data <- test %>% select(-1)\n",
    "class <- train$credit.rating\n",
    "\n",
    "knn.3 <- knn(train.data,test.data, class, k=3 )\n",
    "knn.7 <- knn(train.data,test.data, class, k=7 )\n",
    "knn.10 <- knn(train.data,test.data, class, k=10 )"
   ]
  },
  {
   "cell_type": "code",
   "execution_count": 79,
   "metadata": {},
   "outputs": [
    {
     "data": {
      "text/plain": [
       "Confusion Matrix and Statistics\n",
       "\n",
       "          Reference\n",
       "Prediction   0   1\n",
       "         0  28  43\n",
       "         1  64 165\n",
       "                                          \n",
       "               Accuracy : 0.6433          \n",
       "                 95% CI : (0.5863, 0.6975)\n",
       "    No Information Rate : 0.6933          \n",
       "    P-Value [Acc > NIR] : 0.97262         \n",
       "                                          \n",
       "                  Kappa : 0.1043          \n",
       "                                          \n",
       " Mcnemar's Test P-Value : 0.05318         \n",
       "                                          \n",
       "            Sensitivity : 0.7933          \n",
       "            Specificity : 0.3043          \n",
       "         Pos Pred Value : 0.7205          \n",
       "         Neg Pred Value : 0.3944          \n",
       "             Prevalence : 0.6933          \n",
       "         Detection Rate : 0.5500          \n",
       "   Detection Prevalence : 0.7633          \n",
       "      Balanced Accuracy : 0.5488          \n",
       "                                          \n",
       "       'Positive' Class : 1               \n",
       "                                          "
      ]
     },
     "metadata": {},
     "output_type": "display_data"
    },
    {
     "data": {
      "text/plain": [
       "Confusion Matrix and Statistics\n",
       "\n",
       "          Reference\n",
       "Prediction   0   1\n",
       "         0  17  18\n",
       "         1  75 190\n",
       "                                          \n",
       "               Accuracy : 0.69            \n",
       "                 95% CI : (0.6343, 0.7419)\n",
       "    No Information Rate : 0.6933          \n",
       "    P-Value [Acc > NIR] : 0.5775          \n",
       "                                          \n",
       "                  Kappa : 0.1188          \n",
       "                                          \n",
       " Mcnemar's Test P-Value : 6.363e-09       \n",
       "                                          \n",
       "            Sensitivity : 0.9135          \n",
       "            Specificity : 0.1848          \n",
       "         Pos Pred Value : 0.7170          \n",
       "         Neg Pred Value : 0.4857          \n",
       "             Prevalence : 0.6933          \n",
       "         Detection Rate : 0.6333          \n",
       "   Detection Prevalence : 0.8833          \n",
       "      Balanced Accuracy : 0.5491          \n",
       "                                          \n",
       "       'Positive' Class : 1               \n",
       "                                          "
      ]
     },
     "metadata": {},
     "output_type": "display_data"
    },
    {
     "data": {
      "text/plain": [
       "Confusion Matrix and Statistics\n",
       "\n",
       "          Reference\n",
       "Prediction   0   1\n",
       "         0  13  10\n",
       "         1  79 198\n",
       "                                          \n",
       "               Accuracy : 0.7033          \n",
       "                 95% CI : (0.6481, 0.7545)\n",
       "    No Information Rate : 0.6933          \n",
       "    P-Value [Acc > NIR] : 0.3799          \n",
       "                                          \n",
       "                  Kappa : 0.1179          \n",
       "                                          \n",
       " Mcnemar's Test P-Value : 5.679e-13       \n",
       "                                          \n",
       "            Sensitivity : 0.9519          \n",
       "            Specificity : 0.1413          \n",
       "         Pos Pred Value : 0.7148          \n",
       "         Neg Pred Value : 0.5652          \n",
       "             Prevalence : 0.6933          \n",
       "         Detection Rate : 0.6600          \n",
       "   Detection Prevalence : 0.9233          \n",
       "      Balanced Accuracy : 0.5466          \n",
       "                                          \n",
       "       'Positive' Class : 1               \n",
       "                                          "
      ]
     },
     "metadata": {},
     "output_type": "display_data"
    }
   ],
   "source": [
    "confusionMatrix(knn.3, test$credit.rating,positive=\"1\")\n",
    "confusionMatrix(knn.7, test$credit.rating,positive=\"1\")\n",
    "confusionMatrix(knn.10, test$credit.rating,positive=\"1\")\n"
   ]
  },
  {
   "cell_type": "markdown",
   "metadata": {},
   "source": [
    "* 적절한 `k`값을 찾기 위해 `k`값을 변경해 가면서 확인하여야한다."
   ]
  },
  {
   "cell_type": "markdown",
   "metadata": {},
   "source": [
    "***"
   ]
  },
  {
   "cell_type": "markdown",
   "metadata": {},
   "source": [
    "# 9. 인공신경망 모형 (Artificial Nerual Network)"
   ]
  },
  {
   "cell_type": "code",
   "execution_count": 7,
   "metadata": {},
   "outputs": [],
   "source": [
    "library(nnet)"
   ]
  },
  {
   "cell_type": "markdown",
   "metadata": {},
   "source": [
    "* size = hidden node의 개수\n",
    "* maxit = 학습 반복 횟수, 반복 중 가장 좋은 모델을 선정함.\n",
    "* decay = 가중치 감소의 모수, 보통 0.0005 채택"
   ]
  },
  {
   "cell_type": "code",
   "execution_count": 16,
   "metadata": {},
   "outputs": [
    {
     "name": "stdout",
     "output_type": "stream",
     "text": [
      "# weights:  45\n",
      "initial  value 465.171750 \n",
      "iter  10 value 431.758720\n",
      "iter  20 value 431.756746\n",
      "iter  30 value 423.013724\n",
      "iter  40 value 385.108066\n",
      "iter  50 value 369.426057\n",
      "iter  60 value 362.889778\n",
      "iter  70 value 361.595605\n",
      "iter  80 value 361.468176\n",
      "iter  90 value 361.461934\n",
      "iter 100 value 361.461857\n",
      "final  value 361.461791 \n",
      "converged\n"
     ]
    }
   ],
   "source": [
    "nn.model <- nnet(credit.rating~.,data=train,\n",
    "                                  size = 2,\n",
    "                                  maxit = 200,\n",
    "                                  decay = 0.0005)"
   ]
  },
  {
   "cell_type": "markdown",
   "metadata": {},
   "source": [
    "* 최종 error 값이 `425.896932`로 `final value`를 보고 확인할 수 있다."
   ]
  },
  {
   "cell_type": "code",
   "execution_count": 17,
   "metadata": {},
   "outputs": [
    {
     "data": {
      "text/plain": [
       "a 20-2-1 network with 45 weights\n",
       "options were - entropy fitting  decay=5e-04\n",
       "  b->h1  i1->h1  i2->h1  i3->h1  i4->h1  i5->h1  i6->h1  i7->h1  i8->h1  i9->h1 \n",
       "   0.01   -0.01    0.01   -0.01    0.00    0.05    0.01    0.01   -0.01    0.01 \n",
       "i10->h1 i11->h1 i12->h1 i13->h1 i14->h1 i15->h1 i16->h1 i17->h1 i18->h1 i19->h1 \n",
       "   0.01    0.01    0.01    0.02    0.00    0.01    0.01    0.01    0.00   -0.01 \n",
       "i20->h1 \n",
       "  -0.01 \n",
       "  b->h2  i1->h2  i2->h2  i3->h2  i4->h2  i5->h2  i6->h2  i7->h2  i8->h2  i9->h2 \n",
       " -18.85   32.55   -5.06    2.17  -15.94    0.02   11.73   17.82   -3.15    3.52 \n",
       "i10->h2 i11->h2 i12->h2 i13->h2 i14->h2 i15->h2 i16->h2 i17->h2 i18->h2 i19->h2 \n",
       "  13.88    1.02  -13.90    1.34   -7.07    0.02   -5.22  -10.24   -5.20   29.20 \n",
       "i20->h2 \n",
       "  -0.08 \n",
       "  b->o  h1->o  h2->o \n",
       " -0.35  -0.38   2.25 "
      ]
     },
     "metadata": {},
     "output_type": "display_data"
    }
   ],
   "source": [
    "summary(nn.model)"
   ]
  },
  {
   "cell_type": "markdown",
   "metadata": {},
   "source": [
    "* `neuralnet` 패키지를 이용"
   ]
  },
  {
   "cell_type": "code",
   "execution_count": 19,
   "metadata": {},
   "outputs": [],
   "source": [
    "library(neuralnet)"
   ]
  },
  {
   "cell_type": "code",
   "execution_count": 20,
   "metadata": {},
   "outputs": [],
   "source": [
    "data(infert)\n",
    "infert$case <- as.factor(infert$case)"
   ]
  },
  {
   "cell_type": "code",
   "execution_count": 21,
   "metadata": {},
   "outputs": [],
   "source": [
    "train.infert <- infert %>% sample_frac(0.7)\n",
    "test.infert  <-  infert  %>% setdiff(train.infert)"
   ]
  },
  {
   "cell_type": "markdown",
   "metadata": {},
   "source": [
    "* `algorithm` : 사용할 알고리즘 ( `backprop(역전파)`, `rprop+(default)`,`rprop-`)\n",
    "* `thresold` : 훈련중단 기준으로 default = 0.01\n",
    "* `hidden` : 은닉노드의 개수 c(n,m)-> n = 첫 번째 은닉층은 n개의 은닉노드, m = 두 번째 은닉층의 m개의 은닉노드\n",
    "* `stepmax` : 인공 신경망 훈련 수행 최대횟수\n",
    "* `err.fct` : 손실함수 지정 -> `ce` : 크로스 엔트로피, `sse` : 잔차제곱합\n",
    "* `linear.output` : 활성화함수를 사용하지 않는다면 `TRUE`로 입력해야함.\n",
    "* `likelihood` : 에러함수에 대한 우도함수를 지정해주는 것, 만약 에러 함수가 음의 로그-우도 함수가 아니면, likelhood는 TRUE이여야 한다., 그러면  `AIC,BIC`가 계산되는 것을 기반으로 한다.\n",
    "* `acc.fct` : 활성화 함수로 `logistice, tanh` 인자가 입력 가능하다."
   ]
  },
  {
   "cell_type": "code",
   "execution_count": 36,
   "metadata": {},
   "outputs": [],
   "source": [
    "nn.model2 <- neuralnet(case ~ age+parity+induced + spontaneous,data=train.infert,\n",
    "                       hidden =3,\n",
    "                       algorithm=\"rprop+\",\n",
    "                       threshold=0.01)"
   ]
  },
  {
   "cell_type": "code",
   "execution_count": 37,
   "metadata": {},
   "outputs": [
    {
     "data": {
      "image/png": "[encoded data removed]",
      "text/plain": [
       "plot without title"
      ]
     },
     "metadata": {
      "image/png": {
       "height": 300,
       "width": 450
      }
     },
     "output_type": "display_data"
    }
   ],
   "source": [
    "options(repr.plot.res=150,repr.plot.width=6,repr.plot.height=4)\n",
    "plot(nn.model2,rep=\"best\")"
   ]
  },
  {
   "cell_type": "code",
   "execution_count": 38,
   "metadata": {},
   "outputs": [],
   "source": [
    "test.infert$nn.model2_pred.prob <- compute(nn.model2,covariate=test.infert[,c(2:4,6)])$net.result\n",
    "test.infert$nn.model2_pred <- ifelse(test.infert$nn.model2_pred.prob>0.5,1,0)"
   ]
  },
  {
   "cell_type": "code",
   "execution_count": 40,
   "metadata": {},
   "outputs": [
    {
     "data": {
      "text/html": [
       "<table class=\"dataframe\">\n",
       "<caption>A matrix: 56 × 2 of type dbl</caption>\n",
       "<tbody>\n",
       "\t<tr><td>1</td><td>0</td></tr>\n",
       "\t<tr><td>0</td><td>1</td></tr>\n",
       "\t<tr><td>1</td><td>0</td></tr>\n",
       "\t<tr><td>1</td><td>0</td></tr>\n",
       "\t<tr><td>0</td><td>1</td></tr>\n",
       "\t<tr><td>1</td><td>0</td></tr>\n",
       "\t<tr><td>1</td><td>0</td></tr>\n",
       "\t<tr><td>0</td><td>1</td></tr>\n",
       "\t<tr><td>0</td><td>1</td></tr>\n",
       "\t<tr><td>0</td><td>1</td></tr>\n",
       "\t<tr><td>0</td><td>1</td></tr>\n",
       "\t<tr><td>0</td><td>1</td></tr>\n",
       "\t<tr><td>0</td><td>1</td></tr>\n",
       "\t<tr><td>1</td><td>0</td></tr>\n",
       "\t<tr><td>1</td><td>0</td></tr>\n",
       "\t<tr><td>0</td><td>1</td></tr>\n",
       "\t<tr><td>0</td><td>1</td></tr>\n",
       "\t<tr><td>0</td><td>1</td></tr>\n",
       "\t<tr><td>1</td><td>0</td></tr>\n",
       "\t<tr><td>0</td><td>1</td></tr>\n",
       "\t<tr><td>1</td><td>0</td></tr>\n",
       "\t<tr><td>0</td><td>1</td></tr>\n",
       "\t<tr><td>1</td><td>0</td></tr>\n",
       "\t<tr><td>0</td><td>1</td></tr>\n",
       "\t<tr><td>1</td><td>0</td></tr>\n",
       "\t<tr><td>1</td><td>0</td></tr>\n",
       "\t<tr><td>1</td><td>0</td></tr>\n",
       "\t<tr><td>1</td><td>0</td></tr>\n",
       "\t<tr><td>1</td><td>0</td></tr>\n",
       "\t<tr><td>1</td><td>0</td></tr>\n",
       "\t<tr><td>1</td><td>0</td></tr>\n",
       "\t<tr><td>1</td><td>0</td></tr>\n",
       "\t<tr><td>1</td><td>0</td></tr>\n",
       "\t<tr><td>1</td><td>0</td></tr>\n",
       "\t<tr><td>0</td><td>1</td></tr>\n",
       "\t<tr><td>0</td><td>1</td></tr>\n",
       "\t<tr><td>1</td><td>0</td></tr>\n",
       "\t<tr><td>1</td><td>0</td></tr>\n",
       "\t<tr><td>1</td><td>0</td></tr>\n",
       "\t<tr><td>0</td><td>1</td></tr>\n",
       "\t<tr><td>1</td><td>0</td></tr>\n",
       "\t<tr><td>1</td><td>0</td></tr>\n",
       "\t<tr><td>1</td><td>0</td></tr>\n",
       "\t<tr><td>1</td><td>0</td></tr>\n",
       "\t<tr><td>0</td><td>1</td></tr>\n",
       "\t<tr><td>1</td><td>0</td></tr>\n",
       "\t<tr><td>0</td><td>1</td></tr>\n",
       "\t<tr><td>1</td><td>0</td></tr>\n",
       "\t<tr><td>1</td><td>0</td></tr>\n",
       "\t<tr><td>0</td><td>1</td></tr>\n",
       "\t<tr><td>0</td><td>1</td></tr>\n",
       "\t<tr><td>1</td><td>0</td></tr>\n",
       "\t<tr><td>1</td><td>0</td></tr>\n",
       "\t<tr><td>1</td><td>0</td></tr>\n",
       "\t<tr><td>0</td><td>1</td></tr>\n",
       "\t<tr><td>0</td><td>1</td></tr>\n",
       "</tbody>\n",
       "</table>\n"
      ],
      "text/latex": [
       "A matrix: 56 × 2 of type dbl\n",
       "\\begin{tabular}{ll}\n",
       "\t 1 & 0\\\\\n",
       "\t 0 & 1\\\\\n",
       "\t 1 & 0\\\\\n",
       "\t 1 & 0\\\\\n",
       "\t 0 & 1\\\\\n",
       "\t 1 & 0\\\\\n",
       "\t 1 & 0\\\\\n",
       "\t 0 & 1\\\\\n",
       "\t 0 & 1\\\\\n",
       "\t 0 & 1\\\\\n",
       "\t 0 & 1\\\\\n",
       "\t 0 & 1\\\\\n",
       "\t 0 & 1\\\\\n",
       "\t 1 & 0\\\\\n",
       "\t 1 & 0\\\\\n",
       "\t 0 & 1\\\\\n",
       "\t 0 & 1\\\\\n",
       "\t 0 & 1\\\\\n",
       "\t 1 & 0\\\\\n",
       "\t 0 & 1\\\\\n",
       "\t 1 & 0\\\\\n",
       "\t 0 & 1\\\\\n",
       "\t 1 & 0\\\\\n",
       "\t 0 & 1\\\\\n",
       "\t 1 & 0\\\\\n",
       "\t 1 & 0\\\\\n",
       "\t 1 & 0\\\\\n",
       "\t 1 & 0\\\\\n",
       "\t 1 & 0\\\\\n",
       "\t 1 & 0\\\\\n",
       "\t 1 & 0\\\\\n",
       "\t 1 & 0\\\\\n",
       "\t 1 & 0\\\\\n",
       "\t 1 & 0\\\\\n",
       "\t 0 & 1\\\\\n",
       "\t 0 & 1\\\\\n",
       "\t 1 & 0\\\\\n",
       "\t 1 & 0\\\\\n",
       "\t 1 & 0\\\\\n",
       "\t 0 & 1\\\\\n",
       "\t 1 & 0\\\\\n",
       "\t 1 & 0\\\\\n",
       "\t 1 & 0\\\\\n",
       "\t 1 & 0\\\\\n",
       "\t 0 & 1\\\\\n",
       "\t 1 & 0\\\\\n",
       "\t 0 & 1\\\\\n",
       "\t 1 & 0\\\\\n",
       "\t 1 & 0\\\\\n",
       "\t 0 & 1\\\\\n",
       "\t 0 & 1\\\\\n",
       "\t 1 & 0\\\\\n",
       "\t 1 & 0\\\\\n",
       "\t 1 & 0\\\\\n",
       "\t 0 & 1\\\\\n",
       "\t 0 & 1\\\\\n",
       "\\end{tabular}\n"
      ],
      "text/markdown": [
       "\n",
       "A matrix: 56 × 2 of type dbl\n",
       "\n",
       "| 1 | 0 |\n",
       "| 0 | 1 |\n",
       "| 1 | 0 |\n",
       "| 1 | 0 |\n",
       "| 0 | 1 |\n",
       "| 1 | 0 |\n",
       "| 1 | 0 |\n",
       "| 0 | 1 |\n",
       "| 0 | 1 |\n",
       "| 0 | 1 |\n",
       "| 0 | 1 |\n",
       "| 0 | 1 |\n",
       "| 0 | 1 |\n",
       "| 1 | 0 |\n",
       "| 1 | 0 |\n",
       "| 0 | 1 |\n",
       "| 0 | 1 |\n",
       "| 0 | 1 |\n",
       "| 1 | 0 |\n",
       "| 0 | 1 |\n",
       "| 1 | 0 |\n",
       "| 0 | 1 |\n",
       "| 1 | 0 |\n",
       "| 0 | 1 |\n",
       "| 1 | 0 |\n",
       "| 1 | 0 |\n",
       "| 1 | 0 |\n",
       "| 1 | 0 |\n",
       "| 1 | 0 |\n",
       "| 1 | 0 |\n",
       "| 1 | 0 |\n",
       "| 1 | 0 |\n",
       "| 1 | 0 |\n",
       "| 1 | 0 |\n",
       "| 0 | 1 |\n",
       "| 0 | 1 |\n",
       "| 1 | 0 |\n",
       "| 1 | 0 |\n",
       "| 1 | 0 |\n",
       "| 0 | 1 |\n",
       "| 1 | 0 |\n",
       "| 1 | 0 |\n",
       "| 1 | 0 |\n",
       "| 1 | 0 |\n",
       "| 0 | 1 |\n",
       "| 1 | 0 |\n",
       "| 0 | 1 |\n",
       "| 1 | 0 |\n",
       "| 1 | 0 |\n",
       "| 0 | 1 |\n",
       "| 0 | 1 |\n",
       "| 1 | 0 |\n",
       "| 1 | 0 |\n",
       "| 1 | 0 |\n",
       "| 0 | 1 |\n",
       "| 0 | 1 |\n",
       "\n"
      ],
      "text/plain": [
       "      [,1] [,2]\n",
       " [1,] 1    0   \n",
       " [2,] 0    1   \n",
       " [3,] 1    0   \n",
       " [4,] 1    0   \n",
       " [5,] 0    1   \n",
       " [6,] 1    0   \n",
       " [7,] 1    0   \n",
       " [8,] 0    1   \n",
       " [9,] 0    1   \n",
       "[10,] 0    1   \n",
       "[11,] 0    1   \n",
       "[12,] 0    1   \n",
       "[13,] 0    1   \n",
       "[14,] 1    0   \n",
       "[15,] 1    0   \n",
       "[16,] 0    1   \n",
       "[17,] 0    1   \n",
       "[18,] 0    1   \n",
       "[19,] 1    0   \n",
       "[20,] 0    1   \n",
       "[21,] 1    0   \n",
       "[22,] 0    1   \n",
       "[23,] 1    0   \n",
       "[24,] 0    1   \n",
       "[25,] 1    0   \n",
       "[26,] 1    0   \n",
       "[27,] 1    0   \n",
       "[28,] 1    0   \n",
       "[29,] 1    0   \n",
       "[30,] 1    0   \n",
       "[31,] 1    0   \n",
       "[32,] 1    0   \n",
       "[33,] 1    0   \n",
       "[34,] 1    0   \n",
       "[35,] 0    1   \n",
       "[36,] 0    1   \n",
       "[37,] 1    0   \n",
       "[38,] 1    0   \n",
       "[39,] 1    0   \n",
       "[40,] 0    1   \n",
       "[41,] 1    0   \n",
       "[42,] 1    0   \n",
       "[43,] 1    0   \n",
       "[44,] 1    0   \n",
       "[45,] 0    1   \n",
       "[46,] 1    0   \n",
       "[47,] 0    1   \n",
       "[48,] 1    0   \n",
       "[49,] 1    0   \n",
       "[50,] 0    1   \n",
       "[51,] 0    1   \n",
       "[52,] 1    0   \n",
       "[53,] 1    0   \n",
       "[54,] 1    0   \n",
       "[55,] 0    1   \n",
       "[56,] 0    1   "
      ]
     },
     "metadata": {},
     "output_type": "display_data"
    }
   ],
   "source": [
    "test.infert$nn.model2_pred"
   ]
  },
  {
   "cell_type": "code",
   "execution_count": 39,
   "metadata": {},
   "outputs": [
    {
     "ename": "ERROR",
     "evalue": "Error in table(data, reference, dnn = dnn, ...): 모든 인자들은 반드시 같은 길이를 가져야 합니다\n",
     "output_type": "error",
     "traceback": [
      "Error in table(data, reference, dnn = dnn, ...): 모든 인자들은 반드시 같은 길이를 가져야 합니다\nTraceback:\n",
      "1. confusionMatrix(as.factor(test.infert$nn.model2_pred), test.infert$case)",
      "2. confusionMatrix.default(as.factor(test.infert$nn.model2_pred), \n .     test.infert$case)",
      "3. table(data, reference, dnn = dnn, ...)",
      "4. stop(\"all arguments must have the same length\")"
     ]
    }
   ],
   "source": [
    "confusionMatrix(as.factor(test.infert$nn.model2_pred),test.infert$case)"
   ]
  },
  {
   "cell_type": "markdown",
   "metadata": {},
   "source": [
    "* 인공신경망 쪽은 다시 체크하자!"
   ]
  },
  {
   "cell_type": "code",
   "execution_count": null,
   "metadata": {},
   "outputs": [],
   "source": []
  }
 ],
 "metadata": {
  "kernelspec": {
   "display_name": "R",
   "language": "R",
   "name": "ir"
  },
  "language_info": {
   "codemirror_mode": "r",
   "file_extension": ".r",
   "mimetype": "text/x-r-source",
   "name": "R",
   "pygments_lexer": "r",
   "version": "4.1.1"
  },
  "toc": {
   "base_numbering": 1,
   "nav_menu": {},
   "number_sections": false,
   "sideBar": true,
   "skip_h1_title": false,
   "title_cell": "Table of Contents",
   "title_sidebar": "Contents",
   "toc_cell": false,
   "toc_position": {
    "height": "calc(100% - 180px)",
    "left": "10px",
    "top": "150px",
    "width": "383.986px"
   },
   "toc_section_display": true,
   "toc_window_display": true
  }
 },
 "nbformat": 4,
 "nbformat_minor": 4
}
